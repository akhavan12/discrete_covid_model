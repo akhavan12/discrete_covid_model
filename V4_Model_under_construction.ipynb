{
  "nbformat": 4,
  "nbformat_minor": 0,
  "metadata": {
    "colab": {
      "name": "V4_Model_under_construction",
      "provenance": [],
      "collapsed_sections": [],
      "authorship_tag": "ABX9TyNwcTaecHMBMVsoK9uH2xKU",
      "include_colab_link": true
    },
    "kernelspec": {
      "name": "python3",
      "display_name": "Python 3"
    },
    "widgets": {
      "application/vnd.jupyter.widget-state+json": {
        "103d0407fecb4612a1b3428a0a11165c": {
          "model_module": "@jupyter-widgets/controls",
          "model_name": "HBoxModel",
          "state": {
            "_view_name": "HBoxView",
            "_dom_classes": [],
            "_model_name": "HBoxModel",
            "_view_module": "@jupyter-widgets/controls",
            "_model_module_version": "1.5.0",
            "_view_count": null,
            "_view_module_version": "1.5.0",
            "box_style": "",
            "layout": "IPY_MODEL_30fc976dd52b432fa1be68720459b2e7",
            "_model_module": "@jupyter-widgets/controls",
            "children": [
              "IPY_MODEL_dd939648889443ca974f596caca1a535",
              "IPY_MODEL_c8a7306d445d46cdbcc8782793105f95"
            ]
          }
        },
        "30fc976dd52b432fa1be68720459b2e7": {
          "model_module": "@jupyter-widgets/base",
          "model_name": "LayoutModel",
          "state": {
            "_view_name": "LayoutView",
            "grid_template_rows": null,
            "right": null,
            "justify_content": null,
            "_view_module": "@jupyter-widgets/base",
            "overflow": null,
            "_model_module_version": "1.2.0",
            "_view_count": null,
            "flex_flow": null,
            "width": null,
            "min_width": null,
            "border": null,
            "align_items": null,
            "bottom": null,
            "_model_module": "@jupyter-widgets/base",
            "top": null,
            "grid_column": null,
            "overflow_y": null,
            "overflow_x": null,
            "grid_auto_flow": null,
            "grid_area": null,
            "grid_template_columns": null,
            "flex": null,
            "_model_name": "LayoutModel",
            "justify_items": null,
            "grid_row": null,
            "max_height": null,
            "align_content": null,
            "visibility": null,
            "align_self": null,
            "height": null,
            "min_height": null,
            "padding": null,
            "grid_auto_rows": null,
            "grid_gap": null,
            "max_width": null,
            "order": null,
            "_view_module_version": "1.2.0",
            "grid_template_areas": null,
            "object_position": null,
            "object_fit": null,
            "grid_auto_columns": null,
            "margin": null,
            "display": null,
            "left": null
          }
        },
        "dd939648889443ca974f596caca1a535": {
          "model_module": "@jupyter-widgets/controls",
          "model_name": "IntProgressModel",
          "state": {
            "_view_name": "ProgressView",
            "style": "IPY_MODEL_5553f51a830e4c8898aebc73b2158cde",
            "_dom_classes": [],
            "description": "100%",
            "_model_name": "IntProgressModel",
            "bar_style": "success",
            "max": 80,
            "_view_module": "@jupyter-widgets/controls",
            "_model_module_version": "1.5.0",
            "value": 80,
            "_view_count": null,
            "_view_module_version": "1.5.0",
            "orientation": "horizontal",
            "min": 0,
            "description_tooltip": null,
            "_model_module": "@jupyter-widgets/controls",
            "layout": "IPY_MODEL_eb0434708cd744f2a6d8611d6bf34eff"
          }
        },
        "c8a7306d445d46cdbcc8782793105f95": {
          "model_module": "@jupyter-widgets/controls",
          "model_name": "HTMLModel",
          "state": {
            "_view_name": "HTMLView",
            "style": "IPY_MODEL_f82fb83a1b634c05b31d8c754875587f",
            "_dom_classes": [],
            "description": "",
            "_model_name": "HTMLModel",
            "placeholder": "​",
            "_view_module": "@jupyter-widgets/controls",
            "_model_module_version": "1.5.0",
            "value": " 80/80 [17:55&lt;00:00, 13.45s/it]",
            "_view_count": null,
            "_view_module_version": "1.5.0",
            "description_tooltip": null,
            "_model_module": "@jupyter-widgets/controls",
            "layout": "IPY_MODEL_595fa39e34314a66b11d06a2bd6d6f1a"
          }
        },
        "5553f51a830e4c8898aebc73b2158cde": {
          "model_module": "@jupyter-widgets/controls",
          "model_name": "ProgressStyleModel",
          "state": {
            "_view_name": "StyleView",
            "_model_name": "ProgressStyleModel",
            "description_width": "initial",
            "_view_module": "@jupyter-widgets/base",
            "_model_module_version": "1.5.0",
            "_view_count": null,
            "_view_module_version": "1.2.0",
            "bar_color": null,
            "_model_module": "@jupyter-widgets/controls"
          }
        },
        "eb0434708cd744f2a6d8611d6bf34eff": {
          "model_module": "@jupyter-widgets/base",
          "model_name": "LayoutModel",
          "state": {
            "_view_name": "LayoutView",
            "grid_template_rows": null,
            "right": null,
            "justify_content": null,
            "_view_module": "@jupyter-widgets/base",
            "overflow": null,
            "_model_module_version": "1.2.0",
            "_view_count": null,
            "flex_flow": null,
            "width": null,
            "min_width": null,
            "border": null,
            "align_items": null,
            "bottom": null,
            "_model_module": "@jupyter-widgets/base",
            "top": null,
            "grid_column": null,
            "overflow_y": null,
            "overflow_x": null,
            "grid_auto_flow": null,
            "grid_area": null,
            "grid_template_columns": null,
            "flex": null,
            "_model_name": "LayoutModel",
            "justify_items": null,
            "grid_row": null,
            "max_height": null,
            "align_content": null,
            "visibility": null,
            "align_self": null,
            "height": null,
            "min_height": null,
            "padding": null,
            "grid_auto_rows": null,
            "grid_gap": null,
            "max_width": null,
            "order": null,
            "_view_module_version": "1.2.0",
            "grid_template_areas": null,
            "object_position": null,
            "object_fit": null,
            "grid_auto_columns": null,
            "margin": null,
            "display": null,
            "left": null
          }
        },
        "f82fb83a1b634c05b31d8c754875587f": {
          "model_module": "@jupyter-widgets/controls",
          "model_name": "DescriptionStyleModel",
          "state": {
            "_view_name": "StyleView",
            "_model_name": "DescriptionStyleModel",
            "description_width": "",
            "_view_module": "@jupyter-widgets/base",
            "_model_module_version": "1.5.0",
            "_view_count": null,
            "_view_module_version": "1.2.0",
            "_model_module": "@jupyter-widgets/controls"
          }
        },
        "595fa39e34314a66b11d06a2bd6d6f1a": {
          "model_module": "@jupyter-widgets/base",
          "model_name": "LayoutModel",
          "state": {
            "_view_name": "LayoutView",
            "grid_template_rows": null,
            "right": null,
            "justify_content": null,
            "_view_module": "@jupyter-widgets/base",
            "overflow": null,
            "_model_module_version": "1.2.0",
            "_view_count": null,
            "flex_flow": null,
            "width": null,
            "min_width": null,
            "border": null,
            "align_items": null,
            "bottom": null,
            "_model_module": "@jupyter-widgets/base",
            "top": null,
            "grid_column": null,
            "overflow_y": null,
            "overflow_x": null,
            "grid_auto_flow": null,
            "grid_area": null,
            "grid_template_columns": null,
            "flex": null,
            "_model_name": "LayoutModel",
            "justify_items": null,
            "grid_row": null,
            "max_height": null,
            "align_content": null,
            "visibility": null,
            "align_self": null,
            "height": null,
            "min_height": null,
            "padding": null,
            "grid_auto_rows": null,
            "grid_gap": null,
            "max_width": null,
            "order": null,
            "_view_module_version": "1.2.0",
            "grid_template_areas": null,
            "object_position": null,
            "object_fit": null,
            "grid_auto_columns": null,
            "margin": null,
            "display": null,
            "left": null
          }
        }
      }
    }
  },
  "cells": [
    {
      "cell_type": "markdown",
      "metadata": {
        "id": "view-in-github",
        "colab_type": "text"
      },
      "source": [
        "<a href=\"https://colab.research.google.com/github/akhavan12/discrete_covid_model/blob/master/V4_Model_under_construction.ipynb\" target=\"_parent\"><img src=\"https://colab.research.google.com/assets/colab-badge.svg\" alt=\"Open In Colab\"/></a>"
      ]
    },
    {
      "cell_type": "code",
      "metadata": {
        "id": "M-IYf-e-pzdg",
        "colab_type": "code",
        "colab": {}
      },
      "source": [
        "## relations\n",
        "###  S(t) = M(t) + W(t)\n",
        "###  Recovery length for each type is different \n",
        "###  K is the distribution of the number of the sever cases that need ventilators"
      ],
      "execution_count": 0,
      "outputs": []
    },
    {
      "cell_type": "code",
      "metadata": {
        "id": "bAFCuWjvqyLC",
        "colab_type": "code",
        "colab": {}
      },
      "source": [
        "## Testin Dynamics model\n",
        "\n",
        "### Testing / population\n",
        "### Testing ==> Positive / Negative\n",
        "##### Pisitive case in MILD cases (X_m(t)) / Pisitive case in Severe cases (X_s(t)1)\n",
        "### back tracking to see the distribution  number of the asymptomatics\n",
        "### T(t\n",
        "\n",
        "### figuring out the) = W(t) + X_m(t) * M(t)\n",
        "### There should be a relation between the number of the tested cases and all the symptomatic cases\n",
        "\n",
        "##\n",
        "##                                         | Recovery process R(t+dt)\n",
        "##                               | M(t) ---\n",
        "##                       | P(t)---          | Goes sever W(t)\n",
        "# Ex(t)->A(t)->(G_t) -S(t)        |\n",
        "##                       |        | W(t) ---| Recovery process  R(t+dt)\n",
        "##                       |                  | Goes Ventilatoe V(t) with distribution k(t-t')\n",
        "##                       |                                               |V(t)--------| Recovery process R(t+dt2) with time. R(t+dt')\n",
        "##                       |                                                            | Death \n",
        "##                       |\n",
        "##                       | N(t)                    "
      ],
      "execution_count": 0,
      "outputs": []
    },
    {
      "cell_type": "code",
      "metadata": {
        "id": "_2KqN9F4XOjs",
        "colab_type": "code",
        "colab": {}
      },
      "source": [
        "import numpy as np \n",
        "import pandas as pd\n",
        "import matplotlib.pyplot as plt\n",
        "import seaborn as sns\n",
        "import tqdm\n",
        "import random"
      ],
      "execution_count": 0,
      "outputs": []
    },
    {
      "cell_type": "code",
      "metadata": {
        "id": "URw0R81d0AKo",
        "colab_type": "code",
        "colab": {}
      },
      "source": [
        "## public variables\n",
        "population = 50000\n",
        "##### Percentages:\n",
        "Ex_to_A = .60  ## exposed to asymptomatic (epsilon)\n",
        "A_to_S = .90  ## Asymptomatic to Symptomatic  \n",
        "S_to_M = .999 ## percentage from Sympt to Mild ~~100%\n",
        "M_to_W = .1   ## Mild to Severe daily percentage\n",
        "W_to_V = .06  ## sever to ventilator\n",
        "W_to_D = .04  ## Sever to death each day\n",
        "W_to_R = .30  ## Sever  to recovery each day\n",
        "V_to_D = .10  ## Ventilator to death each day\n",
        "V_to_R = .20  ## Ventilator to recovery each day\n",
        "\n",
        "\n",
        "##### Final states\n",
        "\n",
        "delay_Ex_to_none= 14\n",
        "delay_A_to_S = 3   ## days incubation incubation period: the period of time between exposure to an infection and when symptoms\n",
        "Max_S_to_M = 5  ## days incubation incubation period: the period of time between exposure to an infection and when symptoms\n",
        "delay_M_to_R = 10 ## days mild to recovery ==> after this many days the mild case is considered recovered\n",
        "delay_M_to_W = 4\n",
        "Min_W_to_V = 2   ## days severe to ventilator \n",
        "Min_W_to_R = 10\n",
        "Min_W_to_D = 3\n",
        "Min_V_to_D = 1 ## days ventilator to death\n",
        "delay_W_to_R = 12 ## days mild to recovery\n",
        "delay_V_to_R = 16 ## days mild to recovery\n",
        "\n",
        "## public functions\n",
        "## this function returns True or False based on a percentage of probability\n",
        "def decision(probability):\n",
        "    return random.random() < probability\n",
        "\n",
        "## transition rate\n",
        "TR_RATE = .3\n"
      ],
      "execution_count": 0,
      "outputs": []
    },
    {
      "cell_type": "code",
      "metadata": {
        "id": "iODfhc_XX9IY",
        "colab_type": "code",
        "colab": {}
      },
      "source": [
        "def initialize(inital_expose=10):\n",
        "\n",
        "  Ex =np.int16(np.zeros(population)) ## Exposed \n",
        "  A = np.int16(np.zeros(population)) ## number of asymptomatic cases at time t\n",
        "  S = np.int16(np.zeros(population)) ## number of symptomatic cases at time t\n",
        "  M = np.int16(np.zeros(population)) ## number of mild cases at time t\n",
        "  W = np.int16(np.zeros(population)) ## number of sever cases at time t  \n",
        "  V = np.int16(np.zeros(population)) ## number of the ventilator cases \n",
        "  D = np.int16(np.zeros(population)) ## number of the dead cases\n",
        "  R = np.int16(np.zeros(population)) ## Recovered cases\n",
        "  H = np.int16(np.ones(population)) ## Number of Healthy\n",
        "\n",
        "\n",
        "  ## random exposed people:\n",
        "  for i in range(inital_expose):\n",
        "    Ex[np.random.randint(0,population,1)]=1\n",
        "\n",
        "  ## moving status Matrix:\n",
        "  df_s_m = pd.DataFrame({\n",
        "     \"Exposed\"    : Ex,\n",
        "     \"Asympt\"     : A,\n",
        "     \"Sympt\"      : S,\n",
        "     \"Mild\"       : M,\n",
        "     \"Severe\"     : W,\n",
        "     \"Ventilator\" : V,\n",
        "     \"Dead\"       : D,\n",
        "     \"Recovered\"  : R,\n",
        "     \"Healthy\"    : H\n",
        "  })\n",
        "  \n",
        "  return df_s_m\n",
        " "
      ],
      "execution_count": 0,
      "outputs": []
    },
    {
      "cell_type": "code",
      "metadata": {
        "id": "6TS9wWikrYL1",
        "colab_type": "code",
        "colab": {}
      },
      "source": [
        "def check_increment(df_,col,lim_=0):\n",
        "  temp_count = 0\n",
        "  temp_count = df_[df_[col]>0][col].count()\n",
        "  return temp_count\n",
        "\n",
        "def aggregate(df_population,cum_sum_dict):\n",
        "\n",
        "  for col in df_population.columns:\n",
        "    cum_sum_dict[f'cumulative_{col}'].append(check_increment(df_population.copy(),col))\n",
        "  return cum_sum_dict\n",
        "\n",
        "def run_simulation(df_population,length=60):\n",
        "\n",
        "  cum_sum_dict={\n",
        "      \"cumulative_Exposed\"   :[],\n",
        "      \"cumulative_Asympt\"    :[],\n",
        "      \"cumulative_Sympt\"     :[],\n",
        "      \"cumulative_Mild\"      :[],\n",
        "      \"cumulative_Severe\"    :[],\n",
        "      \"cumulative_Ventilator\":[],\n",
        "      \"cumulative_Dead\"     :[],\n",
        "      \"cumulative_Recovered\" :[],\n",
        "      \"cumulative_Healthy\"   :[]\n",
        "    }\n",
        "\n",
        "\n",
        "  for i in tqdm.tqdm_notebook(range(length)):\n",
        "\n",
        "      df_population = df_population.apply(increment_infected_days,axis=1) ## apply the function\n",
        "      aggregate(df_population,cum_sum_dict)\n",
        "      #if total_infected>0:\n",
        "      #  print(total_infected, total_recovered,total_dead)\n",
        "\n",
        "  \n",
        "  return cum_sum_dict\n",
        "\n"
      ],
      "execution_count": 0,
      "outputs": []
    },
    {
      "cell_type": "code",
      "metadata": {
        "id": "Y7IR3GO8nPCe",
        "colab_type": "code",
        "colab": {}
      },
      "source": [
        "## simmulate based on each day's cases and the probability of infection\n",
        "\n",
        "\n",
        "def increment_infected_days(row):\n",
        "  \n",
        "  global total_infected\n",
        "  global total_recovered\n",
        "  global total_dead\n",
        "  global total_ventilatored\n",
        "\n",
        "\n",
        "  if (row['Exposed'] >0) & (row['Exposed'] <= delay_Ex_to_none) : \n",
        "    ## increment t+1\n",
        "    row['Exposed'] = row['Exposed']+1\n",
        "## if exposed=0 then the person is not exposed yet, \n",
        "## if exposed above 1, it shows the days from exposure \n",
        "## if exposed = -1, the person is infected                       \n",
        "### if exposed ===> epsilon * E is the percentage of the person exposed to be infected \n",
        "###  decision ---> uniform random numbers and percentage\n",
        "    if decision(Ex_to_A) == True:\n",
        "      total_infected=total_infected+1\n",
        "## the exposed person is infected now (Asympt)!\n",
        "      row['Asympt'] = 1\n",
        "      row['Healthy']=0\n",
        "\n",
        "\n",
        "##Take the person out of exposed group -epsilon*E\n",
        "      row['Exposed'] = -1\n",
        "  elif row['Exposed'] == -1:\n",
        "    if row['Asympt']> 0:\n",
        "      row['Asympt']=row['Asympt']+1 ## t=t+1\n",
        "      ## if Asympt=0 then the person is not exposed yet, \n",
        "      ## if Asympt above 1, it shows the days from Asympt \n",
        "      ## if Asympt = -1, the person is now out of Asympt ==> Mild\n",
        "      if row['Asympt'] > delay_A_to_S: ### the period from A to S is done:\n",
        "        row['Asympt'] = -1 ## not the case is no more Asympt \n",
        "        if decision(A_to_S) == True: ## the pecentage from A to S\n",
        "          row['Sympt'] = 1\n",
        "        else:\n",
        "          row['Recovered'] = 1 ## if the max time from A to S passes\n",
        "                                 ## and the decision is Negative\n",
        "                                 ## the person is not recovered\n",
        "          total_infected = total_infected-1\n",
        "          total_recovered = total_recovered + 1 \n",
        "\n",
        "\n",
        "\n",
        "  elif row['Exposed'] >= delay_Ex_to_none:\n",
        "        print('delay_Ex_to_none')\n",
        "        row['Exposed'] = 0\n",
        "\n",
        "  if row['Sympt'] > 0:\n",
        "    row['Sympt']= row['Sympt']+1 ## t=t+1 ==> the person is not infected and has sympt\n",
        "    ## let us take him into mild if the max time from S to M is not passed \n",
        "    if row['Sympt'] < Max_S_to_M:\n",
        "      if decision(S_to_M) == True:\n",
        "        row['Mild'] = 1\n",
        "        row['Sympt'] = -1 ## case is now Mild and no more S \n",
        "      else: ## the Sympt person does not become Mild in Max_S_to_M he is considered recovered\n",
        "        row['Sympt'] = -1 ## case is now recovered\n",
        "        row['Recovered'] = 1 ## if the Max_S_to_M is passed the person has already recovered\n",
        "        total_infected = total_infected - 1\n",
        "        total_recovered = total_recovered + 1\n",
        "\n",
        "\n",
        "  if row['Mild']>0:\n",
        "    row['Mild']=row['Mild']+1 ## t=t+1    \n",
        "    if row['Mild'] > delay_M_to_R : # the case hastotal_infected = total_infected + 1  already been long in mild, and now is recovered\n",
        "      row['Mild'] = -1 ## case is no more infected in mild and is recovered\n",
        "      row['Recovered'] = 1 \n",
        "      ### before the recovery period is passed\n",
        "      ### after the window from M to W\n",
        "      ## the person has M_to_W chance to go to SEVERE every day before the period\n",
        "      total_infected = total_infected - 1 \n",
        "      total_recovered = total_recovered + 1\n",
        "\n",
        "    elif (row['Mild'] <= delay_M_to_R) &(row['Mild'] >= delay_M_to_W) & decision(M_to_W) == True: \n",
        "      row['Mild'] = -1 ## the case is no more Mild and now is severe\n",
        "      row['Severe'] = 1 ## the case is now severe\n",
        "\n",
        "  if row['Severe'] > 0: ## check if the person is Severe\n",
        "    #print(f'Condition 1 {row[\"Severe\"]}')\n",
        "    row['Severe'] = row['Severe'] + 1\n",
        "    \n",
        "\n",
        "    if row['Severe'] > delay_W_to_R: ## the case has been passed the period and now has recovered\n",
        "      row['Severe'] = -1 ## the case is no more Severe and has recovered\n",
        "      row['Recovered'] = 1\n",
        "      total_infected = total_infected - 1\n",
        "      total_recovered = total_recovered + 1\n",
        "      \n",
        "    elif (row['Severe'] > Min_W_to_V ) & decision(W_to_V)==True: ## in the period to go worse or stay sever until recovery/death\n",
        "    ## goes to Ventilator status\n",
        "      row['Severe'] = -1 ## the case is no more Severe \n",
        "      row['Ventilator'] = 1  ## the case is ventilatored\n",
        "    elif (row['Severe'] > Min_W_to_R ) & decision(W_to_R)==True: ## in the period to go worse or stay sever until recovery/death\n",
        "      ## goes to Ventilator status\n",
        "      row['Severe'] = -1 ## the case is no more Severe \n",
        "      row['Recovered'] = 1  ## the case is ventilatored\n",
        "      total_infected = total_infected - 1 \n",
        "      total_recovered = total_recovered + 1\n",
        "\n",
        "    elif (row['Severe'] > Min_W_to_D) & (decision(W_to_D)==True):\n",
        "    ## the cases passes away\n",
        "      row['Severe'] = -1 ## the case is no more Severe\n",
        "      row['Dead'] = 1 ## the case has passed away\n",
        "      total_infected = total_infected - 1\n",
        "      total_dead = total_dead + 1\n",
        "\n",
        "\n",
        "  if row['Ventilator'] > 1: \n",
        "    row['Ventilator'] = row['Ventilator']+1\n",
        "    if row['Ventilator'] > delay_V_to_R: \n",
        "      row['Ventilator'] = -1 \n",
        "      row['Recovered'] = 1\n",
        "      total_infected = total_infected - 1\n",
        "      total_recovered = total_recovered + 1\n",
        "\n",
        "    elif (row['Ventilator'] > Min_V_to_D) & (decision(V_to_D)==True): \n",
        "      row['Ventilator'] = -1 \n",
        "      row['Dead'] = 1 \n",
        "      total_infected = total_infected - 1\n",
        "      total_dead = total_dead + 1\n",
        "\n",
        "    elif (row['Ventilator'] > Min_V_to_R) & (decision(V_to_R)==True): \n",
        "      row['Ventilator'] = -1 \n",
        "      row['Recovered'] = 1\n",
        "      total_infected = total_infected - 1\n",
        "      total_recovered = total_recovered + 1\n",
        "\n",
        "  ### NEW CASES HAPPEN HERE\n",
        "  ## 1 get total infected now!\n",
        "  ## total Mild + Total Severe\n",
        "  #total_mild = df_population[df_population['Mild']>0]['Mild'].count()\n",
        "\n",
        "  healthy_population = population - (total_recovered + total_infected + total_dead)\n",
        "\n",
        "  if row['Exposed'] == 0:\n",
        "    if decision(TR_RATE*(total_infected/healthy_population)) == True:\n",
        "      row['Exposed'] = 1\n",
        "  \n",
        "  \n",
        "\n",
        "\n",
        "  return row"
      ],
      "execution_count": 0,
      "outputs": []
    },
    {
      "cell_type": "code",
      "metadata": {
        "id": "zghIaQQRnPGR",
        "colab_type": "code",
        "colab": {}
      },
      "source": [
        "df_population=initialize()\n",
        "df_population.head(1)\n",
        "total_infected = 0\n",
        "total_recovered = 0\n",
        "total_dead = 0\n",
        "total_ventilatored = 0"
      ],
      "execution_count": 0,
      "outputs": []
    },
    {
      "cell_type": "code",
      "metadata": {
        "id": "JbaznIJq_MLx",
        "colab_type": "code",
        "outputId": "c9f8078c-b8f7-48f6-af43-add37658db1d",
        "colab": {
          "base_uri": "https://localhost:8080/",
          "height": 100,
          "referenced_widgets": [
            "103d0407fecb4612a1b3428a0a11165c",
            "30fc976dd52b432fa1be68720459b2e7",
            "dd939648889443ca974f596caca1a535",
            "c8a7306d445d46cdbcc8782793105f95",
            "5553f51a830e4c8898aebc73b2158cde",
            "eb0434708cd744f2a6d8611d6bf34eff",
            "f82fb83a1b634c05b31d8c754875587f",
            "595fa39e34314a66b11d06a2bd6d6f1a"
          ]
        }
      },
      "source": [
        "results = run_simulation(df_population,length=80)"
      ],
      "execution_count": 26,
      "outputs": [
        {
          "output_type": "stream",
          "text": [
            "/usr/local/lib/python3.6/dist-packages/ipykernel_launcher.py:27: TqdmDeprecationWarning: This function will be removed in tqdm==5.0.0\n",
            "Please use `tqdm.notebook.tqdm` instead of `tqdm.tqdm_notebook`\n"
          ],
          "name": "stderr"
        },
        {
          "output_type": "display_data",
          "data": {
            "application/vnd.jupyter.widget-view+json": {
              "model_id": "103d0407fecb4612a1b3428a0a11165c",
              "version_minor": 0,
              "version_major": 2
            },
            "text/plain": [
              "HBox(children=(IntProgress(value=0, max=80), HTML(value='')))"
            ]
          },
          "metadata": {
            "tags": []
          }
        },
        {
          "output_type": "stream",
          "text": [
            "\n"
          ],
          "name": "stdout"
        }
      ]
    },
    {
      "cell_type": "code",
      "metadata": {
        "id": "UKCbvvdqnPLG",
        "colab_type": "code",
        "outputId": "b6fd0b56-549a-4727-a3b3-01d579a5d0cb",
        "colab": {
          "base_uri": "https://localhost:8080/",
          "height": 609
        }
      },
      "source": [
        "df_cumsum = pd.DataFrame(results)\n",
        "f,ax = plt.subplots(figsize=(17,10))\n",
        "df_cumsum.plot(ax=ax)"
      ],
      "execution_count": 27,
      "outputs": [
        {
          "output_type": "execute_result",
          "data": {
            "text/plain": [
              "<matplotlib.axes._subplots.AxesSubplot at 0x7f4605ff5198>"
            ]
          },
          "metadata": {
            "tags": []
          },
          "execution_count": 27
        },
        {
          "output_type": "display_data",
          "data": {
            "image/png": "[encoded data removed]",
            "text/plain": [
              "<Figure size 1224x720 with 1 Axes>"
            ]
          },
          "metadata": {
            "tags": [],
            "needs_background": "light"
          }
        }
      ]
    },
    {
      "cell_type": "code",
      "metadata": {
        "id": "vTlhcHBpnPRL",
        "colab_type": "code",
        "colab": {}
      },
      "source": [
        ""
      ],
      "execution_count": 0,
      "outputs": []
    },
    {
      "cell_type": "code",
      "metadata": {
        "id": "x6a-VibP1nOA",
        "colab_type": "code",
        "colab": {}
      },
      "source": [
        "df_population"
      ],
      "execution_count": 0,
      "outputs": []
    },
    {
      "cell_type": "code",
      "metadata": {
        "id": "SI31-fgOKiqe",
        "colab_type": "code",
        "colab": {}
      },
      "source": [
        ""
      ],
      "execution_count": 0,
      "outputs": []
    }
  ]
}