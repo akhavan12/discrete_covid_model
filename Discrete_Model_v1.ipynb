{
  "nbformat": 4,
  "nbformat_minor": 0,
  "metadata": {
    "colab": {
      "name": "Discrete_Model_v1.ipynb",
      "provenance": [],
      "collapsed_sections": [],
      "authorship_tag": "ABX9TyMWodTXTyWrsnp/AL6+qmij",
      "include_colab_link": true
    },
    "kernelspec": {
      "name": "python3",
      "display_name": "Python 3"
    },
    "widgets": {
      "application/vnd.jupyter.widget-state+json": {
        "61087524645f46589d5ab14dfe5027f1": {
          "model_module": "@jupyter-widgets/controls",
          "model_name": "VBoxModel",
          "state": {
            "_view_name": "VBoxView",
            "_dom_classes": [
              "widget-interact"
            ],
            "_model_name": "VBoxModel",
            "_view_module": "@jupyter-widgets/controls",
            "_model_module_version": "1.5.0",
            "_view_count": null,
            "_view_module_version": "1.5.0",
            "box_style": "",
            "layout": "IPY_MODEL_7346b8678d2d46af82a032db1d1e2947",
            "_model_module": "@jupyter-widgets/controls",
            "children": [
              "IPY_MODEL_935b0bae12ef4817bbad07b65d594f30",
              "IPY_MODEL_64ef2a336ca34c5590691aaa97b1904f",
              "IPY_MODEL_6284272a9508424883c446852ac53cf3",
              "IPY_MODEL_61ecd6d3cdd64e9682f4ce5ee622471e"
            ]
          }
        },
        "7346b8678d2d46af82a032db1d1e2947": {
          "model_module": "@jupyter-widgets/base",
          "model_name": "LayoutModel",
          "state": {
            "_view_name": "LayoutView",
            "grid_template_rows": null,
            "right": null,
            "justify_content": null,
            "_view_module": "@jupyter-widgets/base",
            "overflow": null,
            "_model_module_version": "1.2.0",
            "_view_count": null,
            "flex_flow": null,
            "width": null,
            "min_width": null,
            "border": null,
            "align_items": null,
            "bottom": null,
            "_model_module": "@jupyter-widgets/base",
            "top": null,
            "grid_column": null,
            "overflow_y": null,
            "overflow_x": null,
            "grid_auto_flow": null,
            "grid_area": null,
            "grid_template_columns": null,
            "flex": null,
            "_model_name": "LayoutModel",
            "justify_items": null,
            "grid_row": null,
            "max_height": null,
            "align_content": null,
            "visibility": null,
            "align_self": null,
            "height": null,
            "min_height": null,
            "padding": null,
            "grid_auto_rows": null,
            "grid_gap": null,
            "max_width": null,
            "order": null,
            "_view_module_version": "1.2.0",
            "grid_template_areas": null,
            "object_position": null,
            "object_fit": null,
            "grid_auto_columns": null,
            "margin": null,
            "display": null,
            "left": null
          }
        },
        "935b0bae12ef4817bbad07b65d594f30": {
          "model_module": "@jupyter-widgets/controls",
          "model_name": "FloatSliderModel",
          "state": {
            "_view_name": "FloatSliderView",
            "style": "IPY_MODEL_b72c4221784c440fa2dbecf92e077652",
            "_dom_classes": [],
            "description": "Epsilon",
            "step": 0.001,
            "_model_name": "FloatSliderModel",
            "orientation": "horizontal",
            "max": 1,
            "_view_module": "@jupyter-widgets/controls",
            "_model_module_version": "1.5.0",
            "value": 0.526,
            "_view_count": null,
            "disabled": false,
            "_view_module_version": "1.5.0",
            "min": 0.01,
            "continuous_update": false,
            "readout_format": ".3f",
            "description_tooltip": null,
            "readout": true,
            "_model_module": "@jupyter-widgets/controls",
            "layout": "IPY_MODEL_890650310a184ce19f72089b82c2ae5f"
          }
        },
        "64ef2a336ca34c5590691aaa97b1904f": {
          "model_module": "@jupyter-widgets/controls",
          "model_name": "FloatSliderModel",
          "state": {
            "_view_name": "FloatSliderView",
            "style": "IPY_MODEL_176a096cf8e4426e885f16e64c4ea58f",
            "_dom_classes": [],
            "description": "β",
            "step": 0.001,
            "_model_name": "FloatSliderModel",
            "orientation": "horizontal",
            "max": 4,
            "_view_module": "@jupyter-widgets/controls",
            "_model_module_version": "1.5.0",
            "value": 1.681,
            "_view_count": null,
            "disabled": false,
            "_view_module_version": "1.5.0",
            "min": 0.01,
            "continuous_update": false,
            "readout_format": ".3f",
            "description_tooltip": null,
            "readout": true,
            "_model_module": "@jupyter-widgets/controls",
            "layout": "IPY_MODEL_d2e810c0644e49e2b4e81aed2167cf8d"
          }
        },
        "6284272a9508424883c446852ac53cf3": {
          "model_module": "@jupyter-widgets/controls",
          "model_name": "FloatSliderModel",
          "state": {
            "_view_name": "FloatSliderView",
            "style": "IPY_MODEL_ea2981e9d6c8411daa46cfacdfd4a789",
            "_dom_classes": [],
            "description": "recovery",
            "step": 0.001,
            "_model_name": "FloatSliderModel",
            "orientation": "horizontal",
            "max": 1,
            "_view_module": "@jupyter-widgets/controls",
            "_model_module_version": "1.5.0",
            "value": 0.413,
            "_view_count": null,
            "disabled": false,
            "_view_module_version": "1.5.0",
            "min": 0.01,
            "continuous_update": false,
            "readout_format": ".3f",
            "description_tooltip": null,
            "readout": true,
            "_model_module": "@jupyter-widgets/controls",
            "layout": "IPY_MODEL_2bc58042fa9845179069b3a5b66e7bcb"
          }
        },
        "61ecd6d3cdd64e9682f4ce5ee622471e": {
          "model_module": "@jupyter-widgets/output",
          "model_name": "OutputModel",
          "state": {
            "_view_name": "OutputView",
            "msg_id": "",
            "_dom_classes": [],
            "_model_name": "OutputModel",
            "outputs": [
              {
                "output_type": "display_data",
                "metadata": {
                  "tags": [],
                  "needs_background": "light"
                },
                "image/png": "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\n",
                "text/plain": "<Figure size 576x432 with 4 Axes>"
              }
            ],
            "_view_module": "@jupyter-widgets/output",
            "_model_module_version": "1.0.0",
            "_view_count": null,
            "_view_module_version": "1.0.0",
            "layout": "IPY_MODEL_f1299ccec3e04e48b5d6938b75930041",
            "_model_module": "@jupyter-widgets/output"
          }
        },
        "b72c4221784c440fa2dbecf92e077652": {
          "model_module": "@jupyter-widgets/controls",
          "model_name": "SliderStyleModel",
          "state": {
            "_view_name": "StyleView",
            "handle_color": null,
            "_model_name": "SliderStyleModel",
            "description_width": "",
            "_view_module": "@jupyter-widgets/base",
            "_model_module_version": "1.5.0",
            "_view_count": null,
            "_view_module_version": "1.2.0",
            "_model_module": "@jupyter-widgets/controls"
          }
        },
        "890650310a184ce19f72089b82c2ae5f": {
          "model_module": "@jupyter-widgets/base",
          "model_name": "LayoutModel",
          "state": {
            "_view_name": "LayoutView",
            "grid_template_rows": null,
            "right": null,
            "justify_content": null,
            "_view_module": "@jupyter-widgets/base",
            "overflow": null,
            "_model_module_version": "1.2.0",
            "_view_count": null,
            "flex_flow": null,
            "width": null,
            "min_width": null,
            "border": null,
            "align_items": null,
            "bottom": null,
            "_model_module": "@jupyter-widgets/base",
            "top": null,
            "grid_column": null,
            "overflow_y": null,
            "overflow_x": null,
            "grid_auto_flow": null,
            "grid_area": null,
            "grid_template_columns": null,
            "flex": null,
            "_model_name": "LayoutModel",
            "justify_items": null,
            "grid_row": null,
            "max_height": null,
            "align_content": null,
            "visibility": null,
            "align_self": null,
            "height": null,
            "min_height": null,
            "padding": null,
            "grid_auto_rows": null,
            "grid_gap": null,
            "max_width": null,
            "order": null,
            "_view_module_version": "1.2.0",
            "grid_template_areas": null,
            "object_position": null,
            "object_fit": null,
            "grid_auto_columns": null,
            "margin": null,
            "display": null,
            "left": null
          }
        },
        "176a096cf8e4426e885f16e64c4ea58f": {
          "model_module": "@jupyter-widgets/controls",
          "model_name": "SliderStyleModel",
          "state": {
            "_view_name": "StyleView",
            "handle_color": null,
            "_model_name": "SliderStyleModel",
            "description_width": "",
            "_view_module": "@jupyter-widgets/base",
            "_model_module_version": "1.5.0",
            "_view_count": null,
            "_view_module_version": "1.2.0",
            "_model_module": "@jupyter-widgets/controls"
          }
        },
        "d2e810c0644e49e2b4e81aed2167cf8d": {
          "model_module": "@jupyter-widgets/base",
          "model_name": "LayoutModel",
          "state": {
            "_view_name": "LayoutView",
            "grid_template_rows": null,
            "right": null,
            "justify_content": null,
            "_view_module": "@jupyter-widgets/base",
            "overflow": null,
            "_model_module_version": "1.2.0",
            "_view_count": null,
            "flex_flow": null,
            "width": null,
            "min_width": null,
            "border": null,
            "align_items": null,
            "bottom": null,
            "_model_module": "@jupyter-widgets/base",
            "top": null,
            "grid_column": null,
            "overflow_y": null,
            "overflow_x": null,
            "grid_auto_flow": null,
            "grid_area": null,
            "grid_template_columns": null,
            "flex": null,
            "_model_name": "LayoutModel",
            "justify_items": null,
            "grid_row": null,
            "max_height": null,
            "align_content": null,
            "visibility": null,
            "align_self": null,
            "height": null,
            "min_height": null,
            "padding": null,
            "grid_auto_rows": null,
            "grid_gap": null,
            "max_width": null,
            "order": null,
            "_view_module_version": "1.2.0",
            "grid_template_areas": null,
            "object_position": null,
            "object_fit": null,
            "grid_auto_columns": null,
            "margin": null,
            "display": null,
            "left": null
          }
        },
        "ea2981e9d6c8411daa46cfacdfd4a789": {
          "model_module": "@jupyter-widgets/controls",
          "model_name": "SliderStyleModel",
          "state": {
            "_view_name": "StyleView",
            "handle_color": null,
            "_model_name": "SliderStyleModel",
            "description_width": "",
            "_view_module": "@jupyter-widgets/base",
            "_model_module_version": "1.5.0",
            "_view_count": null,
            "_view_module_version": "1.2.0",
            "_model_module": "@jupyter-widgets/controls"
          }
        },
        "2bc58042fa9845179069b3a5b66e7bcb": {
          "model_module": "@jupyter-widgets/base",
          "model_name": "LayoutModel",
          "state": {
            "_view_name": "LayoutView",
            "grid_template_rows": null,
            "right": null,
            "justify_content": null,
            "_view_module": "@jupyter-widgets/base",
            "overflow": null,
            "_model_module_version": "1.2.0",
            "_view_count": null,
            "flex_flow": null,
            "width": null,
            "min_width": null,
            "border": null,
            "align_items": null,
            "bottom": null,
            "_model_module": "@jupyter-widgets/base",
            "top": null,
            "grid_column": null,
            "overflow_y": null,
            "overflow_x": null,
            "grid_auto_flow": null,
            "grid_area": null,
            "grid_template_columns": null,
            "flex": null,
            "_model_name": "LayoutModel",
            "justify_items": null,
            "grid_row": null,
            "max_height": null,
            "align_content": null,
            "visibility": null,
            "align_self": null,
            "height": null,
            "min_height": null,
            "padding": null,
            "grid_auto_rows": null,
            "grid_gap": null,
            "max_width": null,
            "order": null,
            "_view_module_version": "1.2.0",
            "grid_template_areas": null,
            "object_position": null,
            "object_fit": null,
            "grid_auto_columns": null,
            "margin": null,
            "display": null,
            "left": null
          }
        },
        "f1299ccec3e04e48b5d6938b75930041": {
          "model_module": "@jupyter-widgets/base",
          "model_name": "LayoutModel",
          "state": {
            "_view_name": "LayoutView",
            "grid_template_rows": null,
            "right": null,
            "justify_content": null,
            "_view_module": "@jupyter-widgets/base",
            "overflow": null,
            "_model_module_version": "1.2.0",
            "_view_count": null,
            "flex_flow": null,
            "width": null,
            "min_width": null,
            "border": null,
            "align_items": null,
            "bottom": null,
            "_model_module": "@jupyter-widgets/base",
            "top": null,
            "grid_column": null,
            "overflow_y": null,
            "overflow_x": null,
            "grid_auto_flow": null,
            "grid_area": null,
            "grid_template_columns": null,
            "flex": null,
            "_model_name": "LayoutModel",
            "justify_items": null,
            "grid_row": null,
            "max_height": null,
            "align_content": null,
            "visibility": null,
            "align_self": null,
            "height": null,
            "min_height": null,
            "padding": null,
            "grid_auto_rows": null,
            "grid_gap": null,
            "max_width": null,
            "order": null,
            "_view_module_version": "1.2.0",
            "grid_template_areas": null,
            "object_position": null,
            "object_fit": null,
            "grid_auto_columns": null,
            "margin": null,
            "display": null,
            "left": null
          }
        }
      }
    }
  },
  "cells": [
    {
      "cell_type": "markdown",
      "metadata": {
        "id": "view-in-github",
        "colab_type": "text"
      },
      "source": [
        "<a href=\"https://colab.research.google.com/github/akhavan12/discrete_covid_model/blob/master/Discrete_Model_v1.ipynb\" target=\"_parent\"><img src=\"https://colab.research.google.com/assets/colab-badge.svg\" alt=\"Open In Colab\"/></a>"
      ]
    },
    {
      "cell_type": "code",
      "metadata": {
        "id": "szpGtfmfH3JG",
        "colab_type": "code",
        "colab": {}
      },
      "source": [
        "import numpy as np\n",
        "from scipy.optimize import curve_fit\n",
        "from scipy.integrate import odeint\n",
        "import matplotlib.pyplot as plt\n",
        "import pandas as pd\n",
        "import ipywidgets as widgets\n",
        "from ipywidgets import interact, interact_manual, interactive\n",
        "from ipywidgets import GridspecLayout\n",
        "from ipywidgets import FloatSlider\n",
        "pd.options.display.max_rows = 999"
      ],
      "execution_count": 0,
      "outputs": []
    },
    {
      "cell_type": "markdown",
      "metadata": {
        "id": "BwUOVBGwH67f",
        "colab_type": "text"
      },
      "source": [
        "\n",
        "### Actual Data From <font color=#800000> Italy</font>"
      ]
    },
    {
      "cell_type": "code",
      "metadata": {
        "id": "cK1fokG5H-AV",
        "colab_type": "code",
        "outputId": "e490dc36-8457-49d9-a17f-8cefd5587c1c",
        "colab": {
          "base_uri": "https://localhost:8080/",
          "height": 282
        }
      },
      "source": [
        "df_Italy = pd.read_excel('https://github.com/akhavan12/discrete_covid_model/raw/master/Country_Trends.xlsx',sheet_name='Italy')\n",
        "#df_Italy[['total case','icu','total recover','total death']]\n",
        "df_Italy[['active','icu','total recover','total death']].plot()"
      ],
      "execution_count": 304,
      "outputs": [
        {
          "output_type": "execute_result",
          "data": {
            "text/plain": [
              "<matplotlib.axes._subplots.AxesSubplot at 0x7f7243af60f0>"
            ]
          },
          "metadata": {
            "tags": []
          },
          "execution_count": 304
        },
        {
          "output_type": "display_data",
          "data": {
            "image/png": "[encoded data removed]",
            "text/plain": [
              "<Figure size 432x288 with 1 Axes>"
            ]
          },
          "metadata": {
            "tags": [],
            "needs_background": "light"
          }
        }
      ]
    },
    {
      "cell_type": "markdown",
      "metadata": {
        "id": "0OXa4xPZIZis",
        "colab_type": "text"
      },
      "source": [
        "Simple SEIR for the start"
      ]
    },
    {
      "cell_type": "code",
      "metadata": {
        "id": "X87QalPMIQeL",
        "colab_type": "code",
        "outputId": "4dfdd263-6e5d-49b8-b366-44d27ece4d81",
        "colab": {
          "base_uri": "https://localhost:8080/",
          "height": 80
        }
      },
      "source": [
        "df_Italy.head(1)"
      ],
      "execution_count": 305,
      "outputs": [
        {
          "output_type": "execute_result",
          "data": {
            "text/html": [
              "<div>\n",
              "<style scoped>\n",
              "    .dataframe tbody tr th:only-of-type {\n",
              "        vertical-align: middle;\n",
              "    }\n",
              "\n",
              "    .dataframe tbody tr th {\n",
              "        vertical-align: top;\n",
              "    }\n",
              "\n",
              "    .dataframe thead th {\n",
              "        text-align: right;\n",
              "    }\n",
              "</style>\n",
              "<table border=\"1\" class=\"dataframe\">\n",
              "  <thead>\n",
              "    <tr style=\"text-align: right;\">\n",
              "      <th></th>\n",
              "      <th>Italy</th>\n",
              "      <th>new case</th>\n",
              "      <th>total case</th>\n",
              "      <th>new death</th>\n",
              "      <th>total death</th>\n",
              "      <th>icu</th>\n",
              "      <th>active</th>\n",
              "      <th>total recover</th>\n",
              "      <th>new test</th>\n",
              "      <th>total test</th>\n",
              "    </tr>\n",
              "  </thead>\n",
              "  <tbody>\n",
              "    <tr>\n",
              "      <th>0</th>\n",
              "      <td>2020-02-26</td>\n",
              "      <td>143</td>\n",
              "      <td>466</td>\n",
              "      <td>2</td>\n",
              "      <td>12</td>\n",
              "      <td>36</td>\n",
              "      <td>430</td>\n",
              "      <td>3</td>\n",
              "      <td>987</td>\n",
              "      <td>9587</td>\n",
              "    </tr>\n",
              "  </tbody>\n",
              "</table>\n",
              "</div>"
            ],
            "text/plain": [
              "       Italy  new case  total case  ...  total recover  new test  total test\n",
              "0 2020-02-26       143         466  ...              3       987        9587\n",
              "\n",
              "[1 rows x 10 columns]"
            ]
          },
          "metadata": {
            "tags": []
          },
          "execution_count": 305
        }
      ]
    },
    {
      "cell_type": "code",
      "metadata": {
        "id": "LS6QXSgbIgyp",
        "colab_type": "code",
        "colab": {}
      },
      "source": [
        "def Interactive_discrete(epsilon,Beta,recovery):\n",
        "  N=60E5\n",
        "  S = [N-466]\n",
        "  E = [400*2]\n",
        "  I = [466]\n",
        "  R = [3]\n",
        "  for i in range(1,60):\n",
        "    S_t = S[i-1] - Beta * (I[i-1]*S[i-1])/N  \n",
        "    E_t = Beta * I[i-1]*S[i-1]/N  - epsilon * E[i-1]\n",
        "    I_t = I[i-1] + epsilon * E[i-1] - recovery * I[i-1]\n",
        "    R_t = R[i-1] +  recovery * I[i-1]\n",
        "\n",
        "\n",
        "    S.append(S_t)\n",
        "    E.append(E_t)\n",
        "    I.append(I_t)\n",
        "    R.append(R_t)\n",
        "  f,ax = plt.subplots(2,2,figsize=(8,6))\n",
        "  axs=ax.ravel()\n",
        "  axs[0].plot(I,label='Model')\n",
        "  axs[0].plot(df_Italy['active'],label='Actual')\n",
        "  axs[0].legend()"
      ],
      "execution_count": 0,
      "outputs": []
    },
    {
      "cell_type": "code",
      "metadata": {
        "id": "nozy5rtWIvDY",
        "colab_type": "code",
        "colab": {}
      },
      "source": [
        "step_size=.001\n",
        "\n",
        "\n",
        "w = interactive(Interactive_discrete,    \n",
        "    epsilon = FloatSlider(min=.01, max=1,continuous_update=False, readout_format='.3f',   step=step_size, value=.526, description = 'Epsilon') \n",
        "    ,Beta = FloatSlider(min=.01, max=4,continuous_update=False, readout_format='.3f',   step=step_size, value=1.681,description = 'β')  \n",
        "    ,recovery = FloatSlider(min=.01, max=1,continuous_update=False, readout_format='.3f',   step=step_size, value=0.413,))"
      ],
      "execution_count": 0,
      "outputs": []
    },
    {
      "cell_type": "code",
      "metadata": {
        "id": "5nbk8816KAmT",
        "colab_type": "code",
        "outputId": "a00734d3-25f3-47c1-a43b-bee992e4b968",
        "colab": {
          "base_uri": "https://localhost:8080/",
          "height": 474,
          "referenced_widgets": [
            "61087524645f46589d5ab14dfe5027f1",
            "7346b8678d2d46af82a032db1d1e2947",
            "935b0bae12ef4817bbad07b65d594f30",
            "64ef2a336ca34c5590691aaa97b1904f",
            "6284272a9508424883c446852ac53cf3",
            "61ecd6d3cdd64e9682f4ce5ee622471e",
            "b72c4221784c440fa2dbecf92e077652",
            "890650310a184ce19f72089b82c2ae5f",
            "176a096cf8e4426e885f16e64c4ea58f",
            "d2e810c0644e49e2b4e81aed2167cf8d",
            "ea2981e9d6c8411daa46cfacdfd4a789",
            "2bc58042fa9845179069b3a5b66e7bcb",
            "f1299ccec3e04e48b5d6938b75930041"
          ]
        }
      },
      "source": [
        "w"
      ],
      "execution_count": 308,
      "outputs": [
        {
          "output_type": "display_data",
          "data": {
            "application/vnd.jupyter.widget-view+json": {
              "model_id": "61087524645f46589d5ab14dfe5027f1",
              "version_minor": 0,
              "version_major": 2
            },
            "text/plain": [
              "interactive(children=(FloatSlider(value=0.526, continuous_update=False, description='Epsilon', max=1.0, min=0.…"
            ]
          },
          "metadata": {
            "tags": []
          }
        }
      ]
    },
    {
      "cell_type": "code",
      "metadata": {
        "id": "AiQ43JnsW9BL",
        "colab_type": "code",
        "colab": {}
      },
      "source": [
        "### kernel integration method"
      ],
      "execution_count": 0,
      "outputs": []
    },
    {
      "cell_type": "code",
      "metadata": {
        "id": "bRRBCij7H0Ej",
        "colab_type": "code",
        "colab": {}
      },
      "source": [
        "MaxTime = 60\n",
        "L=1\n",
        "N=60E5\n",
        "\n",
        "### M,R,Severe\n",
        "Probs[\"M\"] = [[0.8,0.00,.20], #0\n",
        "          [0.80,0.00,.20], #1\n",
        "          [0.80,0.00,.20], #2\n",
        "          [0.70,0.10,.20], #3\n",
        "          [0.60,0.25,.15], #4\n",
        "          [0.50,0.25,.25], #5\n",
        "          [0.30,0.20,.50], #6\n",
        "          [0.30,0.20,.50], #7\n",
        "          [0.30,0.20,.50], #8\n",
        "          [0.10,0.30,.60], #9\n",
        "          [0.05,0.05,.90], #10\n",
        "          [0.05,0.05,.90], #11\n",
        "          [0.05,0.05,.90], #12\n",
        "          [0.05,0.05,.90], #13\n",
        "          [0.00,0.00,1.00]] #14\n",
        "\n",
        "### W,R,V,D\n",
        "Probs[\"Severe\"] = [\n",
        "          [0.50,0.20,0.28,0.00], #0\n",
        "          [0.40,0.30,0.28,0.02], #1\n",
        "          [0.40,0.30,0.28,0.02], #2\n",
        "          [0.40,0.30,0.28,0.02], #3\n",
        "          [0.40,0.30,0.28,0.02], #4\n",
        "          [0.40,0.30,0.28,0.02], #5\n",
        "          [0.50,0.30,0.18,0.02], #6\n",
        "          [0.50,0.30,0.18,0.02], #7\n",
        "          [0.50,0.30,0.18,0.02], #8\n",
        "          [0.50,0.30,0.18,0.02], #9\n",
        "          [0.50,0.30,0.18,0.02], #10\n",
        "          [0.40,0.40,0.18,0.02], #11\n",
        "          [0.40,0.40,0.18,0.02], #12\n",
        "          [0.30,0.80,0.18,0.02], #13\n",
        "          [0.00,1,0.00,0.00]] #14\n",
        "\n",
        "### V,R,D \n",
        "Probs[\"ventilator\"] = [\n",
        "          [0.50,0.30,0.20], #0\n",
        "          [0.40,0.30,0.30], #1\n",
        "          [0.40,0.30,0.30], #2\n",
        "          [0.40,0.30,0.30], #3\n",
        "          [0.40,0.30,0.30], #4\n",
        "          [0.40,0.30,0.30], #5\n",
        "          [0.40,0.30,0.30], #6\n",
        "          [0.40,0.30,0.30], #7\n",
        "          [0.40,0.30,0.30], #8\n",
        "          [0.40,0.30,0.30], #9\n",
        "          [0.40,0.30,0.30], #10\n",
        "          [0.40,0.30,0.30], #11\n",
        "          [0.20,0.30,0.50], #12\n",
        "          [0.20,0.30,0.50], #13\n",
        "          [0.00,0.20,0.8]] #14\n",
        "### Symp,H,M\n",
        "Probs['Symp'] =[[0.50,.20,.30], #0\n",
        "                [0,0.1,0.9], #1\n",
        "         ]\n",
        "### E,H,Symp\n",
        "Probs[\"E\"] =[[0.50,0.30,0.20], #0\n",
        "         [0.50,0.30,0.20], #1\n",
        "         [0.40,0.20,0.40], #2\n",
        "         [0.30,0.10,0.60], #3\n",
        "         [0.20,0.10,0.70], #4\n",
        "         [0.00,0.10,0.90]] #5\n",
        "\n"
      ],
      "execution_count": 0,
      "outputs": []
    },
    {
      "cell_type": "code",
      "metadata": {
        "id": "0QYL2UYdrMSl",
        "colab_type": "code",
        "colab": {}
      },
      "source": [
        "H=np.zeros(60) ## healthy population has 1 class\n",
        "E=np.zeros([5,60]) ## Exposed population has 5 classes\n",
        "H[0]=N\n",
        "E[0,0]=1000\n",
        "Beta = 3\n",
        "\n",
        "Symp=np.zeros([2,60]) ## Sympt population has 2 classes\n",
        "M=np.zeros([15,60]) ## Mild population has 14 classes\n",
        "M[0,0]=100\n",
        "Symp[0,0]=100\n",
        "V=np.zeros([15,60]) ## Ventilator population has 14 classes\n",
        "W=np.zeros([15,60]) ## Severe population has 14 classes\n",
        "R=np.zeros(60) ## Recovered population has 1 class\n",
        "D=np.zeros(60) ## Dead population has 1 class"
      ],
      "execution_count": 0,
      "outputs": []
    },
    {
      "cell_type": "code",
      "metadata": {
        "id": "cPk5u3NtH3SK",
        "colab_type": "code",
        "colab": {}
      },
      "source": [
        "\n",
        "for t in range(MaxTime-1):\n",
        "  \n",
        " \n",
        "  E[0,t+1] = np.int32(((H[t] * (np.sum(M[:,t])+np.sum(W[:,t])))/N)* Beta)\n",
        "\n",
        "\n",
        "## Each state represents time from onset in one conditions (E,Symp,M,W,V)\n",
        "## when moving from one day to another, the states increment (E(t) -> E(t+1))\n",
        "## the change or staying in each condition, and state has it's own probability\n",
        "\n",
        "#H -- > E[ state 0, time t]--> P_E(state,E) --> + E(State 1, t+1)\n",
        "#                          --> P_E(state,Symp) --> + Symp(State 0, t+1)\n",
        "#                          --> P_H(state,H) --> + H(t+1)\n",
        "#S(state=1,t) -- > M(state=0,t+1) --P_M(state=1~14,M)-- > M(state=1,t+2)\n",
        "#                                 --P_M(state=1~14,W)-- > W(state=1,t+2)-----|P_W(state=1~14,V) ---> V(state=0, t=t+3) -->| P_R(state=1~14,V) --> R\n",
        "#                                 --P_M(state=1~14,R)-- > R(state=1,t+2)     |P_W(state=1~14,D) --->                      | P_D(state=1~14,V) --> D\n",
        "#                                                                            |P_R(state=1~14,R) ---> \n",
        "# E(state 0,  t+1) = H(t)* (M + W)*Beta/N\n",
        "# H(t+1) = H(t) - E(State 0, t+1)\n",
        "\n",
        "\n",
        " ### Exposed states\n",
        "  for state in range(0,4):\n",
        "    ## Stay exposed conditions\n",
        "    E[state+1,t+1] =  E[state,t]*Probs[\"E\"][state][0] \n",
        "    ## go back to healthy\n",
        "    H[t+1] = H[t] + E[state,t]*Probs[\"E\"][state][1]\n",
        "    ## become symtomic\n",
        "    Symp[0,t+1] =  E[state,t]*Probs[\"E\"][state][2]\n",
        "  \n",
        "  \n",
        "  ### Symptomatic states \n",
        "  #################################################\n",
        "  Symp[1,t+1] = Symp[0,t]*Probs[\"Symp\"][0][0]\n",
        "  #################################################\n",
        "\n",
        "  for state in range(0,14):\n",
        "    ### M,R,Severe\n",
        "    M[state+1,t+1] =  M[state,t]*Probs[\"M\"][state][0]\n",
        "    R[t+1] = R[t] + M[state,t]*Probs[\"M\"][state][1]\n",
        "    W[0,t+1] =  M[state,t]*Probs[\"M\"][state][2]\n",
        "    \n",
        "  for state in range(0,14):\n",
        "    ### Severe,R,V,D\n",
        "    W[state+1,t+1] =  M[state,t]*Probs[\"Severe\"][state][0]\n",
        "    R[t+1] = R[t] + W[state,t]*Probs[\"Severe\"][state][1]\n",
        "    V[0,t+1] =  W[state,t]*Probs[\"Severe\"][state][2]\n",
        "    D[t+1] = D[t] + W[state,t]*Probs[\"Severe\"][state][3]\n",
        "  for state in range(0,14):\n",
        "    ### V,R,D \n",
        "    V[state+1,t+1] =  V[state,t]*Probs[\"ventilator\"][state][0]\n",
        "    R[t+1] = R[t] + V[state,t]*Probs[\"Severe\"][state][1]\n",
        "    D[t+1] = D[t] + V[state,t]*Probs[\"Severe\"][state][2]\n",
        "  for state in range(0,14):\n",
        "    ### V,R,D \n",
        "    V[state+1,t+1] =  V[state,t]*Probs[\"ventilator\"][state][0]\n",
        "    R[t+1] = R[t] + V[state,t]*Probs[\"Severe\"][state][1]\n",
        "    D[t+1] = D[t] + V[state,t]*Probs[\"Severe\"][state][2]\n",
        "\n",
        "  \n",
        "\n",
        "\n",
        "\n"
      ],
      "execution_count": 0,
      "outputs": []
    },
    {
      "cell_type": "code",
      "metadata": {
        "id": "9BwUCpbSJqn-",
        "colab_type": "code",
        "colab": {}
      },
      "source": [
        ""
      ],
      "execution_count": 0,
      "outputs": []
    },
    {
      "cell_type": "code",
      "metadata": {
        "id": "cF5Dv4eFd2gI",
        "colab_type": "code",
        "colab": {}
      },
      "source": [
        ""
      ],
      "execution_count": 0,
      "outputs": []
    },
    {
      "cell_type": "code",
      "metadata": {
        "id": "WCOqMZz6ccmk",
        "colab_type": "code",
        "colab": {}
      },
      "source": [
        ""
      ],
      "execution_count": 0,
      "outputs": []
    },
    {
      "cell_type": "code",
      "metadata": {
        "id": "iFy11MbgdNCj",
        "colab_type": "code",
        "colab": {}
      },
      "source": [
        ""
      ],
      "execution_count": 0,
      "outputs": []
    }
  ]
}