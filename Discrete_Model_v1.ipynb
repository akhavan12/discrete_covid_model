{
  "nbformat": 4,
  "nbformat_minor": 0,
  "metadata": {
    "colab": {
      "name": "Discrete_Model_v1.ipynb",
      "provenance": [],
      "collapsed_sections": [],
      "authorship_tag": "ABX9TyME368PF6MzupZicYm1qVjo",
      "include_colab_link": true
    },
    "kernelspec": {
      "name": "python3",
      "display_name": "Python 3"
    }
  },
  "cells": [
    {
      "cell_type": "markdown",
      "metadata": {
        "id": "view-in-github",
        "colab_type": "text"
      },
      "source": [
        "<a href=\"https://colab.research.google.com/github/akhavan12/discrete_covid_model/blob/master/Discrete_Model_v1.ipynb\" target=\"_parent\"><img src=\"https://colab.research.google.com/assets/colab-badge.svg\" alt=\"Open In Colab\"/></a>"
      ]
    },
    {
      "cell_type": "code",
      "metadata": {
        "id": "szpGtfmfH3JG",
        "colab_type": "code",
        "colab": {}
      },
      "source": [
        "import numpy as np\n",
        "from scipy.optimize import curve_fit\n",
        "from scipy.integrate import odeint\n",
        "import matplotlib.pyplot as plt\n",
        "import pandas as pd\n",
        "import ipywidgets as widgets\n",
        "from ipywidgets import interact, interact_manual, interactive\n",
        "from ipywidgets import GridspecLayout\n",
        "from ipywidgets import FloatSlider\n",
        "pd.options.display.max_rows = 999"
      ],
      "execution_count": 0,
      "outputs": []
    },
    {
      "cell_type": "code",
      "metadata": {
        "id": "3B0-R566b4hn",
        "colab_type": "code",
        "colab": {}
      },
      "source": [
        "## Each state represents time from onset in one conditions (E,Symp,M,W,V)\n",
        "## when moving from one day to another, the states increment (E(t) -> E(t+1))\n",
        "## the change or staying in each condition, and state has it's own probability\n",
        "\n",
        "#H -- > E[ state 0, time t]--> P_E(state,E) --> + E(State 1, t+1)\n",
        "#                          --> P_E(state,Symp) --> + Symp(State 0, t+1) -->(Testing ratio)\n",
        "#                          --> P_H(state,H) --> + H(t+1)\n",
        "#S(state=1,t) -- > M(state=0,t+1) --P_M(state=1~14,M)-- > M(state=1,t+2)\n",
        "#                                 --P_M(state=1~14,W)-- > W(state=1,t+2)-----|P_W(state=1~14,V) ---> V(state=0, t=t+3) -->| P_R(state=1~14,V) --> R\n",
        "#                                 --P_M(state=1~14,R)-- > R(state=1,t+2)     |P_W(state=1~14,D) --->                      | P_D(state=1~14,V) --> D\n",
        "#                                                                            |P_R(state=1~14,R) ---> \n",
        "# E(state 0,  t+1) = H(t)* (M + W)*Beta/N\n",
        "# H(t+1) = H(t) - E(State 0, t+1)"
      ],
      "execution_count": 0,
      "outputs": []
    },
    {
      "cell_type": "code",
      "metadata": {
        "id": "bRRBCij7H0Ej",
        "colab_type": "code",
        "colab": {}
      },
      "source": [
        "MaxTime = 120\n",
        "N=60E6\n",
        "Probs={}\n",
        "### M,R,Severe\n",
        "Probs[\"M\"] = [[0.8,0.00,.20], #0\n",
        "          [0.80,0.00,0.20], #1\n",
        "          [0.80,0.00,0.20], #2\n",
        "          [0.70,0.00,0.30], #3\n",
        "          [0.60,0.10,0.30], #4\n",
        "          [0.50,0.10,0.40], #5\n",
        "          [0.50,0.20,0.30], #6\n",
        "          [0.30,0.25,0.25], #7\n",
        "          [0.50,0.25,0.25], #8\n",
        "          [0.50,0.25,0.25], #9\n",
        "          [0.30,0.40,0.30], #10\n",
        "          [0.30,0.50,0.30], #11\n",
        "          [0.10,0.80,0.10], #12\n",
        "          [0.05,0.95,0.00], #13\n",
        "          [0.00,1.00,0.00]] #14\n",
        "\n",
        "### Severe,R,V,D\n",
        "Probs[\"Severe\"] = [\n",
        "          [0.50,0.20,0.28,0.00], #0\n",
        "          [0.40,0.30,0.28,0.02], #1\n",
        "          [0.40,0.30,0.28,0.02], #2\n",
        "          [0.40,0.30,0.28,0.02], #3\n",
        "          [0.40,0.30,0.28,0.02], #4\n",
        "          [0.40,0.30,0.28,0.02], #5\n",
        "          [0.50,0.30,0.18,0.02], #6\n",
        "          [0.50,0.30,0.18,0.02], #7\n",
        "          [0.50,0.30,0.18,0.02], #8\n",
        "          [0.50,0.30,0.18,0.02], #9\n",
        "          [0.50,0.30,0.18,0.02], #10\n",
        "          [0.40,0.40,0.18,0.02], #11\n",
        "          [0.40,0.40,0.18,0.02], #12\n",
        "          [0.30,0.80,0.18,0.02], #13\n",
        "          [0.00,1.00,0.00,0.00]] #14\n",
        "\n",
        "### V,R,D \n",
        "Probs[\"ventilator\"] = [\n",
        "          [0.50,0.30,0.20], #0\n",
        "          [0.40,0.30,0.30], #1\n",
        "          [0.40,0.30,0.30], #2\n",
        "          [0.40,0.30,0.30], #3\n",
        "          [0.40,0.30,0.30], #4\n",
        "          [0.40,0.30,0.30], #5\n",
        "          [0.40,0.30,0.30], #6\n",
        "          [0.40,0.30,0.30], #7\n",
        "          [0.40,0.30,0.30], #8\n",
        "          [0.40,0.30,0.30], #9\n",
        "          [0.40,0.30,0.30], #10\n",
        "          [0.40,0.30,0.30], #11\n",
        "          [0.20,0.30,0.50], #12\n",
        "          [0.20,0.30,0.50], #13\n",
        "          [0.00,0.20,0.8]] #14\n",
        "### Symp,M\n",
        "Probs['Symp'] =[[0.50,.30], #0 Testing and + cases go to Mild cases\n",
        "                [0,1], #1 ###  all remainings go to Mild cases \n",
        "         ]\n",
        "### E,H,Symp\n",
        "Probs[\"E\"] = [[1.00,0.00,0.00], #0 ### first day of exposure\n",
        "              [0.30,0.50,0.20], #1        \n",
        "              [0.20,0.50,0.30], #2 \n",
        "              [0.10,0.50,0.40], #3\n",
        "              [0.05,0.45,0.50], #4\n",
        "              [0.00,0.40,0.60]] #5\n",
        "\n"
      ],
      "execution_count": 0,
      "outputs": []
    },
    {
      "cell_type": "code",
      "metadata": {
        "id": "0QYL2UYdrMSl",
        "colab_type": "code",
        "colab": {}
      },
      "source": [
        "H=np.zeros(MaxTime) ## healthy population has 1 class\n",
        "E=np.zeros([5,MaxTime]) ## Exposed population has 5 classes\n",
        "H[0]=N\n",
        "E[0,0]=800\n",
        "Beta = 1.5\n",
        "\n",
        "Symp=np.zeros([2,MaxTime]) ## Sympt population has 2 classes\n",
        "M=np.zeros([15,MaxTime]) ## Mild population has 14 classes\n",
        "M[0,0]=400\n",
        "Symp[0,0]=600\n",
        "V=np.zeros([15,MaxTime]) ## Ventilator population has 14 classes\n",
        "W=np.zeros([15,MaxTime]) ## Severe population has 14 classes\n",
        "R=np.zeros(MaxTime) ## Recovered population has 1 class\n",
        "D=np.zeros(MaxTime) ## Dead population has 1 class"
      ],
      "execution_count": 0,
      "outputs": []
    },
    {
      "cell_type": "code",
      "metadata": {
        "id": "cPk5u3NtH3SK",
        "colab_type": "code",
        "colab": {}
      },
      "source": [
        "\n",
        "for t in range(MaxTime-1):\n",
        "  ### transfer previous days number of recovered cases\n",
        "  R[t+1] = R[t]\n",
        "  D[t+1] = D[t]\n",
        "\n",
        "  E[0,t+1] = np.int32(\n",
        "            ( H[t] * (M[:,t].sum()+W[:,t].sum())/N)\n",
        "            * Beta)\n",
        "\n",
        "  if np.int32((( H[t] * (np.sum(M[:,t])+np.sum(W[:,t])))/N)* Beta)>0:\n",
        "    ##print(\"M\",M[:,t].sum())\n",
        "    pass\n",
        "  else:\n",
        "    break\n",
        "    \n",
        " ### when the case has symptoms, it is removed fromt he population\n",
        "  H[t+1] = H[t]- Symp[0,t]\n",
        "  \n",
        "### at time t calculate all the values of t+1 for all the states\n",
        "\n",
        "  for state in range(0,4):\n",
        "    ## Stay exposed conditions\n",
        "    E[state+1,t+1] =  E[state,t]*Probs[\"E\"][state][0] \n",
        "    ## go back to healthy population\n",
        "    #H[t+1] = H[t+1] + E[state,t]*Probs[\"E\"][state][1]\n",
        "    ## become symtomic\n",
        "    Symp[0,t+1] = Symp[0,t+1]+ E[state,t]*Probs[\"E\"][state][2]\n",
        "  \n",
        "  ### Symptomatic states \n",
        "  #################################################\n",
        "  Symp[1,t+1] = Symp[0,t]*Probs[\"Symp\"][0][0]         ### state 0 remain sympt\n",
        "  M[0,t+1] =  Symp[0,t]*Probs[\"Symp\"][0][1]           ### From state 0 to Mild state 0\n",
        "  M[0,t+1] = M[0,t+1]+  Symp[1,t]*Probs[\"Symp\"][1][1] ### From state 1 to Mild state 0\n",
        "  #################################################\n",
        "\n",
        "  for state in range(0,14):\n",
        "    ### M,R,Severe\n",
        "    M[state+1,t+1] =  M[state,t]*Probs[\"M\"][state][0] ## from state= state --> to state+1\n",
        "\n",
        "    R[t+1] = R[t+1] + M[state,t] * Probs[\"M\"][state][1] ## from Mild to recovered\n",
        "  \n",
        "    W[0,t+1] = W[0,t+1]+  M[state,t] * Probs[\"M\"][state][2]\n",
        "\n",
        "  for state in range(0,14):\n",
        "    ### Severe,R,V,D\n",
        "    W[state+1,t+1] =  M[state,t] * Probs[\"Severe\"][state][0]\n",
        "    R[t+1] = R[t+1] + W[state,t] * Probs[\"Severe\"][state][1]\n",
        "    V[0,t+1] =  W[state,t] * Probs[\"Severe\"][state][2]\n",
        "    D[t+1] = D[t+1] + W[state,t] * Probs[\"Severe\"][state][3]\n",
        "  \n",
        "  \n",
        "  for state in range(0,14):\n",
        "    ### V,R,D \n",
        "    V[state+1,t+1] =  V[state,t] * Probs[\"ventilator\"][state][0]\n",
        "    R[t+1] = R[t+1] + V[state,t] * Probs[\"Severe\"][state][1]\n",
        "    D[t+1] = D[t+1] + V[state,t] * Probs[\"Severe\"][state][2]"
      ],
      "execution_count": 0,
      "outputs": []
    },
    {
      "cell_type": "code",
      "metadata": {
        "id": "9BwUCpbSJqn-",
        "colab_type": "code",
        "outputId": "ec947d58-c9c2-436d-a69c-7d7d26202de8",
        "colab": {
          "base_uri": "https://localhost:8080/",
          "height": 511
        }
      },
      "source": [
        "f,ax = plt.subplots(figsize=(10,8))\n",
        "ax.plot(M.sum(axis=0),color='orange',label='mild')\n",
        "ax.plot(W.sum(axis=0),color='purple',label='severe')\n",
        "ax.plot(R,color='green',label='recovered')\n",
        "ax.plot(D,color='red',label='dead')\n",
        "#ax.plot(H,color='black',label='healthy')\n",
        "ax.set_xlim(xmin=30)\n",
        "ax.legend(fontsize=14)"
      ],
      "execution_count": 77,
      "outputs": [
        {
          "output_type": "execute_result",
          "data": {
            "text/plain": [
              "<matplotlib.legend.Legend at 0x7f90be6689b0>"
            ]
          },
          "metadata": {
            "tags": []
          },
          "execution_count": 77
        },
        {
          "output_type": "display_data",
          "data": {
            "image/png": "[encoded data removed]",
            "text/plain": [
              "<Figure size 720x576 with 1 Axes>"
            ]
          },
          "metadata": {
            "tags": [],
            "needs_background": "light"
          }
        }
      ]
    },
    {
      "cell_type": "code",
      "metadata": {
        "id": "cF5Dv4eFd2gI",
        "colab_type": "code",
        "colab": {}
      },
      "source": [
        ""
      ],
      "execution_count": 0,
      "outputs": []
    },
    {
      "cell_type": "code",
      "metadata": {
        "id": "WCOqMZz6ccmk",
        "colab_type": "code",
        "colab": {}
      },
      "source": [
        ""
      ],
      "execution_count": 0,
      "outputs": []
    },
    {
      "cell_type": "code",
      "metadata": {
        "id": "iFy11MbgdNCj",
        "colab_type": "code",
        "colab": {}
      },
      "source": [
        ""
      ],
      "execution_count": 0,
      "outputs": []
    }
  ]
}