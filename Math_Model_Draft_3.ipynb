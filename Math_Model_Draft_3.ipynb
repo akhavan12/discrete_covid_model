{
  "nbformat": 4,
  "nbformat_minor": 0,
  "metadata": {
    "colab": {
      "name": "Math_Model_Draft_3.ipynb",
      "provenance": [],
      "collapsed_sections": [],
      "authorship_tag": "ABX9TyO+WqSZ3mFm7zId2YCM6vwA",
      "include_colab_link": true
    },
    "kernelspec": {
      "name": "python3",
      "display_name": "Python 3"
    }
  },
  "cells": [
    {
      "cell_type": "markdown",
      "metadata": {
        "id": "view-in-github",
        "colab_type": "text"
      },
      "source": [
        "<a href=\"https://colab.research.google.com/github/akhavan12/discrete_covid_model/blob/master/Math_Model_Draft_3.ipynb\" target=\"_parent\"><img src=\"https://colab.research.google.com/assets/colab-badge.svg\" alt=\"Open In Colab\"/></a>"
      ]
    },
    {
      "cell_type": "code",
      "metadata": {
        "id": "5Oe_OcPllrYR",
        "colab_type": "code",
        "colab": {}
      },
      "source": [
        "import numpy as np\n",
        "from scipy.integrate import odeint\n",
        "import matplotlib.pyplot as plt"
      ],
      "execution_count": 0,
      "outputs": []
    },
    {
      "cell_type": "code",
      "metadata": {
        "id": "Zze57kGXlx42",
        "colab_type": "code",
        "colab": {}
      },
      "source": [
        "# Total population, N.\n",
        "N = 1000\n",
        "# Initial number of infected and recovered individuals, I0 and R0.\n",
        "\n",
        "H0 = 1\n",
        "E0 = .01 \n",
        "A0 = 0\n",
        "M0 = 0\n",
        "W0 = 0\n",
        "V0 = 0\n",
        "R0 = 0\n",
        "D0 = 0\n",
        "\n",
        "# Everyone else, S0, is susceptible to infection initially.\n",
        "H0 = N - A0 - R0\n",
        "# Contact rate, beta, and mean recovery rate, gamma, (in 1/days).\n",
        "\n",
        "# A grid of time points (in days)\n",
        "t = np.linspace(0, 160, 160)"
      ],
      "execution_count": 0,
      "outputs": []
    },
    {
      "cell_type": "code",
      "metadata": {
        "id": "FYpvj23Ml0CK",
        "colab_type": "code",
        "colab": {}
      },
      "source": [
        "def deriv(y, t, N):\n",
        "  H, E, A, M, W, V, R, D = y\n",
        "  e =.01 # sym.symbols('epsilon') # delay of exposed to infections\n",
        "  ## infection rate from M and A\n",
        "  q_a =0.01# sym.symbols('q_a') # infection rate of the Asymptomatic\n",
        "  q_m = 0.1 #sym.symbols('q_m') # infection rate of the Mild\n",
        "  ## recovery rate form a, m , w, v\n",
        "  R_a = 0.1 #sym.symbols('gamma_a') \n",
        "  R_m = 0.1 #sym.symbols('gamma_mild')\n",
        "  R_w = 0.1 #sym.symbols('gamma_w')\n",
        "  R_v = 0.1 #sym.symbols('gamma_v')\n",
        "  ## death rate from w and v\n",
        "  eta_w = 0.1 #sym.symbols('eta_w')\n",
        "  eta_v = 0.1 #sym.symbols('eta_v') \n",
        "  ## Bilinear incidence (infected cases, transmitting the virus)\n",
        "  B = 0.1  #sym.symbols('beta') \n",
        "  ## moving from 1 state to another\n",
        "  G_a = .1 #sym.symbols('omega_a')\n",
        "  G_m = 0.1  #sym.symbols('omega_m')\n",
        "  G_w = 0.1 #sym.symbols('omega_w')\n",
        "  G_v = 0.1 #sym.symbols('omega_v')\n",
        "\n",
        "  dHdt =  -B*H*(A+M+W)\n",
        "  dEdt =  B*H*(A+M+W) - (e * E * q_a)\n",
        "  dAdt =  e * E * q_a - (G_a * A) - (R_a * A)\n",
        "  dMdt =  G_a * A - (G_m * M) - (R_m * M)\n",
        "  dWdt =  G_m * M - (G_w * W) - (R_w * W) - (eta_w * W)\n",
        "  dVdt =  G_w * W - (R_v * V) - (eta_v * V)\n",
        "  dRdt =  R_v * A + R_m * M + R_w * W + R_v* V          \n",
        "  dDdt =  (eta_w * W) + (eta_v * V)\n",
        "\n",
        "  return dHdt, dEdt, dAdt, dMdt, dWdt, dVdt, dRdt, dDdt"
      ],
      "execution_count": 0,
      "outputs": []
    },
    {
      "cell_type": "code",
      "metadata": {
        "id": "-G4ZuLT_l2ER",
        "colab_type": "code",
        "colab": {}
      },
      "source": [
        "y0 = H0, E0, A0, M0, W0, V0, R0, D0\n",
        "\n",
        "ret = odeint(deriv, y0, t,args=(N,))#, args=(N, beta, gamma))\n",
        "H, E, A, M, W, V, R, D = ret.T"
      ],
      "execution_count": 0,
      "outputs": []
    },
    {
      "cell_type": "code",
      "metadata": {
        "id": "ZWhTQ4CRl6fJ",
        "colab_type": "code",
        "colab": {
          "base_uri": "https://localhost:8080/",
          "height": 282
        },
        "outputId": "9aedd41d-95ca-4849-894f-3f5fc52cdb0e"
      },
      "source": [
        "fig = plt.figure()\n",
        "ax = fig.add_subplot(111)\n",
        "#ax.plot(t, H/1000, color='blue', label='Susceptible')\n",
        "#ax.plot(t, M/1000, color='yellow', label='Mild')\n",
        "#ax.plot(t, W/1000, color='Orange', label='Severe')\n",
        "#ax.plot(t, V/1000, color='red', label='Ventilator')\n",
        "#ax.plot(t, R/1000,'.-', color='green',  label='Recovered')\n",
        "#ax.plot(t, D/1000 , color='black', label='Dead')\n",
        "ax.plot(t, E/1000,'*-' , color='black',label='Exposed')"
      ],
      "execution_count": 21,
      "outputs": [
        {
          "output_type": "execute_result",
          "data": {
            "text/plain": [
              "[<matplotlib.lines.Line2D at 0x7f29cf7d9208>]"
            ]
          },
          "metadata": {
            "tags": []
          },
          "execution_count": 21
        },
        {
          "output_type": "display_data",
          "data": {
            "image/png": "[encoded data removed]",
            "text/plain": [
              "<Figure size 432x288 with 1 Axes>"
            ]
          },
          "metadata": {
            "tags": [],
            "needs_background": "light"
          }
        }
      ]
    },
    {
      "cell_type": "code",
      "metadata": {
        "id": "Cc2_rlL9mBvv",
        "colab_type": "code",
        "colab": {}
      },
      "source": [
        ""
      ],
      "execution_count": 0,
      "outputs": []
    }
  ]
}