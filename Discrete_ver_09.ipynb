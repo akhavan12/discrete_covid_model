{
  "nbformat": 4,
  "nbformat_minor": 0,
  "metadata": {
    "colab": {
      "name": "Discrete_ver_09.ipynb",
      "provenance": [],
      "collapsed_sections": [],
      "authorship_tag": "ABX9TyN8mTaf0XlNJbgVWOCEYaOS",
      "include_colab_link": true
    },
    "kernelspec": {
      "name": "python3",
      "display_name": "Python 3"
    },
    "widgets": {
      "application/vnd.jupyter.widget-state+json": {
        "a0c08b19b8264dde93741c67b3d84858": {
          "model_module": "@jupyter-widgets/controls",
          "model_name": "VBoxModel",
          "state": {
            "_view_name": "VBoxView",
            "_dom_classes": [
              "widget-interact"
            ],
            "_model_name": "VBoxModel",
            "_view_module": "@jupyter-widgets/controls",
            "_model_module_version": "1.5.0",
            "_view_count": null,
            "_view_module_version": "1.5.0",
            "box_style": "",
            "layout": "IPY_MODEL_acc232e2276a4160bd8d7030aea0ddb5",
            "_model_module": "@jupyter-widgets/controls",
            "children": [
              "IPY_MODEL_33eb224899a748efa3cc99d083ed76e7",
              "IPY_MODEL_2e952117404446ee888fd7cdc8673143",
              "IPY_MODEL_a9cf714b831e4bb7946c482dabf63605",
              "IPY_MODEL_530a42934e0e4202b8de916006c663a6",
              "IPY_MODEL_c2c018d89a2c4eaeab814dc41abac041",
              "IPY_MODEL_eaba8ddd6ba649cda716d9a3d002c9af",
              "IPY_MODEL_7832f64701264396a5e90c3f903f2616"
            ]
          }
        },
        "acc232e2276a4160bd8d7030aea0ddb5": {
          "model_module": "@jupyter-widgets/base",
          "model_name": "LayoutModel",
          "state": {
            "_view_name": "LayoutView",
            "grid_template_rows": null,
            "right": null,
            "justify_content": null,
            "_view_module": "@jupyter-widgets/base",
            "overflow": null,
            "_model_module_version": "1.2.0",
            "_view_count": null,
            "flex_flow": null,
            "width": null,
            "min_width": null,
            "border": null,
            "align_items": null,
            "bottom": null,
            "_model_module": "@jupyter-widgets/base",
            "top": null,
            "grid_column": null,
            "overflow_y": null,
            "overflow_x": null,
            "grid_auto_flow": null,
            "grid_area": null,
            "grid_template_columns": null,
            "flex": null,
            "_model_name": "LayoutModel",
            "justify_items": null,
            "grid_row": null,
            "max_height": null,
            "align_content": null,
            "visibility": null,
            "align_self": null,
            "height": null,
            "min_height": null,
            "padding": null,
            "grid_auto_rows": null,
            "grid_gap": null,
            "max_width": null,
            "order": null,
            "_view_module_version": "1.2.0",
            "grid_template_areas": null,
            "object_position": null,
            "object_fit": null,
            "grid_auto_columns": null,
            "margin": null,
            "display": null,
            "left": null
          }
        },
        "33eb224899a748efa3cc99d083ed76e7": {
          "model_module": "@jupyter-widgets/controls",
          "model_name": "IntSliderModel",
          "state": {
            "_view_name": "IntSliderView",
            "style": "IPY_MODEL_b65fc46c80ec4959aa042d9f07bd3076",
            "_dom_classes": [],
            "description": "Population",
            "step": 1,
            "_model_name": "IntSliderModel",
            "orientation": "horizontal",
            "max": 50000000,
            "_view_module": "@jupyter-widgets/controls",
            "_model_module_version": "1.5.0",
            "value": 10000000,
            "_view_count": null,
            "disabled": false,
            "_view_module_version": "1.5.0",
            "min": 1000,
            "continuous_update": false,
            "readout_format": "d",
            "description_tooltip": null,
            "readout": true,
            "_model_module": "@jupyter-widgets/controls",
            "layout": "IPY_MODEL_30f3bffb2a5f4610a7d508a2b67b192b"
          }
        },
        "2e952117404446ee888fd7cdc8673143": {
          "model_module": "@jupyter-widgets/controls",
          "model_name": "IntSliderModel",
          "state": {
            "_view_name": "IntSliderView",
            "style": "IPY_MODEL_c851217fb579466682a1829a967f04f5",
            "_dom_classes": [],
            "description": "initial_exposed",
            "step": 1,
            "_model_name": "IntSliderModel",
            "orientation": "horizontal",
            "max": 5000,
            "_view_module": "@jupyter-widgets/controls",
            "_model_module_version": "1.5.0",
            "value": 100,
            "_view_count": null,
            "disabled": false,
            "_view_module_version": "1.5.0",
            "min": 1,
            "continuous_update": false,
            "readout_format": "d",
            "description_tooltip": null,
            "readout": true,
            "_model_module": "@jupyter-widgets/controls",
            "layout": "IPY_MODEL_52fc1579237548f1a4cdc5b698ff1b74"
          }
        },
        "a9cf714b831e4bb7946c482dabf63605": {
          "model_module": "@jupyter-widgets/controls",
          "model_name": "FloatSliderModel",
          "state": {
            "_view_name": "FloatSliderView",
            "style": "IPY_MODEL_62689b8b436e4ad4b1781cd70666a55b",
            "_dom_classes": [],
            "description": "Beta",
            "step": 0.000001,
            "_model_name": "FloatSliderModel",
            "orientation": "horizontal",
            "max": 1,
            "_view_module": "@jupyter-widgets/controls",
            "_model_module_version": "1.5.0",
            "value": 0.61,
            "_view_count": null,
            "disabled": false,
            "_view_module_version": "1.5.0",
            "min": 0.11,
            "continuous_update": false,
            "readout_format": ".8f",
            "description_tooltip": null,
            "readout": true,
            "_model_module": "@jupyter-widgets/controls",
            "layout": "IPY_MODEL_330fc6f1147a45d78132a8b68a7d5649"
          }
        },
        "530a42934e0e4202b8de916006c663a6": {
          "model_module": "@jupyter-widgets/controls",
          "model_name": "IntSliderModel",
          "state": {
            "_view_name": "IntSliderView",
            "style": "IPY_MODEL_9417d85a67e44c12a646de1594131747",
            "_dom_classes": [],
            "description": "length of simmulation",
            "step": 1,
            "_model_name": "IntSliderModel",
            "orientation": "horizontal",
            "max": 200,
            "_view_module": "@jupyter-widgets/controls",
            "_model_module_version": "1.5.0",
            "value": 120,
            "_view_count": null,
            "disabled": false,
            "_view_module_version": "1.5.0",
            "min": 10,
            "continuous_update": false,
            "readout_format": "d",
            "description_tooltip": null,
            "readout": true,
            "_model_module": "@jupyter-widgets/controls",
            "layout": "IPY_MODEL_282dd65f60fb4f5eae95a066205af88b"
          }
        },
        "c2c018d89a2c4eaeab814dc41abac041": {
          "model_module": "@jupyter-widgets/controls",
          "model_name": "IntSliderModel",
          "state": {
            "_view_name": "IntSliderView",
            "style": "IPY_MODEL_2151c9947bfc405aa288f6fa91dd0938",
            "_dom_classes": [],
            "description": "Delay",
            "step": 1,
            "_model_name": "IntSliderModel",
            "orientation": "horizontal",
            "max": 50,
            "_view_module": "@jupyter-widgets/controls",
            "_model_module_version": "1.5.0",
            "value": 1,
            "_view_count": null,
            "disabled": false,
            "_view_module_version": "1.5.0",
            "min": 1,
            "continuous_update": false,
            "readout_format": "d",
            "description_tooltip": null,
            "readout": true,
            "_model_module": "@jupyter-widgets/controls",
            "layout": "IPY_MODEL_4e2048117e684443a235842893efd5ed"
          }
        },
        "eaba8ddd6ba649cda716d9a3d002c9af": {
          "model_module": "@jupyter-widgets/controls",
          "model_name": "IntSliderModel",
          "state": {
            "_view_name": "IntSliderView",
            "style": "IPY_MODEL_bdafa848af9b4bd3bd2b6149bd601bb4",
            "_dom_classes": [],
            "description": "normalization_factor",
            "step": 1,
            "_model_name": "IntSliderModel",
            "orientation": "horizontal",
            "max": 1000,
            "_view_module": "@jupyter-widgets/controls",
            "_model_module_version": "1.5.0",
            "value": 500,
            "_view_count": null,
            "disabled": false,
            "_view_module_version": "1.5.0",
            "min": 1,
            "continuous_update": false,
            "readout_format": "d",
            "description_tooltip": null,
            "readout": true,
            "_model_module": "@jupyter-widgets/controls",
            "layout": "IPY_MODEL_dc2b50205fab44ae8a0ab116a37ab9eb"
          }
        },
        "7832f64701264396a5e90c3f903f2616": {
          "model_module": "@jupyter-widgets/output",
          "model_name": "OutputModel",
          "state": {
            "_view_name": "OutputView",
            "msg_id": "",
            "_dom_classes": [],
            "_model_name": "OutputModel",
            "outputs": [
              {
                "output_type": "stream",
                "metadata": {
                  "tags": []
                },
                "text": "(20, 120)\n",
                "stream": "stdout"
              },
              {
                "output_type": "display_data",
                "metadata": {
                  "tags": [],
                  "needs_background": "light"
                },
                "image/png": "iVBORw0KGgoAAAANSUhEUgAABBUAAAGvCAYAAAAE6O2zAAAABHNCSVQICAgIfAhkiAAAAAlwSFlzAAALEgAACxIB0t1+/AAAADh0RVh0U29mdHdhcmUAbWF0cGxvdGxpYiB2ZXJzaW9uMy4yLjEsIGh0dHA6Ly9tYXRwbG90bGliLm9yZy+j8jraAAAgAElEQVR4nOzde3zO9f/H8cd7zGw25zlt7IBlTjkLJXPKL/qSQqEc5pAikpL0RXxLJJEQakiIVN9SDkVyPo2UwyrGnOcQydls798fm+u7MWyzubZ53m+367Zdn/f78/k8t5brc72u9+f9NtZaRERERERERERSy8XZAUREREREREQka1JRQURERERERETSREUFEREREREREUkTFRVEREREREREJE1UVBARERERERGRNFFRQURERERERETSREUFERERERG5q4wx/sYYa4zJ6ewsInJnVFQQEREREZE0McZEGWMaG2M6G2PWODuPiNx9KiqIiIiIiIiISJqoqCAiIiIiInciGPgIqGOMOWeM+RvAGNPcGPOLMeYfY8xBY8yw5HY2xrQxxmy5blt/Y8w3GZ5cRO6YigoiIiIiInInIoDngPXWWk9rbf6E7eeBZ4H8QHOglzGmVTL7fwsEGGOCE217Bvg0AzOLSDrJ8KKCMSbMGHPcGLMjhf3bGmN2GWN2GmPmZHQ+ERERERFJf9ban6212621cdba34C5wMPJ9LsMzAM6AhhjKgD+wHd3Ma6IpNHdGKkwA2iWko7GmLLAIKCetbYC0C8Dc4mIiIiISAYxxtQ2xqwwxpwwxpwhfjRD4Zt0nwm0N8YY4kcpzE8oNohIJpfhRQVr7SrgVOJtxpjSxpglxpgtxpjVxphyCU3dgYnW2tMJ+x7P6HwiIiIiInLHbDLb5hB/a0NJa20+4uddMMnubO0G4ArwENAemJVBOUUknTlrToWpQB9rbXVgADApYXsQEGSMWWuM2WCMSdEIBxERERERcapjgK8xJleibV7AKWvtJWNMLeKLBbfyKfAhEGOt1fKUIllEzrt9QmOMJ1AX+CJ+dBMAbonylAUaAL7AKmNMJWvt33c7p4iIiIiIpNhPwE4g2hgTZ60tDDwPvGeM+RBYCcwnftLGm5kFjEh4iEgWcdeLCsSPjvjbWlslmbZDwEZrbQywzxjzJ/FFhs13M6CIiIiIiNyetdY/0dPm17UtABbcZL8obrwV4gTxK0Z8ln4JRSSj3fXbH6y1/xBfMGgDYOLdn9D8X+JHKWCMKUz87RB773ZGERERERG563oBm621u50dRERSLsNHKhhj5hJfKChsjDkEDAU6AJONMW8ArsDnwK/AUqCpMWYXEAu8Yq39K6MzioiIiIiI8xhjoogfudDKyVFEJJWMtclN1CoiIiIiIiIicmu3vf3BGJPDGDPCGLPPGHMp4et/jDHOmI9BRERERERERDKJlBQGBgIvAJ2A7UBlYCZwmdvMzFq4cGHr7+9/hxFFRESyny1btpy01no7O8e9QNcjIiIiyUuP65GUFBXqAguttQsTnkcZY74Fat9uR39/f8LDw+8kn4iISLZkjNnv7Az3Cl2PiIiIJC89rkdSsvrDGiDEGFMu4aTlgYbAojs9uYiIiIiIiIhkXSkZqTAK8AJ2GWNiE/Z5y1o7KbnOxpgeQA+AUqVKpVdOEREREREREclkUjJSoR3wLNAeqJbw/fPGmNDkOltrp1pra1hra3h761ZRERERERERkewqJSMV3gXGWGs/T3i+3RjjBwwCPsmwZCIiIiIiIiKSqaVkpIIHEHvdttgU7isiIiIiIiIi2VRKRiosBF4zxuwDdgJVgf7Ap3d68n/++Yfjx48TExNzp4cSuStcXV0pUqQIefPmdXYUERFJJ7oeEWfJkycPvr6+uLjoszoRybpSUlToA4wAJgFFgKPANGD4nZz4n3/+4dixY/j4+ODu7o4x5k4OJ5LhrLVcvHiRw4cPA6iwICKSDeh6RJwlLi6Ow4cPc/LkSYoUKeLsOCIiaXbbsqi19qy1tp+11s9a626tDbTWvm6tvXQnJz5+/Dg+Pj54eHjoBVyyBGMMHh4e+Pj4cPz4cWfHERGRdKDrEXEWFxcXihYtypkzZ5wdRUTkjjhtrFVMTAzu7u7OOr1Imrm7u2uIrIhINqHrEXEmV1dXrl696uwYIiJ3xKk3cOkTAcmK9HcrIpK96N91cRb97YlIdqBZYUREREREREQkTVRUEBEREREREZE0UVEhk4uKisIYQ3h4eIYc3xjDggULMuTYIiIikj0MGzaMokWLYoxhxowZDBs2jIoVKzo7VhIVK1Zk2LBhqdpnzJgx+Pv7p2off39/xowZc9PnIiL3mpQsKSmJdO7cmZMnT/Ldd985O0qq3Cz30aNHKVCggJNSiYiISFodO3aMt99+m++++45Dhw5RuHBhKleuTJ8+fXj00UfT7Tw7duzgzTff5KuvvqJOnTrky5eP2NhY+vTpk27nyEo2b95Mnjx5nB1DRCTTUFHhHlesWDFnRxCRO2CtJc7GcTXuKrE2ljgbR2xc/NfkHpb4/tZaLNbx9dqxEm+z1iY9V6Jt1/a5Waabtt1iv8wsj2seAgoEODuGiENUVBT16tXDy8uLkSNHcv/99xMXF8fy5ct57rnnOHDgQLqda8+ePQC0atUqycSCnp6eN93nypUr5MqVK90yZCbe3t7OjiAi96Cdf+0kMF8g7jkz34pFKircgWuf/jdp0oTRo0dz4cIFWrVqxcSJE/Hw8ADiL67Hjh3LRx99xIEDB/D29uaZZ55h5MiRREVFERAQwObNm6lRo4bjuMYYvvjiC5588knHtj///JN+/foRHh6Ov78/H3zwAU2bNgUgNjaWHj168NNPPxEdHY2vry/du3dnwIABuLi4MGzYMGbOnOk4NsCKFSto0KDBDefavn07L730EmvXrsXd3Z1//etfjB8/nnz58qX4ZxaR/7l89TInLpzgxPkTnLp4itOXTnP64mnOXD7D2ctnOXvlLOeunON8zHkuxFzgQswFLsZc5NLVS1yOvcylq5eIiY3hSuwVrsReISYuhpjYGK7GXXUUEiTjhfiH8FOnn5wdQ8Th+eefByA8PDzJm/vg4GA6duzoeH7gwAH69u3LsmXLAGjSpAkffPABvr6+QPxtDQsWLOCNN95g8ODBHD9+nEaNGvHxxx9TuHBhhg0bxptvvgmAi0v8XbPWWsd+O3bsAP53ffDQQw8xYcIErly5wqZNmwgICGDu3LlMnjyZTZs2Ua5cOWbOnImLiws9evTg119/pWrVqsyaNYuAgP8V7hYuXMiwYcPYuXMnxYsXp3379gwdOtRRqDh+/Djdu3fnhx9+oEiRIgwdOjRFv7fRo0czduxYzp07R+vWrQkMDEzSvnnzZgYPHszWrVu5cuUKlStX5t1336VOnTqOPv7+/vTu3ZsBAwbccPyuXbty/PjxJCND4+Li8Pf3p1+/fvTv3z9FOUVEEjt35RzPL3ue2sVqM/rh0c6Oc4NMVVRYsmQJ0dHRd/WcxYoVo1mzZmnef/Xq1RQvXpxly5Zx8OBB2rZtS1BQEIMGDQLg9ddfZ/LkyYwdO5b69etz4sQJfvnll1Sf59VXX2Xs2LFUrlyZiRMn0rJlS/bs2YOPjw9xcXH4+Pgwf/58vL292bRpEz169KBQoUKEhoYyYMAAIiIiOHXqFLNmzQKgYMGCN5zj/PnzPPLII9SqVYtNmzZx6tQpunfvTteuXfnyyy9T/DOL3CustZy4cII9p/aw+6/dRJ6O5NA/hzj4z0EO/XOIo2ePcubymVseI49rHrzcvMjjmgcPVw88XD1wd3WnkEchcufMTa4cuXDL4UauHLlwdXElV45c5HTJiWsOV3KYHOR0yUlOl5zkcMlBDpODHC45cDEuuBgXcpj4740x5DA5MMbEP8dgjLnhK5BsW2KJt91qKbTr97v+GFmNt4c+mbyXvLlwJ7uO/HNXz1m+RF6GPlYhRX1PnTrFkiVL+M9//pPsaIH8+fMD8W9mW7Zsibu7OytWrACgd+/etGrVis2bNzv+X4yKimLevHl8/fXXnD9/nqeeeorBgwczZcoUBgwY4Piw4ujRo7fMtXLlSvLly8eSJUuSjFgaOnQo77//PoGBgfTq1Yunn36aIkWK8NZbb1GkSBE6derEiy++yMKFCwFYunQpHTp0YPz48dSvX58DBw7w3HPPcfnyZcfcBZ07d2b//v0sW7YMDw8PXnrpJaKiom6Zb/78+bzxxhtMmDCBkJAQvvjiC0aNGpXkmujs2bM888wzjB8/HmMMH374IY8++ih79uyhUKFCt/kvA927d+ehhx7i6NGjFC9eHIAff/yR6OhonnnmmdvuLyKSnLAdYZy6dIpOFTs5O0qyMlVRISvKmzcvH330ETly5CA4OJg2bdqwfPlyBg0axLlz53j//fcZN24cXbt2BaBMmTJJqt0p1atXL9q2bQvA+PHjWbp0KZMnT+Y///kPrq6uDB8+3NHX39+frVu3MnfuXEJDQ/H09MTd3R03N7db3u4wZ84czp8/z6xZs/Dy8gJg6tSphISEsGfPHsqUKXPbn1kku7LWsufUHtYdXMe26G38euxXfj32K6cunnL0cTEuFPcsjm9eXyp4V6BJYBOK5ClC0TxFKexRmILuBSngXoACuQuQL3c+8rjmIYdLDif+VCKSFe3ZswdrLcHBwbfst3z5cn777TciIyMdkxHOmTOHMmXKsHz5cho3bgzA1atXmTFjhmNUYo8ePZg+fToQf4vDtSLF7W6ZzJ07N2FhYbi5uQE43uT379/fMcfDyy+/zGOPPcaIESMICQkB4gsdvXv3dhznrbfe4pVXXqFLly4AlC5dmlGjRtGxY0feffdddu/ezeLFi1mzZg316tUDYObMmTeMOrjeuHHj6NSpEz179gRg8ODBrFixwnF7B0DDhg2T7DNhwgS+/PJLFi9enGQEyM3UqVPHMRrjtddeAyAsLIx//etfum1CRNIk+nw0n+76lOaBzalQKGXF57stUxUV7mTEgLOUL1+eHDn+96agRIkSbNy4EYBdu3Zx+fJlGjVqdMfnSVyIcHFxoXbt2uzatcux7aOPPuLjjz9m//79XLx4kZiYGPz8/FJ1joiICCpXruwoKADUrVsXFxcXdu3a5Sgq3OpnFslODpw5wMI/FrIiagVrDqzh2PljALjndKdS0Uo8EfwEFbwrULZQWcoULIN/fn9y5cie9xCL3EtSOmLAWW41b0liERERlChRIsnqBoGBgZQoUYJdu3Y5igp+fn6OggLEv64fP3481bkqVqzoKCgkVrlyZcf3RYsWBaBSpUpJtp0/f54LFy7g4eHBli1b2LRpE6NGjXL0iYuL4+LFi0RHRxMREYGLiwu1atVytPv5+VGiRIlb5ouIiKBbt25JttWpUydJUeH48eP8+9//ZsWKFRw7dozY2FguXryYqjkqunfvzqRJk3jttdc4deoU33zzDV9//XWK9xcRSWzCLxOw1vJi1RedHeWmMlVRIStydXVN8twYQ1xcXIr2TXxv4jUxMTGpzjBv3jz69evHmDFjqFu3Lnnz5mXixInp+gKWeLjynfzMIpndn3/9yWe/fca3f3zLr8d+BcA/vz9NSzflwVIPUq9kPcoVLqcRBiLiNGXLlsUYQ0REBI8//niajpERr+s3WxEh8fGvnTe5bdfOGRcXx9ChQ2nTps0Nx0r8aX9G3ErVqVMnjh07xvvvv4+/vz9ubm40atSIK1eupPgYzzzzDAMHDmTNmjX88ssveHt788gjj6R7VhHJ/n4/9TsLIxfSuUJnSnjeunDqTCoqZKDg4GDc3NxYvnw5ZcuWvaH92gtj4nsUt23bluyxNmzY4BiSZ61l06ZNjskV16xZQ+3atZMMHYyMjEyyf65cuYiNvfWEbsHBwYSFhXH27FnHaIV169YRFxd32yGWIlnZhZgLfLnrSz7+5WNW7V+Fi3GhXsl6vNvkXR4Leoz7Ct/n7IgiIg4FCxbkkUce4cMPP+TFF1+8YV6Fv//+m/z58xMcHMyRI0eIiopyjFbYu3cvR44coXz58k5InjLVqlXj999/d4yQvF65cuWIi4tj06ZN1K1bF4ifkPLIkSO3PG5wcDAbNmxw3JIK8ddXia1Zs4YPPviA5s2bA/HLdt5uLonrFSxYkNatWxMWFsYvv/xCp06dHB8kiYiklLWW98LfI69bXrpV7nb7HZxIRYUM5OXlRd++fRk0aBBubm7Ur1+fv/76iy1bttCrVy/c3d154IEHGDVqFKVLl+bMmTM3nZdg8uTJBAUFUalSJSZNmsT+/fvp1asXAEFBQcyYMYPFixdTpkwZPv/8c1auXEmBAgUc+/v7+7N48WL++OMPChUqRL58+W74ZKJDhw4MHTqUZ599luHDh3P69Gl69uxJ69atb/rCLpKVnbtyjkmbJ/Huunc5eeEkZQqWYWSjkXS6vxPFvYo7O56IyE1NnDiRevXqUaNGDUaMGEHlypWx1rJixQpGjhzJgQMHaNy4MZUrV3ZMegjQp08fqlWrdsPcAZnJkCFDaNGiBX5+frRt25acOXOyY8cONm3axOjRo7nvvvto1qwZPXv2ZOrUqbi7u9O/f3/c3W+9zFrfvn159tlnqVmzJg0aNGDBggVs3LgxyUSNQUFBfPbZZ9SuXZvz58/z6quvpmlpzO7du9OsWTNiYmKSTHYtIpJSa4+sZcPRDQysOZC8ufI6O84tqWyawUaOHMnAgQMZMWIEwcHBPPHEExw6dMjRHhYWBkDNmjXp2bMn//nPf5I9zjvvvMPYsWO5//77WbJkCV9//bVjOaiePXvStm1b2rdvT82aNYmKiuLll19Osn/37t0JDg6mRo0aeHt7s3bt2hvO4eHhwdKlS/nnn3+oVasWLVu2pE6dOo6MItnFpauXGLVmFAHjAxi4bCDVi1fnp2d/4s/ef/Lag6+poCAimV5gYCBbt26lSZMmDBw4kMqVK9OwYUO+/fZbpk6dCsTfHvDNN9/g7e1NSEgIISEhFCtWjP/+97+ZehWWRx55hO+//54VK1ZQq1YtatWqxTvvvEOpUqUcfWbMmEFAQAANGzbkscceo3379knmjkhOu3btGDZsGIMHD6Zq1aps3779hiUew8LCOHfuHNWrV+epp56ia9eutz1ucho0aICvry8NGjS47QSSIiLXs9Yy4ZcJ+Hj60O6+ds6Oc1smpZP9pEWNGjVseHh4sm0REREaUi9Zlv5+s64V+1bQ87ue7D61m2ZlmjH04aE84PuAs2PJPcgYs8VaW8PZOe4Fuh6Ru+3ixYv4+PgwYcIEOnTocMu++hsUkeutPLiS3j/1Znjd4TxeNm1z56RUelyP6PYHEbknnLp4ild+eIWwbWEEFgjkx2d+pHFgY2fHEhGRbCQuLo6TJ08yfvx43N3dHcuBi4iklLWWSb9OwtfTlxalWzg7ToqoqCAi2d6WI1t4fN7jHDl7hIH1BjLk4SF4uHo4O5aIiGQzBw4cICAgAF9fX6ZPn37D/FUiIrez8tBKdv21i+F1h+PqkjX+DdGcCiKSrc3+bTYPTn8QgA3dNvBO43dUUBBJYIypb4z51hhz2BhjjTGdE7W5GmNGGWN+M8acN8YcNcbMMcaUuu4YbsaYCcaYkwn9vjXG+F7Xp5QxZmFC+0ljzAfGmFzX9XnYGLPFGHPJGLPXGPNcMnmfN8bsS+izxRjzUDr/SkTuiL+/P9ZaDh48SNOmTZ0dR0SyGGstk7ZlrVEKoKKCiGRTsXGxvPLDK3T8uiO1fGoR3iOcGiV0+7rIdTyBHUBf4OJ1bR5ANeCthK8tgZLAEmNM4pGO44AngKeBh4C8wHfGmBwACV+/B7wS2p8GngTeu3YAY0wAsAhYB1QFRgITjDFPJOrTDhgPvJ3QZx2w+Poih4iISFa18tBKIk5F0KNyjywzSgF0+4OIZENxNo7uC7szfdt0etXoxfhm43HNkXX+YRa5W6y1i4h/M48xZsZ1bWeAJom3GWN6AjuBYGC7MSYfEAp0sdb+mNDnGWA/0BhYCjQFKgB+1tqDCX1eBT42xgy21v4DPAccsdb2SThVhDGmNjAAuLYeX39ghrV2WsLzPsaYZkAvIPn1mEVERLKIa6MUSnqV5LHSjzk7TqpopIKIZCvWWp7//nmmb5vOkPpDmNR8kgoKIunn2kLZpxO+VgdcgR+udUgoHEQAdRM21QEirhUUEiwF3BL2v9bnB5JaCtRIuA0jV0Lf6/v8kOg8IiIiWVbEqQgiTkXQpWIXcrpkrc/+VVQQkWzDWkvfJX2ZsmUKr9V7jWENhjk7kki2kfDG/j1gobX2UMLmYkAscPK67scS2q71OXZd+8mE/W7V5xjxIyoLJzxy3KRPMZJhjOlhjAk3xoSfOHHi1j+ciIiIk204ugGAkJIhTk6SeioqiEi2MfinwUzYNIH+D/Tn7UZvY4xxdiSRbCFhDoXPgPxAFyfHSRFr7VRrbQ1rbQ1vb29nxxEREbmlDUc2UCZ/GQq7F3Z2lFRTUUFEsoUFuxYwcs1IulfrzpimY1RQEEknCQWFuUBloJG19q9EzdHEjyC4/gqoaELbtT5Fr2u/NvLgVn2KAleJH9VwbWRDcn2iERERycIux15m6/GtPFD8AWdHSRMVFTLQsGHDqFix4k2fJ6d37940aNAgg5OJZC9/nPyDrt90pbZPbT589EMVFETSiTHGFZhHfEEhxFp7/Rv4LUAMiSZ0TFhOMpj41RkA1gPB1y0z2QS4nLD/tT5JJoVMeB5urY2x1l5J6Jtcn3WIQ4sWLejcuXOGnkPXKiIi6Wvb8W1cjr1MnRJ1nB0lTVRUSKXOnTtjjCE0NPSGtoEDB2KMoUWL+DVFBwwYwMqVK+92RJF7yvkr53li/hO45XTjizZfkCtHLmdHEskyjDGexpgqxpgqxF8TlEp4XiphhMIXwAPELwNpjTHFEh7u4Fgh4hNgtDGmsTGmKjAL+A1YlnCaH4hfMeJTY0xVY0xj4F1gWsLKDwAfAT7GmHHGmGBjTDegMzAmUdyxQGdjTLeEPuOBEgn7ioiIZFkbjm4gp8lJ9aLVb985E1JRIQ1KlizJ/PnzOX/+vGPb1atX+fTTTylV6n/LZXt6elKoUCFnRBS5J1hr6fFdD3ad2MXcJ+ZSMl9JZ0cSyWpqAL8kPNyBNxO+Hw74Ai2Jf+O+BTia6NEu0TH6AV8TP6JhLXAOeMxaGwuQ8LU5cCGhfR7xy0QOuHYAa+0+4FGgPrANGAy8aK39MlGfeQnneiOhz4PAo9ba/en1yxAREXGGDUc2UNm7Mnlc8zg7SpqoqJAGlStXpmzZssyfP9+x7fvvvyd37txJhgPe7naH2NhYBgwYQIECBShQoAD9+vUjNjY2I6OLZCtzd8xlzvY5DA8ZTuPAxs6OI5LlWGt/ttaaZB6drbVRN2kz1toZiY5x2Vrbx1pbyFrrYa197LrlI7HWHrDWtkhoL2StfdFae/m6PiuttdWstW7W2gBr7Q0jEKy1k6y1/gl9qltrV2XYLycLuHDhAp07d8bT05OiRYvy9ttvJ2m/cuUKAwcOxNfXFw8PD2rWrMnSpUsd7bGxsYSGhhIQEIC7uztly5Zl9OjRxMXFJemjaxURkYxz5vIZdv61M8vOpwDxSzVlHlv6weltd/ecBapA9XGp3i00NJSwsDC6dImfBPva93v37k3xMd577z2mTZvGtGnTqFy5MhMnTmT27NlUq1Yt1XlE7jWnL57mpaUvUcunFoMeHOTsOCKSnSx+DaK3391zFqsE//dOqnYZMGAAP/74I19++SU+Pj68+eabrFq1itatWwPQpUsXIiMjmTNnDr6+vixatIjHHnuMzZs3c//99xMXF4ePjw/z58/H29ubTZs20aNHDwoVKuS4zVPXKiIiGWtT9CYslgdKZN2igkYqpFH79u0JDw9n9+7dREdHs2TJklRPjDRu3DheffVV2rZtS7ly5Rg/fjzFiiW73LaIXGfQ8kGcvHCSj5p/RA6XHM6OIyJyV507d45PPvmE0aNH88gjj1CxYkWmT5+Oi0v8pV1kZCRz585l/vz51K9fn8DAQHr37s2jjz7KlClTAHB1dWX48OHUrFkTf39/2rZty3PPPcfcuXMd59G1iohIxtpwZAMeOT2oWPjWE/pnZplrpEIaRgw4S4ECBXj88ccJCwsjf/78NGjQIMl8Crdz5swZjh49Sp06/5vh08XFhdq1a3Pw4MFb7Cki6w+uZ8qWKbz0wEtULV7V2XFEJLtJ5YgBZ4iMjOTKlStJriM8PT2pVKkSAFu3bsVaS/ny5ZPsd/nyZRo2bOh4/tFHH/Hxxx+zf/9+Ll68SExMDH5+foCuVURE7oYNRzdQs1hNXF1cnR0lzTJXUSGL6dq1K506dcLT05Phw4c7O47IPSEmNobnvn8O37y+vNngTWfHERHJlOLi4jDGsHnzZlxdk16ouru7AzBv3jz69evHmDFjqFu3Lnnz5mXixIl8/fXXzogsInLPOXzuMAfOHuDpck87O8od0e0Pd6BRo0bkypWLkydP0qpVq1Ttmy9fPooXL86GDRsc26y1bNq0Kb1jimQrH2z8gN+O/cYHzT7Ay83L2XFERJyidOnSuLq6JrmOOH/+PDt27ACgatWqWGuJjo6mTJkySR4+Pj4ArFmzhtq1a9O7d2+qVatGmTJliIyMdBxP1yoiIhlr49GNAFl6kkZIwUgFY0wU4JdM0yJrbfN0T5SFGGP47bffsNbi5uaW6v379u3LyJEjCQoKolKlSkyaNImjR49SvHjxDEgrkvWduXSGt1a/xf+V+T9alUtdIU9EJDvx9PQkNDSUgQMH4u3tTYkSJRg+fLhjZYagoCA6dOhA586dee+996hWrRqnTp3i559/JjAwkNatWxMUFMSMGTNYvHgxZcqU4fPPP2flypUUKFDAcR5dq4iIZJy1h9dS2L0wpfOXdnaUO5KS2x9qAolnQStO/HrV85Pvfm/x8kr7J6Uvv/wy0dHRdOvWDYBnnnmGDh06EBERkV7xRLKVCZsmcPrSaUaEjMAY4+w4IiJONWbMGM6fP8/jjz+Oh4cHffr04fz584726dOn86e9xocAACAASURBVNZbb/Hqq69y6NAhChYsSK1atQgJCQGgZ8+ebNu2jfbt22Ot5YknnuDll18mLCzMcQxdq4iIZIwj547w04GfaFeuXZa/rjXW2tTtYMxg4BWguLX24q361qhRw4aHhyfbFhERQXBwcKrOLZJZ6O/37jtz6QwB4wN4yO8hvnnqG2fHEbljxpgt1toazs5xL9D1iGRm+hsUuTe9vfFtvvjjCxY/sZhieZy3qk56XI+kak4FE19CCQU+u11BQUQkPX2w8QNOXzrN0IeHOjuKiIiIiEia/XXxL77a/RWPlX7MqQWF9JLaiRqbAAHAtJt1MMb0MMaEG2PCT5w4cUfhREQgfpTC2A1jaXlfS6oVr+bsOCIiIiIiafZZxGdcib1C14pdnR0lXaS2qNAd2Gyt/fVmHay1U621Nay1Nby9ve8snYgIMH7jeP6+9LdGKYiIiIhIlvbPlX/4/PfPaeLXBP98/s6Oky5SXFQwxhQBWnKLUQoiIuntzKUzvL/hfVqVa0XV4lWdHUdEREREJM3m/T6PczHn6Fapm7OjpJvUjFToDFwG5mZMFBGRG838dSZ/X/qbNx56w9lRRERERETS7OLVi3wW8RkP+jxIcKHsM0FriooKCRM0dgM+t9aey9hIIiLxrLVMDp9MbZ/aVC9R3dlxRERERETS7Pu933Pq0ilCK4Y6O0q6SulIhQZAWXTrg4jcRT9H/czvJ3+nV41ezo4iIiIiInJHvtnzDYH5AqleNHt9WJaiooK1doW11lhrN2V0IBGRayaHT6ZA7gK0rdDW2VFERERERNJs/z/72XZiGy3LtCT+RoDsI7WrP4iI3BVHzx7l69+/pmvVrri7ujs7joiIiIhImn2z5xtcjAstAls4O0q6U1FBRDKlj7d+zNW4q/Ss3tPZUUREJBMaM2YM/v7+zo4hInJbcTaOhXsXUqdEHYp4FHF2nHSnokIanDhxgueffx5/f3/c3NwoWrQojRo14scff3R2NJFs4WrcVaZsmUKTwCaULVTW2XFERERERNJsU/Qmos9H07J0S2dHyRA5nR0gK3riiSe4cOECn3zyCWXKlOH48eOsXLmSv/76y2mZ4uLisNaSI0cOp2UQSS/f/fkdh88e5sNHP3R2FBGRLOHKlSvkypXL2TFSLavmFhFJjW/3fIuXqxchJUOcHSVDaKRCKv3999+sXr2ad955h0aNGuHn50fNmjUZMGAATz31FBD/Ajlw4EB8fX3x8PCgZs2aLF26FIh/81+yZEkmTJiQ5Lh//vknxhi2bt0KwJkzZ+jRowdFihTBy8uLhx9+mPDwcEf/GTNm4OnpyaJFi6hYsSK5cuUiIiLilucWySqmbZ2Gj5cPLYKy3z1nIiLpoUGDBvTq1YsBAwbg7e1NvXr12LVrF82bN8fLy4siRYrw9NNPEx0dnWS/mTNnUqlSJcdIy06dOjnaDhw4wOOPP46XlxdeXl60bt2aQ4cOAf+7Ttm+fXuS402dOpXChQsTExMDcNsMnTt3pkWLFowaNQpfX198fX0BOHz4ME899RQFChSgQIECNG/enN27dyc51+jRoylWrBienp48++yznDunVc5FJPM7H3OeZQeW8UjAI+TOmdvZcTJE5hqp0K8fbNt2d89ZpQqMG5fi7p6ennh6evLtt9/y4IMPkjv3jX8YXbp0ITIykjlz5uDr68uiRYt47LHH2Lx5M/fffz9PP/00s2fPpk+fPo59Zs+eTXBwMNWqVcNaS/PmzcmXLx/fffcdBQsWZObMmTRs2JA//viD4sWLA3Dp0iVGjBjBlClT8Pb2pnjx4rc9t0hm99eFv/gh8gf6P9CfnC6Z658oEbk3jNo0it9P/X5Xz1muYDkG1hqYqn0+++wzevTowerVqzl9+jT169cnNDSUMWPGEBMTw+DBg2nZsiXr16/HxcWFKVOm0LdvX95++22aN2/OuXPn+Omnn4D4Dz1atmyJu7s7K1asAKB37960atWKzZs3ExQURM2aNZk9ezbvvPOOI8Ps2bNp27Ytrq6uHD169LYZAFauXEm+fPlYsmQJ1louXLhASEgIdevWZeXKleTKlYsxY8bQuHFjIiIi8PDwYP78+bzxxhtMmDCBkJAQvvjiC0aNGkXBggXT6b+AiEjG+CHqBy5evZhtb32AzFZUyAJy5szJjBkz6N69O1OnTqVq1arUq1ePNm3aULt2bSIjI5k7dy5RUVGUKlUKiH9RXrZsGVOmTGHSpEl07NiRd999l8jISEqXLg3AnDlz6NKlCwArVqxg27ZtnDhxAnf3+FnvR4wYwcKFC5k1axavvvoqALGxsXz44YdUrx6/zmlKzi2S2X0V8RVX467yVMWnnB1FRCRTCwgI4L333gNgyJAh3H///YwaNcrR/umnn1KwYEHCw8OpVasWI0aMoF+/fvTv39/R59o1xPLly/ntt9+IjIx0TH44Z84cypQpw/Lly2ncuDEdO3bkvffeY+TIkRhjOHDgAKtXr2bkyJEATJ48+bYZAHLnzk1YWBhubm4AhIWFYa1l+vTpjmXWpkyZQpEiRfjuu+9o27Yt48aNo1OnTvTsGT957+DBg1mxYgV79uzJiF+tiEi6+TbyW/zy+nG/d/b9gDdzFRVSMWLAmZ544gmaN2/O6tWrWb9+PUuWLOG9997jrbfeomzZslhrKV++fJJ9Ll++TMOGDQGoXLkylSpVYvbs2QwZMoSNGzcSGRlJhw4dANiyZQsXLlzA29s7yTEuXbpEZGSk43nOnDmpUqWK4/nWrVtve26RzO7znZ8TVCiIKsWq3L6ziEgGSO2IAWe5VhCA+GuHVatW4enpeUO/a4WCw4cP06hRo2SPFRERQYkSJZKsphAYGEiJEiXYtWsXjRs35qmnnuLll19m9erV1K9fn7lz5xIQEEDdunVTlOFaUaFixYqOgsK1/fbt24eXl1eSfS5cuOC47omIiKBbt25J2uvUqaOigohkatuObyP8WDgvVX/JUTTNjjJXUSELyZ07N02aNKFJkyYMGTKEbt26MWzYMGbNmoUxhs2bN+Pq6ppkn2ujDgA6duzIJ598wpAhQ5g9ezYPPvggfn5+QPwQxKJFi7J69eobzps3b17H925ubkkmZoyLi0vRuUUyq6Nnj7Ji3wr+Xf/f2fofXhGR9JAnTx7H93FxcTRv3pwxY8bc0K9o0aJcvHgxzee59u9xkSJFaNKkCbNnz6Z+/frMnj3b8YFISjIkl/vaflWqVOHzzz+/YT/d3iAiWZW1lve3vE9h98I8dV/2HoGrokI6KV++PFevXiU4OBhrLdHR0YSE3Hx2z/bt2zNo0CA2bNjAvHnzGDFihKOtWrVqHDt2DBcXFwIDA1OcoWrVqik6t0hmtWDXAiyWdhXbOTuKiEiWUq1aNebPn4+fn98NHywAeHl54ePjw/Lly2nSpMkN7cHBwRw5coSoqCjHaIW9e/dy5MiRJCMgO3bsSO/evenRowfbt29nwYIFKc5wq+xz586lcOHC5M+fP9k+wcHBbNiwga5duzq2bdiwIcXnEBG521YfXs3W41t5o/YbeLh6ODtOhtLqD6n0119/0bBhQz777DN+++039u3bxxdffMHo0aNp1KgRlStXpkOHDnTu3JkFCxawd+9ewsPDGTNmDF999ZXjOL6+vjz88MM899xznDlzhjZt2jjaGjduTL169WjZsiWLFy9m3759rF+/nqFDhyY7euGaoKCgFJ1bJLP6fOfnVC5amfLe5W/fWUREHF544QXOnDlDu3bt2LhxI3v37mXZsmX06NGDs2fPAvHzEIwbN47333+fP//8k23btjnmZGjcuLHjGiY8PJzw8HA6dOhAtWrVktxC2apVK2JiYggNDaVmzZoEBQWlKkNyOnToQNGiRWnZsiUrV65k3759rFq1ipdfftmxAkTfvn2ZOXMm06ZNY/fu3YwcOZKNGzdmxK9SROSOxdk4xm8dT0mvkrQOau3sOBlORYVU8vT05IEHHmD8+PE8/PDDVKhQgddff5327dszb948AKZPn06XLl149dVXKVeuHC1atGDVqlWO2xuu6dixI7/++iuPPvooBQoUcGw3xrBo0SIaNmxI9+7due+++2jbti1//PEHJUqUuGW+lJ5bJLPZ//d+1h1cx1MVsvfwMBGRjFCiRAnWrl2Li4sLzZo1o0KFCrzwwgu4ubk55i/o1asXEydOZNq0aVSsWJFmzZqxc+dOIP7a45tvvsHb25uQkBBCQkIoVqwY//3vf5Pcjubh4cHjjz/Or7/+SseOHVOdITkeHh6sWrWKwMBA2rRpQ7ly5ejUqROnT592XB+1a9eOYcOGMXjwYKpWrcr27duTTDgpIpKZLNq3iD9P/0nvKr1xdUn5yK2sylhrM+zgNWrUsOHh4cm2RUREEBwcnGHnFslI+vtNf++ufZdXl71K5IuRBBZI+W0/IlmVMWaLtbaGs3PcC3Q9IpmZ/gZFspeY2Bge++9jeOXyYl6LebiYzP05fnpcj2Tun1BE7hmf7/ycWj61VFAQERERkSxr5q6ZHD53mL7V+mb6gkJ6uTd+ShHJ1Pac2sPWo1tpV0ETNIqIiIhI1rQwciHjt46niV8T6pWo5+w4d42KCiLidN/9+R0Aj5d73MlJRERERERS7+eDP/Pvtf+mVrFajHxo5D21PLqKCiLidN/v/p7gwsEEFAhwdhQRERERkVTZHL2Zl39+meCCwXzQ8APcctx8ctrsSEUFEXGqc1fOsTJqJc3LNnd2FBG5R8XFxTk7gtyjMnLCdBG5Ow7+c5A+P/WhpFdJJjeeTB7XPM6OdNepqCAiTrVs7zJi4mJ4tOyjzo4iIvegPHnycPjwYa5cuaI3eHJXWWv566+/yJ07t7OjiEgaWWt5e9PbWGuZ3Hgy+XPnd3Ykp8jp7AAicm/7/s/vyeuWlwdLPejsKCJyD/L19eXkyZPs37+fq1evOjuO3GNy586Nr6+vs2OISBr9dOAn1hxewys1XqG4Z3Fnx3EaFRVExGmstSzas4impZvimsPV2XFE5B7k4uJCkSJFKFKkiLOjiIhIFnIh5gLvbH6HsgXK0j64vbPjOJWKCiLiNNuit3Hk7BHNpyAiIiIiWcrU36YSfT6aUQ+NIqfLvf22WnMqZBFRUVEYYwgPD0/2uUhW9P3u7wH4vzL/5+QkIiIiIiIps/fMXmbumsm/Sv+LakWrOTuO06mokAr/+te/aNSoUbJtERERGGP44Ycf7vg8DRo0oHfv3km2lSxZkqNHj1KlSpU0H7dz5860aNHiTuOJpJtFuxdRs0RNinoWdXYUEREREZEUeT/8fdxzutO/en9nR8kUVFRIhdDQUFasWEFUVNQNbZ988gl+fn40btw4Q86dI0cOihUrRs6czh9ac+XKFWdHkGzg5IWTbDi0Qbc+iIiIiEiW8felv1l9eDVtg9pSyL2Qs+NkCioqpELz5s0pWrQo06dPT7I9JiaGWbNm0bVrV37//XeaN2+Ol5cXRYoU4emnnyY6OtrR99pogfHjx+Pj40OBAgXo0qULFy5ccLSvXLmSiRMnYozBGENUVNRtb3eIjY0lNDSUgIAA3N3dKVu2LKNHj3asvT1s2DBmzpzJ999/7zjuzz//DMD27dtp3Lgx7u7uFCxYkM6dO3PmzJkbMo8aNQpfX1/NUizpYsmeJVgszYNUVBARERGRrGHFwRXE2lia+DdxdpRMw/kfe1+vQYMbt7VtC88/DxcuwKPJrGXfuXP84+RJePLJG9t79YJ27eDgQXjmmaRtCW+sUyJnzpx06tSJGTNmMHToUFxc4msyCxcu5OTJk3Tp0oWqVasSGhrKmDFjiImJYfDgwbRs2ZL169c7+q9evZrixYuzbNkyDh48SNu2bQkKCmLQoEGMHz+eP//8k3LlyvH2228D4O3tzcGDB2+ZLS4uDh8fH+bPn4+3tzebNm2iR48eFCpUiNDQUAYMGEBERASnTp1i1qxZABQsWJDz58/zyCOPUKtWLTZt2sSpU6fo3r07Xbt25csvv3Qcf+XKleTLl48lS5ZoHW9JF4v3LKZIniJUK6770EREREQka1h2YBk+nj6UL1je2VEyjcxXVMjkQkNDGTVqFMuWLaNp06ZA/K0PTZs2Zdq0adx///2MGjXK0f/TTz+lYMGChIeHU6tWLQDy5s3LRx99RI4cOQgODqZNmzYsX76cQYMGkS9fPnLlyoWHhwfFihVLcS5XV1eGDx/ueO7v78/WrVuZO3cuoaGheHp64u7ujpubW5Ljzpw5k/PnzzNr1iy8vLwAmDp1KiEhIezZs4cyZcoA8esoh4WF4ebmlvZfnkgCay0/7fuJxoGNcTEaMCUiIiIimd/ZK2dZd2QdHcp1wBjj7DiZRuYrKtxq5ICHx63bCxe+dXvJkqkamZCcsmXL8vDDDxMWFkbTpk05cuQIS5cu5fPPP2f69OmsWrUKT0/PG/aLjIx0FBXKly9Pjhw5HG0lSpRg48aNd5QL4KOPPuLjjz9m//79XLx4kZiYGPz8/G65T0REBJUrV3YUFADq1q2Li4sLu3btchQVKlasqIKCpJs//vqD6HPRhPiHODuKiIiIiEiKrDy0kqtxV2nslzHz6GVV+ogwDUJDQ/nvf//LqVOnmDFjBgULFqRly5bExcXRvHlztm3bluSxe/fuJKsuuLq6JjmeMcYx90FazZs3j379+tG5c2eWLl3Ktm3beP755+9oUsXE1bc8efLcUT6RxH7a9xOAigoiTmaMqW+M+dYYc9gYY40xna9rN8aYYcaYI8aYi8aYn40xFa7rU8AYM8sYcybhMcsYk/+6PpWMMSsTjnHYGDPEXPcRjzHmCWPMLmPM5YSvj6c2i4iISEb6MepHingUobJ3ZWdHyVRUVEiDJ598kty5c/PZZ58RFhbGs88+i6urK9WqVWPnzp34+flRpkyZJI/EIwFuJ1euXMTGxqYq05o1a6hduza9e/emWrVqlClThsjIyNseNzg4mO3bt3P27FnHtnXr1hEXF0dwcHCqMoik1IqoFZTMW5LAAoHOjiJyr/MEdgB9gYvJtL8KvAz0AWoCx4EfjTGJX9TmANWAZgmPasCsa43GmLzAj8CxhGP0BV4B+ifqUweYB8wGqiR8/cIYUzuVWURERDLEhZgLrD2ylsaldPvu9fTbSAN3d3fat2/PsGHDiIyMJDQ0FIAXXniBM2fO0K5dOzZu3MjevXtZtmwZPXr0SPKm/Xb8/f3ZtGkTUVFRnDx5MkWjGIKCgti6dSuLFy9m9+7djBgxgpUrV95w3B07dvDHH39w8uRJYmJi6NChAx4eHjz77LNs376dVatW0bNnT1q3bu249UEkPcXZOH6O+pmQgBDdiybiZNbaRdba1621C4AkLzYJIwn6Ae9Ya7+01u4AOgFeQPuEPsHEFxJ6WGvXW2vXAz2BFsaY+xIO1QHwADpZa3cknGsU0D/RaIV+wApr7VvW2ghr7VvAzwnbU5RFREQkI60+vJrLsZd160MyVFRIo27dunH69Gnq1q3r+ES/RIkSrF27FhcXF5o1a0aFChV44YUXcHNzS9V8BAMGDCBXrlyUL18eb29vDhw4cNt9evbsSdu2bWnfvj01a9YkKiqKl19+OUmf7t27ExwcTI0aNfD29mbt2rV4eHiwdOlS/vnnH2rVqkXLli2pU6cOYWFhqfuFiKTQzuM7OXnhpG59EMn8AoBiwA/XNlhrLwKrgLoJm+oA54B1ifZbC5y/rs/qhH2vWQqUAPwT9fmBpJYmOkZKsiRhjOlhjAk3xoSfOHHiNj+qiIjIrf24/0cK5i5ItSJauex6JiOXB6xRo4YNDw9Pti0iIkLD6yXL0t9v2n2w8QP6LulLVN8o/PLfeiJRkezMGLPFWlvD2TmuMcacA3pba2ckPK9LfIHAz1p7IFG/MMDHWvuIMeZ1oJu1NvC6Y+0FpllrRxpjfgAOWWu7JmovBewH6lpr1xtjriQc59NEfZ5NOIZbSrLc6me71fWIiIjI7Vy6eon68+rTIrAFQ+oMcXacdJUe1yMpGqlgjClujJlpjDlhjLmUMIHSw3dyYhG5N62IWkFA/gAVFEREREQkS1h9eDUXr16kiV8TZ0fJlG5bVEiYwXktYIDmQDDxkyQdz9hoIpLdxNk4Vkat1K0PIllDdMLXotdtL5qoLRrwTrySQ8L3Ra7rk9wxSEGf6Ov63aqPiIhIurPWMmPnDHw8fahZrKaz42RKKRmp8Cpw1Fr7rLV2k7V2n7V2ubU2IqPDiUj28mv0r5y+dJqQABUVRLKAfcS/YXd8LGOMyQ08xP/mUFhP/AoSdRLtVwfIc12fhxL2vaYJcASIStTn+o9/miQ6RkqyiIiIpLvwY+H8duI3ulToQk6XnM6OkymlpKjQCthojJlnjDlujNlmjOl9/frSIiK3syJqBYBGKohkEsYYT2NMFWNMFeKvCUolPC9l4yddGgcMNMa0NsZUBGYQPzHjHICEDxiWAFOMMXUSloacAnxnrf0j4TRzgAvADGNMRWNMa+A1YKz938RO44GGxpjXjDHljDGDgJCE85OSLCIiIhlh2m/TKJS7EK3KtnJ2lEwrJUWFQOB5YC/wCPEv/O8ALyTXWbMti8jN/LTvJ8oWLItPXh9nRxGReDWAXxIe7sCbCd8PT2gfDbwPTATCgeJAU2tt4nWS2wO/Er9aw9KE75+51mitPUP8CIMSCceYCLwHjE3UZx3wFNAZ+A14Fmhnrd2Y6DwpySIiIpJudp7cyfqj63m2wrO45Uj5an73mpSM33ABwq21gxKe/2KMKUt8UeHD6ztba6cCUyF+tuX0CioiWdvVuKus2r+Kpys+7ewoIpLAWvsz8XMm3azdAsMSHjfrcxroeJvzbAfq36bPAmDBnWQRERFJTx9v/xivXF60DWrr7CiZWkpGKhwFdl23LQIolf5xRCS7+jX6V85eOUsD/wbOjiIiIiIickuRf0ey7MAy2pdrj2cuT2fHydRSUlRYC9x33bYg4teXFhFJkXUH4+dSe7DUg05OIiIiIiJya2E7wnDP6U6H4A7OjpLppaSo8D7wgDFmsDGmjDGmDfAi8fc0ioikyLpD6/Dx8qFkvpLOjiIiIiIiclPHzh9j0d5FPFH2CQrkLuDsOJnebYsK1trNxK8A0RbYAbwF/BuYlLHRJKuoWLEiw4YNc3YMyeTWHVxH3ZJ1nR1DREREROSW5v0xj1gbq1EKKZSSkQpYa7+31t5vrc1trQ2y1n6QaBmoe0rnzp0xxmCMIWfOnJQqVYpevXpx+vRpZ0cTybQO/3OYA2cOqKggIiIiIpna5djLLPhzAQ1KNsDXy9fZcbKEFBUVJKnGjRtz9OhRoqKi+Pjjj1m4cCHPP/+8s2PdkStXrjg7gmRj6w+tB1BRQUREREQytUV7F3H68mk6Bt9yYSNJREWFNHBzc6NYsWL4+vrStGlT2rVrxw8//OBonz59OuXLlyd37twEBQXx/vvvExcX52g/c+YMvXr1onjx4uTOnZvg4GDmzZvnaP/qq6+oVKkSbm5ulCxZkrfeeotrA0Nef/11qlevfkOmunXr8uKLL6Y4gzGGiRMn0rp1a/LkycPrr78OwMKFC6levTq5c+cmICCAwYMHJyk4HD9+nJYtW+Lu7o6fnx9hYWHp8BuV7G7dwXXkzpmbKsWqODuKiIiIiEiyrLXM+X0OZfKXoWaxms6Ok2XkdHaAxPot6ce26G139ZxVilVhXLNxad5/7969LFmyBFdXVwCmTZvGkCFDmDBhAtWrV2fHjh10794dV1dXevfujbWWRx99lNOnTzN9+nSCgoL4448/uHTpEgBbtmyhTZs2vPHGG3To0IHNmzfTs2dP8ubNS58+fejYsSMjR47k999/p1y5co4M69evZ9y4cSnKcM2bb77J22+/zZgxYzDGsHTpUjp06MD48eOpX78+Bw4c4LnnnuPy5cuMGTMGiL/9Y//+/SxbtgwPDw9eeukloqKi0vz7k3vDuoPrqFmiJrly5HJ2FBERERGRZG09vpXfT/3O0DpDMcY4O06WkamKClnFkiVL8PT0JDY21lEMGDt2LAAjRoxg9OjRPPnkkwAEBATw2muvMWnSJHr37s2yZctYv349O3fuJDg4GIDAwEDHsceOHcvDDz/Mm2++CUBQUBC7d+9m1KhR9OnTh/Lly1O1alVmz57NiBEjAJgzZw5BQUHUqlUrRRmuadeuHd26dXM879SpE6+88gpdunQBoHTp0owaNYqOHTvy7rvvsnv3bhYvXsyaNWuoV68eADNnzkySX+R6F2MusvXoVvrX6e/sKCIiIiIiNzU7Yjb53PLRPLC5s6NkKZmqqHAnIwbupvr16zN16lQuXrzItGnTiIyM5MUXX+TEiRMcPHiQnj170qtXL0f/q1evOm5f+OWXXyhevLijoHC9iIgI/p+9+w6Pqsr/OP4+KSSUhJoQSOgdQm+LAgtY0FV3BWyLCFjA/lOBtawugq6irIqoYEdcwO5aVlAEFJHeQwsgoacROoGQNuf3x0yySQgmgSR3knxezzNPZu49997PhOiT+ebc77nmmtw/xL1792bixImcPHmS4OBghg0bxrRp07KLCnPmzOHWW92dSQuTIUu3bt1yvV63bh2rV6/mxRdfzN7mcrlISUkhISGB6OhofHx8sosXAI0aNaJ+/fqF/t5JxbMufh3prnT1UxARERERrxWfHM+i/YsY2W4klf0qOx2nTPGqokJZUaVKFZo3bw7Aa6+9Rv/+/Xn22WezP8S/9dZbXHJJ8X+AypqC89e//pVHH32UFStWEBAQwPbt2xk2zN1IJKtvQmEyVK1aNddrl8vF008/zY033njO2JCQkHNyiBTGigPuJo29Ino5nEREREREJH9f/PYFALe0usXhJGWPigrF4Omnn+bqq69m9OjR1K9fn5iYGIYPH57v2M6dOxMfA6AvdgAAIABJREFUH090dHS+sxXatGnDsmXLcm1bunQpERERBAUFAVCvXj0GDBjAnDlzCAgIoFevXtm3INStW7fADOfTpUsXtm/fnl0wyat169a4XC5Wr16dXbDYv38/cXFxRbqOVCzLDy6nRa0WhFQNKXiwiIiIiIgDNidtplXNVtSrVs/pKGWOigrFoF+/frRt25Z//vOfTJw4kQcffJAaNWrwpz/9ifT0dNavX09sbCxPPPEEl112GT179mTIkCFMmTKFli1bsmvXLk6fPs3111/P2LFj6d69OxMmTGDo0KGsWbOGl19+meeffz7XNYcNG8bYsWOpVKkSTz75ZK59BWU4n/Hjx3PttdfSqFEjbrrpJvz8/NiyZQurV69m8uTJtGrViquuuoq7776bd955h8qVKzNmzBgqV9b0IMmftZblB5ZzVfOrnI4iIiIiInJeMSdi6BnW0+kYZZKWlCwmY8eO5f333+eKK65gxowZzJo1i44dO9KnTx/eeecdmjRpAoCPjw/ff/89l156KcOGDaNNmzY89NBD2cs2dunShc8//5wvv/ySyMhIHn/8cR5//PFcDRYBBg8ezJkzZ0hKSuLmm2/Ote+uu+763QznM3DgQObOncvPP/9Mjx496NGjBy+88AINGzbMHjNz5kyaNGnCgAEDuO666xg6dCiNGzcuhu+glEe7j+3m0OlDXBKhfgoiIiIi4p2S05I5dOYQTWuoAf2FMHmb9xWnbt262bVr1+a773zT/0XKAv38Fs6sqFkM/3o4m+7ZRPu67Z2OI+JVjDHrrLXdCh4pF+v3fh8RERHZlLSJW+fdytT+UxnQcIDTcUpVcfw+opkKIlJilh9YTnBAMG1D2jodRUREREQkXzHHYwBoVqOZw0nKJhUVRKTErIlbQ/f63fH18XU6ioiIiIhIvnaf2I2/jz/h1cKdjlImqaggIiUiNSOVTYmb6F6/u9NRRERERETOa/eJ3TSu3hg/H61jcCFUVBCREhGVGEW6K51u9XXLuIiIiIh4r5jjMTSrrlsfLpSKCiJSItbErgGge7hmKoiIiIiId0rJSCEuOU4rP1wEFRVEpESsiVtDaNVQGgQ3cDqKiIiIiEi+9p7Yi8XStLqKChdKRQURKRFZTRqNMU5HERERERHJV8wJz8oPuv3hgqmoICLFLjktmeikaDVpFBERERGvtvv4bnyNL42CGzkdpcxSUUFEit36+PVYrJo0ioiIiIhX231iNw2CGuDv6+90lDJLRYUy5oEHHqBfv35OxxD5XWrSKCIiIiJlQczxGJrV0K0PF0NFhSIaOXIkxhiMMfj7+xMaGkr//v2ZNm0a6enpTscT8Qpr4tbQsHpDQquGOh1FRERERCRfaZlpHDh1QE0aL5KKChfg8ssvJz4+nr179/Ljjz9y3XXX8fTTT9OnTx9Onz7tdDwRx2U1aRQRERER8Vb7Tu4j02ZqpsJFUlHhAgQEBBAWFkZ4eDidOnVizJgxLF68mPXr1zN58mQA0tLSeOyxx4iIiKBKlSp0796d+fPnZ58jMzOTO++8kyZNmlC5cmVatGjB5MmTcblcucaMGzeOmjVrUrNmTR5++GEyMzNL/f2KFMXRlKPsPrZb/RRERERExKvtPrEbQDMVLpKf0wFyevjhh9m4cWOpXrNTp068+uqrF32eyMhIrrrqKr788ksmTpzI7bffTkxMDB999BERERHMmzeP6667jjVr1tCxY0dcLhfh4eF89tlnhISEsHr1akaPHk3t2rW58847AXj55Zd59913effdd+nQoQPTpk1jzpw5dOnS5aLzipSUtXFrATRTQURERES82u7juzEYGldv7HSUMs2rigplXdu2bVm4cCExMTF8/PHH7N27l4YNGwLuBosLFy7k7bffZvr06fj7+/PMM89kH9u4cWPWr1/Pxx9/nF1UePXVV3n00Ue56aabAJg6dWqu2Q4i3iirSWPX+l0dTiIiIiIicn4xJ2IIrxZOZb/KTkcp07yqqFAcMwacZK3FGMP69eux1tK2bdtc+1NTUxkwYED267feeov33nuPffv2kZKSQnp6Oo0auddHPXHiBPHx8fTq1St7vI+PDz179uTAgQOl84ZELsCauDW0rN2SGoE1nI4iIiIiInJeu0/spmkN3fpwsbyqqFDWbdu2jaZNm+JyuTDGsGbNGvz9c693Wrmyuwr26aef8vDDD/PSSy9xySWXEBwczLRp0/jqq6+ciC5SbNbEraF/4/5OxxAREREROa8MVwZ7T+yld/3eTkcp81RUKCZbtmzhhx9+4KmnnqJz585Ya0lISKB///w/XC1dupSePXvywAMPZG+LiYnJfl69enXq1avHypUrs2c3WGtZvXo19erVK9k3I3KB4k/FE3cqTk0aRURERMSr7Tu5j3RXumYqFAMVFS5AamoqCQkJuFwukpKSWLRoEc8//zxdu3Zl3LhxVK1alVtvvZWRI0fy8ssv06VLF44ePcrixYtp2rQpgwcPpmXLlsycOZPvv/+e5s2b88knn/DLL79Qs2bN7Os89NBDTJo0iZYtW9K+fXumT59OfHy8igritdbHrwegaz31UxARERER7zVz60z8ffzpGdbT6ShlnooKF2DhwoXUq1cPX19fatSoQWRkJBMmTGD06NFUqlQJgA8++IDnnnuORx99lIMHD1KrVi169OiRPXPh7rvvZuPGjQwdOhRrLUOGDGHs2LHMmDEj+zpjx44lISGBu+66C4DbbruNW2+9lejo6NJ/0yKFsCFhAwAdwzo6nEREREREJH87ju7gm13fMKLdCOpV0x9sL5ax1pbYybt162bXrl2b777o6GjatGlTYtcWKUn6+c3f4E8Hs+XQFnY+uNPpKCJezxizzlqre4VKwe/9PiIiIhWLtZbRC0YTfTSauYPmUj2gutORHFUcv4/4FFcYEZENCRvoXK+z0zFERERERPK1LG4ZK+NXck+Heyp8QaG4qKggIsXiaMpR9h7fS5ewLk5HERERERE5R4Yrg5fXvkzDoIbc3Opmp+OUGyoqiEix2JiwEUAzFURERETEK32z6xt2Hd/FI10fwd/X3+k45UaBRQVjzARjjM3zSCiNcCJSdmyIdzdp7BymooKIiIiIeJfV8auZvGYyXUK7cFnDy5yOU64UdvWHHUC/HK8ziz+KiJRl6xPWExEcQUjVEKejiIiIiIhk+3n/z4z7ZRwNgxvy0h9fwhjjdKRypbBFhQxrrWYniMh5bYjfoFkKIiIiIuJVvtv9HU8tfYq2tdvy5uVvqjljCShsT4Wmxpg4Y8weY8wnxpimJZpKRMqU02mn2XFkB13qqUmjiIiIiHiH7/d8z99//Tvd6nbj3SvfVUGhhBSmqLAKGAlcBYwCwoDlxpja+Q02xow2xqw1xqxNSkoqtqAi4r02JW7CZV2aqSAiIiIiXmH3id08vfxpOod2Ztrl06jqX9XpSOVWgUUFa+331trPrLWbrLULgWs9x404z/h3rLXdrLXdQkJ0b7VIRbAhwdOkUSs/iJQrxhhfY8yznpmKZz1f/2mM8csxxniaOscZY1KMMYuNMe3ynKemMWaWMeaE5zHLGFMjz5j2xphfPOeINcaMN3luejXGDDHGbDPGpHq+DirZ74CIiJRFKRkpjF08lkDfQCb3nUyAb4DTkcq1Ii8paa1NBrYCLYo/jlx77bWMHDky+3W/fv144IEHnAtUyqpVq8bMmTOL7XwzZ86kWrVq532dn5deeonGjRsXW4aKYH38empXrk2D4AZORxGR4vUYcD/wf0Br4CHP6ydyjHkUGAs8CHQHDgELjDFBOcZ8BHTBPevxKs/zWVk7jTHBwAIg0XOOh4C/AWNyjOkFfArMATp5vn5ujOlZbO9WRETKhRdXv8iu47uY1GcSdavWdTpOuVfkooIxJhD3LxbxxR/H+53vQ35hPqxeiP/85z9MmjSp2M9bVk2YMAFjDJdddu4yMG+++SbGGCIjI7O33Xzzzezevbs0I1ZIGxI20LleZ3XSFSl/LgH+a639r7V2r7X2W+BboCe4ZykADwMvWGu/tNZuwT2TMQgY6hnTBnchYbS1doW1dgVwN3CtMaaV5zq3AlWAEdbaLdbaL4AXgTE5Zis8DPxsrX3OWhttrX0OWOzZLiIiAsB/Y/7Ll799yaj2o7g0/FKn41QIBRYVjDEvGWP+aIxp4vlrwBdAVeDDEk9XWCnxsOCPkFL+FqioVasWQUFBBQ+sQMLCwli6dCl79+7Ntf3999+nYcOGubZVrlyZ0NDQUkxX8aRlprHl0Ba6hKlJo0g5tBTob4xpDWCMaQsMAOZ59jfB3Wvpx6wDrLUpwBLcBQmAXkAysDzHeZcBp/OM+dVzbJb5QH2gcY4xP5Lb/BznyEU9nkREKp5dx3bx7Mpn6RLahfs63ed0nAqjMDMVIoCPgR3Af4BU4A/W2n0lGaxINj8LSUth8zNOJ8k2cuRIrr32WqZOnUp4eDg1a9bk9ttv58yZM9ljzpw5w8iRI6lWrRp169bl+eefP+c8eWdGzJ49m+7duxMUFERoaCg33ngjsbGxuY6ZO3curVq1IjAwkL59+/LJJ59gjMn+EJ41q2LRokVERkZStWpV+vfvz549e3Kd5+2336Z58+ZUqlSJ5s2b8+67756zv2XLlgQGBlKnTh0GDhxIRkZG9v4PPviAtm3bEhgYSMuWLZkyZQoulyt7/65du+jXrx+BgYG0atWK7777rlDf29q1a3PNNdfwwQcfZG/btGkT27dv54Ybbsg1tjAzSCZPnkxYWBjVqlVj+PDhJCcnFyqHuG1L2kZaZpr6KYiUTy/ivk1hmzEmHfftjx9aa6d79od5vibmOS4xx74wIMlaa7N2ep4fyjMmv3NQiDFh5EM9nkREKpZTaad4ePHDVPGrwr/++C/8fPwKPkiKRYHfaWvtLaURBIB1D8OxjYUff+hX4H8fUtn1pvuBD4T2Kdw5anaCrq8WJWWh/frrr9SrV4+FCxdy4MABbrrpJlq2bMkTT7hvRR03bhwLFizgyy+/JDw8nIkTJ7JkyRIGDx583nOmpaUxceJEWrduzeHDh3nsscf461//ypIlSwDYv38/gwcP5v777+fuu+9m8+bNjBkz5pzzpKamMmnSJGbMmEFgYCAjRozgnnvuYf78+QB89dVXPPDAA0yZMoUrr7yS+fPnc9999xEWFsZ1113H2rVruf/++/nwww/p3bs3x48f56effso+/7vvvsv48eN5/fXX6dq1K1u2bGHUqFH4+/vzwAMP4HK5GDRoEDVr1mTFihWcOXOGhx56iNTU1EJ9b++8807uv/9+nn76aXx8fHj//fe56aabijyr47PPPuOpp57i9ddfp3///nz++ee8+OKL1KpVq0jnqcg2xLubNGo5SZFy6WZgOO5bGbbi7mUw1Rizx1r7vqPJREREPFzWxZNLn+TgqYO8d+V7hFbRTOXSVLbLN7V7QPJuSD2Mu7jgAwF1oFozp5MBEBwczFtvvYWvry9t2rThxhtvZNGiRTzxxBMkJyfz/vvvM2PGDAYOHAi4/7IfERHxu+e84447sp83bdqUN998kzZt2nDw4EEiIiJ48803adq0Ka+88goArVq1YufOnTz55JO5zpORkcG0adNo1cp9O+u4ceO44447sNZijOGll17itttuy54l0bJlS9atW8eLL77Iddddx/79+6latSp//vOfCQoKolGjRnTs2DH7/M8++yyTJ0/OnjnQpEkTHn/8caZPn84DDzzAwoUL2bZtG3v27Mm+ZeHVV1+lT5/CFYOuuuoq0tPTWbRoEX379mX27Nl88803LFy4sFDHZ3n11VcZMWIEd999NwBPPvkkP//8M7t27SrSeSqyDQkbqFapGs1rNXc6iogUv38BL1lrP/G83myMaYS7UeP7QNZ9h3WB/TmOq5tjXwIQYowxWbMVPH0SQvOMydtJq26Ofb83pvzd+ygiIkUyY8sMfj7wM492f5RuYd2cjlPheFdR4UJmDKy+F3a9Az6B4EqDBkOgx/SCjysFbdu2xdfXN/t1/fr1WbVqFQAxMTGkpaXRq1ev7P3VqlWjffv2v3vO9evXM3HiRDZu3MjRo0fJmk26f/9+IiIi2L59O927d891TM+e5zbGDggIyC4oZGVLS0vj2LFj1KpVi+jo6FwFDIDevXvz7bffAnDFFVfQqFEjmjRpwsCBA7nyyisZPHgwQUFBJCUlceDAAe6++27uvffe7OMzMjKy80ZHRxMeHp6rB0LPnj3x8Slc71BfX19GjBjBjBkzOHr0KCEhIfTu3bvIRYXo6GjuuuuuXNt69eqlokIRbEzYSIe6HfAxRe77KiLerwqQmWdbJv+7fXIP7g/1VwBrILuhcx/cqzcArACq4e6JkNVXoRfu/kzLc4x50RgTaK0969l2BRAH7M0x5grchQ5yjMnZq0FERCqYFXEreH3D61zd+GqGtRnmdJwKybuKChfibCK0uAeaj3YXF1JKdlGK4OBgTpw4cc7248ePU7169Vzb/P39c702xuTqKVBUp0+fZuDAgVx++eXMmjWL0NBQDh8+TJ8+fUhLSyvSufz8cv/TZzXXLihf1rigoCDWr1/PkiVLWLBgAZMmTeLvf/87a9asyS6kvPXWW1xySb79s4rF7bffTocOHdi7dy+33357iV1Hzs9aS1RiFLe2v9XpKCJSMv4LPG6M2YP79ofOuJd5/De4eyMYY14F/m6M2Q7sBJ7C3ZjxI8+YaGPMD8DbxpjRnvO+DXxnrd3hef0R8DQw0xjzT6Al8DgwMUcvhqnAEmPM48DXwCCgP9C7xN69iIh4tdTMVCaumEjj4MZMuGSCViJzSNn/02Lf/0D3aVCzo/tr3/+U6OVatWrF+vXrydFvCnDPIMj5l/+CNGvWDH9/f1auXJm97fTp02zZsuW8x2zfvp3Dhw/z/PPP07dvX1q3bs2hQ4dyjWndujVr167NtW316tWFzpWlTZs2LFu2LNe2pUuX0rZt2+zXfn5+DBgwgEmTJrFp0yZOnz7Nd999R926dalfvz4xMTE0b978nEfW+WNjYzlw4ECunEUpurRo0YIePXqwdu1aRowYUeT3mJUj578BcM5rOb+9x/dyMvUkncI6OR1FRErGg7hXfZoORAMvA+8COe+pmwxMAaYBa4F6wJXW2lM5xgwFonCv1jDf8/y2rJ3W2hO4Zx3U95xjmudar+QYsxy4BRgJbMLd6+Fma+2q4nqzIiJStszeNpvY5Fie6PkEVfyrOB2nwir7MxVK2b333ssbb7zBgw8+yKhRowgMDGTevHl8/PHH2bcGFEa1atW48847eeyxxwgJCaF+/fo888wzZGbmnWX6Pw0bNiQgIIA33niD+++/n+joaP7xj3/kGnPPPffwyiuvMG7cOEaNGsXWrVt5++23AYpUufvb3/7GjTfeSNeuXbnyyiv54YcfmDNnDv/5j7to89133xETE0Pfvn2pVasWP//8M6dOnaJNmzYATJw4kQcffJAaNWrwpz/9ifT0dNavX09sbCxPPPEEl19+Oa1bt2b48OFMmTKFlJQUHnnkkXNmUBTk+++/JzU1lZo1axbpuCwPPfQQw4cPp3v37vTr148vvviCVatWqVFjIUUlRgHQsW7HAkaKSFnkKQw87Hmcb4wFJnge5xtzDPjdOanW2s1A3wLGfIG7yCEiIhXc4ZTDvLv5XfpF9OMP9f7gdJwKrezPVChlTZs2ZcmSJfz2229ceeWV9OjRg08++YTPP/+cq6++ukjneumll+jfvz+DBg2if//+REZG0rfv+X+fCgkJ4cMPP+Trr7+mbdu2TJw4MbshY5ZGjRrx5Zdf8u2339KxY0emTJnC008/DUBgYGChs11//fW8/vrrTJkyhbZt2zJ16lSmT5/OddddB0CNGjX4+uuvs4sDL730Eu+99152o8W77rqLGTNmMGvWLDp27EifPn145513aNKkCQA+Pj589dVXuFwuevbsyfDhw3nqqacICAgo0vewSpUqF1xQALj55puZMGECTz75JJ07dz7vahmSv40JGzEYIkMjnY4iIiIiIhXIGxveIDUjlbHdxjodpcIzeafxF6du3brZvFPxs0RHR2f/VVtK1tSpUxk/fjzHjx/XfUbFRD+/boM+HUR0UjTbH9judBSRMscYs85aqxbVpeD3fh8REZGyZ8fRHdz03U0MbT2Ux3o85nScMq04fh/R7Q/l0LRp0+jevTshISGsXLmSZ599lpEjR6qgIMUuKiGK7uHdCx4oIiIiIlIMrLX8a+2/qOZfjXs63uN0HEFFhXJp165dPP/88xw5coSIiAjuuecexo8f73QsKWdOnD3BnuN7GNVllNNRRERERKSC2HBoA6viV/F4j8epHlC94AOkxKmoUA5NmTKFKVOmOB1DyrlNiZsA6BimJo0iIiIiUjp+OfgLfsaP65tf73QU8VCjRhG5IBsTNgJa+UFERERESs+y2GV0Cu1EVf+qTkcRD0eLCi6Xy8nLi1wQ/dy6RSVGUadKHeoH1Xc6ioiIiIhUAIdTDrPj2A4uDb/U6SiSg2NFhapVqxIbG0taWholuQKFSHGx1pKWlkZsbCxVq6oyGpUYRce6HdUAVERERERKxfK45QBcUv8Sh5NITo71VIiIiODw4cPs27ePjIwMp2KIFImfnx/Vq1enTp06TkdxVIYrg82Jm7m/+/1ORxERERGRCmJZ7DJqBdaida3WTkeRHBwrKvj4+BAaGkpoaKhTEUTkAu08spPUzFQ6hXVyOoqIiIiIVAAu62JF3AouDb8UH6PWgN5E/xoiUmRRCVGAVn4QERERkdIRfTSaY6nHdOuDF1JRQUSKbGPCRvx9/GldR1PPRERERKTkLYtdBqifgjdSUUFEiiwqMYp2oe2o5FvJ6SgiIiIiUgEsi11Gm1ptqF25ttNRJA8VFUSkyDYmbKRjXd36ICIiIiIlLzktmU1JmzRLwUupqCAiRZKYnEji6UQVFURERESkVKxKWEWGzeDS8EudjiL5UFFBRIokKlFNGkVERESk9CyPXU4Vvyp0CtHKY95IRQURKZJNiZsA6FC3g8NJRERERKS8S8lI4acDP9GjXg/8ff2djiP5UFFBRIokKjGK+kH1qVOljtNRRERERKSc+3DrhxxOOczIdiOdjiLnoaKCiBTJpsRN6qcgIiIiIiXu0JlDzNgygysaXUHXul2djiPnoaKCiBRaWmYa0UnRKiqIiIiISIl7bf1rZLgyeKTrI05Hkd+hooKIFFp0UjTprnT1UxARERGRErXtyDa+jfmWYW2G0SCogdNx5HeoqCAihZbVpFErP4iIiIhISbHWMnnNZGoE1GBUh1FOx5ECqKggIoUWlRhFgG8ALWu3dDqKiIiIiJRTP+3/iXWJ67i/0/0EVQpyOo4UQEUFESm0TYmbaBfaDj8fP6ejiIiIiEg5lJ6ZzsvrXqZZ9WYMaTnE6ThSCCoqiEihRSVGqUmjiIiIiJSYj7Z/xIFTBxjXfZz+kFVGqKggIoWSkJzAodOH1KRRRERERErEsbPHeDvqbS6tfym9w3s7HUcKSUUFESmU7CaNmqkgIiIiIiXgrai3OJ1xmnHdxjkdRYpARQURKZSohCgAzVQQERERkWK3+8RuPt3xKTe0uIHmNZs7HUeKQEUFESmUTYc2ER4UTu0qtZ2OIiIiIiLlzJS1U6jsV5n7Ot3ndBQpoiIXFYwxTxhjrDHmjZIIJCLeKSohio5huvVBRERERIrXN7u+YfHBxYzqMIralfUHrLKmSEUFY8wfgNHAppKJIyLeKDUjlejD0XQI1a0PIiIiIlJ8dhzdwbMrn6VHWA+Gtx3udBy5AIUuKhhjqgNzgDuAYyWWSES8zvbD28lwZWimgoiIiIgUm1NppxizeAzBlYJ5se+LWkKyjCrKTIV3gC+stT+XVBgR8U5Rie4mjVr5QURERESKg7WW8cvGE5scy7/++C/qVK7jdCS5QIUqBRljRgHNgWGFGDsa9y0SNGzY8KLCiYh3iEqIIsA3gBa1WzgdRURERETKgX9v+zcL9y9kXLdxdK3b1ek4chEKnKlgjGkFPA8MtdamFzTeWvuOtbabtbZbSEhIcWQUEYdFJUYRGRqpKWkiIiIictG2Ht7Kq+te5bKGl6mPQjlQmNsfegF1gK3GmAxjTAbwR+A+z+uAEk0oIo6y1hKVGKVbH0RERETkop1OP82jSx6lduXaTLxkIsYYpyPJRSrMnx2/Btbm2fYB8BvuGQxpxR1KRLxHQnICh88cVpNGEREREbloz696ngOnDjBj4AyqB1R3Oo4UgwKLCtba48DxnNuMMaeBo9baLSUVTES8g5o0ioiIiEhxmLd7Ht/GfMvoDqPpFtbN6ThSTIqy+oOIVEBRCe6iQoe6HRxOIiIiIiJlVXxyPM+ufJaOIR25t+O9TseRYnRBXdestf2KOYeIeKmoxCgaVm9Izco1nY4iIiIiImXU25veJjUzlRf6vKDm3+WMZiqIyO9Sk0YRERERuRixybF8s+sbbmh5AxFBEU7HkWKmooKInNfZjLPsOLxDRQURERERuWDvbnoXYwx3RN7hdBQpASoqiMh5bT20lUybqZUfREREROSCZM1SGNJiCGFVw5yOIyVARQUROa+slR/UpFFERERELsR7m9/DGMOd7e90OoqUEBUVROS8ohKiqOJfhWY1mzkdRUQcYoypZ4z50BiTZIw5a4zZZoz5Y479xhgzwRgTZ4xJMcYsNsa0y3OOmsaYWcaYE57HLGNMjTxj2htjfvGcI9YYM94YY/KMGeK5fqrn66CSffciInIx4pLj+Pq3rxncYrBmKZRjKiqIyHlFJUbRPrQ9vj6+TkcREQd4PvgvAwxwDdAGeBA4lGPYo8BYz/bunn0LjDFBOcZ8BHQBrvI8ugCzclwnGFgAJHrO8RDwN2BMjjG9gE/U+7puAAAgAElEQVSBOUAnz9fPjTE9i+0Ni4hIsXpv83tg4K72dzkdRUqQ1vIQkXxZa4lKjOKmtjc5HUVEnPMoEG+tHZ5j256sJ56ZBA8DL1hrv/RsG4G7sDAUeNsY0wZ3IaG3tXaFZ8zdwK/GmFbW2h3ArUAVYIS1NgXYYoxpDYwxxrxirbWe6/xsrX3Oc/nnjDH9Pdv/WlLfABERuTBJZ5L4atdXDGo+SLMUyjnNVBCRfB04eYDjZ4+rSaNIxXY9sMoY86kx5pAxZqMx5oEctyU0AcKAH7MO8BQFlgCXeDb1ApKB5TnOuww4nWfMr55js8wH6gONc4z5kdzm5ziHiIh4kY+3f0ymK5OR7UY6HUVKmIoKIpKvqAR3k0YtJylSoTUF7gN2AwOBqcALwP2e/Vl/ekrMc1xijn1hQJJntgEAnueH8ozJ7xwUYky+f/4yxow2xqw1xqxNSko63/sTEZESkJKRwmc7P6N/g/40DG7odBwpYSoqiEi+tPKDiOD+PWG9tfYJa+0Ga+0HwGv8r6jgtay171hru1lru4WEhDgdR0SkQvl217ecSD3B8HbDCx4sZZ6KCiKSr6jEKJrWbEpQQFDBg0WkvIoHtuXZFg1k/dkpwfO1bp4xdXPsSwBCcq7k4HkemmdMfuegEGMSEBERr+GyLmZFz6Jd7XZ0Ce3idBwpBSoqiEi+ohKidOuDiCwDWuXZ1hLY53m+B/eH+iuydhpjAoE+/K+HwgqgGu6eCFl6AVXzjOnjOTbLFUAcsDfHmCvI7Qpy92oQERGHLTm4hH0n9zGi3QjyrAws5ZSKCiJyjtNpp9l1dJeKCiIyBfiDMeZJY0xzY8yNwP8B0yC7N8KrwGPGmMHGmEhgJu7GjB95xkQDP+BeCaKXZ2nIt4HvPCs/4Bl7BphpjIk0xgwGHgdeydGLYSowwBjzuDGmtTHmCaC/5/oiIuIlPtz6IWFVw7i80eVOR5FSoqKCiJxjU+ImLJZOYZ2cjiIiDrLWrsG9AsRNwBbgOeAfwPQcwybjLj5MA9YC9YArrbWncowZCkThXq1hvuf5bTmucwL3rIP6nnNMA14GXskxZjlwCzAS2AQMB2621q4qrvcrIiIXZ+uRraxNXMuwNsPw9/F3Oo6UEj+nA4iI99mYsBFARQURwVo7F5j7O/stMMHzON+YY8CwAq6zGehbwJgvgC9+b4yIiDhn9rbZVPGrwuAWg52OIqVIMxVE5BwbEjZQM7AmDatrCSARERERKdjhlMP8sPcHBrUYRFAlNfquSFRUEJFzbEzYSKewTmquIyIiIiKF8vmOz8lwZfDX1n91OoqUMhUVRCSXDFcGmw9tpnNYZ6ejiIiIiEgZkJ6Zzqc7PqVPeB8aBTdyOo6UMhUVRCSXHYd3cDbjrPopiIiIiEih/LD3B46cPcKtbW51Ooo4QEUFEcklq0lj53qaqSAiIiIiv89ay5zoOTQObkyv+r2cjiMOUFFBRHLZmLCRAN8AWtVu5XQUEREREfFymw5vYuuRrdza5lZ8jD5eVkT6VxeRXDYkbCAyNBJ/X60tLCIiIiK/b070HKr5V+PPzf7sdBRxiIoKIpLNWsvGhI1q0igiIiIiBUo8nciCvQsY1GIQVfyrOB1HHKKigohkO3jyIEdSjqhJo4iIiIgU6JMdn+DCpWUkKzgVFUQkm5o0ioiIiEhhnEk/w2c7PmNAgwE0CGrgdBxxkIoKIpJtY8JGDIb2oe2djiIiIiIiXuzbmG85mXaS4e2GOx1FHKaigohk25Cwgea1mhMUEOR0FBERERHxUi7rYnb0bCJrR9IpRLfNVnQqKohIto0JG3Xrg4iIiIj8riUHl7Dv5D6GtxuOMcbpOOIwFRVEBIDjZ4+z5/geOtVVtVlEREREzm/WtlmEVQ3j8kaXOx1FvICKCiICQFRCFKAmjSIiIiJyftFHolmdsJqhrYfi7+PvdBzxAioqiAjwv5UftJykiIiIiJzPrG2zqOxXmSEthzgdRbyEigoiAsD6hPXUrVqXsGphTkcRERERES908NRB5u2Zx5AWQwiuFOx0HPESKiqICADr4tbRtX5Xp2OIiIiIiJf6YMsHGGMY2W6k01HEi6ioICKcTjtN9OFoutZTUUFEREREzpV0Jomvdn3FX5r9hbpV6zodR7xIgUUFY8z9xphNxpiTnscKY8w1pRFOREpHVGIULutSUUFERERE8vXh1g/JtJncGXmn01HEyxRmpsJB4DGgC9AN+An42hjToSSDiUjpWRe3DkC3P4iIiIjIOY6fPc5nOz/j6iZX0yC4gdNxxMv4FTTAWvtNnk1PGmPuBXoBm0oklYiUqnXx6witGkp4ULjTUURERETEy8yOnk1KRgp3Rd7ldBTxQgUWFXIyxvgCNwLVgOUlkkhESt26+HV0rdcVY4zTUURERETEiySnJfPR9o+4rOFlNK/Z3Ok44oUK1ajRGNPeGJMMpAJvAYOstZvPM3a0MWatMWZtUlJSMUYVkZJwJv0M25K2qZ+CiIiIiJzjtQ2vcSrtFKPaj3I6inipwq7+sAPoBPQE3gQ+NMZE5jfQWvuOtbabtbZbSEhIMcUUkZISleBp0qh+CiIiIiKSw5KDS/h4+8cMazOMdnXaOR1HvFShbn+w1qYBuzwv1xljugOPAGr9KVLGrYv3NGnUTAURERER8Ticcpinlj5Fq5qteKTrI07HES9W2JkK+R0XUJxBRMQZ6+LXEVIlhIjgCKejiIiIiIgXcFkXTy59kjMZZ3ix74tU8q3kdCTxYgXOVDDGvADMBQ4AQcBQoB9wTYkmE5FSsS5uHV3rq0mjiIiIiLjN3jab5XHL+ccf/kGzGs2cjiNerjC3P4QBsz1fT+BeRvJqa+38kgwmIiUvJT2FbUnb+HOrPzsdRURERES8wL6T+5i6fir9GvTjxpY3Oh1HyoACiwrW2pGlkENEHBCVGEWmzVQ/BRERERHBWstzK5+jkm8lxv9hvGaySqFcaE8FESkH1sV5mjRq5QcRERGRCm/+3vmsiF/BA50fIKSKVvKTwlFRQaQCWxe/jjpV6tAguIHTUURERETEQclpyUxeM5k2tdpwS6tbnI4jZUihlpQUkfJpXfw6utZTk0YRERGRiu6NjW9wOOUwrw14DV8fX6fjSBmimQoiFVRKegpbD21VPwURERGRCi76SDQfb/+Ym1rdRGSdSKfjSBmjooJIBbUhYQOZNpMe4T2cjiIiIiIiDnFZF/9c9U9qBNTgwc4POh1HyiAVFUQqqFUHVwGoqCAiIiJSgX0b8y2bkjYxpusYqgdUdzqOlEEqKohUUKtiV9EguAH1guo5HUVEREREHHAy7SRT1k2hY0hHrmt2ndNxpIxSo0aRCmp17Gp6RvR0OoaIiIiIOOTNjW9y7Owx3rz8TXyM/t4sF0Y/OSIVUNLpJPYc30PPcBUVRERERCqincd28vH2j7mx5Y20rd3W6ThShqmoIFIBrYpVPwURERGRispay6RVk6hWqZqaM8pFU1FBpAJadXAVvsZXy0mKiIiIVEA/H/iZtYlr+b/O/0eNwBpOx5EyTkUFkQpoddxqIkMjqVqpqtNRRERERKQUuayL6Run0yCoAYNbDHY6jpQDKiqIVDAu62J17Grd+iAiIiJSAS3av4gdx3Zwb8d78fNR3365ePopEqlgfjvyG8fPHv9fk8a0Y5C4GBJ/gsxUaPM3CG7haEYRERERKX6Zrkymb5xO4+DG/KnJn5yOI+WEZiqIVDCrY1cD0LNOM1jYH76oDb8OhpgZsHcOzG0La+6DlASHk4qItzHGPGGMscaYN3JsM8aYCcaYOGNMijFmsTGmXZ7jahpjZhljTnges4wxNfKMaW+M+cVzjlhjzHhjjMkzZogxZpsxJtXzdVDJvmMRkfLlx30/suv4Lu7rdB++Pr5Ox5FyQkUFkQpmVewqqvlXpU3UvXB0DUSOh8t/hRuOwZ9joPlo2PUufNsMDv7X6bgi4iWMMX8ARgOb8ux6FBgLPAh0Bw4BC4wxQTnGfAR0Aa7yPLoAs3KcOxhYACR6zvEQ8DdgTI4xvYBPgTlAJ8/Xz40xWhtXRKQQsmYpNK/RnIGNBzodR8oRFRVEKphVB5bSLcDim3IA+s2DDhMgtDf4VoLKYdB9GlwbDcGtYcVtcCrG6cgi4jBjTHXcH+LvAI7l2G6Ah4EXrLVfWmu3ACOAIGCoZ0wb3IWE0dbaFdbaFcDdwLXGmFaeU90KVAFGWGu3WGu/AF4ExuSYrfAw8LO19jlrbbS19jlgsWe7iIgUYN6eeew9uZf7Ot2Hj9HHQCk++mkSqUDOntpHVGIUPQPS3QWF0L75DwxqDn2+BAwsvQkyz5ZqThHxOu8AX1hrf86zvQkQBvyYtcFamwIsAS7xbOoFJAPLcxy3DDidZ8yvnmOzzAfqA41zjPmR3ObnOIeIiJzHmfQzvLHhDVrVbMVlDS9zOo6UMyoqiFQU1rLxp5tJt9Cz2/jzFxSyVGsMvT6EY+th/dhSiSgi3scYMwpoDjyVz+4wz9fEPNsTc+wLA5KstTZrp+f5oTxj8jsHhRgTRj6MMaONMWuNMWuTkpLyGyIiUmFM3ziduNNx/L3n3zVLQYqdfqJEKooDX7Dq4CoAerS9vXDHRPwZ2oyD36bDvk9LMJyIeCPP7QnPA0OttelO5ykKa+071tpu1tpuISEhTscREXFM9JFoZkfP5oaWN9Clbhen40g5pKKCSEWQfhLWPcxyVw0igiMIDw4v/LEdn4c6l8DquyHteMllFBFv1AuoA2w1xmQYYzKAPwL3eZ4f8Yyrm+e4ukDWEjIJQEjOlRw8z0PzjMnvHBRijJaqERE5j0xXJhNWTKBGQA0e7qIWNFIyVFQQqQg2jceeiWNpqj99GvYp2rE+/u7mjeknYMfUksknIt7qa6A97tUWsh5rgU88z3fi/lB/RdYBxphAoA//66GwAqiGu0CRpRdQNc+YPp5js1wBxAF7c4y5gtyuIHevBhERyeGj7R+x7cg2Hu/xONUDqjsdR8opFRVEyrujG2Dn6+yLuJW400lc2uDSop+jZieI+AtsfxXSThR/RhHxStba457VGLIfuBssHvW8tsCrwGPGmMHGmEhgJu7GjB95zhEN/AC8bYzp5Vka8m3gO2vtDs+lPgLOADONMZHGmMHA48ArOXoxTAUGGGMeN8a0NsY8AfT3XF9ERPLYd3Ifr294nT7hfbSEpJQoFRVEyjPrgjX3QkAdlga5Zyj0btj7ws4VOR7Sj8OO14oxoIiUA5OBKcA03LMY6gFXWmtP5RgzFIjCvVrDfM/z27J2WmtP4J51UN9zjmnAy8ArOcYsB24BRgKbgOHAzdbaVSX0vkREyqz5e+dzy3e34Ofjx5N/eJIcd6CJFDs/pwOISAmKnQtHVkHPGSyNXkVwQDCRoZEXdq5aXSD8OtgxBVo/BP7BxZtVRMoEa22/PK8tMMHzON8xx4BhBZx3M/C7y9JYa78AvihcUhGRiudsxlkmr5nM5zs/p0OdDrzY90XCqxWhl5bIBdBMBZHyylrY+jxUbQxNhrF0/1IuaXAJvj6+F37O9k9D2jHY8XqxxRQRERGRi5eclsxt39/G5zs/547IO5h59UwigiKcjiUVgIoKIuXVoV/gyEpo8zeOpp5ia9JWeje4wFsfstTqCvWvge2vQPqpgseLiIiISImz1jJ++Xh+O/Ybbwx4g0e6PoK/j7/TsaSCUFFBpLza+jwE1oWmt7PiwArgIvop5BQ5HtKOQsx7F38uEREREblos6Nns2DfAh7q8hB/bPBHp+NIBaOigkh5dGQNJCyA1mPArzJL9y/F38ef7uHdL/7cdXpA7Z7uokJ2U3YRERERccKGQxt4Ze0rDGgwgJHtRjodRyogFRVEyqOtk8C/BrS4B4ClB5bSpV4XqvhXKZ7zN7sLTmyDwyuL53wiIiIiUmRHUo4wbvE46lWrx7O9n9UqD+IIFRVEypsT2+DgV9DqQfAP5mzGWVbHri6eWx+yNLoZ/KrqFggRERERhxw7e4z7Ft3HibQTTOk3heBKWplLnKGigkh5s30K+FaGlv8HwLq4daRlphVvUcE/CBrdAvs+gfSTxXdeERERESlQ4ulERv4wkpjjMbzS7xVa1WrldCSpwFRUEClP0o7D3jnQ+FYIrAPA0v1LAbi0waXFe61md0HmGdj3afGeV0RERETOa//J/Yz4YQSJZxJ56/K36BvR1+lIUsGpqCBSnuz+EDJToOX92ZuWHlhKq9qtCKkaUrzXqt0TqreDmPeL97wiIiIikq8Dpw4w4ocRnE4/zfsD36dbWDenI4kUXFQwxjxhjFljjDlpjEkyxvzXGBNZGuFEpAishd+mQ51eULMTAC7rYvmB5cV760MWY6DZnXBkFRzfXPznFxEREZFsZzPOMmbxGFIzU5l51Uza1W7ndCQRoHAzFfoB04FLgAFABrDQGFOrBHOJSFEl/gSndkKL+7I3bU7czNGUo/Rp2Kdkrtn4NvDx12wFERERkRJkreXZlc+y/eh2XujzAs1qNHM6kki2AosK1tqB1toPrLVbrLWbgduAEKCYb9AWkYvy23QIqAMNb8je9NOenwC4rOllJXPNwDoQMQj2zgZXeslcQ0RERKSC+3zn53wb8y33dLxHPRTE61xIT4Ugz3HHijmLiFyoMwfh4Dfu2xF8A7M3L9qziJa1WxIRHFFy1258K6QegYRFJXcNERERkQpqy+EtvLD6BS4Nv5R7OtzjdByRc1xIUWEqsBFYkd9OY8xoY8xaY8zapKSkiwonIoW0612wLmh+d/am9Mx0ftn3CwMaDyjZa9cbCP7V3ctLioiIiEixOZN+hnG/jCOkcggv9H4BXx9fpyOJnMOvKIONMa8AvYHe1trM/MZYa98B3gHo1q2bveiEIvL7XOkQ8y7U/xNUa5K9eW3cWpLTkhnQpISLCr4B0GAQHPgPZL6Va6aEiIiIiFy4tza9RWxyLB8M/IAagTWcjiOlyVo4ewJOxnkeB6FmE2j6R6eTnaPQRQVjzBTgFqC/tXZ3yUUSkSKJmwcp8dB9dK7NWf0U+jfpX/IZGt4Cu2dC/HyI+EvJX09ERESknNtxdAf/3vpvBrcYrKUjy7PUZDi0DRI2Q+JWOL4fThx0P9JO5R7bcWjZLSoYY6YCN+MuKGwv2UgiUiS73oPK9dwzFXL4ae9PdKzbkTpV6pR8hrABEFDbfQuEigoiIiIiFyXTlcnEFROpHlCdMV3HOB1HioO1cPowHN4BcRshfiPEbYAjMYBngn9AdajVGGo3cxcPgsOherj7a3A4BIU5+Q7Oq8CigjFmGu4VH64Hjhljst5JsrU2uSTDiUgBzsRC/Dxo8xj4/O8/55T0FJbtX8b93e8vnRw+/tDgBtgzCzJOg1/V0rmuiIiISDn02c7P2Hx4M5P6TKJ6QHWn40hhuVxwKh6O7c39OBoDR3a5b2fIEhwO9TpB+5sgrD2ERUL1BmCMM9kvQmFmKmQtep+3tftEYEKxphGRotnzobtBY7M7cm1ecXAFqZmpJd9PIadGt8CutyH2O2h0c+ldV0RERKQcSTydyNT1U7mk/iVc0+Qap+NIXmmn4ehuOLrHfavC8f1wfJ/n9T7IOPu/scbHXTyo1RQib4A6LaB2C6jXAaqFOvceilmBRQVrbdkrlYhUBNYFMe9DaD8Iap5r16Ldi/A1vvRtVIrrGIf0gcAw2PepigoiIiIiF8Bayz9X/pMMVwZP9XwKUwb/al1uZKRC0nZ3r4OELXBoq/tWhZOxucdVCoKajdwFgxZXQK0m7oaKNRu7Zx74VXIkfmkq0uoPIuJFDv0Cybuh/TPn7Ppp70/0CO9BUEBQ6eXx8YWGN7lnK6SdgEqaqiciIiJSFPP2zGPxwcWM6zaOBsENnI5TsRzbC/uWQ+w69yNhi3uVNQD/KhDaBpr0dfc7qN3cXTSo0Qgq1yyTtywUJxUVRMqqXe+Bfw1oMDjX5pOpJ1kTu4Ynej9R+pka3QI7X4OD30DT4aV/fREREZEy6nDKYSatnkSHOh0Y1maY03HKv+Qkd6PEmJ9g1wJ3zwNwzzyo3wl63efueRDWwT37wMfX2bxeTEUFkbIo7Rgc+BKa3QV+lXPtWrJvCZk2s3T7KWSp0xMqh7uzqaggIiIiUmiTVk3iTPoZnrn0GXz1AbZ4ZDVOPLLL84hxL9+YuBVOH3KP8QuExr2h+yj3igt1WoGPj7O5yxgVFUTKoj1zwJUKze86Z9eCmAUE+gXSq0Gv0s9lfKDBEPctEOmnwL8Ub78QERERKaMW7FvAj/t+5KEuD9GsRjOn45RN1rqXadz6FRza7r6dIW/jRL/K/+t9ULcd1I2EBj3Av/J5TysFU1FBpCza/T7U7Aw1O+XabK1l7m9zGdBkAIF+gc5kazjEfQtE3Dw1bBQREREpwPGzx/nnyn/SplYbRrQb4XScssWVCUk7YOf3EPUpHN4BvpXcsw2yigc1G3tWXWgOQfU1C6EEqKggUtYcXQ/HNkK3N87ZtfPITmKOxTCm1xgHgnnUuRQCQ923QKioICIiIvK7XljzAidTT/LOFe/g7+PvdBzvZS2cOAgH18DBtRC3HuKjIP2Me3/DXnDtq9DuenfzRCk1KiqIlDUx74NPADQees6uub/NBeCaFg6uaezjCxGDYO9syEg5p+eDiIiIiLgtPrCYubvncm/He2lVq5XTcbyLy+VexnHvMti3FA6sgeQE9z6/QHcDxS7DoX5nd0GhZiNn81ZgKiqIlCUZKbD3I3ffgkrnVmDn/jaXdiHtaFTD4f+pZvVViJ8PDa53NouIiIiIFzqReoJnVjxDy5otGdV+lNNxvENyknslht9+hN2LIeWYe3uNhu7lHBv0gIhu7l4IvprV4S1UVBApSw5+BenHodkd5+w6mXqSX/f9yiN/eMSBYHnU7ecuehz4UkUFERERkXz8a82/OHr2KG9c9gb+FfUDctpp2L8S9ixxP+I2ABaq1YVWf4LGfaDxpe6igngtFRVEypKY96FqE6jb/5xdC3cvJN2VzjUtHbz1IYuPP0RcDwf+A5lp7oY5IiIiIgLA0tilfBPzDaPaj6Jt7bZOxykdWbczxG2AuI3ulRriN4ErHXz8ILwr9P87tLjSfWuDGiqWGSoqiJQVyXsg8Sdo/4x76cY85u6cS/WA6lzS4BIHwuWjwRDY/QEkLoL6VzudRkRERMQrnEk/wzMrnqFp9abc0/Eep+OUrMx02LsUtn8H2+fCqXj39oBgqNcRet3nua3hDxBQzdmscsFUVBApK3Z/ABhoeu5SQy7rYt6ueQxsPhA/Hy/5zzrscvAPhv1fqKggIiIi4vFW1FvEn47nw6s+pFJ5nM2ZfhZ2/wzR/4Ud89x9EfwqQ4vLodU17r4INZtoJkI54iWfPkTkd7kyYfdMqHclVD33nrIN8RtISE5wdtWHvHwDoP61EPsNuN52T2sTERERqcB2HN3Bv7f9myEthtClbhen4xSfzHSI+Rk2fwY7voe0ZAioDq2uhjbXQrPLoFIVp1NKCdFv+SJlQfx8OHMAuryc7+65v83FYLi6uZfNCGh4A+z7CA79AmGXOZ1GRERExDEu6+KZlc9QPaA6j3T1gsbaF8vlggMrYetXsOU/cOYwBNaAyMHQ9i/QuC/4lcOZGHIOFRVEyoKYdyAwFML/ku/uub/NpUd4D0KqhpRysALUuwr+n737jo+qShs4/rszk5n0ThIglBBKQlGqgEiXIiAqYkURFbHsLrpYFnXVFcV9XVxXV0AQV7CLgiIWUEF6VZASOoSQRhLS+7R73j9uKEICQZJJgOf7+VwmM+fMnWcSkrn3uec8x+JnTIGQpIIQQgghLmML9i9gx7EdvHLNKwTZguo6nD9GKUjbAjs+hz2LjRoJFm9oPRSuuBVaXgsWW11HKTxMkgpC1Hel6ZD2LcQ/UekqCulF6fyS9gtT+k+pg+DOweIDjYYZS2F2nQ4mc11HJIQQQgjhcZklmbyx5Q26N+zOiBYj6jqc82cvhp1fwK//g4ydRiKh5bXQ7iZoPQRsAXUdoahDklQQor5LnAvKDbHjK21euHshCsXotqM9HFg1NRkNyV9A9jqI6FPX0QghhBBCeFSZq4yJKybiVm6e6/EcmqbVdUjV43ZB0mrYuRB2fw2OIohsD8Nfhw63gHdgXUco6glJKghRnykdDs2ByAEQ0LLSLl/s/oL2Ee2JC4/zcHDV1GgYmL2NKRCSVBBCCCHEZURXOs+ufZY9OXt4a8BbNAtsVtchnZ3uhuQNsGsR7F4EJceM5R/bjoTO9xgrN1wsSRHhMZJUEKI+O/oTlByBjq9W2pxelM7a5LW82O9FDwd2Hrz8jdoKKQuhyxugyfJBQgghhLg8TP9tOj8d+Yknuj5B3yZ96zqcyikFyRshYYGxDGRxpjGFtfVgaD8aWg0GL++6jlLUY5JUEKI+OzQHbOEQfWOlzcenPtzS7hYPB3aemoyG1EWQvQka9KzraIQQQgghat03h75hzs453NzqZsa2HVvX4ZwpLwm2fwbbPzW+Pp5IaHujkUiw+dd1hOIiIUkFIeqrsgxI/RriHgNz5VV0P9/9ef2e+nBc4xFg8oKUBZJUEEIIIcQlTVc6c3bMYca2GXSL6saz3Z+tP3UUlILDq2Dj27B/KaBBTG/oOxnir5dEgvhDJKkgRH2VOBeUq8oCjelF6axLXle/pz4cZw2CqMHGFIhOr8lcPCGEEEJckgodhTyz5hlWpa5ieIvhvNDzBbzMXnUdlrF6Q8JC2DQbsnaBbzj0/Rt0uhuCm9R1dOIiJ0kFIeoj3QUH3obIgRDYptIuF83Uh+OajoaN30HurxDWra6jEUIIIYSoUbuyd/Hk6ic5WnyUp696mjvi7qj7EQoZO+HXubDj85OrN9www6iVIHUSRA2RpIIQ9VHaYihNga5vVdnlopn6cFzjkcYUiCrnfekAACAASURBVOTPJakghBBCiEtGibOE6b9N55O9nxDuHc7coXPpGNGx7gLS3bDve9gwE5LXG9No290EXe+FJt1lxKiocZJUEKI+2vcW+DWDRiMqbU4rTLt4pj4cZwuFqCFw5DNjNQtZBUIIIYQQF7kVySuYumkqWaVZ3NrmVh7t/CgB1oC6CcZRAr99BBtnGoUXg5rC4Jeh4xjwDa2bmMRlQZIKQtQ3+QmQtdI48TaZK+2yYPeCi2vqw3HNbof0b+HYOojoXdfRiFMoparcTm8/fr+y29O/rux+ddvOJ/baZrFYCAioo4PEOqRp2tPAKKANYAc2Ak8rpRJO6aMBLwATgBBgE/AnpdSuU/qEAP8FRlY8tBj4i1Iq/5Q+HYDpwFVALjAbeEmd8gPWNO1m4CUgFjgEPKuU+qqG37YQQlTL3IS5vL7ldVqFtOK1vq/V3eiE4mOw+R34ZQ6U5UH0VXDtixA3Asxyuidqn/wvE6K+2T8dzN4Qe3+VXeZtn0fnhp0vnqkPx0XfAGYfY7SCJBUoLy8nJyeHvLw88vPzKSgooKCggKKiIkpKSiguLqakpITS0lLKysooKyujvLwcu91+YnM6nTgcDpxOJ06nE5fL9bvN7XbjcrnQdR23242u65Vu4uz69+/Pzz//XNdh1IV+wEzgF0ADpgDLNE1rq5TKrejzFPA4MA7YBzwP/KRpWhulVFFFn0+ApsDQivvvAh8C1wNomhYI/ASsBroBccBcoAT4d0WfnsB8jATGlxjJji80TeullNpUC+9dCCEqpZRixrYZzN4xm6HNh/LKNa/UTTHGrD2waZaxLKTLDnHD4eqJ0LS752MRlzVJKghRnzjy4fCH0OxOsIVV2mXr0a1sy9jGjGEzPBxcDfDyh8bXQ/IX0OVNMF2af4LKy8tJSkriyJEjpKamkpKSQlpaGhkZGWRmZpKZmcmxY8coKys7575sNhu+vr74+Pjg4+ODt7c3NpvtxObj44OXl9fvNovFgtlsxmKxnPjabDZjMpkwm81omnbivqZpmEymE19XtQGV3q/s9vSvK7tf3bbqqu1CWNHR0bW6//pKKTXk1Puapt0NFAC9gG8qRik8BvyfUmphRZ97gCzgTmC2pmnxGMmEa5RSGyr6PAisqUg87APGAL7APUqpMiBB07Q4YJKmaa9XjFZ4DFihlJpaEc5UTdP6Vzx+Ry1+G4QQ4gSlFP/65V98tOcjRrUaxfM9nsdcxcjSWuF2wcFlRjIhcQVYvOGKW6HnX6BBa8/FIcQpLs0jeiEuVolzwV0Krf9cZZf3fnsPm9nGHe0v0mPoZrcbxRozlkOjIefuX49lZGSQkJDA7t272bNnD3v37uXgwYOkpaX9bki+pmlEREQQFRVFVFQU8fHxNGjQgNDQUMLCwggNDSUoKOjEFhgYiJ+fH35+flgs8mda1CsBgAnIq7gfA0QBPx7voJQq0zRtNXA1xhSGnkAxsP6U/azDGIVwNcbohp7AmoqEwnE/YEx1aA4cruhzevXaH4BK/2BqmjYBY0oGTZs2Pb93KYQQlVBKMXXTVObvm89d8XfxVLenPLO6g9sJh1fBrkWw9zsoy4WARjDweeg8DvwqvxAlhKfI0aoQ9YXuhv0zoEEvCO1UaZcyZxkf7/yYm9veTIhPiIcDrCGNrgOvQEj+7KJKKuTk5LBhwwY2btzI1q1b+e2338jIyDjRHhISQlxcHP379yc2NpbY2FiaN29OdHQ0jRo1wmq11mH0QtSYN4FtwIaK+1EVt5mn9csEGp/S59iptRGUUkrTtKxTnh8FpFayj+NthytuK3udKCqhlHoHeAega9eutV94QwhxyZuzcw7z983n3vb38tfOf639hIK9yFgOcsMMKM4AawC0uQ7a3QitBkNdTLkQohKSVBCivkhdBMWHoOM/q+yyaO8i8svzua/jfR4MrIaZvaHJKEj5Erq9bdyvh7Kysvj5559Zvnw5a9asYd++fQCYzWbatm3L4MGD6dy5Mx06dKBt27ZERkbW/VrUQtQiTdNeB67BmMbgrut4hBDCkxYfWsxbv73F9S2ur/2EwvHCi5vfgfJ8iOkLI16H2IHgVT+Pm8TlTZIKQtQHSsHuV8E/FqJHVdntvW3v0Ty4Of1j+nswuFrQ9HZInAfpS6DJTXUdDQC6rvPLL7+wePFivvvuO7Zv3w5AUFAQvXv3Zty4cVx99dV07doVX1/fOo5WCM/SNO0/wO1Af6VU4ilNx4frRALJpzweeUpbBtBA0zTt+GiFiloMEaf1iTztZSNPaTtbnwyEEKIWrU9fzwvrXqB7w+68ePWLtZdQyNgJG2fBzi/AbTdWb+g9CRp3qZ3XE6KGSFJBiPogaxXk/mJcua+i2E9SfhLLEpfxYr8XMWkmDwdYw6IGgq0BHPm0TpMKuq6zdu1aPv30UxYtWkRGRgZms5levXoxdepUrr32Wrp06YLZ7MECTELUM5qmvQnchpFQ2Hta82GMk/pBGCtEoGmaN9AbeLKizwbAH6MmwvG6Cj0Bv1PubwBe1TTNWylVXvHYICAdSDqlzyBg2imvP4jf12oQQogatTd3L5NWTiImOIb/9PtPza/yoBQcXA7r3oCkNeDlC53ugu4PSeFFcdGQpIIQ9cHuV8E7AmLuqbLLvG3z0NAY13Gc5+KqLSYLNLsNDs4BRx5YPVsfYu/evbz33nt8+umnpKam4uvry7Bhw7jhhhsYNmwYoaGhHo1HiPpK07QZwN3AjUCepmnH6xcUK6WKK2ojvAE8o2naXmA/8HeMwoyfACil9miathRjJYgJFc+fDXxbsfIDFX1fAOZpmvYy0BqYDLx4Si2GN4HVmqZNBhYBNwH9MaZkCCFEjUspTOGhnx4iwBrAzIEzCbAG1NzO3S7YvQjWvgGZO43Ci9e+CF3ugYu1bpa4bFUrqaBpWh/gCaAL0Ai4Vyk1rxbjEuLykbcDji6FK14Gi0+lXdy6m7nb5jIodhBNgy6RKuYt7oX90+HIZ9Dq4Vp/ufLycr788ktmz57N6tWrsVgsDBkyhFdffZWRI0fi7+9f6zEIcRF6pOJ2+WmPvwj8o+LrfwE+wAwgBNgEDFZKFZ3S/06MlRt+qLi/mFNWbVBKFWiaNqhiH79irC7xb+D1U/qs1zTtduBlYApwCLhNKbXpwt6iEEKcKbssmwk/TcCt3Lw36D2i/CqtCXv+irNg6/vw6zwoTIXw1nDDTOhwC1ikqLO4OFV3pII/kAB8ULEJIWrKnn+BxQ9aP1Jll6/2fkVyQTL/GfIfDwZWy0I6QfAVcOi9Wk0qZGdnM3PmTGbMmEFWVhaxsbH83//9H+PGjSMy8vTp2UKIUymlzjlxuGIkwT84mWSorE8ecNc59rMT6HOOPguABeeKSQghLkSRo4iHfnqInPIc3h38Li2CWlz4TtO2Gqs47P4adCe06AfD/gWtrwPTRT6tVVz2qpVUUEp9D3wPoGnavNoMSIjLSskR40p964lnnQLw7w3/JjYklhva3ODB4GqZpkGL+2DrY8ZojZAranT3SUlJvPrqq8ybN4/y8nKGDx/OY489xoABAzDJh7cQQgghKlFgL2DizxM5lH+I6QOnc0WDCzg+UQoOLTemOCStAVsgdBsP3e6H8FY1F7QQdUxqKghRl3a/CpoJ4v5aZZcNKRvYmLqRt657C3MVRRwvWs3HwLYnIXEudKmZURjJyclMnTqV9957D5PJxNixY5k0aRLx8fE1sn8hhBBCXJpSilL40/I/kVKUwj/7/JNejXv9sR3pOuz9BlZPM1Z0CGgIg16CLuPAO7BGYxaiPqjxpEJFEaYJAE2bXiJzv4WoDcWH4dC7EDse/JpU2e3fG/5NsHfwpVGg8XTe4dD4Bkj6CDq+CuY/PpcwOzubKVOmMGvWLAAmTJjA008/TXR0dE1FK4QQQohL1LasbUz8eSI6OnMGzaFrVNfz34nbBbu+gjWvwbG9ENYSRk6HK24Fi63mgxainqjxpIJS6h3gHYCuXbuqc3QX4vKVMAUwQbtnq+ySmJfIV3u/4qmrn8LfeokWEoy9D1IWQPq30GTUeT/dbrczffp0XnrpJYqKirj//vv5+9//LklNIYQQQlTLksNL+PvavxPlF8XMa2fSLLDZ+e2gIBW2fghbP4CidGgQDzf/D9rdVOVS4UJcSmT6gxB1oXAfHP4AWj8Kvo2r7Pbmxjcxa2b+0v0vHgzOw6IGg08jo2DjeSYVvv/+eyZOnMihQ4e47rrrmDZtGu3ataulQIUQQghxKVFKMWvHLGZum0nniM682f9Ngr2Dq7+D9N9g1b9g/1KjfkLLgTD839B6qBRfFJcVSSoIURd2/gNM3tBucpVd8sry+N9v/+P29rfTKKCR52LzNJMZYu6BPa9CaTr4nvu9pqam8thjj7Fw4ULi4uJYunQpQ4YM8UCwQgghhLgU2N12Xlj/At8lfsfI2JG80PMFrNWdhpm1F1ZMhT2LwScErvkrdB4LIc1rNWYh6qtqJRU0TfMHWlbcNQFNNU3rCOQqpZJrKzghLkl5O4wVH9o+Dd4RVXab+ctMSpwlTOo5yYPB1ZEW98Luf8KhOdDhhSq76brOjBkzeOaZZ3C5XEydOpUnnngCq1XWdRZCCCFE9ZQ6S3l42cNszdrKxE4TGd9hPJp2zhV0oTgLlr8I2z4BLz/oOxl6PgLeQbUftBD1WHVHKnQFVpxy/8WK7X1gXA3HJMSlbecL4BUI8U9U2SWvLI9p66dxfevr6RjV0YPB1ZHAVtBoGByYCW0ng/nMYkYHDx7kvvvuY82aNQwdOpQZM2bQokUNrBsthBBCiMuGrnSeXvM0245tY1qfaQyNGXruJ7mdsGk2rHoVnGXQ4xG4ZhL4hdV+wEJcBKqVVFBKrQSqkb4TQpxV5kpIXQRXvAS20Cq7TVs/jQJ7AS8PeNlzsdW1No/BisHGKI4W95x4WNd1pk+fzuTJk7FarcydO5d77rmnelcUhBBCCCFOMXPbTH5O+Zm/dftb9RIKB5fD0smQvR9aDoKh/wfhLc/9PCEuI1JTQQhP0V2wZSL4NYO4x6vsllGcwZub3uSO9ndwReQVHgywjkVdC0FtYd8bEDMWNI309HTGjRvHTz/9xLBhw3jnnXdo3LjqwpZCCCGEEFVZmrSU2TtmM6rVKMbEjzl755xD8MOzsH8JhLaAOz+H1lK/SYjKSFJBCE85OBvyd8I1C8DiU2W3V9a8gt1lZ0r/KR4Mrh7QNGO0wuYJcGwNi9bnMn78eEpLS5k1axYTJkyQ0QlCCCGE+EN25eziubXP0SmiE892f7bqY4ryAljzOmycCWYrXPsi9HgYLGdOzRRCGCSpIIQn2HNgx3MQOeCsyyYeyT/CrF9ncX+n+2kZehkOrWt+F2WbJzPpgXHMWnyYzp078/HHHxMXF1fXkQkhhBDiIpRWnMacHXP4+tDXhPuE83q/1ytf5cHthC3zYOU/oTQHrrwDrv0HBER5OGIhLj6SVBDCE3Y8B85C6PKmcUW+Ci+uehGTZuK5vs95MLj6Y39iCre+aGH7/sM8MXE8U6fNkJUdhBBCCHHeCuwFvL7ldRYfXIymadzc6mYe6PAA4T7hZ3Y+uByW/A1yDkCza2DIy9Cok+eDFuIiJUkFIWpb3jZj6kOrP0Fw+yq7bU7bzLxt85jUcxLRgdEeDLB++PTTT5kwYQI2mxffPmli+G3+IAkFIYQQQpynUmcpjyx7hN25u7m1za3c1/4+Iv0iz+xYkgM/PAM7PoPQWLj9U2hz3VkvAAkhziRJBSFqk+6EjfeCLRyueLHKbi7dxUPfPkTDgIY83/d5DwZY9+x2O3/96195++236dWrF59++ilNUp6GQ3Og3dPgHVHXIQohhBDiIuHUnUxaNYmEnARe7/c6A5sOPLOTUrBzASz9m1FDoc9T0Ptx8PL2fMBCXAJMdR2AEJe0Xa8YIxW6zQJrSJXdpm+ezm8Zv/Hm0DcJtAV6MMC6deTIEXr37s3bb7/Nk08+yYoVK2jSpAm0fw7cZbDr/+o6RCGEEEJcJHSl89y651iXto7nezxfeUIhNxE+GgVfjoeQGHhwNQx4VhIKQlwAGakgRG3J/Q0SXoZmd0KTm6rsllqYynMrnmNYq2HcHH+zBwOsW0uXLmXMmDG4XC6++uorbrzxxpONgW0g5h44MBPiHwdfWUZSCCGEEFUrchTxxpY3+C7xOyZ2msjNrU87pnI5YP2bsPo1MHnBddOg2/1gMtdNwEJcQiSpIERtcDtg4z3GtIeu/z1r10eXPopLdzH9uumXxZKJuq4zZcoUpkyZQocOHVi4cCEtW1ay0kX75yHpI9g1FbrN9HygQgghhKj3jhYf5aM9H7HwwEJKnCWMbTuW8R3G/77TgWWwdLJRiLHtDTD0/yCwUd0ELMQlSJIKQtSGhJcgfyf0+RpsYVV2+3rv13y550teGfAKMSExHgywbuTm5jJmzBiWLl3K2LFjefvtt/H19a28s39ziB0PB+dA/JPgf+l/f4QQQghRPU63kze2vsHHez4GYEjzIdzT7h7ahrU92Sn7oFGI8cAPRiHGO7+A1oPrKGIhLl2SVBCipmUsg92vQMxYiB5ZZbfUwlTuX3w/HaM68vjVj3swwLqxZcsWRo8eTVpaGm+//TYPPvjguUdmtHsWEudCwhToMdczgQohhBCiXssoyeDxVY+z49gORrcezYQOE2jo3/BkB7cT1vwbVk8Diw8MfhmuehAssqqUELVBkgpC1KSSFFh3BwTGQdcZVXZz627GfDmGclc580fPx2r+4x9ypaWl5OTkoJTCarVitVrx9fXF27v+FBx69913+fOf/0xERARr1qyhe/fu1Xuib2No9QjsewPin4Kg+NoNVAghhBD12rq0dUxeMxmH28FrfV9jSPMhv++QtQe+ehCObocOt8CQV8BfVpISojZJUkGImuK2w9rRxu01C8HLv8quL69+mdVHVvPBjR/QOqx1tV9CKUVmZia7d+8mKSmJ7OxsysrKKu0bFRVFTEzMic1i8fyve1lZGX/605+YO3cugwYN4pNPPiE8PPz8dtJ2Mhx6D355BAb+LGtHCyGEEJchXenM2TGHGdtmEBscy+v9Xicm6JSpkbobNsyAn18Gmz/c+oFRP0EIUeskqSBETdnyGORsht4LISiuym6rklYxZfUUxl45lruvvLtauy4qKuKXX34hISGBvLw8NE0jOjqa+Ph4wsPDCQsLw2w243A4cDgc5Ofnk5SUxObNm9mwYQP+/v50796dLl264OPjU1Pv+KwOHDjALbfcwvbt23n++ed5/vnnMZv/QIVl7wbQ6VXY/CAc/gBa3FPzwQohhBCi3ip2FPPM2mdYkbKC4S2G80LPF/CxnHI8k58Cix6GpDUQNwJGvAH+DeouYCEuM5JUEKImHJgNB2cZQ/SbjKqyW0pBCncsvIPYkFhmDKt6esRxx44dY/369ezYsQOlFDExMfTq1Yu4uDj8/PzO+ty+ffvidDo5fPgwmzZtYvny5axZs4YuXbrQt29fbDbbeb/N6po/fz7jx4/HarXy3XffMWzYsAvbYex4SHwffnscGg0H7/Mc7SCEEEKIi1JiQSKP/vwoKUUp/K3b3xgTP+b3NZl2LoBvJ4Fyww0zoOMYGdUohIdJUkGIC5W8EH59BBpeB1dOrbJbfnk+1318HSXOEn68+0f8rVVPj8jNzWX58uXs3r0bi8VCly5d6NGjB6GhoecVmpeXF61bt6Z169ZkZGSwfv16NmzYQEJCAkOHDiU+Pr5Gl7EsKyvj8ccf5+2336Znz57Mnz+fJk2aXPiONRNcNRuWdIJtT0GP9y58n0IIIYSo1/bm7mX8j+Mxa2bmDJ5Dt6huJxuP7YNl/4B930P0VTBqNoS2qLNYhbicSVJBiAuRuQLW3wlh3aH3F2Cq/FfK4XYwav4o9ufsZ+ldS2kf0b7SfsXFxaxevZotW7ZgNpvp3bs3PXr0qHrZxfMQFRXFqFGj6N69O99++y1ffPEFLVu2ZPjw4QQHB1/w/nft2sXtt99OQkICTzzxBK+88gpeXl4XvN8TgtsbS0vu/qexskZkv5rbtxBCCCHqlT05e3jgpwfwtfjyvyH/o0lAxUWKogxY+U/Y+gF4+cG1/4CefwGznNYIUVfkt0+IPyr3N1h1AwS0hL7fgqXy6QhKKe5ffD8rklbw4U0fMiBmwBl93G43mzZtYtWqVTidTjp37ky/fv3w9696NMMf1bhxYx544AE2b97MihUrmDVrFtdffz3t2rX7Q/tTSjFr1iwmTZpEYGAgS5YsYejQoTUcdYX2f4fk+bDpfhi6BawXngwRQgghRP2yJ2cP438cj5+XH+8NeY/ogGgoy4N1/4VNs4wlI6+aAH2eBD+ZEilEXZOkghB/RM6vsPI646S2/w9gq3xagq50Hl3yKB/t+IiX+7/MXVfcdUafQ4cOsWTJEnJycmjVqhWDBw8+/xUSzpPJZKJHjx60adOGhQsXsmDBAhITExkyZAhWa/WXt8zIyGDChAl88803DBkyhPfff5/IyMjaC9ziCz0/hGV9YeM46P2VzJsUQgghLmKFjkJmb59NVmnWicfWp68/mVCwBsPq14yEgr0A2t8MA/4uUx2EqEckqSDE+cpcAatGgi0MBiwD3+hKu7l1N+O/Gc+8bfN4oucTPNP7md+15+fn88MPP7B3715CQ0O54447aN26+stL1oSQkBDuvfdeVqxYwbp160hOTubWW2+lQYNzV0z+/OOPefjPf6akpITX77iDR/v2xbRgATidEBQEERHG1rQp1GSiocHV0GkabP0r7JkGbZ+quX0LIYQQwmO2ZW1j8prJZJRknJzeALQKacXLPacQfXAlLJ8CxZnQ+jojmRBV+RRSIUTd0ZRStbbzrl27ql9//bXW9i+Ex6V+DWtvg4BY6P8j+DautJvT7eSur+7i812f84++/+D5vs+fKIjocrlYt24da9euRdM0+vTpQ48ePbBY6jbHl5iYyJdffonD4WDkyJG0b3/Kh7bDAVu3woYNZK1YwcTly5lfWko34H0g/lw7b9gQOnWCzp1h4EDo1QsupN6CUrDuNkhZCAOWS30FcVHSNG2LUqprXcdxOZDjESHqF7fu5r2E95ixbQZRflG82udVrmxw5ckOSetg6WTI2AHR3WDwVGjave4CFuISVhPHI5JUEKI6lIL9M2DrYxDaBfp9b4xUqERBeQF3fnkn3x/4ntcGvcbjVz9esQvFvn37+PHHH8nLy6Nt27YMHjyYoKAgT76TsyosLGTBggWkpKTQq1UrBpSXY1qyBH74Ab2oiLnAkyYTxcDzffsy+e67sbRqBVFR4O0NNhtYLJCfD1lZcOwYHDwIv/1mJCX27AG3GwIDYfBguPFGYzvH8piVchbBD93AkQ9DfgG/GlhlQggPkqSC58jxiBD1h1KKp9c+zXeJ3zG0+VDubfMEu1IdWEzQumQrMfvexTd1NQRGw6AXjekO5zHVUSlFdrGD5NwSjhaUoyvjMYDYBv60b1x/jruEqA9q4nhEpj8IcS6uEtj8ICR9DI1GQK9PwavyAoq7j+3mpvk3kZiXyOwRs5nQZQIAWVlZLF26lMOHD9OgQQPuvvtuWrSof3MBA10uxrlc5C1aRMj27ZiUQm/YkL1DhvDQrl2s2bOH3r16MXv2bOLjzzI+ISQEYmLOfLyoCJYtg++/N7YFC8DfH0aPhnvugb59q3/g4BUA1yyEn66G5QNg0GrwafjH3rgQQgghPOL9Xe/zXeJ3tPS6mXUberNwyWaGmzbyoOVb2pmSyFLBvOm6g29LRhC1NpRme7bTrlEQV8eG0SYyAJPp5HGCW1cczi5hW0o+21Ly2JFawKGsYkoc7ipf/4roIO7q3ozrr2yEj9XsibcsxCVPRioIcTaFB2DNKCjYBVe8BO2eBs1UadeFuxcy7utx+Hr58sUtX9CnWR+Ki4tZuXIlW7duxWaz0a9fP7p164bJVPk+6oTTaZzgz5sH331n3G/ZkmMDB/KZ282nu3axefNmAgICeO2117j33ntrJn5dh7Vr4f334YsvjIRDXBz8+c8wdiwEBFRvP8c2wIrB4NsErl0J3hEXHpsQHiAjFTxHjkeEqB++3reCv298FGdhe7xz7mJiZAI3F39CUMlhHCEtSWlzP7vCryO12E1yTilJOSUkZZeSUVgOQKiflc5Ngym2u0jLL+Nofjku3TiX8bdZuCI6iNaRATQL86V5mB8Ng72xnDhmUaw/lMOHG45wIKuYQG8LI65sxI0dG9O1WcjvkhVCXE5k+oMQtUXpsH8mbJ8MJpsxOqHh4Eq7FtmLmLxsMjN/nUn3xt1ZeOtCGng3YP369axfvx63202XLl3o168fvr6+Hn4jZ5GQAP/7H3z8sTFNITISxoyBO+/E3q4ds995hxdeeIGCggK6dOnCU089xahRozCbayGrX1pqjFqYPh1++cVIKNx3Hzz6aOUjHk6XtRpWDDWW9xy4osqpKULUJ5JU8Bw5HhGibhXbXby2fD0LMp4EVyAvBVzPDdkfYMo5ABHtoO9TED8SqrhokZ5fxoZDOaw/lMO2lDyCfa1Eh/jQONiH5uF+dGwSTGwDf8zVSAwopdh8OJdPNifzw64Myp06jYN9GNYhiqtiwujcNJgwf9s596PriqwiOyl5pfh4mQn3txHmb8XLXI8uHAlRDZJUEKI2FO6HTffDsbXQcAhcNafK+fo/HvqRB755gJSCFB7t/ihT+kxhx287WL9+PaWlpbRt25YBAwYQFlZPTnILC+Gzz4xkwubNRrHEkSNh3DgYOhQX8P777zNlyhSSk5MZOHAg06ZNIy0tjS1bttCwYUNGjRpVu0tebt4Mb70F8+cb9RdGj4YnnoBu3c7+vIxlsHIEBLSCvl+Df/2bXiLEqSSp4DlyPCKEZ2WUZLAyZSVHizNJSCvk1yO5hgZb9AAAIABJREFUOG078fYu4HO9AS2PrIMG8dD/aYi7vspkQm0rsbv4aXcmi7alse5gNk63cV7UItyP2Ah/IgNtRAV6E+xrJbfEQWZhOZmF5aTmlZGUU0K5Uz9jnw0CbLRvFEiH6GCujA6ia7NQgnwvoDi1ELVMkgpC1CRnIez+F+z9N5i8ocsbEDO20jn+6UXpPPvzs8zbNo82YW2Ydd0svDK8TiQTYmNj6devH9HRlS836VG6DqtXw9y5xjSDsjJo3x7uvx/uugvCw7Hb7XzyySe88sorHDx4kKuuuoqXXnqJQYMGnVi1Yu/evSxevBin08ngwYPp2rXribZakZpqJBdmzTKSIX36wJNPwrBhVR98ZCyHtbcAGlzzOUQNrL34hLhAklTwHDkeEaL2FdgL+GL/Fyw/spyEnATjQaWh0NCAAJOZf2Vmco1TM5aG7DYezPWnvFu5083OtAK2HMlj65E8knONaRf5pc4TfUL9rEQGetMoyJvm4X40D/ejSYgPdpdOdrGd7CIHybmlJKQVcCCrCF2B2aTRpVkIA+Ii6N8mglYR/tWealFQ6mT53kx+2p1Jcm4pJXYXJQ43DpdObAM/OjQOokN0MB0aB9GigZ+MkhB/iCQVhKgJbgccfAcSXgR7NjS7Azr/u9Kif4X2Qv617l+8vuF1XLqLP3X+EwNMA9i1fRd2u53Y2Fj69u1Lkyb1YCWCgwfhww/ho48gMdFYceGOO4xpBd26gaaRn5/P7Nmz+e9//0t6ejodO3ZkypQpjBgxotKEQVFREYsXL+bgwYM0b96c4cOH1+6oBTASCu++C2+8ASkpEB8Pjz8Od94JPj5n9i86BKtvgMK90Ok1aPPoeVWNFsJTJKngOXI8IsSFO3SsmCnf7OZITgkD4yMZ2j6Kzk1DMJs0tmfs4/HVj5JZloaPHkNBdhscRe3o1SCSfzZaS5MDH0J5AXS4BQa/DAFRdf12qq3c6Sa/1EmInxc2S/WngJbYXSSkFbDmQDY/781i99FCAHytZtpEBRDfMJAmIb5YLSasZg2zyUSpw0VBmZOCMieJx0rYmJiDS1dEBXrTrlEgfjYLfjYzJk1jf2YRu9ILKa0oSmm1mGgTGUDbhoEMiI9gQFyEJBlEtUhSQYgL4SyGxPdg73+gJAki+kGnaRB25u9Ublkus36dxRsb3+BY6TGub349gy2DyT2UC0C7du3o0aMHjRs39ux7OF1mplGb4JNPYP1642R6wABjesOoUaAVwNrb2R74DDPf+5Ll337E/+4rZcb23jzyyMP0Nc9Cu2Y++ERB2VFYeztcMx9QJ75W3pFs3bqVZcuW4XQ66dWrF71798ZiqeWrDU4nfP45TJsG27dDeDg8/LCxNTwtAeQsgg1jIXURRA2Cbm9DQGztxifEeZKkgufI8YgQf1y5083MlYeYtfIQNi8TnZqGsPFQDg63TqifFad1F6rBRyjlRVnq3cT6tWF882MMZgPB+75Ac5ZA3AjoPQkad6nrt1Nn0vPLWHcwm13phew5Wsjuo4UUlbvO6GfSINDHi6hAb/q1iWBo+yiuaBxU6egGt65IPFbMrnRjf7vTC0lILyC/1Em4v42bOzdmZMdGRAZ6E+BtwWYxo5Si3KlTUOYkv8zBsSI7WYV2MovKyS5ykF/mIL/USGzEhPsxIC6C3q3CCfCWKRyXKkkqCPFHFCcZIxMOvA3OfGjQC9o+A42uO+OK9oGcA7y56U3mbptLqbOUq0Kv4hrHNQQWB+Lj40PHjh3p3r07QUF1uOZxejosXmyccK9aBYE6/M0XLJPg9gchzAxrb+dYm+lkLHuEdta1zFoOT8z34dsXmtK/yX60lg8Z+zo4G1o+CFfNhM2PnLx/elvZUVyrb+GH4nv5NSGVkJAQ+vfvT/v27Wt3SgSAUrBypTFy4ZtvwGKBm26Chx6Cfv1O/gyVbvyMtz0NygntX4D4x8EkH4qifpCkgufI8YgQ56fY7mLLkTw2H87h2x1HOZJTyg0dG/Hs8HgiArxJL8xlUcI2fjy8mkOuLwm3NufJiFvplbeZwKSlaMWZYLZB25FwzSSIbFvXb6neUUpR6nDjciucuo7LrfC1mfG3Wi5oJQqXW2fV/mN89ksKP+/Nwq2fPNezWkwopU7Ujjidr9VMiK+VYF8vArwt7E4vpLDchcWk0blZCK0j/Wke5keLBn408PfGy6LhZTZhNZsI9PEi0Nty4jiwxO7icHYJR3JKUShCfK0E+XgR5m8lKtC79o8XRbVJUkGI6nKVQMqXkDgXMlcAGjS5CeKegAY9f9e1oLyAz3d9zvvb32ddyjosmoWrfK7iytIriSSSmJgYOnfuTFxcXO1fna+MrsOW5bBzAnwYDCu3QTDwpA+4HobuaZDzBbR8kKxmz1HwwyhamjfW8AwAM6Cg5YMcCRyL1+axfJI8Ev/wlgy6pj0tjj57csRDVdxuOL6SxNKlxgoUBQXGdIeiIrjiCmO6BhhTNnTdqKVgNoPVCv37Q8eOMGMGvPOOsYJEkyZw220wfjy0aWM8tzQNfv0LpH5lFHFs9ww0HyPJBVHnJKngOXI8IsS5KaVYfSCbWSsPsTkpF7euMJs0rowOYkK/KMq8dvBz8s/syN5Bbnnuiedd6xPN1PRUfPOTweIDrQZB2xug1WDwDqzDdySyispZfzCHgjInReVOispdaJpGkI8XgT4Wgny8aOBvIzLQm4hAG77W3x/Xutw6W5Pz+XlvFhsSczh8rJjCSkZXHGcxaQT7eqFpGseK7FX2C/b1okPjINo3DqJ9oyDaRBnJCotM16gTklQQ4mzsOZD2rTEE/ugP4C4zVgSIGQctxoJfsxNdM4sz+Xb/t3y972t+PPQjdredKHMU7dzt6EhHWkW1ol27drRr146QkBDPxH/q9IMsO6z6Ggqnwps6XJMNA4GdERD0F+i4AfK/P88XMAM6UMnfAM0CquoPjdMpIDdkNB8f6E1Py4d0DdpCrv9Igga8hWXjXbDnWtiZDMnJRgHG9HQjKfDll8YOIiMhK+vkDr28jCkb77xj3I+PNwpMut1GcsFuh3vvNaZClJaCn9+ZQTVrBs89B9deC1OnQmg5qNXgfwRimkD3Z6D5XeDlX+33KURNkqSC58jxiBBV03XFT3symbHiIDtSC2gY5M1NnRrRNKqIAnayKXMdWzK3oCudhr4R9PRpTPOSApodS6R5QToxTjdai75wxe0Qfz3Y5HP1UqWUIq/UyeHsYnJLnLjcOg63jt2lU1jmJK/UQW6JE7eu0yzMj5hwP5qF+WIxmcgvdZBf5iSrsJxd6YXsTCtgX0YRroqRFFazidgIf+KiAoytYSAtwv0I9PbCz2aWhEMtkqSCEKdylcCxdZD5M2T8DHlbjCHwvtEQfSM0GQ0RvUEzUewoZl3yOpYlLmPZgWVsz96OQhFMMK1pzZVcSc+mPWndujVxcXG1tyTkqYmD43UM1twKgc/CnlfAugY2+cNbxXA/0B+o5ogDtw5OZcNqdmPChZFEcIPJBroTAuOMYoYmK+jlxpNM3qA7qmizGm1eIeAqBOWuVhwK0H8Lw/yhBeKi4KZUSLoeOnWChguN974/00gMBAUZBSVt514f+gRdhyNHICfH2HbuhB9+gD17IC3NmA5hsRg1GU51DzDMD3yGwTp/6DQY4uKhVSvw9a3+6wvxB0lSwXPkeESIyiUeK2bywp1sTsqlWZgvN3WHAstaVqetJKvUSPa38m1Ify2AgdlpxGfsMQ5DvIMgpg/E9IW44RDYqE7fh7g4lTvdHMwqZn9mEfsyitibYdxmFJaf0ddmMRHiayXM30qYv41gHy8cLp1Sp5syhwu3rvD2MuPjZcbbaiYq0Jumob40DfWlSagv0SE+eHtVv9Dm5USSCuLy5SqB/F2Qvx1yNhtbQYKRRNAsEN4DIgdA9EjK/OPZk7OXjUc2svbwWrZkbOFg4UF0dEyYaExjYomlR0gPerXoRUxMDLGxsXh7e1c/nsqSA5UUOTyj7ZenIfV9KL8aNsRD2CLokF3txIFLh+Iy8LWB1WIkEkwmQLOiKdeZyYHAdtDrY6OmRMpXxhSQlhNg9U3GDvt8dbIt+kZo9aDRVl4OR24CtRyCksDfDm7AC9DMRoLBDegaWFSV8auKBq3lg4B2Rp2Gan3Pzjal4ncvpmDrVvj6a1i0yEg2AISGQkwMDOwInQtg53cwtez3z20SDR9/Ar17GyMrdu0ykg3Nmp2csiHEBZKkgufI8Yi4nByfM59f5mBXWiHbU/PZmVqA2aTRp3UD+rVpQFSgN++uPcx/ftqP1cvBiJ7ZJDmWkZCTgM3kRR/fJlxTUszVabuJspeC2QpNe0CLfsbWsCOY5PNQ1I78Ugd7M4pIzimlyO6ixO6i2O4iv9RBdrGDnGI7+WVObBYTPlYLPl4mzCaNcqdOudNNmcNNekEZ5U79d/sN97cRHeJDTLgfrSMDaBPlT6uIACICbee1sselxqNJBU3THgGeBBoCu4DHlFJrzvYc+RAXF8RdDqWpUHIEig6c3Ap2Q3EiJ4btW0NwhHQlzbcN+4lkZ6nGnuxEDuQc4GDhQTLsGUSaFZ9FwT0ZNqKIZHbDAha7x9Cp+XW0aRhIi/RnMPdZwFlPZs/WtnNK5UUOYx8whucf/QhUf0jqDj6fQmRStRMHuoJSB9jM4GUBlxvMJnC6NSxmRbEWTQBpaCbb2RMHB98xYu7zpTGNICsLIiKMk+R164y6BqmpxhSF5GTjKn9enjFqYOJEeOstaNQIHraDOQy0gdB+FRTuPnOEg2YB5cB4kwpFdd5uxbC2ygpDnlo0ssNzf+xnlHwENt0Ny+JgyQbIzjZeJygI2kZDcAno6eByQAlwb0u4og/8ZIfnPzb6enlBixbGNnu2UcPh+CiJZs2MhIUUHhLVJEkFz5HjEXGpUUpxrMjO7qOF7EovJCGtgF3pheSWOChzun9XnE/ToEUDL8r0fI4WGFeAA32h1LSX5hEJZJuScKFo4dK5tSCfEcUlBOkKwttAy2uh5QBoejVYZRSfuHgopThWbCclt5Tk3FLS8spIzSsjJa+UxGMlJ34XjgvwthDubyPA28Lx02OFwuVWuHSFy62fUeAywNtCdIgPjYN9iA4xRkMcvw32NWp3uXXj+V5mI/FxOreucLp1dKXQlRG3v83i0UKWHksqaJp2G/AR8AiwtuL2XqCtUiq5qufV+Id4dU8epK1+tpWmw9pboMsb4MiHrU9A60eMofjFiXDkUwhqD/YsVMEeStxO8txQpEMjC6yym8kmiP7WUv5dEk2GU+dv/mncnWnjgKPoROLgtgywYOLzKBPPZrUkwLsVTzdIoYd5O/nht+Hr64s1eZ5xtfxcqxxU1tbkHmj4DOx9EgoX1ch/bbduJA68Lb9PHNhdxgiE9OIgGvkXojQLJpwQ2A7t1MRB1AjwHQGpH0D5UXD9BXJzYfRoI3GwZAm8/rqRSDi+6TocOmScIE+bBpMnQ1SUcXLctKmxPfccBARAfr5RHPH0aQGrR4FPw5NJi1OTGOvGQOGuioSDHfxiUGVpaLr9xB/rC/p72fLhP/bza/kgtHsWlt0AOWNg8z5IWAsDdsN/K0ZZ/Bn41AbebmjkgiHAT4DygQFO+CwApk+EyEaw/Hn4W6bxvIkm+KY5BDeDBXNgy31gnQRpqeA1G2L+A1FtwM8Jv46rH7+X0nb+bTVEkgp/jFzkEJcTl1vnaEE5h44Vczi7hMRjJezLLGJ/ZhH5pU5AB1M5TcJ1mkVAiJ8Zm8Woxm8xleB0/0ZS6S72lqbhqqSGUozDSb8yOwMCYrkyrB1aaAyENIdGnSCk2Rn9hbhUFJQ5OZBZxKFjxRwrspNd7CC72E6x3YUGJ07qzSYNL7N2IimgVVwmUygKy5yk5pWRlldGkf33tchMmnFh8FRWswlvLxNWiwm7U6fc5a50JQ6r2USDABuRgTbC/G34Wo1pHT5WM92ahzKsQ8MznnMhPJlU2ATsUEo9cMpjB4AFSqmnq3pejX+I/5GTh0uhrdsM+OUR46StZcWP4OAciB1vnKBvmQiH3oMW9wKgEueiYsbiumIqpm2TMR/5CFfTO1BKxytlPo7Goylp/SQ+e/+J99FFlEaNQCk3fplLKGowiGPR9xB25F2CcleSG3Q1SrkJK9xEln9nDgf1p2nuUhqWJZBqbY2uXDR1JnLY1JhftOZ0cu+jlcpmjx6Irty0M5ewzWFhSYnGtT5OunrD+jJwKejjCz+VwH/z4IFgGOkPnxUZbWMCYW4BPJUFr0XAPUHwQYFx3nZ3EMzPN2FVFkaFOPg5P4jvclpxd0Q6nQLSSbfH42e2EmTZDmhoWu1N8amKUsYJs1LGeAqTBk4XFJaBvw/YTkkcONwaXmZFZq4PkaFlKN2EyaTjLg7C3H4mmnUdJH4OCTb4LQRap4F3Ocz2MZaRHDgQFi40EginW73aGML/zTfwyivQoIGRZGjY0Nhuuw3CwozpDRaLsdWU0xMO6d9DSfKJqRgKUJoNTdkpVSHYKMSiuX+XcDj+faw1TUZDh+ch4RVIng/BwyG/ANQaSGsBS0Kg/U7o7oCVGD/M/sAK4APgPqA3sAHjP2cPYL0GX1jgcRs0KYat3pBbbhTWXA7MA+7XYABguQr2p0LzNNgZClvaQJ8UiE2FBjcYQ0szv4KizmAfDcHfgmU92AZDo4aQ9AEE3wRhf4WcNyB/IYTfZoyoOPqx8fcj9iXY9YSRcGo6zvjPmDT35N+dTQ/BoTnGzwkq/s7Us7+B9a2thkhS4fzVm4scQpyFrisKy50U2104XEYhO4dLp9RhDMsucRjDuQvKnOSXOikos5Nvz6fQmU2xK4diVy5FznxK3fk4KEIzlaGZ7GCyYzY7MJvdmE0u0Fw4lbNiPGDlLErRwW6na7mdZm514oRIQ+PK8PY0bX8bxI0A31BPfXuEuCQVlDpJzS8ltWJERF6JA7NJw2LSMJk0nG79xPQMu0uvmLphxttixsuiYdY0TJqGQpFbYhS0zCwqJ6fYYUzpcLopdbi5uXM0/xjZrkZj90hSQdM0K1AK3KGU+uKUx2cA7ZVSfat6bo19iH/mc7JYnBC15NSTWV0ZJ/0Wk1Gj4Him0aSB0w0l5eBnM0YVuHXjcZfLmElw9Khxvu52gaVi1UI3FszKRVka+DQGXKB5AXpDGLEE1r8MhxfAFmClCQaZIMQE3T+FUaOM2gATJxrFDP39T24PPwzt2xvTFdasgeBgYwsJMZIFYWE1myi4EKcmGU6v4ZD+Paok2VjmUTeWINLxwqRc5DhDCfPKwY2GueLQycj+arixYMGFpp08pJLJB6LWmbzh9rJz9zsHSSqcv/pykeOrFbNwuau/Qo7wBFXxr5HNVxVfK+MLdKXj1o2hxW6lo+tGu67rKAW6Uij9+BBkha4bt26l49RdOJQTu+7CpbvQdR23Urh13ehX8Ty3202p20m524kbN7rmQje5UGYnuuYCTUdDB01H19zYzQ7KLU7KzC5UJR9evrpGiNII1MEfhb9S+OlubM5yvJSOVSlsShHi1gl2uwnWFTafUPCPBP8IrAGNaBPVBZ+IeAiNBZ9gj/5EhBAXB08lFRoBaUBfpdTqUx5/HhijlGpzWv8JwASApk2bdjly5MiFxGcoOwpbn8CZ+AleZmPUNlrFiZwbypzg4wWWy7Ct3AneNd3mAG/r+bfZK9rMx9swTsjdbrA7zdi83FW3WXXMJvX7NhfYHSZs3uqMtlO/dukaDqcVm8WB2fz7fi63iXLdDz9LEbquYTIZ/9/1itEAJY4w/Gy5FSewDgCUMqNpbhz2MKzeuRVX1u0VxysWNNygR4EpwzgJVg4IiIeisaCtAPULWLqD9zBwTjNO6rt/CptfhbI1ENAfIm6D/K/AVAADvjG+EeXlRv2C+pIE8KSzJBxUylc4o4aTF3YrQQkPY7MfQseKCScFNCJIpePGjBnjAN+lLJg1NzmOUMKsOejKjFkzVqpwKxNmTUehYdIULt1Eue6Nt7kci6b/LnnkUhoOtw2b2YH5tDa30nDoVqwm54k2Y6ic0eZSNrw0ByZNPy1ZpeHWvTCbnJg09ftRGTrougWTyYVm4ow25TKhWfTK25wampcy2ip+L0+2GSUuNHMlbS4NzazObHODcv9/e3caI0lZx3H8+++eg2VZ7mNBDjUgtxHQ6MqNbFSMBxpDVGL2BaIuii9MJARjSBSVyLXhUDFGyBKEBBMCRAxqQCIQECI3CspK5D5iQGFxd2cfXzw1bm1PT09309Pd0/X9JJ3pqaemtuq3NV3/earqqSDGmixzCtgAjNO8bT0wwcz1nG4bL9alVVuzZTZr2wism70trS+2YbZtn2X70obmeVLfMt/ec8h5PbkNwk6FzgzFSY7C+39xIG/UfLyZWouU2DIlFm/cyJYbE/ViuOJagsmU2GFqiu02JnZMsFOqsTNj7BLj7FSbZPuxRYyPL4axLYrXBNQnYWwSttoZluwKS5bmDoRF2+crDbbYxsETJXVsKDsVynp6EL/nq/mMZtuPv7NttNs6WMbivWC3j87+lINWT0Bop608AKLmV6sxHG4/MT++8vDrSE/8lNqzN7Bu5xN4Y7eT2fqBFaSUeHn/y9n+r6czsfaJ4taLdaxbtDcTa/8GMQEpXyUx/djNqcX7UH/9iab7VQzN74JtfW3r4S0Qdip0ZihOchSu+/2lTG1cP/eM6quYHvC3OOtfj8gnP8j3R9eLy5Aj8qXGUQtq5Gm1qG1qK+arRw0IJuvjTNYmmayPM1ar51sIIvI/FLX/v4+oMVGfYLw2zkR9gsn6JLV60etZG4P6ePF1ong/ns+ASNIAVef2B2h96XQv/jC0bWG1dbIM/+BX2RwdE8Dw7e+2DU9bDz9P7FTozNCc5JAkaYT0e6DGB1JKp5amPQ78qq8DNUqSNCLsVOjM0JzkkCRphPSiHmn3mqsLgBURcUpE7B8Rq4DdgJ+8lX9ckiSpHSmldeThbJc3NC0H7uz/GkmSJIC2RoRLKV0bETsA3yY/F/ph4ISUUu9uUJQkSWrtAmB1RNwD3AF8BU9ySJI0UG0PM59Sugzo3QO6JUmSOuBJDkmShk8Fn10nSZIWKk9ySJI0XHyOjSRJkiRJ6oqdCpIkSZIkqSt2KkiSJEmSpK7YqSBJkiRJkrpip4IkSZIkSeqKnQqSJEmSJKkrdipIkiRJkqSu2KkgSZIkSZK6YqeCJEmSJEnqip0KkiRJkiSpK5FSmr+FR7wEPNXjxe4IvNzjZY4Cc5nJTJozl+bMpTlzmalXmeyVUtqpB8vRHKxHBsJ8WjOf1sxnbmbUmvm0Vs7nLdcj89qpMB8i4t6U0nsHvR7DxlxmMpPmzKU5c2nOXGYyE4H7wVzMpzXzac185mZGrZlPa73Ox9sfJEmSJElSV+xUkCRJkiRJXVmInQqXD3oFhpS5zGQmzZlLc+bSnLnMZCYC94O5mE9r5tOa+czNjFozn9Z6ms+CG1NBkiRJkiQNh4V4pYIkSZIkSRoCdipIkiRJkqSu2KkgSZIkSZK6smA6FSJiZUSsiYg3I+K+iDhy0OvUTxFxZkT8KSJei4iXIuLGiDioYZ6IiLMj4tmIWBsRt0XEgYNa534rMkoRcUlpWiUziYhdI+LKYl95MyIejYijS+2VyyUi6hHx3dLnyJqI+F5EjJXmGflcIuKoiLghIp4pfl9WNLTPmUFEbBcRqyPi1eK1OiK27euG9FirXCJiPCLOjYgHI+L1iHguIq6OiD0bljEZERdHxMvFfDdExO593xjNq6rXI9OsSzpjjdKc9crsrFs2Z/3S2qDrmAXRqRARJwGrgO8DhwB3Ajc3BjHijgEuAz4IHAdsAH4XEduX5vkW8E3g68D7gBeB30bEkv6uav9FxAeAU4EHG5oql0nx4XgHEMDHgP3J2/9iabbK5QKcAZwGnA7sB3yj+P7M0jxVyGUr4GHy9q9t0t5OBlcDhwIfKV6HAqvncZ37oVUuW5K38Zzi6yeBPYDflIs74CLgM8DngCOBrYGbIqI+v6uufrEe2cwxWJe0xRqlOeuVOVm3bM76pbXB1jEppaF/AXcDP2uY9gTwg0Gv2wAz2QqYAj5efB/Ac8BZpXkWAf8Gvjzo9Z3nLLYB/g4cC9wGXFLlTMjF7h0t2quay03AlQ3TrgRuqmouwH+AFZ3sG+SiLwGHl+Y5opi276C3aT5ymWWeA4ptPrj4fhtgHfCF0jx7ABuBDw96m3z1bN+wHpk9G+uS5rlYo8yejfVK63ysW2bPxvqlg3xmmaendczQX6kQERPAYcAtDU23kHvHq2oJ+UqTfxXfvwNYSimnlNJa4HZGP6fLgetSSrc2TK9qJp8C7o6IayPixYi4PyK+FhFRtFc1lz8Cx0bEfgARcQD57Nqvi/aq5lLWTgbLyAerO0s/dwfwOtXJCXLvPWz6DD4MGGfz7P4JPEa1chlZ1iNzsi5pzhpldtYrrVm3tM/6pXM9rWPG5pphCOwI1IEXGqa/ABzf/9UZGquA+4G7iu+XFl+b5fS2fq1Uv0XEl4C9gZObNFcyE+CdwErgQuCHwHuAi4u2S6huLueSi95HI2KK/Pl3TkrpsqK9qrmUtZPBUuClVHRhA6SUUkS8WPr5kVb8cXk+cGNK6eli8lLyWdqXG2Z/gYrkUgHWI61ZlzSwRpmT9Upr1i3ts37pwHzUMQuhU0ENIuIC8uU6R6SUpga9PoMSEfuSL507IqW0ftDrM0RqwL0ppel77v4cEfuQ78O7ZPYfG3knAV8EPg88Qi5eVkXEmpTSzwe6ZlowinsPrwK2BT4x4NWRhoJ1yUzWKG2xXmnNukU9N191zNDf/kDuLZkCdmmYvgvwfP9XZ7Ai4kLy4BnHpZSeLDVNZ1GlnJaRzxw9EhEbImIDcDSwsnj/SjFflTKBfE/Zow3THgOmBxKr4r4C8CPgvJTSNSkZWa7AAAACsUlEQVSlh1JKq4EL2DTgUVVzKWsng+eBnUqXp1K835kRz6k4EP8SeDfwoZTSK6Xm58lnsXds+LEq7T+jznqkCeuSWVmjzM16pTXrlvZZv7RhPuuYoe9USCmtA+4Dljc0LWfze2JGXkSsYtOB+y8NzWvI/+HLS/NvQR65c1Rzuh44mNxzO/26F7imeP841csE8v1h+zZMexfwVPG+ivsK5JFvG8+gTbHpc7CquZS1k8Fd5AHZlpV+bhmwmBHOKSLGgWvJB+JjU0qNB9j7gPVsnt3u5IGhRjaXKrEemcm6pCVrlLlZr7Rm3dI+65c5zHsdM+jRKdscwfIk8miUpxQbtoo80MZeg163PmZwKfAaeYCWpaXXVqV5zgBeBT4NHEQ+cD0LLBn0+vcxp9soRlauaibkx+isB84i38v52SKD0yqeyxXA0+THVr0dOBF4CTi/SrmQD6jTBe4bwHeK93u2mwFwM/AQ+WC8rHh/46C3bb5yId8qeD3wDPlRTOXP4EWlZfy42MeOJz9u8FbyPeb1QW+fr57tJ5WvR0pZWJd0nlnla5SGPKxXWudj3bJ5HtYvXebTjzpm4AF0ENRK4B/Af8k9KUcNep36vP1pltfZpXkCOJt8OdmbwB+Agwa97n3OqfGAXclMigPQA8U2P05+xnFUORfyYEcXkc+ArAWeJN/vukWVciE/W77ZZ8kV7WYAbEe+H++14nUVsO2gt22+ciEXc7N9Bq8oLWOSPMjYK+QD+o3AHoPeNl8931cqXY+UcrAu6Twza5SZmVivzJ6NdcvmeVi/dJlPP+qYKBYgSZIkSZLUkaEfU0GSJEmSJA0nOxUkSZIkSVJX7FSQJEmSJEldsVNBkiRJkiR1xU4FSZIkSZLUFTsVJEmSJElSV+xUkCRJkiRJXbFTQZIkSZIkdeV/2vl9XD5rqpoAAAAASUVORK5CYII=\n",
                "text/plain": "<Figure size 1296x504 with 2 Axes>"
              }
            ],
            "_view_module": "@jupyter-widgets/output",
            "_model_module_version": "1.0.0",
            "_view_count": null,
            "_view_module_version": "1.0.0",
            "layout": "IPY_MODEL_7cb4dc7890794b85948fa439817bdff7",
            "_model_module": "@jupyter-widgets/output"
          }
        },
        "b65fc46c80ec4959aa042d9f07bd3076": {
          "model_module": "@jupyter-widgets/controls",
          "model_name": "SliderStyleModel",
          "state": {
            "_view_name": "StyleView",
            "handle_color": null,
            "_model_name": "SliderStyleModel",
            "description_width": "",
            "_view_module": "@jupyter-widgets/base",
            "_model_module_version": "1.5.0",
            "_view_count": null,
            "_view_module_version": "1.2.0",
            "_model_module": "@jupyter-widgets/controls"
          }
        },
        "30f3bffb2a5f4610a7d508a2b67b192b": {
          "model_module": "@jupyter-widgets/base",
          "model_name": "LayoutModel",
          "state": {
            "_view_name": "LayoutView",
            "grid_template_rows": null,
            "right": null,
            "justify_content": null,
            "_view_module": "@jupyter-widgets/base",
            "overflow": null,
            "_model_module_version": "1.2.0",
            "_view_count": null,
            "flex_flow": null,
            "width": null,
            "min_width": null,
            "border": null,
            "align_items": null,
            "bottom": null,
            "_model_module": "@jupyter-widgets/base",
            "top": null,
            "grid_column": null,
            "overflow_y": null,
            "overflow_x": null,
            "grid_auto_flow": null,
            "grid_area": null,
            "grid_template_columns": null,
            "flex": null,
            "_model_name": "LayoutModel",
            "justify_items": null,
            "grid_row": null,
            "max_height": null,
            "align_content": null,
            "visibility": null,
            "align_self": null,
            "height": null,
            "min_height": null,
            "padding": null,
            "grid_auto_rows": null,
            "grid_gap": null,
            "max_width": null,
            "order": null,
            "_view_module_version": "1.2.0",
            "grid_template_areas": null,
            "object_position": null,
            "object_fit": null,
            "grid_auto_columns": null,
            "margin": null,
            "display": null,
            "left": null
          }
        },
        "c851217fb579466682a1829a967f04f5": {
          "model_module": "@jupyter-widgets/controls",
          "model_name": "SliderStyleModel",
          "state": {
            "_view_name": "StyleView",
            "handle_color": null,
            "_model_name": "SliderStyleModel",
            "description_width": "",
            "_view_module": "@jupyter-widgets/base",
            "_model_module_version": "1.5.0",
            "_view_count": null,
            "_view_module_version": "1.2.0",
            "_model_module": "@jupyter-widgets/controls"
          }
        },
        "52fc1579237548f1a4cdc5b698ff1b74": {
          "model_module": "@jupyter-widgets/base",
          "model_name": "LayoutModel",
          "state": {
            "_view_name": "LayoutView",
            "grid_template_rows": null,
            "right": null,
            "justify_content": null,
            "_view_module": "@jupyter-widgets/base",
            "overflow": null,
            "_model_module_version": "1.2.0",
            "_view_count": null,
            "flex_flow": null,
            "width": null,
            "min_width": null,
            "border": null,
            "align_items": null,
            "bottom": null,
            "_model_module": "@jupyter-widgets/base",
            "top": null,
            "grid_column": null,
            "overflow_y": null,
            "overflow_x": null,
            "grid_auto_flow": null,
            "grid_area": null,
            "grid_template_columns": null,
            "flex": null,
            "_model_name": "LayoutModel",
            "justify_items": null,
            "grid_row": null,
            "max_height": null,
            "align_content": null,
            "visibility": null,
            "align_self": null,
            "height": null,
            "min_height": null,
            "padding": null,
            "grid_auto_rows": null,
            "grid_gap": null,
            "max_width": null,
            "order": null,
            "_view_module_version": "1.2.0",
            "grid_template_areas": null,
            "object_position": null,
            "object_fit": null,
            "grid_auto_columns": null,
            "margin": null,
            "display": null,
            "left": null
          }
        },
        "62689b8b436e4ad4b1781cd70666a55b": {
          "model_module": "@jupyter-widgets/controls",
          "model_name": "SliderStyleModel",
          "state": {
            "_view_name": "StyleView",
            "handle_color": null,
            "_model_name": "SliderStyleModel",
            "description_width": "",
            "_view_module": "@jupyter-widgets/base",
            "_model_module_version": "1.5.0",
            "_view_count": null,
            "_view_module_version": "1.2.0",
            "_model_module": "@jupyter-widgets/controls"
          }
        },
        "330fc6f1147a45d78132a8b68a7d5649": {
          "model_module": "@jupyter-widgets/base",
          "model_name": "LayoutModel",
          "state": {
            "_view_name": "LayoutView",
            "grid_template_rows": null,
            "right": null,
            "justify_content": null,
            "_view_module": "@jupyter-widgets/base",
            "overflow": null,
            "_model_module_version": "1.2.0",
            "_view_count": null,
            "flex_flow": null,
            "width": null,
            "min_width": null,
            "border": null,
            "align_items": null,
            "bottom": null,
            "_model_module": "@jupyter-widgets/base",
            "top": null,
            "grid_column": null,
            "overflow_y": null,
            "overflow_x": null,
            "grid_auto_flow": null,
            "grid_area": null,
            "grid_template_columns": null,
            "flex": null,
            "_model_name": "LayoutModel",
            "justify_items": null,
            "grid_row": null,
            "max_height": null,
            "align_content": null,
            "visibility": null,
            "align_self": null,
            "height": null,
            "min_height": null,
            "padding": null,
            "grid_auto_rows": null,
            "grid_gap": null,
            "max_width": null,
            "order": null,
            "_view_module_version": "1.2.0",
            "grid_template_areas": null,
            "object_position": null,
            "object_fit": null,
            "grid_auto_columns": null,
            "margin": null,
            "display": null,
            "left": null
          }
        },
        "9417d85a67e44c12a646de1594131747": {
          "model_module": "@jupyter-widgets/controls",
          "model_name": "SliderStyleModel",
          "state": {
            "_view_name": "StyleView",
            "handle_color": null,
            "_model_name": "SliderStyleModel",
            "description_width": "",
            "_view_module": "@jupyter-widgets/base",
            "_model_module_version": "1.5.0",
            "_view_count": null,
            "_view_module_version": "1.2.0",
            "_model_module": "@jupyter-widgets/controls"
          }
        },
        "282dd65f60fb4f5eae95a066205af88b": {
          "model_module": "@jupyter-widgets/base",
          "model_name": "LayoutModel",
          "state": {
            "_view_name": "LayoutView",
            "grid_template_rows": null,
            "right": null,
            "justify_content": null,
            "_view_module": "@jupyter-widgets/base",
            "overflow": null,
            "_model_module_version": "1.2.0",
            "_view_count": null,
            "flex_flow": null,
            "width": null,
            "min_width": null,
            "border": null,
            "align_items": null,
            "bottom": null,
            "_model_module": "@jupyter-widgets/base",
            "top": null,
            "grid_column": null,
            "overflow_y": null,
            "overflow_x": null,
            "grid_auto_flow": null,
            "grid_area": null,
            "grid_template_columns": null,
            "flex": null,
            "_model_name": "LayoutModel",
            "justify_items": null,
            "grid_row": null,
            "max_height": null,
            "align_content": null,
            "visibility": null,
            "align_self": null,
            "height": null,
            "min_height": null,
            "padding": null,
            "grid_auto_rows": null,
            "grid_gap": null,
            "max_width": null,
            "order": null,
            "_view_module_version": "1.2.0",
            "grid_template_areas": null,
            "object_position": null,
            "object_fit": null,
            "grid_auto_columns": null,
            "margin": null,
            "display": null,
            "left": null
          }
        },
        "2151c9947bfc405aa288f6fa91dd0938": {
          "model_module": "@jupyter-widgets/controls",
          "model_name": "SliderStyleModel",
          "state": {
            "_view_name": "StyleView",
            "handle_color": null,
            "_model_name": "SliderStyleModel",
            "description_width": "",
            "_view_module": "@jupyter-widgets/base",
            "_model_module_version": "1.5.0",
            "_view_count": null,
            "_view_module_version": "1.2.0",
            "_model_module": "@jupyter-widgets/controls"
          }
        },
        "4e2048117e684443a235842893efd5ed": {
          "model_module": "@jupyter-widgets/base",
          "model_name": "LayoutModel",
          "state": {
            "_view_name": "LayoutView",
            "grid_template_rows": null,
            "right": null,
            "justify_content": null,
            "_view_module": "@jupyter-widgets/base",
            "overflow": null,
            "_model_module_version": "1.2.0",
            "_view_count": null,
            "flex_flow": null,
            "width": null,
            "min_width": null,
            "border": null,
            "align_items": null,
            "bottom": null,
            "_model_module": "@jupyter-widgets/base",
            "top": null,
            "grid_column": null,
            "overflow_y": null,
            "overflow_x": null,
            "grid_auto_flow": null,
            "grid_area": null,
            "grid_template_columns": null,
            "flex": null,
            "_model_name": "LayoutModel",
            "justify_items": null,
            "grid_row": null,
            "max_height": null,
            "align_content": null,
            "visibility": null,
            "align_self": null,
            "height": null,
            "min_height": null,
            "padding": null,
            "grid_auto_rows": null,
            "grid_gap": null,
            "max_width": null,
            "order": null,
            "_view_module_version": "1.2.0",
            "grid_template_areas": null,
            "object_position": null,
            "object_fit": null,
            "grid_auto_columns": null,
            "margin": null,
            "display": null,
            "left": null
          }
        },
        "bdafa848af9b4bd3bd2b6149bd601bb4": {
          "model_module": "@jupyter-widgets/controls",
          "model_name": "SliderStyleModel",
          "state": {
            "_view_name": "StyleView",
            "handle_color": null,
            "_model_name": "SliderStyleModel",
            "description_width": "",
            "_view_module": "@jupyter-widgets/base",
            "_model_module_version": "1.5.0",
            "_view_count": null,
            "_view_module_version": "1.2.0",
            "_model_module": "@jupyter-widgets/controls"
          }
        },
        "dc2b50205fab44ae8a0ab116a37ab9eb": {
          "model_module": "@jupyter-widgets/base",
          "model_name": "LayoutModel",
          "state": {
            "_view_name": "LayoutView",
            "grid_template_rows": null,
            "right": null,
            "justify_content": null,
            "_view_module": "@jupyter-widgets/base",
            "overflow": null,
            "_model_module_version": "1.2.0",
            "_view_count": null,
            "flex_flow": null,
            "width": null,
            "min_width": null,
            "border": null,
            "align_items": null,
            "bottom": null,
            "_model_module": "@jupyter-widgets/base",
            "top": null,
            "grid_column": null,
            "overflow_y": null,
            "overflow_x": null,
            "grid_auto_flow": null,
            "grid_area": null,
            "grid_template_columns": null,
            "flex": null,
            "_model_name": "LayoutModel",
            "justify_items": null,
            "grid_row": null,
            "max_height": null,
            "align_content": null,
            "visibility": null,
            "align_self": null,
            "height": null,
            "min_height": null,
            "padding": null,
            "grid_auto_rows": null,
            "grid_gap": null,
            "max_width": null,
            "order": null,
            "_view_module_version": "1.2.0",
            "grid_template_areas": null,
            "object_position": null,
            "object_fit": null,
            "grid_auto_columns": null,
            "margin": null,
            "display": null,
            "left": null
          }
        },
        "7cb4dc7890794b85948fa439817bdff7": {
          "model_module": "@jupyter-widgets/base",
          "model_name": "LayoutModel",
          "state": {
            "_view_name": "LayoutView",
            "grid_template_rows": null,
            "right": null,
            "justify_content": null,
            "_view_module": "@jupyter-widgets/base",
            "overflow": null,
            "_model_module_version": "1.2.0",
            "_view_count": null,
            "flex_flow": null,
            "width": null,
            "min_width": null,
            "border": null,
            "align_items": null,
            "bottom": null,
            "_model_module": "@jupyter-widgets/base",
            "top": null,
            "grid_column": null,
            "overflow_y": null,
            "overflow_x": null,
            "grid_auto_flow": null,
            "grid_area": null,
            "grid_template_columns": null,
            "flex": null,
            "_model_name": "LayoutModel",
            "justify_items": null,
            "grid_row": null,
            "max_height": null,
            "align_content": null,
            "visibility": null,
            "align_self": null,
            "height": null,
            "min_height": null,
            "padding": null,
            "grid_auto_rows": null,
            "grid_gap": null,
            "max_width": null,
            "order": null,
            "_view_module_version": "1.2.0",
            "grid_template_areas": null,
            "object_position": null,
            "object_fit": null,
            "grid_auto_columns": null,
            "margin": null,
            "display": null,
            "left": null
          }
        }
      }
    }
  },
  "cells": [
    {
      "cell_type": "markdown",
      "metadata": {
        "id": "view-in-github",
        "colab_type": "text"
      },
      "source": [
        "<a href=\"https://colab.research.google.com/github/akhavan12/discrete_covid_model/blob/master/Discrete_ver_09.ipynb\" target=\"_parent\"><img src=\"https://colab.research.google.com/assets/colab-badge.svg\" alt=\"Open In Colab\"/></a>"
      ]
    },
    {
      "cell_type": "code",
      "metadata": {
        "id": "CHAfJoVPfpXb",
        "colab_type": "code",
        "colab": {}
      },
      "source": [
        "import numpy as np\n",
        "import pandas as pd\n",
        "import matplotlib.pyplot as plt\n",
        "import seaborn as sns\n",
        "import ipywidgets as widgets\n",
        "from ipywidgets import interact, interact_manual, interactive\n",
        "from ipywidgets import FloatSlider, IntSlider\n",
        "pd.options.display.max_rows = 999\n",
        "#https://github.com/DataHerb/dataset-covid-19/tree/master/csse_covid_19_time_series"
      ],
      "execution_count": 0,
      "outputs": []
    },
    {
      "cell_type": "code",
      "metadata": {
        "id": "iR0cZvLo8Eui",
        "colab_type": "code",
        "outputId": "13179de9-9d85-4ae7-9949-fa8d1516477d",
        "colab": {
          "base_uri": "https://localhost:8080/",
          "height": 68
        }
      },
      "source": [
        "df = pd.read_csv('https://raw.githubusercontent.com/CSSEGISandData/COVID-19/master/csse_covid_19_data/csse_covid_19_time_series/time_series_covid19_confirmed_global.csv')\n",
        "df[(df['Country/Region']=='France') ]['Province/State'].values"
      ],
      "execution_count": 0,
      "outputs": [
        {
          "output_type": "execute_result",
          "data": {
            "text/plain": [
              "array(['French Guiana', 'French Polynesia', 'Guadeloupe', 'Mayotte',\n",
              "       'New Caledonia', 'Reunion', 'Saint Barthelemy', 'St Martin',\n",
              "       'Martinique', nan, 'Saint Pierre and Miquelon'], dtype=object)"
            ]
          },
          "metadata": {
            "tags": []
          },
          "execution_count": 273
        }
      ]
    },
    {
      "cell_type": "code",
      "metadata": {
        "id": "hIQCpWP2qOQM",
        "colab_type": "code",
        "colab": {}
      },
      "source": [
        "def get_actual_ts(key='confirmed',country='Italy',rolling=4,population=60_000_000):\n",
        "  \"\"\"\n",
        "    retrive informaton from actual cases database\n",
        "    Parameters: \n",
        "    key (str): \"confirmed\", \"recovered\" or \"dead\"\n",
        "    country (str): defult is italy (not case sensetive)\n",
        "    rolling (int): rolling average for the daily cases\n",
        "  \n",
        "    Returns: \n",
        "    pandas dataframe: based on the type of the key\n",
        "  \n",
        "  \"\"\"\n",
        " \n",
        "  if key == \"confirmed\":\n",
        "    df = pd.read_csv('https://raw.githubusercontent.com/CSSEGISandData/COVID-19/master/csse_covid_19_data/csse_covid_19_time_series/time_series_covid19_confirmed_global.csv')\n",
        "  elif key == \"recovered\":\n",
        "    df = pd.read_csv('https://raw.githubusercontent.com/CSSEGISandData/COVID-19/master/csse_covid_19_data/csse_covid_19_time_series/time_series_covid19_recovered_global.csv')\n",
        "  elif key == \"dead\":\n",
        "    df = pd.read_csv('https://raw.githubusercontent.com/CSSEGISandData/COVID-19/master/csse_covid_19_data/csse_covid_19_time_series/time_series_covid19_deaths_global.csv')\n",
        "  else:\n",
        "    return -1\n",
        "\n",
        "\n",
        "  df_=df[(df['Country/Region'].str.lower()==country.lower()) & (df['Province/State'].isnull())].T  \n",
        "  df_ = df_.iloc[4:]\n",
        "  df_ = df_.set_index(pd.to_datetime(df_.index))\n",
        "  df_.columns=['cumulative']\n",
        "  df_['daily'] = df_['cumulative'] - df_['cumulative'].shift(1).fillna(0)\n",
        "  df_['rolling'] = df_['daily'].rolling(rolling).mean().fillna(0)\n",
        "  df_['cumulative_percent']= (df_['cumulative'] / population) * 100\n",
        "  return df_\n"
      ],
      "execution_count": 0,
      "outputs": []
    },
    {
      "cell_type": "markdown",
      "metadata": {
        "id": "ZYbQoU1lSUzr",
        "colab_type": "text"
      },
      "source": [
        "## Live Data"
      ]
    },
    {
      "cell_type": "code",
      "metadata": {
        "id": "xJc_WJJPvikq",
        "colab_type": "code",
        "outputId": "29c56627-3574-4142-fd14-50dacfeafa42",
        "colab": {
          "base_uri": "https://localhost:8080/",
          "height": 568
        }
      },
      "source": [
        "\n",
        "def country_situation(country='Italy',population=60_000_000):\n",
        "  df_confirmed=get_actual_ts(key='confirmed',country=country)\n",
        "  df_death=get_actual_ts(key='dead',country=country)\n",
        "  df_recovered=get_actual_ts(key='recovered',country=country)\n",
        "\n",
        "  act_confirmed = df_confirmed['cumulative_percent'].values\n",
        "  act_death = df_death['cumulative_percent'].values\n",
        "  act_recovered =  df_recovered['cumulative_percent'].values\n",
        "  return [act_confirmed,act_death,act_recovered]\n",
        "\n",
        "italy_data = country_situation(country = 'Italy',population = 60_000_000)\n",
        "germany_data = country_situation(country = 'Germany',population = 83_000_000)\n",
        "spain_data = country_situation(country = 'Spain',population = 46_000_000)\n",
        "france_data = country_situation(country = 'France',population = 65_000_000)\n",
        "\n",
        "\n",
        "\n",
        "f,axa = plt.subplots(2,2,figsize=(12,8),sharex=True,sharey=True)\n",
        "ax=axa.ravel()\n",
        "ax[0].plot(italy_data[0],label='cumulative confirmed % population')\n",
        "ax[0].plot(italy_data[1],label='cumulative death % population')\n",
        "ax[0].plot(italy_data[2],label='cumulative recovered  % population')\n",
        "ax[0].set_title('Italy',fontsize=16)\n",
        "ax[0].tick_params(labelsize=14)\n",
        "\n",
        "\n",
        "ax[1].plot(germany_data[0],label=None)\n",
        "ax[1].plot(germany_data[1],label=None)\n",
        "ax[1].plot(germany_data[2],label=None)\n",
        "ax[1].set_title('Germany',fontsize=16)\n",
        "ax[1].tick_params(labelsize=14)\n",
        "\n",
        "\n",
        "ax[2].plot(spain_data[0],label=None)\n",
        "ax[2].plot(spain_data[1],label=None)\n",
        "ax[2].plot(spain_data[2],label=None)\n",
        "ax[2].set_title('Spain',fontsize=16)\n",
        "ax[2].tick_params(labelsize=14)\n",
        "\n",
        "\n",
        "ax[3].plot(france_data[0],label=None)\n",
        "ax[3].plot(france_data[1],label=None)\n",
        "ax[3].plot(france_data[2],label=None)\n",
        "ax[3].set_title('France',fontsize=16)\n",
        "\n",
        "ax[3].tick_params(labelsize=14)\n",
        "\n",
        "\n",
        "f.legend()"
      ],
      "execution_count": 390,
      "outputs": [
        {
          "output_type": "execute_result",
          "data": {
            "text/plain": [
              "<matplotlib.legend.Legend at 0x7f2e08c46390>"
            ]
          },
          "metadata": {
            "tags": []
          },
          "execution_count": 390
        },
        {
          "output_type": "display_data",
          "data": {
            "image/png": "[encoded data removed]",
            "text/plain": [
              "<Figure size 864x576 with 4 Axes>"
            ]
          },
          "metadata": {
            "tags": [],
            "needs_background": "light"
          }
        }
      ]
    },
    {
      "cell_type": "markdown",
      "metadata": {
        "id": "KPdmMZJphZgz",
        "colab_type": "text"
      },
      "source": [
        "![alt text](https://raw.githubusercontent.com/akhavan12/discrete_covid_model/master/Model_Discrete_v4_new.svg)\n"
      ]
    },
    {
      "cell_type": "code",
      "metadata": {
        "id": "eBUUYZPGtf3U",
        "colab_type": "code",
        "colab": {}
      },
      "source": [
        "prc = 2 ## Precision for the calculations\n",
        "T = []\n",
        "def set_probs_Other_Exposed(Probs):\n",
        "  ### Other_Exp,Other_Symp\n",
        "  Probs[\"Other_Exposed\"] = [\n",
        "          [1.00,0.00], #0\n",
        "          [0.80,0.20], #1\n",
        "          [0.60,0.40], #2\n",
        "          [0.30,0.70], #3\n",
        "          [0.00,1.00], #4\n",
        "  ]\n",
        "def set_probs_Other_Symp(Probs):\n",
        "  ### Other_Symp,Susceptible   \n",
        "  Probs['Other_Symp'] =[[0.80,  0.20],\n",
        "                        [0.50,  0.50 ], \n",
        "                        [0.00,  1.00]]      \n",
        "\n",
        "def set_probs_M(Probs):\n",
        "  ### M,R,Severe\n",
        "  \"\"\"  Probs[\"M\"] = [\n",
        "          [1.00,0.00,0.00], #0\n",
        "          [0.80,0.00,0.20], #1\n",
        "          [0.60,0.00,0.40], #2\n",
        "          [0.50,0.10,0.40], #3\n",
        "          [0.40,0.40,0.20], #4\n",
        "          [0.30,0.30,0.40], #5\n",
        "          [0.30,0.50,0.20], #6\n",
        "          [0.30,0.50,0.20], #7\n",
        "          [0.30,0.50,0.20], #8\n",
        "          [0.30,0.50,0.20], #9\n",
        "          [0.30,0.50,0.20], #10 \n",
        "          [0.30,0.50,0.20], #11\n",
        "          [0.20,0.60,0.20], #12 \n",
        "          [0.00,0.00,1] #13\n",
        "          ]\"\"\"\n",
        "\n",
        "  def m_at_day(num_days = 14,alpha_r = .8):\n",
        "      ## https://www.graphpad.com/guides/prism/7/curve-fitting/reg_classic_boltzmann.htm\n",
        "      Tdays = np.arange(num_days) #x\n",
        "      Top = 1\n",
        "      Buttom = 0\n",
        "      v50= num_days/2\n",
        "      slope= 1.8\n",
        "      m_to_m = Top +  (Buttom - Top)/(1+ np.exp((v50 - Tdays)/slope))\n",
        "      m_to_r = alpha_r*(1 - m_to_m)\n",
        "      m_to_v = 1 - (m_to_m+m_to_r)\n",
        "      return pd.DataFrame({'m_to_m': m_to_m, 'm_to_r' :m_to_r,'m_to_v': m_to_v})\n",
        "  \n",
        "  Probs[\"M\"] = m_at_day(num_days = 14,alpha_r = .8).values\n",
        "\n",
        "def set_probs_MU(Probs):\n",
        "  ### MU,R\n",
        "  Probs[\"M_undiagnosed\"] = [\n",
        "          [1.00,0.00], #0\n",
        "          [0.80,0.20], #1\n",
        "          [0.60,0.40], #2\n",
        "          [0.50,0.50], #3\n",
        "          [0.40,0.60], #4\n",
        "          [0.30,0.70], #5\n",
        "          [0.30,0.70], #6\n",
        "          [0.30,0.70], #7\n",
        "          [0.30,0.70], #8\n",
        "          [0.30,0.70], #9\n",
        "          [0.30,0.70], #10 \n",
        "          [0.30,0.70], #11\n",
        "          [0.30,0.70], #12 \n",
        "          [0.00,1.00]  #13\n",
        "  ]\n",
        "\n",
        "def set_probs_Severe(Probs):\n",
        "  ### Severe,R,V,D\n",
        "  \"\"\"Probs[\"Severe\"] = [\n",
        "          [0.70,0.10,0.10,0.10], #0\n",
        "          [0.70,0.10,0.10,0.10], #1\n",
        "          [0.70,0.10,0.10,0.10], #2\n",
        "          [0.40,0.10,0.30,0.20], #3\n",
        "          [0.30,0.30,0.30,0.20], #4\n",
        "          [0.10,0.40,0.30,0.20], #5\n",
        "          [0.10,0.40,0.30,0.20], #6\n",
        "          [0.10,0.40,0.30,0.20], #7\n",
        "          [0.10,0.40,0.30,0.20], #8\n",
        "          [0.10,0.40,0.30,0.20], #9\n",
        "          [0.10,0.40,0.30,0.20], #10\n",
        "          [0.10,0.40,0.30,0.20], #11\n",
        "          [0.10,0.40,0.30,0.20], #12\n",
        "          [0.00,0.00,1.00,0.00]  #13\n",
        "        ]\"\"\"\n",
        "\n",
        "  def w_at_day(num_days = 14,alpha_r = .2,alpha_v = .2):\n",
        "      ## https://www.graphpad.com/guides/prism/7/curve-fitting/reg_classic_boltzmann.htm\n",
        "      Tdays = np.arange(num_days) #x\n",
        "      Top = 1\n",
        "      Buttom = 0\n",
        "      v50= num_days/3\n",
        "      slope= 1.8\n",
        "      w_to_w = Top +  (Buttom - Top)/(1+ np.exp((v50 - Tdays)/slope))\n",
        "\n",
        "      w_to_r = alpha_r*(1 - w_to_w)\n",
        "      w_to_v = alpha_v*(1 - w_to_w)\n",
        "      w_to_d = 1 - (w_to_w+w_to_r+w_to_v)\n",
        "      return pd.DataFrame({'w_to_w': w_to_w, \n",
        "                           'w_to_r' :w_to_r, \n",
        "                           'w_to_v' :w_to_v,\n",
        "                           'w_to_d': w_to_d})\n",
        "  Probs[\"Severe\"] = w_at_day(num_days = 14,alpha_r = .2,alpha_v = .2).values\n",
        "\n",
        "def set_probs_ventilator(Probs):\n",
        "  ### V,R,D \n",
        "  \"\"\"Probs[\"ventilator\"] = [\n",
        "          [0.50,0.45,0.05], #0\n",
        "          [0.40,0.55,0.05], #1\n",
        "          [0.40,0.55,0.05], #2\n",
        "          [0.30,0.65,0.05], #3\n",
        "          [0.40,0.20,0.30], #6\n",
        "          [0.40,0.20,0.30], #7\n",
        "          [0.40,0.20,0.30], #8\n",
        "          [0.10,0.10,0.80], #9\n",
        "          [0.10,0.10,0.80], #10\n",
        "          [0.10,0.10,0.80], #11\n",
        "          [0.10,0.10,0.80], #12\n",
        "          [0.00,0.00,1.00]  #13\n",
        "          ]\"\"\" \n",
        "\n",
        "  def v_at_day(num_days = 20,alpha_r = .2):\n",
        "      ## https://www.graphpad.com/guides/prism/7/curve-fitting/reg_classic_boltzmann.htm\n",
        "      Tdays = np.arange(num_days) #x\n",
        "      Top = 1\n",
        "      Buttom = 0\n",
        "      v50= num_days/2\n",
        "      slope= 1.8\n",
        "      v_to_v = Top +  (Buttom - Top)/(1+ np.exp((v50 - Tdays)/slope))\n",
        "      v_to_r = alpha_r*(1 - v_to_v)\n",
        "      v_to_d = 1 - (v_to_v+v_to_r)\n",
        "      return pd.DataFrame({'v_to_v': v_to_v, 'v_to_r' :v_to_r,'v_to_d': v_to_d})\n",
        "  Probs[\"ventilator\"] = v_at_day(20).values\n",
        "\n",
        "def set_probs_Symp(Probs):\n",
        "  ### Symp,M   0: not tested, 1: tested positive ,2: tested negative\n",
        "  Probs['Symp'] =[[0.20,  0.80 , 0.00 ], #0 Testing and + cases go to Mild cases , negative cases go back to Healthy\n",
        "                  [0.00,  0.60 , 0.40 ]]      #1 ###  all remainings go to Mild cases \n",
        "\n",
        "def set_probs_E(Probs):\n",
        "  ### E,Symp\n",
        "  \"\"\"Probs[\"E\"] = [[1.00,0.00], #0 ### first day of exposure\n",
        "                [0.50,0.50], #1       \n",
        "                [0.40,0.60], #2 \n",
        "                [0.30,0.70], #4\n",
        "                [0.20,0.80], #5\n",
        "                [0.10,0.90], #6\n",
        "                [0.05,0.95], #7\n",
        "                [0.05,0.95], #8\n",
        "                [0.05,0.95], #9\n",
        "                [0.05,0.95], #10\n",
        "                [0.05,0.95], #11\n",
        "                [0.05,0.95], #12\n",
        "                [0.05,0.95], #13\n",
        "                [0.05,0.95], #14\n",
        "                [0.05,0.95], #15\n",
        "                [0.05,0.95], #16\n",
        "                [0.05,0.95], #17\n",
        "                [0.05,0.95], #18\n",
        "                [0.05,0.95], #19\n",
        "                [0.00,1.00]  #20\n",
        "                ]\"\"\"\n",
        "\n",
        "  def e_at_day(num_days = 20):\n",
        "      ## https://www.graphpad.com/guides/prism/7/curve-fitting/reg_classic_boltzmann.htm\n",
        "      Tdays = np.arange(num_days) #x\n",
        "      Top = 1\n",
        "      Buttom = 0\n",
        "      v50= 5\n",
        "      slope= 1.8\n",
        "      e_to_m = Top +  (Buttom - Top)/(1+ np.exp((v50 - Tdays)/slope))\n",
        "      e_to_e = 1 - (v_to_v+v_to_r)\n",
        "      return pd.DataFrame({'e_to_e': e_to_e, 'e_to_m' :e_to_m})\n",
        "  Probs[\"E\"] = e_at_day(20).values\n",
        "\n",
        "P={}\n",
        "EXP_Other =[]\n",
        "MU = []     ## Mild undiagnosed\n",
        "E = []       ## Exposed \n",
        "H = []      ## Healthy (susceptible)\n",
        "Symp = []   ## Symptomatic\n",
        "M = []      ## Mild Symptomatic\n",
        "W = []      ## Severe\n",
        "V = []       ## Ventilator\n",
        "R = []      ## Recovered\n",
        "D = []      ## Dead\n",
        "add_M = []  \n",
        "add_sym = [] \n",
        "add_E = [] \n",
        "add_Severe = []\n",
        "add_ventilator = []\n",
        "\n",
        "\n",
        "def calculate(initial_population = 1000,initial_exposed=100,lenght_t = 50,B=.1):\n",
        "  global P\n",
        "  global EXP_Other\n",
        "\n",
        "  global MU     ## Mild undiagnosed\n",
        "  global E      ## Exposed \n",
        "  global H      ## Healthy (susceptible)\n",
        "  global Symp   ## Symptomatic\n",
        "  global M      ## Mild Symptomatic\n",
        "  global W      ## Severe\n",
        "  global V      ## Ventilator\n",
        "  global R      ## Recovered\n",
        "  global D      ## Dead\n",
        "  global add_M  \n",
        "  global add_sym \n",
        "  global add_E \n",
        "  global add_Severe\n",
        "  global add_ventilator\n",
        "  global Track_M\n",
        "\n",
        "  Beta = np.repeat(B,lenght_t)\n",
        "\n",
        "  Track_M = []\n",
        "\n",
        "  P={}\n",
        "  set_probs_Severe(P)\n",
        "  set_probs_ventilator(P)\n",
        "  set_probs_Symp(P)\n",
        "  set_probs_E(P)\n",
        "  set_probs_M(P)\n",
        "  #### Other deiseases variables: NOT COVID\n",
        "  set_probs_Other_Exposed(P)\n",
        "  set_probs_Other_Symp\n",
        "  EXP_Other = np.zeros((len(P['Other_Exposed']),lenght_t))\n",
        "  #### COVID variables\n",
        "  set_probs_MU(P) ### undiagnosed MILD COVID\n",
        "  MU = np.zeros((len(P['M_undiagnosed']),lenght_t))\n",
        "  E = np.zeros((len(P['E']),lenght_t))\n",
        "  Symp = np.zeros((len(P['Symp']),lenght_t))\n",
        "  M = np.zeros((len(P['M']),lenght_t))\n",
        "  W = np.zeros((len(P['Severe']),lenght_t))\n",
        "  V = np.zeros((len(P['ventilator']),lenght_t))\n",
        "  R = np.zeros(lenght_t)\n",
        "  D = np.zeros(lenght_t)\n",
        "  H = np.zeros(lenght_t)\n",
        "\n",
        "  add_M = []\n",
        "  add_sym = []\n",
        "  add_E = []\n",
        "  add_Severe = []\n",
        "  add_ventilator = []\n",
        "  ############################################################\n",
        "  ############################################################\n",
        "  ############################################################\n",
        "  print(E.shape)\n",
        "  E[0,0] = initial_exposed\n",
        "  M[0,0] = 0\n",
        "  ############################################################\n",
        "  ############################################################\n",
        "  ############################################################\n",
        "  H[0] = initial_population - E[0,0]\n",
        "\n",
        "\n",
        "\n",
        "  for t in range(lenght_t-1):\n",
        "    R[t+1] = R[t]\n",
        "    D[t+1] = D[t]\n",
        "\n",
        "    for state in range(len(P['E'])):\n",
        "      try:\n",
        "        E[state+1,t+1] =  np.round(E[state,t] * P[\"E\"][state][0],prc) ## Stay exposed conditions\n",
        "      except:\n",
        "        pass\n",
        "      Symp[0,t+1] = np.round(Symp[0,t+1] + E[state,t] * P[\"E\"][state][1],prc)  ## at time t+1 add the portion of the Exposed to the symptomatic\n",
        "    ### Symptomatic states Tests take place here\n",
        "    #################################################                            0      1 \n",
        "    Symp[1,t+1] = np.round(Symp[0,t] * P[\"Symp\"][0][0],prc)         ### P[\"Symp\"][0][0] ==> [[0,1]  [0,1]]\n",
        "                                                      ###                      |   |   |  |   \n",
        "                                                      ###         next day    Symp M\n",
        "                                                      ###         next day             Symp M\n",
        "    ### from Symptomatic to mild --> where testing also happens\n",
        "    M[1,t+1] = np.round(Symp[0,t] * P[\"Symp\"][0][1],prc)                 ### From state 0 to Mild state 0\n",
        "    M[1,t+1] = np.round(M[1,t+1] +  Symp[1,t] * P[\"Symp\"][1][1],prc)     ### From state 1 to Mild state 0\n",
        "\n",
        "    Track_M.append(M[:,t])\n",
        "\n",
        "    MU[0,t+1] = np.round(Symp[0,t] * P[\"Symp\"][0][2],prc)                 ### From state 0 to Mild state 0\n",
        "    MU[0,t+1] = np.round(MU[0,t+1] +  Symp[1,t] * P[\"Symp\"][1][2],prc)     ### From state 1 to Mild state 0\n",
        "\n",
        "\n",
        "    #################################################\n",
        "    #add_sym.append(Symp[0,t] - (Symp[0,t] * P[\"Symp\"][0][0]+Symp[0,t] * P[\"Symp\"][0][1]))\n",
        "    #add_sym.append(Symp[1,t] -  Symp[1,t] * P[\"Symp\"][1][1] )\n",
        "\n",
        "    ### Mild cases are calculated in this section\n",
        "    for state in range(1,len(P['M'])):\n",
        "      ### M,R,Severe\n",
        "      try:\n",
        "        M[state+1,t+1] =  np.round(M[state,t] * P[\"M\"][state][0],prc) ## from state= state --> to state+1\n",
        "      except:\n",
        "        pass\n",
        "      R[t+1] = np.round(R[t+1] + M[state,t] * P[\"M\"][state][1],prc) ## from Mild to recovered\n",
        "      W[0,t+1] = W[0,t+1] + np.round(M[state,t] * P[\"M\"][state][2],prc)\n",
        "\n",
        "    ###############################################\n",
        "    ### Un-diagnosed Mild \n",
        "    for state in range(0,len(P['M_undiagnosed'])):\n",
        "      ### M,R,Severe\n",
        "      try:\n",
        "        MU[state+1,t+1] =  np.round(MU[state,t] * P[\"M_undiagnosed\"][state][0],prc) ## from state= state --> to state+1\n",
        "      except:\n",
        "        pass\n",
        "\n",
        "      R[t+1] = np.round(R[t+1] + MU[state,t] * P[\"M_undiagnosed\"][state][1],prc) ## from undiagnosed_Mild to recovered\n",
        "      #if MU[state,t] * P[\"M_undiagnosed\"][state][1]>0:\n",
        "        #print(state, t,':', MU[state,t] * P[\"M_undiagnosed\"][state][1])\n",
        "\n",
        "    ##########################################\n",
        "    ### Severe Cases \n",
        "\n",
        "    for state in range(0,len(P['Severe'])):\n",
        "    ### Severe,R,V,D\n",
        "      try:\n",
        "        W[state+1,t+1] =  np.round(W[state,t] * P[\"Severe\"][state][0],prc)\n",
        "      except:\n",
        "        pass\n",
        "      R[t+1] = np.round(R[t+1] + W[state,t] * P[\"Severe\"][state][1],prc)\n",
        "\n",
        "      if W[state,t] * P[\"Severe\"][state][2]>0:\n",
        "        V[0,t+1] = V[0,t+1] + np.round(W[state,t] * P[\"Severe\"][state][2],prc)\n",
        "\n",
        "      D[t+1] = D[t+1] + np.round(W[state,t] * P[\"Severe\"][state][3],prc)\n",
        "\n",
        "    ###########################################\n",
        "    ### ventilator cases\n",
        "\n",
        "    for state in range(0,len(P['ventilator'])):\n",
        "    ### V,R,D \n",
        "      try: \n",
        "        V[state+1,t+1] = np.round( V[state,t] * P[\"ventilator\"][state][0],prc)\n",
        "      except:\n",
        "        pass\n",
        "      R[t+1] = R[t+1] + np.round(V[state,t] * P[\"ventilator\"][state][1],prc)\n",
        "      D[t+1] = D[t+1] + np.round(V[state,t] * P[\"ventilator\"][state][2],prc)\n",
        "\n",
        "    if H[t] >(H[t]/initial_population)  *  M[:,t].sum() * Beta[t]:\n",
        "      E[0,t+1] = (H[t]/initial_population)  *  M[:,t].sum() * Beta[t]\n",
        "      H[t+1]= H[t] - np.round(E[0,t+1])\n",
        "    elif ((H[t]>0) & ((H[t]/initial_population)  *  M[:,t].sum() * Beta[t])):\n",
        "      E[0,t+1] = H[t]\n",
        "\n",
        "      H[t+1]= 0"
      ],
      "execution_count": 0,
      "outputs": []
    },
    {
      "cell_type": "code",
      "metadata": {
        "id": "IT6AZ6n8T6TY",
        "colab_type": "code",
        "outputId": "57cd19d2-0a79-447d-d6b2-db1ecc259f14",
        "colab": {
          "base_uri": "https://localhost:8080/",
          "height": 419
        }
      },
      "source": [
        "calculate(initial_population= 10_000_000,initial_exposed=100,B=.6,lenght_t=100)\n",
        "f,ax=plt.subplots(figsize=(10,6))\n",
        "ax.plot(E.sum(axis=0),color='gray',label = 'Incubation')\n",
        "ax.plot(M.sum(axis=0),color='orange', label ='Mild')\n",
        "ax.plot(W.sum(axis=0),color='red', label ='Severe')\n",
        "ax.plot(V.sum(axis=0),'--',color='red', label ='Ventilator')\n",
        "ax.plot(R,color='green', label = 'Recovered')\n",
        "ax.plot(D,color='Black', label = 'Dead')\n",
        "ax.plot(MU.sum(axis=0),'-*',color='orange', label ='Undiagnosed Mild')"
      ],
      "execution_count": 0,
      "outputs": [
        {
          "output_type": "stream",
          "text": [
            "(20, 100)\n"
          ],
          "name": "stdout"
        },
        {
          "output_type": "execute_result",
          "data": {
            "text/plain": [
              "[<matplotlib.lines.Line2D at 0x7f2e08fa15c0>]"
            ]
          },
          "metadata": {
            "tags": []
          },
          "execution_count": 383
        },
        {
          "output_type": "display_data",
          "data": {
            "image/png": "[encoded data removed]",
            "text/plain": [
              "<Figure size 720x432 with 1 Axes>"
            ]
          },
          "metadata": {
            "tags": [],
            "needs_background": "light"
          }
        }
      ]
    },
    {
      "cell_type": "code",
      "metadata": {
        "id": "8oxcRWzwT8Lb",
        "colab_type": "code",
        "colab": {}
      },
      "source": [
        ""
      ],
      "execution_count": 0,
      "outputs": []
    },
    {
      "cell_type": "markdown",
      "metadata": {
        "id": "6cxMkPj9j9_b",
        "colab_type": "text"
      },
      "source": [
        "## Comparison"
      ]
    },
    {
      "cell_type": "markdown",
      "metadata": {
        "id": "y0Wuzwm9Taj-",
        "colab_type": "text"
      },
      "source": [
        "## Fitting with actual data"
      ]
    },
    {
      "cell_type": "code",
      "metadata": {
        "id": "2vRsM37QTYEg",
        "colab_type": "code",
        "outputId": "dda42cc0-3687-4966-f262-93bf3b5521ac",
        "colab": {
          "base_uri": "https://localhost:8080/",
          "height": 657,
          "referenced_widgets": [
            "a0c08b19b8264dde93741c67b3d84858",
            "acc232e2276a4160bd8d7030aea0ddb5",
            "33eb224899a748efa3cc99d083ed76e7",
            "2e952117404446ee888fd7cdc8673143",
            "a9cf714b831e4bb7946c482dabf63605",
            "530a42934e0e4202b8de916006c663a6",
            "c2c018d89a2c4eaeab814dc41abac041",
            "eaba8ddd6ba649cda716d9a3d002c9af",
            "7832f64701264396a5e90c3f903f2616",
            "b65fc46c80ec4959aa042d9f07bd3076",
            "30f3bffb2a5f4610a7d508a2b67b192b",
            "c851217fb579466682a1829a967f04f5",
            "52fc1579237548f1a4cdc5b698ff1b74",
            "62689b8b436e4ad4b1781cd70666a55b",
            "330fc6f1147a45d78132a8b68a7d5649",
            "9417d85a67e44c12a646de1594131747",
            "282dd65f60fb4f5eae95a066205af88b",
            "2151c9947bfc405aa288f6fa91dd0938",
            "4e2048117e684443a235842893efd5ed",
            "bdafa848af9b4bd3bd2b6149bd601bb4",
            "dc2b50205fab44ae8a0ab116a37ab9eb",
            "7cb4dc7890794b85948fa439817bdff7"
          ]
        }
      },
      "source": [
        "Country = 'Italy'\n",
        "Track_M = []\n",
        "\n",
        "def Interactive_deriv(Population,initial_exposed,B,L,Delay,normalization_factor):\n",
        "\n",
        "\n",
        "  ###############\n",
        "  ##############\n",
        "\n",
        "  calculate(initial_population=Population, initial_exposed=initial_exposed, lenght_t=L, B=B)\n",
        "\n",
        "\n",
        "  f,axx = plt.subplots(1,2,figsize=(18,7))\n",
        "  ax=axx.ravel()\n",
        "  \n",
        "  ax[0].plot(E.sum(axis=0),color='gray',label = 'Incubation')\n",
        "  ax[0].plot(M.sum(axis=0),color='orange', label ='Mild')\n",
        "  ax[0].plot(W.sum(axis=0),color='red', label ='Severe')\n",
        "  ax[0].plot(V.sum(axis=0),'--',color='red', label ='Ventilator')\n",
        "\n",
        "  ax[0].plot(R,color='green', label = 'Recovered')\n",
        "  ax[0].plot(D,color='Black', label = 'Dead')\n",
        "  ax[0].plot(MU.sum(axis=0),'-*',color='orange', label ='Undiagnosed Mild')\n",
        "\n",
        "\n",
        "  df_actual_confirm = get_actual_ts(key=\"confirmed\")\n",
        "  df_actual_dead = get_actual_ts(key=\"dead\")\n",
        "  df_actual_recovered = get_actual_ts(key=\"recovered\")\n",
        "\n",
        "  #ax[0].plot(H,color='blue', label = 'Susceptible')\n",
        "\n",
        "\n",
        "  #ax[0].plot(df_actual_dead['cumulative'].values[Delay:],color='blue',label = 'dead' )\n",
        "\n",
        "\n",
        "\n",
        "  ax[1].plot(df_actual_confirm['rolling'].values[Delay:],label='Confirmed daily')\n",
        "  ax[1].plot(df_actual_dead['cumulative'].values[Delay:],label = 'dead' )\n",
        "  ax[1].plot(df_actual_recovered['cumulative'].values[Delay:], label = 'recovered')\n",
        "  ax[1].tick_params(labelsize=14)\n",
        "  ax[1].legend(fontsize=14)\n",
        "  \n",
        "\n",
        "  ax[0].tick_params(labelsize=14)\n",
        "  ax[1].set_title('Italy')\n",
        "  ax[0].legend(fontsize=14)\n",
        "\n",
        "\n",
        "w = interactive(\n",
        "    Interactive_deriv,\n",
        "    Population = IntSlider(min=1000, max=50_000_000,   continuous_update=False,   step=1, value=10_000_000, description = 'Population'),\n",
        "    initial_exposed = IntSlider(min=1, max=5000,   continuous_update=False,   step=1, value=100, description = 'initial_exposed'),\n",
        "    B=        FloatSlider(min=0.11, max=1,     continuous_update=False, readout_format='.8f',   step=0.000001, value=.61, description = 'Beta'),\n",
        "    L = IntSlider(min=10, max=200,     continuous_update=False,   step=1, value=120, description = 'length of simmulation'),\n",
        "    Delay = IntSlider(min=1, max=50,   continuous_update=False,   step=1, value=1, description = 'Delay'),\n",
        "    normalization_factor = IntSlider(min=1, max=1000,   continuous_update=False,   step=1, value=500, description = 'normalization_factor')\n",
        "    )\n",
        "w\n"
      ],
      "execution_count": 0,
      "outputs": [
        {
          "output_type": "display_data",
          "data": {
            "application/vnd.jupyter.widget-view+json": {
              "model_id": "a0c08b19b8264dde93741c67b3d84858",
              "version_minor": 0,
              "version_major": 2
            },
            "text/plain": [
              "interactive(children=(IntSlider(value=10000000, continuous_update=False, description='Population', max=5000000…"
            ]
          },
          "metadata": {
            "tags": []
          }
        }
      ]
    },
    {
      "cell_type": "code",
      "metadata": {
        "id": "wLsc7FTyCPzd",
        "colab_type": "code",
        "outputId": "8f2a6261-b64a-4b99-dfd0-35401520ad98",
        "colab": {
          "base_uri": "https://localhost:8080/",
          "height": 285
        }
      },
      "source": [
        "Track_M=np.asanyarray(Track_M)\n",
        "df_Track_M=pd.DataFrame(Track_M)\n",
        "sns.heatmap(Track_M,cmap='viridis',xl)"
      ],
      "execution_count": 0,
      "outputs": [
        {
          "output_type": "execute_result",
          "data": {
            "text/plain": [
              "<matplotlib.axes._subplots.AxesSubplot at 0x7f2e094e8828>"
            ]
          },
          "metadata": {
            "tags": []
          },
          "execution_count": 380
        },
        {
          "output_type": "display_data",
          "data": {
            "image/png": "[encoded data removed]",
            "text/plain": [
              "<Figure size 432x288 with 2 Axes>"
            ]
          },
          "metadata": {
            "tags": [],
            "needs_background": "light"
          }
        }
      ]
    },
    {
      "cell_type": "code",
      "metadata": {
        "id": "ikeSlSgB7BkN",
        "colab_type": "code",
        "colab": {}
      },
      "source": [
        "#sns.jointplot(Track_M)\n",
        "positional=[]\n",
        "m,n = Track_M.shape\n",
        "for i in range(m):\n",
        "  for j in range(n):\n",
        "    positional.append([i,j,Track_M[i,j]])\n"
      ],
      "execution_count": 0,
      "outputs": []
    },
    {
      "cell_type": "code",
      "metadata": {
        "id": "fgt_GylM8WyU",
        "colab_type": "code",
        "outputId": "4ed85aad-f6b0-4ef3-8ed3-74d402afb17f",
        "colab": {
          "base_uri": "https://localhost:8080/",
          "height": 282
        }
      },
      "source": [
        "df_positions = pd.DataFrame(positional,columns=['x','y','val'])\n",
        "#x = df_positions.groupby('x')['val'].sum()/df_positions.groupby('y')['val'].sum().sum()\n",
        "Jy = pd.DataFrame(df_positions.groupby(['y'])['val'].sum()/df_positions.groupby(['y'])['val'].sum().sum())\n",
        "Jx = pd.DataFrame(df_positions.groupby(['x'])['val'].sum()/df_positions.groupby(['x'])['val'].sum().sum())\n",
        "plt.plot(Jx)\n",
        "plt.plot(Jy)"
      ],
      "execution_count": 0,
      "outputs": [
        {
          "output_type": "execute_result",
          "data": {
            "text/plain": [
              "[<matplotlib.lines.Line2D at 0x7f2e097ffe48>]"
            ]
          },
          "metadata": {
            "tags": []
          },
          "execution_count": 379
        },
        {
          "output_type": "display_data",
          "data": {
            "image/png": "[encoded data removed]",
            "text/plain": [
              "<Figure size 432x288 with 1 Axes>"
            ]
          },
          "metadata": {
            "tags": [],
            "needs_background": "light"
          }
        }
      ]
    },
    {
      "cell_type": "markdown",
      "metadata": {
        "id": "Y9mWeguhNb9s",
        "colab_type": "text"
      },
      "source": [
        "## Formulizing transition Matrix"
      ]
    },
    {
      "cell_type": "code",
      "metadata": {
        "id": "xR7GZlNbggIV",
        "colab_type": "code",
        "colab": {}
      },
      "source": [
        ""
      ],
      "execution_count": 0,
      "outputs": []
    },
    {
      "cell_type": "code",
      "metadata": {
        "id": "fbYcU0KWNzkM",
        "colab_type": "code",
        "outputId": "37d71e7f-6f2f-4ddc-8cce-4caabe31d457",
        "colab": {
          "base_uri": "https://localhost:8080/",
          "height": 283
        }
      },
      "source": [
        "sns.heatmap(v_at_day_2(20))"
      ],
      "execution_count": 0,
      "outputs": [
        {
          "output_type": "execute_result",
          "data": {
            "text/plain": [
              "<matplotlib.axes._subplots.AxesSubplot at 0x7f2e0b3288d0>"
            ]
          },
          "metadata": {
            "tags": []
          },
          "execution_count": 282
        },
        {
          "output_type": "display_data",
          "data": {
            "image/png": "[encoded data removed]",
            "text/plain": [
              "<Figure size 432x288 with 2 Axes>"
            ]
          },
          "metadata": {
            "tags": [],
            "needs_background": "light"
          }
        }
      ]
    },
    {
      "cell_type": "code",
      "metadata": {
        "id": "GjSgogGaN-vp",
        "colab_type": "code",
        "outputId": "7ce95c68-3868-4c8d-c852-c9f3cdc8170c",
        "colab": {
          "base_uri": "https://localhost:8080/",
          "height": 282
        }
      },
      "source": [
        "v_at_day_2(20).plot()"
      ],
      "execution_count": 0,
      "outputs": [
        {
          "output_type": "execute_result",
          "data": {
            "text/plain": [
              "<matplotlib.axes._subplots.AxesSubplot at 0x7f2e0b20ac50>"
            ]
          },
          "metadata": {
            "tags": []
          },
          "execution_count": 283
        },
        {
          "output_type": "display_data",
          "data": {
            "image/png": "[encoded data removed]",
            "text/plain": [
              "<Figure size 432x288 with 1 Axes>"
            ]
          },
          "metadata": {
            "tags": [],
            "needs_background": "light"
          }
        }
      ]
    },
    {
      "cell_type": "code",
      "metadata": {
        "id": "0MyvN6D-Q0EL",
        "colab_type": "code",
        "outputId": "b9ee45d0-9c83-4d79-81f2-ba752814df0c",
        "colab": {
          "base_uri": "https://localhost:8080/",
          "height": 357
        }
      },
      "source": [
        "def v_at_day_2(num_days = 20,alpha_r = .2):\n",
        "      ## https://www.graphpad.com/guides/prism/7/curve-fitting/reg_classic_boltzmann.htm\n",
        "      Tdays = np.arange(num_days) #x\n",
        "      Top = 1\n",
        "      Buttom = 0\n",
        "      v50= num_days/2\n",
        "      slope= 1.8\n",
        "      v_to_v = Top +  (Buttom - Top)/(1+ np.exp((v50 - Tdays)/slope))\n",
        "      v_to_r = alpha_r*(1 - v_to_v)\n",
        "      v_to_d = 1 - (v_to_v+v_to_r)\n",
        "      return pd.DataFrame({'v_to_v': v_to_v, 'v_to_r' :v_to_r,'v_to_d': v_to_d})\n",
        "\n",
        "\n",
        "\n",
        "v_at_day_2(20).values"
      ],
      "execution_count": 0,
      "outputs": [
        {
          "output_type": "execute_result",
          "data": {
            "text/plain": [
              "array([[9.96148968e-01, 7.70206471e-04, 3.08082588e-03],\n",
              "       [9.93307149e-01, 1.33857018e-03, 5.35428074e-03],\n",
              "       [9.88392684e-01, 2.32146329e-03, 9.28585316e-03],\n",
              "       [9.79942463e-01, 4.01150731e-03, 1.60460292e-02],\n",
              "       [9.65554804e-01, 6.88903913e-03, 2.75561565e-02],\n",
              "       [9.41463097e-01, 1.17073806e-02, 4.68295223e-02],\n",
              "       [9.02227400e-01, 1.95545200e-02, 7.82180799e-02],\n",
              "       [8.41130895e-01, 3.17738210e-02, 1.27095284e-01],\n",
              "       [7.52336199e-01, 4.95327602e-02, 1.98131041e-01],\n",
              "       [6.35423559e-01, 7.29152881e-02, 2.91661153e-01],\n",
              "       [5.00000000e-01, 1.00000000e-01, 4.00000000e-01],\n",
              "       [3.64576441e-01, 1.27084712e-01, 5.08338847e-01],\n",
              "       [2.47663801e-01, 1.50467240e-01, 6.01868959e-01],\n",
              "       [1.58869105e-01, 1.68226179e-01, 6.72904716e-01],\n",
              "       [9.77725999e-02, 1.80445480e-01, 7.21781920e-01],\n",
              "       [5.85369029e-02, 1.88292619e-01, 7.53170478e-01],\n",
              "       [3.44451957e-02, 1.93110961e-01, 7.72443843e-01],\n",
              "       [2.00575365e-02, 1.95988493e-01, 7.83953971e-01],\n",
              "       [1.16073164e-02, 1.97678537e-01, 7.90714147e-01],\n",
              "       [6.69285092e-03, 1.98661430e-01, 7.94645719e-01]])"
            ]
          },
          "metadata": {
            "tags": []
          },
          "execution_count": 284
        }
      ]
    },
    {
      "cell_type": "code",
      "metadata": {
        "id": "iiiMeBQySDRM",
        "colab_type": "code",
        "colab": {}
      },
      "source": [
        ""
      ],
      "execution_count": 0,
      "outputs": []
    },
    {
      "cell_type": "code",
      "metadata": {
        "id": "3I3loEN7Wp2H",
        "colab_type": "code",
        "colab": {}
      },
      "source": [
        ""
      ],
      "execution_count": 0,
      "outputs": []
    },
    {
      "cell_type": "code",
      "metadata": {
        "id": "tQD4pQKPhhSO",
        "colab_type": "code",
        "colab": {}
      },
      "source": [
        ""
      ],
      "execution_count": 0,
      "outputs": []
    }
  ]
}