{
  "nbformat": 4,
  "nbformat_minor": 0,
  "metadata": {
    "colab": {
      "name": "Discrete_ver_09.ipynb",
      "provenance": [],
      "collapsed_sections": [],
      "authorship_tag": "ABX9TyOt20yfZVEpQ1OD5ooUWmB8",
      "include_colab_link": true
    },
    "kernelspec": {
      "name": "python3",
      "display_name": "Python 3"
    },
    "widgets": {
      "application/vnd.jupyter.widget-state+json": {
        "165e0443cb46482d9654b852198b22cc": {
          "model_module": "@jupyter-widgets/controls",
          "model_name": "VBoxModel",
          "state": {
            "_view_name": "VBoxView",
            "_dom_classes": [
              "widget-interact"
            ],
            "_model_name": "VBoxModel",
            "_view_module": "@jupyter-widgets/controls",
            "_model_module_version": "1.5.0",
            "_view_count": null,
            "_view_module_version": "1.5.0",
            "box_style": "",
            "layout": "IPY_MODEL_86f8879d26d94ec8974d401ee7bfc127",
            "_model_module": "@jupyter-widgets/controls",
            "children": [
              "IPY_MODEL_752d37f02104495caf6144a74f2041f5",
              "IPY_MODEL_6c0809e07c11475fae6e95db4cdc7107",
              "IPY_MODEL_45c782d4937a4e67a47bb3f2d76c240d",
              "IPY_MODEL_f688968509ce41dfba7c3676f4d56fac",
              "IPY_MODEL_54eea4ff211f4098adf419f4372ac1ad",
              "IPY_MODEL_2ae66633e5414f439a231d4b0fbb68e8",
              "IPY_MODEL_e92f0ee6abc34bca8e79838474c21c4c"
            ]
          }
        },
        "86f8879d26d94ec8974d401ee7bfc127": {
          "model_module": "@jupyter-widgets/base",
          "model_name": "LayoutModel",
          "state": {
            "_view_name": "LayoutView",
            "grid_template_rows": null,
            "right": null,
            "justify_content": null,
            "_view_module": "@jupyter-widgets/base",
            "overflow": null,
            "_model_module_version": "1.2.0",
            "_view_count": null,
            "flex_flow": null,
            "width": null,
            "min_width": null,
            "border": null,
            "align_items": null,
            "bottom": null,
            "_model_module": "@jupyter-widgets/base",
            "top": null,
            "grid_column": null,
            "overflow_y": null,
            "overflow_x": null,
            "grid_auto_flow": null,
            "grid_area": null,
            "grid_template_columns": null,
            "flex": null,
            "_model_name": "LayoutModel",
            "justify_items": null,
            "grid_row": null,
            "max_height": null,
            "align_content": null,
            "visibility": null,
            "align_self": null,
            "height": null,
            "min_height": null,
            "padding": null,
            "grid_auto_rows": null,
            "grid_gap": null,
            "max_width": null,
            "order": null,
            "_view_module_version": "1.2.0",
            "grid_template_areas": null,
            "object_position": null,
            "object_fit": null,
            "grid_auto_columns": null,
            "margin": null,
            "display": null,
            "left": null
          }
        },
        "752d37f02104495caf6144a74f2041f5": {
          "model_module": "@jupyter-widgets/controls",
          "model_name": "IntSliderModel",
          "state": {
            "_view_name": "IntSliderView",
            "style": "IPY_MODEL_f5fc6556c9de450c9c0ea9900e5e6907",
            "_dom_classes": [],
            "description": "Population",
            "step": 1,
            "_model_name": "IntSliderModel",
            "orientation": "horizontal",
            "max": 50000000,
            "_view_module": "@jupyter-widgets/controls",
            "_model_module_version": "1.5.0",
            "value": 40000000,
            "_view_count": null,
            "disabled": false,
            "_view_module_version": "1.5.0",
            "min": 1000,
            "continuous_update": false,
            "readout_format": "d",
            "description_tooltip": null,
            "readout": true,
            "_model_module": "@jupyter-widgets/controls",
            "layout": "IPY_MODEL_24119384cd4d42f489b44469e7dfb8a6"
          }
        },
        "6c0809e07c11475fae6e95db4cdc7107": {
          "model_module": "@jupyter-widgets/controls",
          "model_name": "IntSliderModel",
          "state": {
            "_view_name": "IntSliderView",
            "style": "IPY_MODEL_8af84ffdddff4c84b56b67a5e3f0dc3c",
            "_dom_classes": [],
            "description": "initial_exposed",
            "step": 1,
            "_model_name": "IntSliderModel",
            "orientation": "horizontal",
            "max": 5000,
            "_view_module": "@jupyter-widgets/controls",
            "_model_module_version": "1.5.0",
            "value": 400,
            "_view_count": null,
            "disabled": false,
            "_view_module_version": "1.5.0",
            "min": 1,
            "continuous_update": false,
            "readout_format": "d",
            "description_tooltip": null,
            "readout": true,
            "_model_module": "@jupyter-widgets/controls",
            "layout": "IPY_MODEL_7988676286704c68a41c173b453a638e"
          }
        },
        "45c782d4937a4e67a47bb3f2d76c240d": {
          "model_module": "@jupyter-widgets/controls",
          "model_name": "FloatSliderModel",
          "state": {
            "_view_name": "FloatSliderView",
            "style": "IPY_MODEL_a13cf48352c74d9a88ac909ccbbb8763",
            "_dom_classes": [],
            "description": "Beta",
            "step": 0.001,
            "_model_name": "FloatSliderModel",
            "orientation": "horizontal",
            "max": 1,
            "_view_module": "@jupyter-widgets/controls",
            "_model_module_version": "1.5.0",
            "value": 0.404,
            "_view_count": null,
            "disabled": false,
            "_view_module_version": "1.5.0",
            "min": 0.11,
            "continuous_update": false,
            "readout_format": ".8f",
            "description_tooltip": null,
            "readout": true,
            "_model_module": "@jupyter-widgets/controls",
            "layout": "IPY_MODEL_2dc45ae6047a45c39625e8677f08e0a6"
          }
        },
        "f688968509ce41dfba7c3676f4d56fac": {
          "model_module": "@jupyter-widgets/controls",
          "model_name": "IntSliderModel",
          "state": {
            "_view_name": "IntSliderView",
            "style": "IPY_MODEL_ed8e8902401140ddbfcf552952e03711",
            "_dom_classes": [],
            "description": "length of simmulation",
            "step": 1,
            "_model_name": "IntSliderModel",
            "orientation": "horizontal",
            "max": 200,
            "_view_module": "@jupyter-widgets/controls",
            "_model_module_version": "1.5.0",
            "value": 120,
            "_view_count": null,
            "disabled": false,
            "_view_module_version": "1.5.0",
            "min": 10,
            "continuous_update": false,
            "readout_format": "d",
            "description_tooltip": null,
            "readout": true,
            "_model_module": "@jupyter-widgets/controls",
            "layout": "IPY_MODEL_bb06431ae62d45339f57e190cf0bac68"
          }
        },
        "54eea4ff211f4098adf419f4372ac1ad": {
          "model_module": "@jupyter-widgets/controls",
          "model_name": "IntSliderModel",
          "state": {
            "_view_name": "IntSliderView",
            "style": "IPY_MODEL_5893bbc2667547a5a63c745320c1c0ee",
            "_dom_classes": [],
            "description": "Delay",
            "step": 1,
            "_model_name": "IntSliderModel",
            "orientation": "horizontal",
            "max": 50,
            "_view_module": "@jupyter-widgets/controls",
            "_model_module_version": "1.5.0",
            "value": 1,
            "_view_count": null,
            "disabled": false,
            "_view_module_version": "1.5.0",
            "min": 1,
            "continuous_update": false,
            "readout_format": "d",
            "description_tooltip": null,
            "readout": true,
            "_model_module": "@jupyter-widgets/controls",
            "layout": "IPY_MODEL_a260782dc5a84e199b11dd9e0416dce6"
          }
        },
        "2ae66633e5414f439a231d4b0fbb68e8": {
          "model_module": "@jupyter-widgets/controls",
          "model_name": "IntSliderModel",
          "state": {
            "_view_name": "IntSliderView",
            "style": "IPY_MODEL_14e6dde1d7494d91b032a5856dfd03fc",
            "_dom_classes": [],
            "description": "normalization_factor",
            "step": 1,
            "_model_name": "IntSliderModel",
            "orientation": "horizontal",
            "max": 1000,
            "_view_module": "@jupyter-widgets/controls",
            "_model_module_version": "1.5.0",
            "value": 500,
            "_view_count": null,
            "disabled": false,
            "_view_module_version": "1.5.0",
            "min": 1,
            "continuous_update": false,
            "readout_format": "d",
            "description_tooltip": null,
            "readout": true,
            "_model_module": "@jupyter-widgets/controls",
            "layout": "IPY_MODEL_a08b2bf3b2bd479fa71b9e5a9d54b71b"
          }
        },
        "e92f0ee6abc34bca8e79838474c21c4c": {
          "model_module": "@jupyter-widgets/output",
          "model_name": "OutputModel",
          "state": {
            "_view_name": "OutputView",
            "msg_id": "",
            "_dom_classes": [],
            "_model_name": "OutputModel",
            "outputs": [
              {
                "output_type": "stream",
                "metadata": {
                  "tags": []
                },
                "text": "(20, 120)\n",
                "stream": "stdout"
              },
              {
                "output_type": "display_data",
                "metadata": {
                  "tags": [],
                  "needs_background": "light"
                },
                "image/png": "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\n",
                "text/plain": "<Figure size 1296x504 with 2 Axes>"
              }
            ],
            "_view_module": "@jupyter-widgets/output",
            "_model_module_version": "1.0.0",
            "_view_count": null,
            "_view_module_version": "1.0.0",
            "layout": "IPY_MODEL_b2a8e2b45caf445698c91d3162aaace7",
            "_model_module": "@jupyter-widgets/output"
          }
        },
        "f5fc6556c9de450c9c0ea9900e5e6907": {
          "model_module": "@jupyter-widgets/controls",
          "model_name": "SliderStyleModel",
          "state": {
            "_view_name": "StyleView",
            "handle_color": null,
            "_model_name": "SliderStyleModel",
            "description_width": "",
            "_view_module": "@jupyter-widgets/base",
            "_model_module_version": "1.5.0",
            "_view_count": null,
            "_view_module_version": "1.2.0",
            "_model_module": "@jupyter-widgets/controls"
          }
        },
        "24119384cd4d42f489b44469e7dfb8a6": {
          "model_module": "@jupyter-widgets/base",
          "model_name": "LayoutModel",
          "state": {
            "_view_name": "LayoutView",
            "grid_template_rows": null,
            "right": null,
            "justify_content": null,
            "_view_module": "@jupyter-widgets/base",
            "overflow": null,
            "_model_module_version": "1.2.0",
            "_view_count": null,
            "flex_flow": null,
            "width": null,
            "min_width": null,
            "border": null,
            "align_items": null,
            "bottom": null,
            "_model_module": "@jupyter-widgets/base",
            "top": null,
            "grid_column": null,
            "overflow_y": null,
            "overflow_x": null,
            "grid_auto_flow": null,
            "grid_area": null,
            "grid_template_columns": null,
            "flex": null,
            "_model_name": "LayoutModel",
            "justify_items": null,
            "grid_row": null,
            "max_height": null,
            "align_content": null,
            "visibility": null,
            "align_self": null,
            "height": null,
            "min_height": null,
            "padding": null,
            "grid_auto_rows": null,
            "grid_gap": null,
            "max_width": null,
            "order": null,
            "_view_module_version": "1.2.0",
            "grid_template_areas": null,
            "object_position": null,
            "object_fit": null,
            "grid_auto_columns": null,
            "margin": null,
            "display": null,
            "left": null
          }
        },
        "8af84ffdddff4c84b56b67a5e3f0dc3c": {
          "model_module": "@jupyter-widgets/controls",
          "model_name": "SliderStyleModel",
          "state": {
            "_view_name": "StyleView",
            "handle_color": null,
            "_model_name": "SliderStyleModel",
            "description_width": "",
            "_view_module": "@jupyter-widgets/base",
            "_model_module_version": "1.5.0",
            "_view_count": null,
            "_view_module_version": "1.2.0",
            "_model_module": "@jupyter-widgets/controls"
          }
        },
        "7988676286704c68a41c173b453a638e": {
          "model_module": "@jupyter-widgets/base",
          "model_name": "LayoutModel",
          "state": {
            "_view_name": "LayoutView",
            "grid_template_rows": null,
            "right": null,
            "justify_content": null,
            "_view_module": "@jupyter-widgets/base",
            "overflow": null,
            "_model_module_version": "1.2.0",
            "_view_count": null,
            "flex_flow": null,
            "width": null,
            "min_width": null,
            "border": null,
            "align_items": null,
            "bottom": null,
            "_model_module": "@jupyter-widgets/base",
            "top": null,
            "grid_column": null,
            "overflow_y": null,
            "overflow_x": null,
            "grid_auto_flow": null,
            "grid_area": null,
            "grid_template_columns": null,
            "flex": null,
            "_model_name": "LayoutModel",
            "justify_items": null,
            "grid_row": null,
            "max_height": null,
            "align_content": null,
            "visibility": null,
            "align_self": null,
            "height": null,
            "min_height": null,
            "padding": null,
            "grid_auto_rows": null,
            "grid_gap": null,
            "max_width": null,
            "order": null,
            "_view_module_version": "1.2.0",
            "grid_template_areas": null,
            "object_position": null,
            "object_fit": null,
            "grid_auto_columns": null,
            "margin": null,
            "display": null,
            "left": null
          }
        },
        "a13cf48352c74d9a88ac909ccbbb8763": {
          "model_module": "@jupyter-widgets/controls",
          "model_name": "SliderStyleModel",
          "state": {
            "_view_name": "StyleView",
            "handle_color": null,
            "_model_name": "SliderStyleModel",
            "description_width": "",
            "_view_module": "@jupyter-widgets/base",
            "_model_module_version": "1.5.0",
            "_view_count": null,
            "_view_module_version": "1.2.0",
            "_model_module": "@jupyter-widgets/controls"
          }
        },
        "2dc45ae6047a45c39625e8677f08e0a6": {
          "model_module": "@jupyter-widgets/base",
          "model_name": "LayoutModel",
          "state": {
            "_view_name": "LayoutView",
            "grid_template_rows": null,
            "right": null,
            "justify_content": null,
            "_view_module": "@jupyter-widgets/base",
            "overflow": null,
            "_model_module_version": "1.2.0",
            "_view_count": null,
            "flex_flow": null,
            "width": null,
            "min_width": null,
            "border": null,
            "align_items": null,
            "bottom": null,
            "_model_module": "@jupyter-widgets/base",
            "top": null,
            "grid_column": null,
            "overflow_y": null,
            "overflow_x": null,
            "grid_auto_flow": null,
            "grid_area": null,
            "grid_template_columns": null,
            "flex": null,
            "_model_name": "LayoutModel",
            "justify_items": null,
            "grid_row": null,
            "max_height": null,
            "align_content": null,
            "visibility": null,
            "align_self": null,
            "height": null,
            "min_height": null,
            "padding": null,
            "grid_auto_rows": null,
            "grid_gap": null,
            "max_width": null,
            "order": null,
            "_view_module_version": "1.2.0",
            "grid_template_areas": null,
            "object_position": null,
            "object_fit": null,
            "grid_auto_columns": null,
            "margin": null,
            "display": null,
            "left": null
          }
        },
        "ed8e8902401140ddbfcf552952e03711": {
          "model_module": "@jupyter-widgets/controls",
          "model_name": "SliderStyleModel",
          "state": {
            "_view_name": "StyleView",
            "handle_color": null,
            "_model_name": "SliderStyleModel",
            "description_width": "",
            "_view_module": "@jupyter-widgets/base",
            "_model_module_version": "1.5.0",
            "_view_count": null,
            "_view_module_version": "1.2.0",
            "_model_module": "@jupyter-widgets/controls"
          }
        },
        "bb06431ae62d45339f57e190cf0bac68": {
          "model_module": "@jupyter-widgets/base",
          "model_name": "LayoutModel",
          "state": {
            "_view_name": "LayoutView",
            "grid_template_rows": null,
            "right": null,
            "justify_content": null,
            "_view_module": "@jupyter-widgets/base",
            "overflow": null,
            "_model_module_version": "1.2.0",
            "_view_count": null,
            "flex_flow": null,
            "width": null,
            "min_width": null,
            "border": null,
            "align_items": null,
            "bottom": null,
            "_model_module": "@jupyter-widgets/base",
            "top": null,
            "grid_column": null,
            "overflow_y": null,
            "overflow_x": null,
            "grid_auto_flow": null,
            "grid_area": null,
            "grid_template_columns": null,
            "flex": null,
            "_model_name": "LayoutModel",
            "justify_items": null,
            "grid_row": null,
            "max_height": null,
            "align_content": null,
            "visibility": null,
            "align_self": null,
            "height": null,
            "min_height": null,
            "padding": null,
            "grid_auto_rows": null,
            "grid_gap": null,
            "max_width": null,
            "order": null,
            "_view_module_version": "1.2.0",
            "grid_template_areas": null,
            "object_position": null,
            "object_fit": null,
            "grid_auto_columns": null,
            "margin": null,
            "display": null,
            "left": null
          }
        },
        "5893bbc2667547a5a63c745320c1c0ee": {
          "model_module": "@jupyter-widgets/controls",
          "model_name": "SliderStyleModel",
          "state": {
            "_view_name": "StyleView",
            "handle_color": null,
            "_model_name": "SliderStyleModel",
            "description_width": "",
            "_view_module": "@jupyter-widgets/base",
            "_model_module_version": "1.5.0",
            "_view_count": null,
            "_view_module_version": "1.2.0",
            "_model_module": "@jupyter-widgets/controls"
          }
        },
        "a260782dc5a84e199b11dd9e0416dce6": {
          "model_module": "@jupyter-widgets/base",
          "model_name": "LayoutModel",
          "state": {
            "_view_name": "LayoutView",
            "grid_template_rows": null,
            "right": null,
            "justify_content": null,
            "_view_module": "@jupyter-widgets/base",
            "overflow": null,
            "_model_module_version": "1.2.0",
            "_view_count": null,
            "flex_flow": null,
            "width": null,
            "min_width": null,
            "border": null,
            "align_items": null,
            "bottom": null,
            "_model_module": "@jupyter-widgets/base",
            "top": null,
            "grid_column": null,
            "overflow_y": null,
            "overflow_x": null,
            "grid_auto_flow": null,
            "grid_area": null,
            "grid_template_columns": null,
            "flex": null,
            "_model_name": "LayoutModel",
            "justify_items": null,
            "grid_row": null,
            "max_height": null,
            "align_content": null,
            "visibility": null,
            "align_self": null,
            "height": null,
            "min_height": null,
            "padding": null,
            "grid_auto_rows": null,
            "grid_gap": null,
            "max_width": null,
            "order": null,
            "_view_module_version": "1.2.0",
            "grid_template_areas": null,
            "object_position": null,
            "object_fit": null,
            "grid_auto_columns": null,
            "margin": null,
            "display": null,
            "left": null
          }
        },
        "14e6dde1d7494d91b032a5856dfd03fc": {
          "model_module": "@jupyter-widgets/controls",
          "model_name": "SliderStyleModel",
          "state": {
            "_view_name": "StyleView",
            "handle_color": null,
            "_model_name": "SliderStyleModel",
            "description_width": "",
            "_view_module": "@jupyter-widgets/base",
            "_model_module_version": "1.5.0",
            "_view_count": null,
            "_view_module_version": "1.2.0",
            "_model_module": "@jupyter-widgets/controls"
          }
        },
        "a08b2bf3b2bd479fa71b9e5a9d54b71b": {
          "model_module": "@jupyter-widgets/base",
          "model_name": "LayoutModel",
          "state": {
            "_view_name": "LayoutView",
            "grid_template_rows": null,
            "right": null,
            "justify_content": null,
            "_view_module": "@jupyter-widgets/base",
            "overflow": null,
            "_model_module_version": "1.2.0",
            "_view_count": null,
            "flex_flow": null,
            "width": null,
            "min_width": null,
            "border": null,
            "align_items": null,
            "bottom": null,
            "_model_module": "@jupyter-widgets/base",
            "top": null,
            "grid_column": null,
            "overflow_y": null,
            "overflow_x": null,
            "grid_auto_flow": null,
            "grid_area": null,
            "grid_template_columns": null,
            "flex": null,
            "_model_name": "LayoutModel",
            "justify_items": null,
            "grid_row": null,
            "max_height": null,
            "align_content": null,
            "visibility": null,
            "align_self": null,
            "height": null,
            "min_height": null,
            "padding": null,
            "grid_auto_rows": null,
            "grid_gap": null,
            "max_width": null,
            "order": null,
            "_view_module_version": "1.2.0",
            "grid_template_areas": null,
            "object_position": null,
            "object_fit": null,
            "grid_auto_columns": null,
            "margin": null,
            "display": null,
            "left": null
          }
        },
        "b2a8e2b45caf445698c91d3162aaace7": {
          "model_module": "@jupyter-widgets/base",
          "model_name": "LayoutModel",
          "state": {
            "_view_name": "LayoutView",
            "grid_template_rows": null,
            "right": null,
            "justify_content": null,
            "_view_module": "@jupyter-widgets/base",
            "overflow": null,
            "_model_module_version": "1.2.0",
            "_view_count": null,
            "flex_flow": null,
            "width": null,
            "min_width": null,
            "border": null,
            "align_items": null,
            "bottom": null,
            "_model_module": "@jupyter-widgets/base",
            "top": null,
            "grid_column": null,
            "overflow_y": null,
            "overflow_x": null,
            "grid_auto_flow": null,
            "grid_area": null,
            "grid_template_columns": null,
            "flex": null,
            "_model_name": "LayoutModel",
            "justify_items": null,
            "grid_row": null,
            "max_height": null,
            "align_content": null,
            "visibility": null,
            "align_self": null,
            "height": null,
            "min_height": null,
            "padding": null,
            "grid_auto_rows": null,
            "grid_gap": null,
            "max_width": null,
            "order": null,
            "_view_module_version": "1.2.0",
            "grid_template_areas": null,
            "object_position": null,
            "object_fit": null,
            "grid_auto_columns": null,
            "margin": null,
            "display": null,
            "left": null
          }
        }
      }
    }
  },
  "cells": [
    {
      "cell_type": "markdown",
      "metadata": {
        "id": "view-in-github",
        "colab_type": "text"
      },
      "source": [
        "<a href=\"https://colab.research.google.com/github/akhavan12/discrete_covid_model/blob/master/Discrete_ver_09.ipynb\" target=\"_parent\"><img src=\"https://colab.research.google.com/assets/colab-badge.svg\" alt=\"Open In Colab\"/></a>"
      ]
    },
    {
      "cell_type": "code",
      "metadata": {
        "id": "CHAfJoVPfpXb",
        "colab_type": "code",
        "colab": {}
      },
      "source": [
        "import numpy as np\n",
        "import pandas as pd\n",
        "import matplotlib.pyplot as plt\n",
        "import seaborn as sns\n",
        "import ipywidgets as widgets\n",
        "from ipywidgets import interact, interact_manual, interactive\n",
        "from ipywidgets import FloatSlider, IntSlider\n",
        "pd.options.display.max_rows = 999\n",
        "#https://github.com/DataHerb/dataset-covid-19/tree/master/csse_covid_19_time_series"
      ],
      "execution_count": 0,
      "outputs": []
    },
    {
      "cell_type": "code",
      "metadata": {
        "id": "iR0cZvLo8Eui",
        "colab_type": "code",
        "outputId": "baaf8b16-9c17-4a66-81a0-36a159a2d17f",
        "colab": {
          "base_uri": "https://localhost:8080/",
          "height": 68
        }
      },
      "source": [
        "df = pd.read_csv('https://raw.githubusercontent.com/CSSEGISandData/COVID-19/master/csse_covid_19_data/csse_covid_19_time_series/time_series_covid19_confirmed_global.csv')\n",
        "df[(df['Country/Region']=='France') ]['Province/State'].values"
      ],
      "execution_count": 0,
      "outputs": [
        {
          "output_type": "execute_result",
          "data": {
            "text/plain": [
              "array(['French Guiana', 'French Polynesia', 'Guadeloupe', 'Mayotte',\n",
              "       'New Caledonia', 'Reunion', 'Saint Barthelemy', 'St Martin',\n",
              "       'Martinique', nan, 'Saint Pierre and Miquelon'], dtype=object)"
            ]
          },
          "metadata": {
            "tags": []
          },
          "execution_count": 11
        }
      ]
    },
    {
      "cell_type": "markdown",
      "metadata": {
        "id": "XxtXhb1lVJ2V",
        "colab_type": "text"
      },
      "source": [
        "# actal data fetch"
      ]
    },
    {
      "cell_type": "code",
      "metadata": {
        "id": "hIQCpWP2qOQM",
        "colab_type": "code",
        "colab": {}
      },
      "source": [
        "def get_actual_ts(key='confirmed',country='Italy',rolling=4,population=60_000_000):\n",
        "  \"\"\"\n",
        "    retrive informaton from actual cases database\n",
        "    Parameters: \n",
        "    key (str): \"confirmed\", \"recovered\" or \"dead\"\n",
        "    country (str): defult is italy (not case sensetive)\n",
        "    rolling (int): rolling average for the daily cases\n",
        "  \n",
        "    Returns: \n",
        "    pandas dataframe: based on the type of the key\n",
        "  \n",
        "  \"\"\"\n",
        " \n",
        "  if key == \"confirmed\":\n",
        "    df = pd.read_csv('https://raw.githubusercontent.com/CSSEGISandData/COVID-19/master/csse_covid_19_data/csse_covid_19_time_series/time_series_covid19_confirmed_global.csv')\n",
        "  elif key == \"recovered\":\n",
        "    df = pd.read_csv('https://raw.githubusercontent.com/CSSEGISandData/COVID-19/master/csse_covid_19_data/csse_covid_19_time_series/time_series_covid19_recovered_global.csv')\n",
        "  elif key == \"dead\":\n",
        "    df = pd.read_csv('https://raw.githubusercontent.com/CSSEGISandData/COVID-19/master/csse_covid_19_data/csse_covid_19_time_series/time_series_covid19_deaths_global.csv')\n",
        "  else:\n",
        "    return -1\n",
        "\n",
        "\n",
        "  df_=df[(df['Country/Region'].str.lower()==country.lower()) & (df['Province/State'].isnull())].T  \n",
        "  df_ = df_.iloc[4:]\n",
        "  df_ = df_.set_index(pd.to_datetime(df_.index))\n",
        "  df_.columns=['cumulative']\n",
        "  df_['daily'] = df_['cumulative'] - df_['cumulative'].shift(1).fillna(0)\n",
        "  df_['rolling'] = df_['daily'].rolling(rolling).mean().fillna(0)\n",
        "  df_['cumulative_percent']= (df_['cumulative'] / population) * 100\n",
        "  return df_\n"
      ],
      "execution_count": 0,
      "outputs": []
    },
    {
      "cell_type": "markdown",
      "metadata": {
        "id": "ZYbQoU1lSUzr",
        "colab_type": "text"
      },
      "source": [
        "## Live Data"
      ]
    },
    {
      "cell_type": "code",
      "metadata": {
        "id": "xJc_WJJPvikq",
        "colab_type": "code",
        "outputId": "23037c9e-a1b0-46f5-ec07-7db0304906c9",
        "colab": {
          "base_uri": "https://localhost:8080/",
          "height": 568
        }
      },
      "source": [
        "\n",
        "def country_situation(country='Italy',population=60_000_000):\n",
        "  df_confirmed=get_actual_ts(key='confirmed',country=country)\n",
        "  df_death=get_actual_ts(key='dead',country=country)\n",
        "  df_recovered=get_actual_ts(key='recovered',country=country)\n",
        "\n",
        "  act_confirmed = df_confirmed['cumulative_percent'].values\n",
        "  act_death = df_death['cumulative_percent'].values\n",
        "  act_recovered =  df_recovered['cumulative_percent'].values\n",
        "  return [act_confirmed,act_death,act_recovered]\n",
        "\n",
        "italy_data = country_situation(country = 'Italy',population = 60_000_000)\n",
        "germany_data = country_situation(country = 'Germany',population = 83_000_000)\n",
        "spain_data = country_situation(country = 'Spain',population = 46_000_000)\n",
        "france_data = country_situation(country = 'France',population = 65_000_000)\n",
        "\n",
        "\n",
        "\n",
        "f,axa = plt.subplots(2,2,figsize=(12,8),sharex=True,sharey=True)\n",
        "ax=axa.ravel()\n",
        "ax[0].plot(italy_data[0],label='cumulative confirmed % population')\n",
        "ax[0].plot(italy_data[1],label='cumulative death % population')\n",
        "ax[0].plot(italy_data[2],label='cumulative recovered  % population')\n",
        "ax[0].set_title('Italy',fontsize=16)\n",
        "ax[0].tick_params(labelsize=14)\n",
        "\n",
        "\n",
        "ax[1].plot(germany_data[0],label=None)\n",
        "ax[1].plot(germany_data[1],label=None)\n",
        "ax[1].plot(germany_data[2],label=None)\n",
        "ax[1].set_title('Germany',fontsize=16)\n",
        "ax[1].tick_params(labelsize=14)\n",
        "\n",
        "\n",
        "ax[2].plot(spain_data[0],label=None)\n",
        "ax[2].plot(spain_data[1],label=None)\n",
        "ax[2].plot(spain_data[2],label=None)\n",
        "ax[2].set_title('Spain',fontsize=16)\n",
        "ax[2].tick_params(labelsize=14)\n",
        "\n",
        "\n",
        "ax[3].plot(france_data[0],label=None)\n",
        "ax[3].plot(france_data[1],label=None)\n",
        "ax[3].plot(france_data[2],label=None)\n",
        "ax[3].set_title('France',fontsize=16)\n",
        "\n",
        "ax[3].tick_params(labelsize=14)\n",
        "\n",
        "\n",
        "f.legend()"
      ],
      "execution_count": 0,
      "outputs": [
        {
          "output_type": "execute_result",
          "data": {
            "text/plain": [
              "<matplotlib.legend.Legend at 0x7f3e453dbf28>"
            ]
          },
          "metadata": {
            "tags": []
          },
          "execution_count": 13
        },
        {
          "output_type": "display_data",
          "data": {
            "image/png": "[encoded data removed]",
            "text/plain": [
              "<Figure size 864x576 with 4 Axes>"
            ]
          },
          "metadata": {
            "tags": [],
            "needs_background": "light"
          }
        }
      ]
    },
    {
      "cell_type": "markdown",
      "metadata": {
        "id": "mrG5jhPEUwO6",
        "colab_type": "text"
      },
      "source": [
        "# Transtion distribution setting"
      ]
    },
    {
      "cell_type": "code",
      "metadata": {
        "id": "o0-5eMTNUu-2",
        "colab_type": "code",
        "outputId": "e86d63a5-ae02-4d09-b1ac-b7977e0f9022",
        "colab": {
          "base_uri": "https://localhost:8080/",
          "height": 54
        }
      },
      "source": [
        "prc = 2 ## Precision for the calculations\n",
        "T = []\n",
        "\n",
        "confirmed_ = []\n",
        "\n",
        "\n",
        "def set_probs_Other_Exposed(Probs):\n",
        "  ### Other_Exp,Other_Symp\n",
        "  Probs[\"Other_Exposed\"] = [\n",
        "          [1.00,0.00], #0\n",
        "          [0.80,0.20], #1\n",
        "          [0.60,0.40], #2\n",
        "          [0.30,0.70], #3\n",
        "          [0.00,1.00], #4\n",
        "  ]\n",
        "def set_probs_Other_Symp(Probs):\n",
        "  ### Other_Symp,Susceptible   \n",
        "  Probs['Other_Symp'] =[[0.80,  0.20],\n",
        "                        [0.50,  0.50 ], \n",
        "                        [0.00,  1.00]]      \n",
        "\n",
        "def set_probs_M(Probs):\n",
        "  ### M,R,Severe\n",
        "  \"\"\"  Probs[\"M\"] = [\n",
        "          [1.00,0.00,0.00], #0\n",
        "          [0.80,0.00,0.20], #1\n",
        "          [0.60,0.00,0.40], #2\n",
        "          [0.50,0.10,0.40], #3\n",
        "          [0.40,0.40,0.20], #4\n",
        "          [0.30,0.30,0.40], #5\n",
        "          [0.30,0.50,0.20], #6\n",
        "          [0.30,0.50,0.20], #7\n",
        "          [0.30,0.50,0.20], #8\n",
        "          [0.30,0.50,0.20], #9\n",
        "          [0.30,0.50,0.20], #10 \n",
        "          [0.30,0.50,0.20], #11\n",
        "          [0.20,0.60,0.20], #12 \n",
        "          [0.00,0.00,1] #13\n",
        "          ]\"\"\"\n",
        "\n",
        "  def m_at_day(num_days = 14,alpha_r = .8):\n",
        "      ## https://www.graphpad.com/guides/prism/7/curve-fitting/reg_classic_boltzmann.htm\n",
        "      Tdays = np.arange(num_days) #x\n",
        "      Top = 1\n",
        "      Buttom = 0\n",
        "      v50= num_days/2\n",
        "      slope= 1.8\n",
        "      m_to_m = Top +  (Buttom - Top)/(1+ np.exp((v50 - Tdays)/slope))\n",
        "      m_to_r = alpha_r*(1 - m_to_m)\n",
        "      m_to_v = 1 - (m_to_m+m_to_r)\n",
        "      return pd.DataFrame({'m_to_m': m_to_m, 'm_to_r' :m_to_r,'m_to_v': m_to_v})\n",
        "  \n",
        "  Probs[\"M\"] = m_at_day(num_days = 14,alpha_r = .8).values\n",
        "\n",
        "def set_probs_MU(Probs):\n",
        "  ### MU,R\n",
        "  Probs[\"M_undiagnosed\"] = [\n",
        "          [1.00,0.00], #0\n",
        "          [0.80,0.20], #1\n",
        "          [0.60,0.40], #2\n",
        "          [0.50,0.50], #3\n",
        "          [0.40,0.60], #4\n",
        "          [0.30,0.70], #5\n",
        "          [0.30,0.70], #6\n",
        "          [0.30,0.70], #7\n",
        "          [0.30,0.70], #8\n",
        "          [0.30,0.70], #9\n",
        "          [0.30,0.70], #10 \n",
        "          [0.30,0.70], #11\n",
        "          [0.30,0.70], #12 \n",
        "          [0.00,1.00]  #13\n",
        "  ]\n",
        "\n",
        "def set_probs_Severe(Probs):\n",
        "  ### Severe,R,V,D\n",
        "  \"\"\"Probs[\"Severe\"] = [\n",
        "          [0.70,0.10,0.10,0.10], #0\n",
        "          [0.70,0.10,0.10,0.10], #1\n",
        "          [0.70,0.10,0.10,0.10], #2\n",
        "          [0.40,0.10,0.30,0.20], #3\n",
        "          [0.30,0.30,0.30,0.20], #4\n",
        "          [0.10,0.40,0.30,0.20], #5\n",
        "          [0.10,0.40,0.30,0.20], #6\n",
        "          [0.10,0.40,0.30,0.20], #7\n",
        "          [0.10,0.40,0.30,0.20], #8\n",
        "          [0.10,0.40,0.30,0.20], #9\n",
        "          [0.10,0.40,0.30,0.20], #10\n",
        "          [0.10,0.40,0.30,0.20], #11\n",
        "          [0.10,0.40,0.30,0.20], #12\n",
        "          [0.00,0.00,1.00,0.00]  #13\n",
        "        ]\"\"\"\n",
        "\n",
        "  def w_at_day(num_days = 14,alpha_r = .2,alpha_v = .2):\n",
        "      ## https://www.graphpad.com/guides/prism/7/curve-fitting/reg_classic_boltzmann.htm\n",
        "      Tdays = np.arange(num_days) #x\n",
        "      Top = 1\n",
        "      Buttom = 0\n",
        "      v50= num_days/3\n",
        "      slope= 1.8\n",
        "      w_to_w = Top +  (Buttom - Top)/(1+ np.exp((v50 - Tdays)/slope))\n",
        "\n",
        "      w_to_r = alpha_r*(1 - w_to_w)\n",
        "      w_to_v = alpha_v*(1 - w_to_w)\n",
        "      w_to_d = 1 - (w_to_w+w_to_r+w_to_v)\n",
        "      return pd.DataFrame({'w_to_w': w_to_w, \n",
        "                           'w_to_r' :w_to_r, \n",
        "                           'w_to_v' :w_to_v,\n",
        "                           'w_to_d': w_to_d})\n",
        "  Probs[\"Severe\"] = w_at_day(num_days = 14,alpha_r = .2,alpha_v = .2).values\n",
        "\n",
        "def set_probs_ventilator(Probs):\n",
        "  ### V,R,D \n",
        "  \"\"\"Probs[\"ventilator\"] = [\n",
        "          [0.50,0.45,0.05], #0\n",
        "          [0.40,0.55,0.05], #1\n",
        "          [0.40,0.55,0.05], #2\n",
        "          [0.30,0.65,0.05], #3\n",
        "          [0.40,0.20,0.30], #6\n",
        "          [0.40,0.20,0.30], #7\n",
        "          [0.40,0.20,0.30], #8\n",
        "          [0.10,0.10,0.80], #9\n",
        "          [0.10,0.10,0.80], #10\n",
        "          [0.10,0.10,0.80], #11\n",
        "          [0.10,0.10,0.80], #12\n",
        "          [0.00,0.00,1.00]  #13\n",
        "          ]\"\"\" \n",
        "\n",
        "  def v_at_day(num_days = 20,alpha_r = .2):\n",
        "      ## https://www.graphpad.com/guides/prism/7/curve-fitting/reg_classic_boltzmann.htm\n",
        "      Tdays = np.arange(num_days) #x\n",
        "      Top = 1\n",
        "      Buttom = 0\n",
        "      v50= num_days/2\n",
        "      slope= 1.8\n",
        "      v_to_v = Top +  (Buttom - Top)/(1+ np.exp((v50 - Tdays)/slope))\n",
        "      v_to_r = alpha_r*(1 - v_to_v)\n",
        "      v_to_d = 1 - (v_to_v+v_to_r)\n",
        "      return pd.DataFrame({'v_to_v': v_to_v, 'v_to_r' :v_to_r,'v_to_d': v_to_d})\n",
        "  Probs[\"ventilator\"] = v_at_day(20).values\n",
        "\n",
        "def set_probs_Symp(Probs):\n",
        "  ### Symp,M   0: not tested, 1: tested positive ,2: tested negative\n",
        "  Probs['Symp'] =[[0.20,  0.80 , 0.00 ], #0 Testing and + cases go to Mild cases , negative cases go back to Healthy\n",
        "                  [0.00,  0.60 , 0.40 ]]      #1 ###  all remainings go to Mild cases \n",
        "\n",
        "def set_probs_E(Probs):\n",
        "  ### E,Symp\n",
        "  Probs[\"E\"] = [[1.00,0.00], #0 ### first day of exposure\n",
        "                [0.50,0.50], #1       \n",
        "                [0.40,0.60], #2 \n",
        "                [0.30,0.70], #4\n",
        "                [0.20,0.80], #5\n",
        "                [0.10,0.90], #6\n",
        "                [0.05,0.95], #7\n",
        "                [0.05,0.95], #8\n",
        "                [0.05,0.95], #9\n",
        "                [0.05,0.95], #10\n",
        "                [0.05,0.95], #11\n",
        "                [0.05,0.95], #12\n",
        "                [0.05,0.95], #13\n",
        "                [0.05,0.95], #14\n",
        "                [0.05,0.95], #15\n",
        "                [0.05,0.95], #16\n",
        "                [0.05,0.95], #17\n",
        "                [0.05,0.95], #18\n",
        "                [0.05,0.95], #19\n",
        "                [0.00,1.00]  #20\n",
        "                ]\n",
        "\n",
        "\"\"\"  def e_at_day(num_days = 20):\n",
        "      ## https://www.graphpad.com/guides/prism/7/curve-fitting/reg_classic_boltzmann.htm\n",
        "      Tdays = np.arange(num_days) #x\n",
        "      Top = 1\n",
        "      Buttom = 0\n",
        "      v50= 7\n",
        "      slope= 1.8\n",
        "      e_to_m = Top +  (Buttom - Top)/(1+ np.exp((v50 - Tdays)/slope))\n",
        "      e_to_e = 1 - (e_to_m)\n",
        "      return pd.DataFrame({'e_to_e': e_to_e, 'e_to_m' :e_to_m})\n",
        "  Probs[\"E\"] = e_at_day(20).values\"\"\"\n"
      ],
      "execution_count": 0,
      "outputs": [
        {
          "output_type": "execute_result",
          "data": {
            "text/plain": [
              "'  def e_at_day(num_days = 20):\\n      ## https://www.graphpad.com/guides/prism/7/curve-fitting/reg_classic_boltzmann.htm\\n      Tdays = np.arange(num_days) #x\\n      Top = 1\\n      Buttom = 0\\n      v50= 7\\n      slope= 1.8\\n      e_to_m = Top +  (Buttom - Top)/(1+ np.exp((v50 - Tdays)/slope))\\n      e_to_e = 1 - (e_to_m)\\n      return pd.DataFrame({\\'e_to_e\\': e_to_e, \\'e_to_m\\' :e_to_m})\\n  Probs[\"E\"] = e_at_day(20).values'"
            ]
          },
          "metadata": {
            "tags": []
          },
          "execution_count": 55
        }
      ]
    },
    {
      "cell_type": "markdown",
      "metadata": {
        "id": "KPdmMZJphZgz",
        "colab_type": "text"
      },
      "source": [
        "![alt text](https://raw.githubusercontent.com/akhavan12/discrete_covid_model/master/Model_Discrete_v4_new.svg)\n"
      ]
    },
    {
      "cell_type": "code",
      "metadata": {
        "id": "eBUUYZPGtf3U",
        "colab_type": "code",
        "colab": {}
      },
      "source": [
        "\n",
        "P={}\n",
        "EXP_Other =[]\n",
        "MU = []     ## Mild undiagnosed\n",
        "E = []       ## Exposed \n",
        "H = []      ## Healthy (susceptible)\n",
        "Symp = []   ## Symptomatic\n",
        "M = []      ## Mild Symptomatic\n",
        "W = []      ## Severe\n",
        "V = []       ## Ventilator\n",
        "R = []      ## Recovered\n",
        "D = []      ## Dead\n",
        "add_M = []  \n",
        "add_sym = [] \n",
        "add_E = [] \n",
        "add_Severe = []\n",
        "add_ventilator = []\n",
        "\n",
        "Track_M = []\n",
        "Track_E = []\n",
        "Track_V = []\n",
        "Track_W = []\n",
        "\n",
        "\n",
        "def calculate(initial_population = 1000,initial_exposed=100,lenght_t = 50,B=.1):\n",
        "  global P\n",
        "  global EXP_Other\n",
        "  global confirmed_\n",
        "  global MU     ## Mild undiagnosed\n",
        "  global E      ## Exposed \n",
        "  global H      ## Healthy (susceptible)\n",
        "  global Symp   ## Symptomatic\n",
        "  global M      ## Mild Symptomatic\n",
        "  global W      ## Severe\n",
        "  global V      ## Ventilator\n",
        "  global R      ## Recovered\n",
        "  global D      ## Dead\n",
        "  global add_M  \n",
        "  global add_sym \n",
        "  global add_E \n",
        "  global add_Severe\n",
        "  global add_ventilator\n",
        "  global Track_M\n",
        "  \n",
        "  global Track_E\n",
        "  global Track_V\n",
        "  global Track_W\n",
        "\n",
        "  Beta = np.repeat(B,lenght_t)\n",
        "  \n",
        "  \n",
        "\n",
        "  Track_M = []\n",
        "  Track_E = []\n",
        "  Track_V = []\n",
        "  Track_W = []\n",
        "\n",
        "\n",
        "\n",
        "  P={}\n",
        "  set_probs_Severe(P)\n",
        "  set_probs_ventilator(P)\n",
        "  set_probs_Symp(P)\n",
        "  set_probs_E(P)\n",
        "  set_probs_M(P)\n",
        "  #### Other deiseases variables: NOT COVID\n",
        "  set_probs_Other_Exposed(P)\n",
        "  set_probs_Other_Symp\n",
        "  EXP_Other = np.zeros((len(P['Other_Exposed']),lenght_t))\n",
        "  #### COVID variables\n",
        "  set_probs_MU(P) ### undiagnosed MILD COVID\n",
        "  MU = np.zeros((len(P['M_undiagnosed']),lenght_t))\n",
        "  E = np.zeros((len(P['E']),lenght_t))\n",
        "  Symp = np.zeros((len(P['Symp']),lenght_t))\n",
        "  M = np.zeros((len(P['M']),lenght_t))\n",
        "  W = np.zeros((len(P['Severe']),lenght_t))\n",
        "  V = np.zeros((len(P['ventilator']),lenght_t))\n",
        "  R = np.zeros(lenght_t)\n",
        "  D = np.zeros(lenght_t)\n",
        "  H = np.zeros(lenght_t)\n",
        "  confirmed_ = np.zeros(lenght_t)\n",
        "  add_M = []\n",
        "  add_sym = []\n",
        "  add_E = []\n",
        "  add_Severe = []\n",
        "  add_ventilator = []\n",
        "############################################################\n",
        "############################################################\n",
        "############################################################\n",
        "  print(E.shape)\n",
        "  E[0,0] = initial_exposed\n",
        "  M[0,0] = 0\n",
        "############################################################\n",
        "############################################################\n",
        "############################################################\n",
        "  H[0] = initial_population - E[0,0]\n",
        "\n",
        "\n",
        "\n",
        "  for t in range(lenght_t-1):\n",
        "    R[t+1] = R[t]\n",
        "    D[t+1] = D[t]\n",
        "\n",
        "    for state in range(len(P['E'])):\n",
        "      try:\n",
        "        E[state+1,t+1] =  np.round(E[state,t] * P[\"E\"][state][0],prc) ## Stay exposed conditions\n",
        "      except:\n",
        "        pass\n",
        "      Symp[0,t+1] = np.round(Symp[0,t+1] + E[state,t] * P[\"E\"][state][1],prc)  ## at time t+1 add the portion of the Exposed to the symptomatic\n",
        "    \n",
        "    \n",
        "    ### Symptomatic states Tests take place here\n",
        "    #################################################                            0      1 \n",
        "    Symp[1,t+1] = np.round(Symp[0,t] * P[\"Symp\"][0][0],prc)         ### P[\"Symp\"][0][0] ==> [[0,1]  [0,1]]\n",
        "                                                      ###                      |   |   |  |   \n",
        "                                                      ###         next day    Symp M\n",
        "                                                      ###         next day             Symp M\n",
        "    ### from Symptomatic to mild --> where testing also happens\n",
        "    M[1,t+1] = np.round(Symp[0,t] * P[\"Symp\"][0][1],prc)                 ### From state 0 to Mild state 0\n",
        "    M[1,t+1] = np.round(M[1,t+1] +  Symp[1,t] * P[\"Symp\"][1][1],prc)     ### From state 1 to Mild state 0\n",
        "\n",
        "    Track_M.append(M[:,t])\n",
        "\n",
        "    MU[0,t+1] = np.round(Symp[0,t] * P[\"Symp\"][0][2],prc)                 ### From state 0 to Mild state 0\n",
        "    MU[0,t+1] = np.round(MU[0,t+1] +  Symp[1,t] * P[\"Symp\"][1][2],prc)     ### From state 1 to Mild state 0\n",
        "\n",
        "\n",
        "    #################################################\n",
        "    #add_sym.append(Symp[0,t] - (Symp[0,t] * P[\"Symp\"][0][0]+Symp[0,t] * P[\"Symp\"][0][1]))\n",
        "    #add_sym.append(Symp[1,t] -  Symp[1,t] * P[\"Symp\"][1][1] )\n",
        "\n",
        "    ### Mild cases are calculated in this section\n",
        "    for state in range(1,len(P['M'])):\n",
        "      ### M,R,Severe\n",
        "      try:\n",
        "        M[state+1,t+1] =  np.round(M[state,t] * P[\"M\"][state][0],prc) ## from state= state --> to state+1\n",
        "      except:\n",
        "        pass\n",
        "      R[t+1] = np.round(R[t+1] + M[state,t] * P[\"M\"][state][1],prc) ## from Mild to recovered\n",
        "      W[0,t+1] = W[0,t+1] + np.round(M[state,t] * P[\"M\"][state][2],prc)\n",
        "\n",
        "\n",
        "    ###############################################\n",
        "    ### Un-diagnosed Mild \n",
        "    for state in range(0,len(P['M_undiagnosed'])):\n",
        "      ### M,R,Severe\n",
        "      try:\n",
        "        MU[state+1,t+1] =  np.round(MU[state,t] * P[\"M_undiagnosed\"][state][0],prc) ## from state= state --> to state+1\n",
        "      except:\n",
        "        pass\n",
        "\n",
        "      R[t+1] = np.round(R[t+1] + MU[state,t] * P[\"M_undiagnosed\"][state][1],prc) ## from undiagnosed_Mild to recovered\n",
        "      #if MU[state,t] * P[\"M_undiagnosed\"][state][1]>0:\n",
        "        #print(state, t,':', MU[state,t] * P[\"M_undiagnosed\"][state][1])\n",
        "\n",
        "    ##########################################\n",
        "    ### Severe Cases \n",
        "\n",
        "    for state in range(0,len(P['Severe'])):\n",
        "    ### Severe,R,V,D\n",
        "      try:\n",
        "        W[state+1,t+1] =  np.round(W[state,t] * P[\"Severe\"][state][0],prc)\n",
        "      except:\n",
        "        pass\n",
        "      R[t+1] = np.round(R[t+1] + W[state,t] * P[\"Severe\"][state][1],prc)\n",
        "\n",
        "      if W[state,t] * P[\"Severe\"][state][2]>0:\n",
        "        V[0,t+1] = V[0,t+1] + np.round(W[state,t] * P[\"Severe\"][state][2],prc)\n",
        "\n",
        "      D[t+1] = D[t+1] + np.round(W[state,t] * P[\"Severe\"][state][3],prc)\n",
        "\n",
        "\n",
        "    ###########################################\n",
        "    ### ventilator cases\n",
        "\n",
        "    for state in range(0,len(P['ventilator'])):\n",
        "    ### V,R,D \n",
        "      try: \n",
        "        V[state+1,t+1] = np.round( V[state,t] * P[\"ventilator\"][state][0],prc)\n",
        "      except:\n",
        "        pass\n",
        "      R[t+1] = R[t+1] + np.round(V[state,t] * P[\"ventilator\"][state][1],prc)\n",
        "      D[t+1] = D[t+1] + np.round(V[state,t] * P[\"ventilator\"][state][2],prc)\n",
        "\n",
        "\n",
        "\n",
        "    if H[t] >(H[t]/initial_population)  *  M[:,t].sum() * Beta[t]:\n",
        "      E[0,t+1] = (H[t]/initial_population)  *  M[:,t].sum() * Beta[t]\n",
        "      H[t+1]= H[t] - np.round(E[0,t+1])\n",
        "      confirmed_[t+1]=confirmed_[t] + (H[t]/initial_population)  *  M[:,t].sum() * Beta[t]\n",
        "\n",
        "    elif ((H[t]>0) & ((H[t]/initial_population)  *  M[:,t].sum() * Beta[t])):\n",
        "      E[0,t+1] = H[t]\n",
        "      H[t+1]= 0\n",
        "\n",
        "    Track_E.append(E[:,t])\n",
        "    Track_V.append(V[:,t])\n",
        "    Track_W.append(W[:,t])"
      ],
      "execution_count": 0,
      "outputs": []
    },
    {
      "cell_type": "code",
      "metadata": {
        "id": "IT6AZ6n8T6TY",
        "colab_type": "code",
        "outputId": "13ed6c7d-ce35-438b-d259-10c318114794",
        "colab": {
          "base_uri": "https://localhost:8080/",
          "height": 54
        }
      },
      "source": [
        "\"\"\"calculate(initial_population= 10_000_000,initial_exposed=100,B=.6,lenght_t=100)\n",
        "f,ax=plt.subplots(figsize=(10,6))\n",
        "ax.plot(E.sum(axis=0),color='gray',label = 'Incubation')\n",
        "ax.plot(M.sum(axis=0),color='orange', label ='Mild')\n",
        "ax.plot(W.sum(axis=0),color='red', label ='Severe')\n",
        "ax.plot(V.sum(axis=0),'--',color='red', label ='Ventilator')\n",
        "ax.plot(R,color='green', label = 'Recovered')\n",
        "ax.plot(D,color='Black', label = 'Dead')\n",
        "ax.plot(MU.sum(axis=0),'-*',color='orange', label ='Undiagnosed Mild')\"\"\""
      ],
      "execution_count": 0,
      "outputs": [
        {
          "output_type": "execute_result",
          "data": {
            "text/plain": [
              "\"calculate(initial_population= 10_000_000,initial_exposed=100,B=.6,lenght_t=100)\\nf,ax=plt.subplots(figsize=(10,6))\\nax.plot(E.sum(axis=0),color='gray',label = 'Incubation')\\nax.plot(M.sum(axis=0),color='orange', label ='Mild')\\nax.plot(W.sum(axis=0),color='red', label ='Severe')\\nax.plot(V.sum(axis=0),'--',color='red', label ='Ventilator')\\nax.plot(R,color='green', label = 'Recovered')\\nax.plot(D,color='Black', label = 'Dead')\\nax.plot(MU.sum(axis=0),'-*',color='orange', label ='Undiagnosed Mild')\""
            ]
          },
          "metadata": {
            "tags": []
          },
          "execution_count": 57
        }
      ]
    },
    {
      "cell_type": "markdown",
      "metadata": {
        "id": "6cxMkPj9j9_b",
        "colab_type": "text"
      },
      "source": [
        "## Comparison"
      ]
    },
    {
      "cell_type": "markdown",
      "metadata": {
        "id": "y0Wuzwm9Taj-",
        "colab_type": "text"
      },
      "source": [
        "# Parameter fitting"
      ]
    },
    {
      "cell_type": "code",
      "metadata": {
        "id": "2vRsM37QTYEg",
        "colab_type": "code",
        "outputId": "88a4d655-a845-4519-dc28-e1b054d8365c",
        "colab": {
          "base_uri": "https://localhost:8080/",
          "height": 657,
          "referenced_widgets": [
            "165e0443cb46482d9654b852198b22cc",
            "86f8879d26d94ec8974d401ee7bfc127",
            "752d37f02104495caf6144a74f2041f5",
            "6c0809e07c11475fae6e95db4cdc7107",
            "45c782d4937a4e67a47bb3f2d76c240d",
            "f688968509ce41dfba7c3676f4d56fac",
            "54eea4ff211f4098adf419f4372ac1ad",
            "2ae66633e5414f439a231d4b0fbb68e8",
            "e92f0ee6abc34bca8e79838474c21c4c",
            "f5fc6556c9de450c9c0ea9900e5e6907",
            "24119384cd4d42f489b44469e7dfb8a6",
            "8af84ffdddff4c84b56b67a5e3f0dc3c",
            "7988676286704c68a41c173b453a638e",
            "a13cf48352c74d9a88ac909ccbbb8763",
            "2dc45ae6047a45c39625e8677f08e0a6",
            "ed8e8902401140ddbfcf552952e03711",
            "bb06431ae62d45339f57e190cf0bac68",
            "5893bbc2667547a5a63c745320c1c0ee",
            "a260782dc5a84e199b11dd9e0416dce6",
            "14e6dde1d7494d91b032a5856dfd03fc",
            "a08b2bf3b2bd479fa71b9e5a9d54b71b",
            "b2a8e2b45caf445698c91d3162aaace7"
          ]
        }
      },
      "source": [
        "Country = 'Italy'\n",
        "Track_M = []\n",
        "\n",
        "def Interactive_deriv(Population,initial_exposed,B,L,Delay,normalization_factor):\n",
        "\n",
        "  ###############\n",
        "  ##############\n",
        "\n",
        "  calculate(initial_population=Population, initial_exposed=initial_exposed, lenght_t=L, B=B)\n",
        "\n",
        "  f,axx = plt.subplots(1,2,figsize=(18,7))\n",
        "  ax=axx.ravel()\n",
        "  \n",
        "  ax[0].plot(E.sum(axis=0),color='gray',label = 'Incubation')\n",
        "  ax[0].plot(M.sum(axis=0),color='orange', label ='Mild')\n",
        "  ax[0].plot(W.sum(axis=0),color='red', label ='Severe')\n",
        "  ax[0].plot(V.sum(axis=0),'--',color='red', label ='Ventilator')\n",
        "\n",
        "  ax[0].plot(R,color='green', label = 'Recovered')\n",
        "  ax[0].plot(D,color='Black', label = 'Dead')\n",
        "  ax[0].plot(MU.sum(axis=0),'-*',color='orange', label ='Undiagnosed Mild')\n",
        "\n",
        "  df_actual_confirm = get_actual_ts(key=\"confirmed\")\n",
        "  df_actual_dead = get_actual_ts(key=\"dead\")\n",
        "  df_actual_recovered = get_actual_ts(key=\"recovered\")\n",
        "\n",
        "  #ax[0].plot(H,color='blue', label = 'Susceptible')\n",
        "  #ax[0].plot(df_actual_dead['cumulative'].values[Delay:],color='blue',label = 'dead' )\n",
        "\n",
        "  ax[1].plot(df_actual_confirm['rolling'].values[Delay:],label='Confirmed daily')\n",
        "  ax[1].plot(df_actual_dead['cumulative'].values[Delay:],label = 'dead' )\n",
        "  ax[1].plot(df_actual_recovered['cumulative'].values[Delay:], label = 'recovered')\n",
        "  ax[1].tick_params(labelsize=14)\n",
        "  ax[1].legend(fontsize=14)\n",
        "  \n",
        "  ax[0].tick_params(labelsize=14)\n",
        "  ax[1].set_title('Italy')\n",
        "  ax[0].legend(fontsize=14)\n",
        "\n",
        "w = interactive(\n",
        "    Interactive_deriv,\n",
        "    Population = IntSlider(min=1000, max=50_000_000,   continuous_update=False,   step=1, value=40_000_000, description = 'Population'),\n",
        "    initial_exposed = IntSlider(min=1, max=5000,   continuous_update=False,   step=1, value=400, description = 'initial_exposed'),\n",
        "    B=        FloatSlider(min=0.11, max=1,     continuous_update=False, readout_format='.8f',   step=0.001, value=0.2157, description = 'Beta'),\n",
        "    L = IntSlider(min=10, max=200,     continuous_update=False,   step=1, value=120, description = 'length of simmulation'),\n",
        "    Delay = IntSlider(min=1, max=50,   continuous_update=False,   step=1, value=1, description = 'Delay'),\n",
        "    normalization_factor = IntSlider(min=1, max=1000,   continuous_update=False,   step=1, value=500, description = 'normalization_factor')\n",
        "    )\n",
        "w\n"
      ],
      "execution_count": 0,
      "outputs": [
        {
          "output_type": "display_data",
          "data": {
            "application/vnd.jupyter.widget-view+json": {
              "model_id": "165e0443cb46482d9654b852198b22cc",
              "version_minor": 0,
              "version_major": 2
            },
            "text/plain": [
              "interactive(children=(IntSlider(value=40000000, continuous_update=False, description='Population', max=5000000…"
            ]
          },
          "metadata": {
            "tags": []
          }
        }
      ]
    },
    {
      "cell_type": "code",
      "metadata": {
        "id": "wLsc7FTyCPzd",
        "colab_type": "code",
        "outputId": "daed0e80-909c-4454-ef3d-41517eaeeafc",
        "colab": {
          "base_uri": "https://localhost:8080/",
          "height": 624
        }
      },
      "source": [
        "Track_M = np.asanyarray(Track_M)\n",
        "Track_E = np.asanyarray(Track_E)\n",
        "Track_V = np.asanyarray(Track_V)\n",
        "Track_W = np.asanyarray(Track_W)\n",
        "\n",
        "\n",
        "df_Track_M=pd.DataFrame(Track_M)\n",
        "df_Track_E=pd.DataFrame(Track_E)\n",
        "df_Track_V=pd.DataFrame(Track_V)\n",
        "df_Track_W=pd.DataFrame(Track_W)\n",
        "\n",
        "f,axs = plt.subplots(2,2,figsize=(20,10))\n",
        "ax=axs.ravel()\n",
        "sns.heatmap(Track_E,cmap='viridis',ax=ax[0],)\n",
        "ax[0].set_title('Exposed')\n",
        "sns.heatmap(Track_M,cmap='viridis',ax=ax[1])\n",
        "ax[1].set_title('Mild')\n",
        "sns.heatmap(Track_W,cmap='viridis',ax=ax[2])\n",
        "ax[2].set_title('Severe')\n",
        "sns.heatmap(Track_V,cmap='viridis',ax=ax[3])\n",
        "ax[3].set_title('Ventilator')"
      ],
      "execution_count": 0,
      "outputs": [
        {
          "output_type": "execute_result",
          "data": {
            "text/plain": [
              "Text(0.5, 1.0, 'Ventilator')"
            ]
          },
          "metadata": {
            "tags": []
          },
          "execution_count": 60
        },
        {
          "output_type": "display_data",
          "data": {
            "image/png": "[encoded data removed]",
            "text/plain": [
              "<Figure size 1440x720 with 8 Axes>"
            ]
          },
          "metadata": {
            "tags": [],
            "needs_background": "light"
          }
        }
      ]
    },
    {
      "cell_type": "code",
      "metadata": {
        "id": "EBKtr61F8Ifk",
        "colab_type": "code",
        "colab": {}
      },
      "source": [
        "def e_at_day(num_days = 20):\n",
        "    ## https://www.graphpad.com/guides/prism/7/curve-fitting/reg_classic_boltzmann.htm\n",
        "    Tdays = np.arange(num_days) #x\n",
        "    Top = 1\n",
        "    Buttom = 0\n",
        "    v50= 7\n",
        "    slope= 1.8\n",
        "    e_to_m = Top +  (Buttom - Top)/(1+ np.exp((v50 - Tdays)/slope))\n",
        "    e_to_e = 1 - (e_to_m)\n",
        "    return pd.DataFrame({'e_to_e': e_to_e, 'e_to_m' :e_to_m})\n",
        "ee = e_at_day(20)"
      ],
      "execution_count": 0,
      "outputs": []
    },
    {
      "cell_type": "code",
      "metadata": {
        "id": "p1uM7WeL868G",
        "colab_type": "code",
        "outputId": "26a45d89-e998-4251-d238-c2fee97700d9",
        "colab": {
          "base_uri": "https://localhost:8080/",
          "height": 282
        }
      },
      "source": [
        "ee.plot()"
      ],
      "execution_count": 0,
      "outputs": [
        {
          "output_type": "execute_result",
          "data": {
            "text/plain": [
              "<matplotlib.axes._subplots.AxesSubplot at 0x7f3e3fcbcf28>"
            ]
          },
          "metadata": {
            "tags": []
          },
          "execution_count": 47
        },
        {
          "output_type": "display_data",
          "data": {
            "image/png": "[encoded data removed]",
            "text/plain": [
              "<Figure size 432x288 with 1 Axes>"
            ]
          },
          "metadata": {
            "tags": [],
            "needs_background": "light"
          }
        }
      ]
    },
    {
      "cell_type": "code",
      "metadata": {
        "id": "aEjTH-Ee8_Q4",
        "colab_type": "code",
        "colab": {}
      },
      "source": [
        ""
      ],
      "execution_count": 0,
      "outputs": []
    }
  ]
}