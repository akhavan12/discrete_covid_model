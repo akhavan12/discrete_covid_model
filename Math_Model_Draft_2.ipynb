{
  "nbformat": 4,
  "nbformat_minor": 0,
  "metadata": {
    "kernelspec": {
      "display_name": "Python 3",
      "language": "python",
      "name": "python3"
    },
    "language_info": {
      "codemirror_mode": {
        "name": "ipython",
        "version": 3
      },
      "file_extension": ".py",
      "mimetype": "text/x-python",
      "name": "python",
      "nbconvert_exporter": "python",
      "pygments_lexer": "ipython3",
      "version": "3.6.5"
    },
    "toc": {
      "base_numbering": 1,
      "nav_menu": {},
      "number_sections": true,
      "sideBar": true,
      "skip_h1_title": false,
      "title_cell": "Table of Contents",
      "title_sidebar": "Contents",
      "toc_cell": false,
      "toc_position": {},
      "toc_section_display": true,
      "toc_window_display": false
    },
    "varInspector": {
      "cols": {
        "lenName": 16,
        "lenType": 16,
        "lenVar": 40
      },
      "kernels_config": {
        "python": {
          "delete_cmd_postfix": "",
          "delete_cmd_prefix": "del ",
          "library": "var_list.py",
          "varRefreshCmd": "print(var_dic_list())"
        },
        "r": {
          "delete_cmd_postfix": ") ",
          "delete_cmd_prefix": "rm(",
          "library": "var_list.r",
          "varRefreshCmd": "cat(var_dic_list()) "
        }
      },
      "types_to_exclude": [
        "module",
        "function",
        "builtin_function_or_method",
        "instance",
        "_Feature"
      ],
      "window_display": false
    },
    "colab": {
      "name": "Math_Model_Draft_2.ipynb",
      "provenance": [],
      "collapsed_sections": [],
      "include_colab_link": true
    }
  },
  "cells": [
    {
      "cell_type": "markdown",
      "metadata": {
        "id": "view-in-github",
        "colab_type": "text"
      },
      "source": [
        "<a href=\"https://colab.research.google.com/github/akhavan12/discrete_covid_model/blob/master/Math_Model_Draft_2.ipynb\" target=\"_parent\"><img src=\"https://colab.research.google.com/assets/colab-badge.svg\" alt=\"Open In Colab\"/></a>"
      ]
    },
    {
      "cell_type": "code",
      "metadata": {
        "ExecuteTime": {
          "end_time": "2020-04-21T06:33:01.199970Z",
          "start_time": "2020-04-21T06:33:01.196299Z"
        },
        "id": "akREnqS5_eNw",
        "colab_type": "code",
        "colab": {}
      },
      "source": [
        "import sympy\n",
        "import pprint\n",
        "import sympy as sym\n",
        "sym.init_printing()"
      ],
      "execution_count": 0,
      "outputs": []
    },
    {
      "cell_type": "markdown",
      "metadata": {
        "ExecuteTime": {
          "end_time": "2020-04-21T05:14:36.529913Z",
          "start_time": "2020-04-21T05:14:36.485816Z"
        },
        "id": "7fkbI5BD_eN2",
        "colab_type": "text"
      },
      "source": [
        "<img src=\"https://drive.google.com/file/d/1Whr1nOQXAeHVWS8kt5sGwGUirejI4MJ6/preview\">"
      ]
    },
    {
      "cell_type": "code",
      "metadata": {
        "ExecuteTime": {
          "end_time": "2020-04-21T05:45:09.953743Z",
          "start_time": "2020-04-21T05:45:09.948318Z"
        },
        "id": "h_NXyImp_eN2",
        "colab_type": "code",
        "colab": {}
      },
      "source": [
        "# parameters\n",
        "t = sym.symbols('t') # time or day\n",
        "e = sym.symbols('epsilon') # delay of exposed to infections\n",
        "q_a = sym.symbols('q_a') # infection rate of the Asymptomatic\n",
        "q_m = sym.symbols('q_m') # infection rate of the Mild\n",
        "g = sym.symbols('gamma') # recovery delay for the Mild and Asymptomic\n",
        "g_w,g_v = sym.symbols('gamma_w, gamma_v') # recovery delay for the sever and ventilator\n",
        "eta_w,eta_v = sym.symbols('eta_w , eta_v') # recovery delay for the Mild and Asymptomic\n",
        "B = sym.symbols('beta') #Bilinear incidence (infected cases, transmitting the virus)\n",
        "G_m = sym.symbols('G_m')\n",
        "G_w = sym.symbols('G_w')"
      ],
      "execution_count": 0,
      "outputs": []
    },
    {
      "cell_type": "code",
      "metadata": {
        "ExecuteTime": {
          "end_time": "2020-04-21T05:45:10.829138Z",
          "start_time": "2020-04-21T05:45:10.823150Z"
        },
        "id": "_UJohrrp_eN6",
        "colab_type": "code",
        "colab": {}
      },
      "source": [
        "H = sym.Function('H')(t) # healthy population at time t\n",
        "E = sym.Function('E')(t) # exposed population at time t\n",
        "A = sym.Function('A')(t) # Asymptomatic infected at time t\n",
        "M = sym.Function('M')(t) # Mild infected \n",
        "W = sym.Function('W')(t) # Infected with sever symptoms\n",
        "V = sym.Function('V')(t) # Infected with need for ventilator\n",
        "R = sym.Function('R')(t) # Recovered at any time t\n",
        "D = sym.Function('D')(t) # Death at any time t"
      ],
      "execution_count": 0,
      "outputs": []
    },
    {
      "cell_type": "code",
      "metadata": {
        "ExecuteTime": {
          "end_time": "2020-04-21T05:51:35.143861Z",
          "start_time": "2020-04-21T05:51:35.135477Z"
        },
        "id": "-KwCI7fF_eN-",
        "colab_type": "code",
        "colab": {}
      },
      "source": [
        "### star functions for time 0\n",
        "H_star = sym.Function('H^*')(t) # healthy population at time t\n",
        "E_star = sym.Function('E^*')(t) # exposed population at time t\n",
        "A_star = sym.Function('A^*')(t) # Asymptomatic infected at time t\n",
        "M_star = sym.Function('M^*')(t) # Mild infected \n",
        "W_star = sym.Function('W^*')(t) # Infected with sever symptoms\n",
        "V_star = sym.Function('V^*')(t) # Infected with need for ventilator\n",
        "R_star = sym.Function('R^*')(t) # Recovered at any time t\n",
        "D_star = sym.Function('D^*')(t) # Death at any time t"
      ],
      "execution_count": 0,
      "outputs": []
    },
    {
      "cell_type": "code",
      "metadata": {
        "ExecuteTime": {
          "end_time": "2020-04-21T05:45:11.316653Z",
          "start_time": "2020-04-21T05:45:11.311004Z"
        },
        "id": "S14JGcNg_eOB",
        "colab_type": "code",
        "colab": {}
      },
      "source": [
        "dHdt = H.diff(t)\n",
        "dEdt = E.diff(t)\n",
        "dAdt = A.diff(t)\n",
        "dMdt = M.diff(t)\n",
        "dWdt = W.diff(t)\n",
        "dVdt = V.diff(t)\n",
        "dRdt = R.diff(t)\n",
        "dDdt = D.diff(t)"
      ],
      "execution_count": 0,
      "outputs": []
    },
    {
      "cell_type": "code",
      "metadata": {
        "ExecuteTime": {
          "end_time": "2020-04-21T06:43:12.356571Z",
          "start_time": "2020-04-21T06:43:12.348835Z"
        },
        "id": "dlGZLDGo_eOG",
        "colab_type": "code",
        "colab": {}
      },
      "source": [
        "dHdt_ = sym.Eq(dHdt, -B*H*(A+M+W))                # Eq(1) \n",
        "#dEdt_ = sym.Eq(F, B*H*(A+M+W) - e*E*q_a-e*q_m) # Eq(2)\n",
        "#dAdt_ = sym.Eq(dAdt, e*E*q_a-g*A)                 # Eq(3)\n",
        "#dMdt_ = sym.Eq(dMdt, e*E*q_m - g*M - G_m*M)       # Eq(4)    \n",
        "#dWdt_ = sym.Eq(dWdt, G_m*M-g_w*W-G_w*W-eta_w*W)   # Eq(5)\n",
        "#dVdt_ = sym.Eq(dVdt, G_w-g_v*V-eta_v*V)           # Eq(6)\n",
        "#dRdt_ = sym.Eq(dRdt, g*A+g*M+g_w*W+g_v*V)         # Eq(7)\n",
        "#dDdt_ = sym.Eq(dDdt, eta_w*W + eta_v* V)          # Eq(8)"
      ],
      "execution_count": 0,
      "outputs": []
    },
    {
      "cell_type": "code",
      "metadata": {
        "ExecuteTime": {
          "end_time": "2020-04-21T05:45:12.527072Z",
          "start_time": "2020-04-21T05:45:12.523436Z"
        },
        "id": "IytU328f_eOJ",
        "colab_type": "code",
        "colab": {}
      },
      "source": [
        "## Special Case where there is no infection in the system"
      ],
      "execution_count": 0,
      "outputs": []
    },
    {
      "cell_type": "code",
      "metadata": {
        "ExecuteTime": {
          "end_time": "2020-04-21T05:45:13.695968Z",
          "start_time": "2020-04-21T05:45:13.144819Z"
        },
        "id": "7Oja3KpF_eON",
        "colab_type": "code",
        "outputId": "583df60b-7494-4724-8706-1c9f2742214b",
        "colab": {
          "base_uri": "https://localhost:8080/",
          "height": 34
        }
      },
      "source": [
        "sym.dsolve(dHdt_,H)"
      ],
      "execution_count": 15,
      "outputs": [
        {
          "output_type": "execute_result",
          "data": {
            "image/png": "[encoded data removed]",
            "text/latex": "$$H{\\left (t \\right )} = C_{1} e^{\\beta \\left(- \\int A{\\left (t \\right )}\\, dt - \\int M{\\left (t \\right )}\\, dt - \\int W{\\left (t \\right )}\\, dt\\right)}$$",
            "text/plain": [
              "             ⎛  ⌠           ⌠           ⌠        ⎞\n",
              "           β⋅⎜- ⎮ A(t) dt - ⎮ M(t) dt - ⎮ W(t) dt⎟\n",
              "             ⎝  ⌡           ⌡           ⌡        ⎠\n",
              "H(t) = C₁⋅ℯ                                       "
            ]
          },
          "metadata": {
            "tags": []
          },
          "execution_count": 15
        }
      ]
    },
    {
      "cell_type": "code",
      "metadata": {
        "ExecuteTime": {
          "end_time": "2020-04-21T05:49:14.976265Z",
          "start_time": "2020-04-21T05:49:14.972620Z"
        },
        "id": "kAf5kH2f_eOR",
        "colab_type": "code",
        "colab": {}
      },
      "source": [
        ""
      ],
      "execution_count": 0,
      "outputs": []
    },
    {
      "cell_type": "code",
      "metadata": {
        "ExecuteTime": {
          "end_time": "2020-04-21T05:50:18.260502Z",
          "start_time": "2020-04-21T05:50:18.255718Z"
        },
        "id": "t6YaX_-P_eOU",
        "colab_type": "code",
        "colab": {}
      },
      "source": [
        ""
      ],
      "execution_count": 0,
      "outputs": []
    },
    {
      "cell_type": "code",
      "metadata": {
        "ExecuteTime": {
          "end_time": "2020-04-21T05:50:33.592408Z",
          "start_time": "2020-04-21T05:50:33.579137Z"
        },
        "id": "qXWTJ75e_eOW",
        "colab_type": "code",
        "colab": {}
      },
      "source": [
        ""
      ],
      "execution_count": 0,
      "outputs": []
    },
    {
      "cell_type": "code",
      "metadata": {
        "ExecuteTime": {
          "end_time": "2020-04-21T06:36:09.802441Z",
          "start_time": "2020-04-21T06:36:09.779588Z"
        },
        "id": "6GAIgIuk_eOa",
        "colab_type": "code",
        "colab": {}
      },
      "source": [
        ""
      ],
      "execution_count": 0,
      "outputs": []
    },
    {
      "cell_type": "code",
      "metadata": {
        "id": "KX4db0KP_eOc",
        "colab_type": "code",
        "colab": {}
      },
      "source": [
        ""
      ],
      "execution_count": 0,
      "outputs": []
    }
  ]
}