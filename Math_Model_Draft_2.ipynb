{
  "nbformat": 4,
  "nbformat_minor": 0,
  "metadata": {
    "kernelspec": {
      "display_name": "Python 3",
      "language": "python",
      "name": "python3"
    },
    "language_info": {
      "codemirror_mode": {
        "name": "ipython",
        "version": 3
      },
      "file_extension": ".py",
      "mimetype": "text/x-python",
      "name": "python",
      "nbconvert_exporter": "python",
      "pygments_lexer": "ipython3",
      "version": "3.6.5"
    },
    "toc": {
      "base_numbering": 1,
      "nav_menu": {},
      "number_sections": true,
      "sideBar": true,
      "skip_h1_title": false,
      "title_cell": "Table of Contents",
      "title_sidebar": "Contents",
      "toc_cell": false,
      "toc_position": {},
      "toc_section_display": true,
      "toc_window_display": false
    },
    "varInspector": {
      "cols": {
        "lenName": 16,
        "lenType": 16,
        "lenVar": 40
      },
      "kernels_config": {
        "python": {
          "delete_cmd_postfix": "",
          "delete_cmd_prefix": "del ",
          "library": "var_list.py",
          "varRefreshCmd": "print(var_dic_list())"
        },
        "r": {
          "delete_cmd_postfix": ") ",
          "delete_cmd_prefix": "rm(",
          "library": "var_list.r",
          "varRefreshCmd": "cat(var_dic_list()) "
        }
      },
      "types_to_exclude": [
        "module",
        "function",
        "builtin_function_or_method",
        "instance",
        "_Feature"
      ],
      "window_display": false
    },
    "colab": {
      "name": "Math_Model_Draft_2.ipynb",
      "provenance": [],
      "collapsed_sections": [],
      "include_colab_link": true
    }
  },
  "cells": [
    {
      "cell_type": "markdown",
      "metadata": {
        "id": "view-in-github",
        "colab_type": "text"
      },
      "source": [
        "<a href=\"https://colab.research.google.com/github/akhavan12/discrete_covid_model/blob/master/Math_Model_Draft_2.ipynb\" target=\"_parent\"><img src=\"https://colab.research.google.com/assets/colab-badge.svg\" alt=\"Open In Colab\"/></a>"
      ]
    },
    {
      "cell_type": "code",
      "metadata": {
        "ExecuteTime": {
          "end_time": "2020-04-21T06:33:01.199970Z",
          "start_time": "2020-04-21T06:33:01.196299Z"
        },
        "id": "akREnqS5_eNw",
        "colab_type": "code",
        "colab": {}
      },
      "source": [
        "import sympy\n",
        "import pprint\n",
        "import sympy as sym\n",
        "from pprint import pprint as ppritn\n",
        "from IPython.display import display, Latex\n",
        "sym.init_printing(use_latex='unicode')"
      ],
      "execution_count": 0,
      "outputs": []
    },
    {
      "cell_type": "markdown",
      "metadata": {
        "ExecuteTime": {
          "end_time": "2020-04-21T05:14:36.529913Z",
          "start_time": "2020-04-21T05:14:36.485816Z"
        },
        "id": "7fkbI5BD_eN2",
        "colab_type": "text"
      },
      "source": [
        "<img src=\"https://drive.google.com/file/d/1Whr1nOQXAeHVWS8kt5sGwGUirejI4MJ6/preview\">"
      ]
    },
    {
      "cell_type": "markdown",
      "metadata": {
        "id": "LijCQY-J8VZx",
        "colab_type": "text"
      },
      "source": [
        "##Parameters"
      ]
    },
    {
      "cell_type": "code",
      "metadata": {
        "ExecuteTime": {
          "end_time": "2020-04-21T05:45:09.953743Z",
          "start_time": "2020-04-21T05:45:09.948318Z"
        },
        "id": "h_NXyImp_eN2",
        "colab_type": "code",
        "colab": {}
      },
      "source": [
        "# parameters\n",
        "t = sym.symbols('t') # time or day\n",
        "e = sym.symbols('epsilon') # delay of exposed to infections\n",
        "## infection rate from M and A\n",
        "q_a = sym.symbols('q_a') # infection rate of the Asymptomatic\n",
        "q_m = sym.symbols('q_m') # infection rate of the Mild\n",
        "## recovery rate form a, m , w, v\n",
        "R_a = sym.symbols('gamma_a') \n",
        "R_m = sym.symbols('gamma_mild')\n",
        "R_w = sym.symbols('gamma_w')\n",
        "R_v = sym.symbols('gamma_v')\n",
        "## death rate from w and v\n",
        "eta_w = sym.symbols('eta_w')\n",
        "eta_v = sym.symbols('eta_v') \n",
        "## Bilinear incidence (infected cases, transmitting the virus)\n",
        "B = sym.symbols('beta') \n",
        "## moving from 1 state to another\n",
        "G_a = sym.symbols('omega_a')\n",
        "\n",
        "G_m = sym.symbols('omega_mi')\n",
        "\n",
        "G_w = sym.symbols('omega_w')\n",
        "\n",
        "G_v = sym.symbols('omega_v')"
      ],
      "execution_count": 0,
      "outputs": []
    },
    {
      "cell_type": "markdown",
      "metadata": {
        "id": "SHetE2iz8bie",
        "colab_type": "text"
      },
      "source": [
        "## Functions"
      ]
    },
    {
      "cell_type": "code",
      "metadata": {
        "ExecuteTime": {
          "end_time": "2020-04-21T05:45:10.829138Z",
          "start_time": "2020-04-21T05:45:10.823150Z"
        },
        "id": "_UJohrrp_eN6",
        "colab_type": "code",
        "colab": {}
      },
      "source": [
        "H = sym.Function('H')(t) # healthy population at time t\n",
        "E = sym.Function('E')(t) # exposed population at time t\n",
        "A = sym.Function('A')(t) # Asymptomatic infected at time t\n",
        "M = sym.Function('M')(t) # Mild infected \n",
        "W = sym.Function('W')(t) # Infected with sever symptoms\n",
        "V = sym.Function('V')(t) # Infected with need for ventilator\n",
        "R = sym.Function('R')(t) # Recovered at any time t\n",
        "D = sym.Function('D')(t) # Death at any time t"
      ],
      "execution_count": 0,
      "outputs": []
    },
    {
      "cell_type": "markdown",
      "metadata": {
        "id": "7yy_dbLc8eIE",
        "colab_type": "text"
      },
      "source": [
        "# Star functions when the derivative are zero\n"
      ]
    },
    {
      "cell_type": "code",
      "metadata": {
        "ExecuteTime": {
          "end_time": "2020-04-21T05:51:35.143861Z",
          "start_time": "2020-04-21T05:51:35.135477Z"
        },
        "id": "-KwCI7fF_eN-",
        "colab_type": "code",
        "colab": {}
      },
      "source": [
        "### star functions for time 0\n",
        "H_star = sym.Function('H^*')(t) # healthy population at time t\n",
        "E_star = sym.Function('E^*')(t) # exposed population at time t\n",
        "A_star = sym.Function('A^*')(t) # Asymptomatic infected at time t\n",
        "M_star = sym.Function('M^*')(t) # Mild infected \n",
        "W_star = sym.Function('W^*')(t) # Infected with sever symptoms\n",
        "V_star = sym.Function('V^*')(t) # Infected with need for ventilator\n",
        "R_star = sym.Function('R^*')(t) # Recovered at any time t\n",
        "D_star = sym.Function('D^*')(t) # Death at any time t"
      ],
      "execution_count": 0,
      "outputs": []
    },
    {
      "cell_type": "markdown",
      "metadata": {
        "id": "ObBP7zb78qqV",
        "colab_type": "text"
      },
      "source": [
        "## Derivative"
      ]
    },
    {
      "cell_type": "code",
      "metadata": {
        "ExecuteTime": {
          "end_time": "2020-04-21T05:45:11.316653Z",
          "start_time": "2020-04-21T05:45:11.311004Z"
        },
        "id": "S14JGcNg_eOB",
        "colab_type": "code",
        "colab": {}
      },
      "source": [
        "dHdt = H.diff(t)\n",
        "dEdt = E.diff(t)\n",
        "dAdt = A.diff(t)\n",
        "dMdt = M.diff(t)\n",
        "dWdt = W.diff(t)\n",
        "dVdt = V.diff(t)\n",
        "dRdt = R.diff(t)\n",
        "dDdt = D.diff(t)\n",
        "\n",
        "### \n",
        "dHdt_ = sym.Eq(dHdt, -B*H*(A+M+W))                                        # Eq(1) \n",
        "dEdt_ = sym.Eq(dEdt, B*H*(A+M+W) - (e * E * q_a))                         # Eq(2)\n",
        "dAdt_ = sym.Eq(dAdt, e * E * q_a - (G_a * A) - (R_a * A))                # Eq(3)\n",
        "dMdt_ = sym.Eq(dMdt, G_a * A - (G_m * M) - (R_m * M))                    # Eq(4)    \n",
        "dWdt_ = sym.Eq(dWdt, G_m * M - (G_w * W) - (R_w * W) - (eta_w * W) )    # Eq(5)\n",
        "dVdt_ = sym.Eq(dVdt, G_w * W - (R_v * V) - (eta_v * V))                 # Eq(6)\n",
        "dRdt_ = sym.Eq(dRdt, R_v * A + R_m * M + R_w * W + R_v* V)            \n",
        "dDdt_ = sym.Eq(dDdt, (eta_w * W) + (eta_v * V))   "
      ],
      "execution_count": 0,
      "outputs": []
    },
    {
      "cell_type": "markdown",
      "metadata": {
        "id": "6XBGpiEV84cO",
        "colab_type": "text"
      },
      "source": [
        "## overview equations"
      ]
    },
    {
      "cell_type": "code",
      "metadata": {
        "ExecuteTime": {
          "end_time": "2020-04-21T05:45:13.695968Z",
          "start_time": "2020-04-21T05:45:13.144819Z"
        },
        "id": "7Oja3KpF_eON",
        "colab_type": "code",
        "outputId": "fa7c0e59-b0d4-482d-c54a-f6b128f7c0c4",
        "colab": {
          "base_uri": "https://localhost:8080/",
          "height": 544
        }
      },
      "source": [
        "sym.pprint(dHdt_)\n",
        "print(\"\")\n",
        "sym.pprint(dEdt_)\n",
        "print(\"\")\n",
        "sym.pprint(dAdt_)\n",
        "print(\"\")\n",
        "sym.pprint(dMdt_)\n",
        "print(\"\")\n",
        "sym.pprint(dWdt_)\n",
        "print(\"\")\n",
        "sym.pprint(dVdt_)\n",
        "print(\"\")\n",
        "sym.pprint(dRdt_)\n",
        "print(\"\")\n",
        "sym.pprint(dDdt_)"
      ],
      "execution_count": 0,
      "outputs": [
        {
          "output_type": "stream",
          "text": [
            "d                                      \n",
            "──(H(t)) = -β⋅(A(t) + M(t) + W(t))⋅H(t)\n",
            "dt                                     \n",
            "\n",
            "d                                                 \n",
            "──(E(t)) = β⋅(A(t) + M(t) + W(t))⋅H(t) - ε⋅qₐ⋅E(t)\n",
            "dt                                                \n",
            "\n",
            "d                                       \n",
            "──(A(t)) = ε⋅qₐ⋅E(t) - γₐ⋅A(t) - ωₐ⋅A(t)\n",
            "dt                                      \n",
            "\n",
            "d                                           \n",
            "──(M(t)) = -γ_mild⋅M(t) + ωₐ⋅A(t) - ωₘᵢ⋅M(t)\n",
            "dt                                          \n",
            "\n",
            "d                                                    \n",
            "──(W(t)) = -η_w⋅W(t) - γ_w⋅W(t) + ωₘᵢ⋅M(t) - ω_w⋅W(t)\n",
            "dt                                                   \n",
            "\n",
            "d                                       \n",
            "──(V(t)) = -ηᵥ⋅V(t) - γᵥ⋅V(t) + ω_w⋅W(t)\n",
            "dt                                      \n",
            "\n",
            "d                                                    \n",
            "──(R(t)) = γ_mild⋅M(t) + γᵥ⋅A(t) + γᵥ⋅V(t) + γ_w⋅W(t)\n",
            "dt                                                   \n",
            "\n",
            "d                            \n",
            "──(D(t)) = ηᵥ⋅V(t) + η_w⋅W(t)\n",
            "dt                           \n"
          ],
          "name": "stdout"
        }
      ]
    },
    {
      "cell_type": "markdown",
      "metadata": {
        "id": "TU9NShoa9Bk3",
        "colab_type": "text"
      },
      "source": [
        "## Equiliberium when the derivative are zero"
      ]
    },
    {
      "cell_type": "code",
      "metadata": {
        "ExecuteTime": {
          "end_time": "2020-04-21T05:49:14.976265Z",
          "start_time": "2020-04-21T05:49:14.972620Z"
        },
        "id": "kAf5kH2f_eOR",
        "colab_type": "code",
        "colab": {}
      },
      "source": [
        "# when the derivites are zero"
      ],
      "execution_count": 0,
      "outputs": []
    },
    {
      "cell_type": "code",
      "metadata": {
        "ExecuteTime": {
          "end_time": "2020-04-21T05:50:33.592408Z",
          "start_time": "2020-04-21T05:50:33.579137Z"
        },
        "id": "qXWTJ75e_eOW",
        "colab_type": "code",
        "outputId": "e2a850f9-58a4-4df1-e007-050f7f2b9e97",
        "colab": {
          "base_uri": "https://localhost:8080/",
          "height": 163
        }
      },
      "source": [
        "sym.Eq(E_star,sym.solve(B*H*(A+M+W) - (e * E * q_a),E)[0])"
      ],
      "execution_count": 1,
      "outputs": [
        {
          "output_type": "error",
          "ename": "NameError",
          "evalue": "ignored",
          "traceback": [
            "\u001b[0;31m---------------------------------------------------------------------------\u001b[0m",
            "\u001b[0;31mNameError\u001b[0m                                 Traceback (most recent call last)",
            "\u001b[0;32m<ipython-input-1-b0c066d3d5b5>\u001b[0m in \u001b[0;36m<module>\u001b[0;34m()\u001b[0m\n\u001b[0;32m----> 1\u001b[0;31m \u001b[0msym\u001b[0m\u001b[0;34m.\u001b[0m\u001b[0mEq\u001b[0m\u001b[0;34m(\u001b[0m\u001b[0mE_star\u001b[0m\u001b[0;34m,\u001b[0m\u001b[0msym\u001b[0m\u001b[0;34m.\u001b[0m\u001b[0msolve\u001b[0m\u001b[0;34m(\u001b[0m\u001b[0mB\u001b[0m\u001b[0;34m*\u001b[0m\u001b[0mH\u001b[0m\u001b[0;34m*\u001b[0m\u001b[0;34m(\u001b[0m\u001b[0mA\u001b[0m\u001b[0;34m+\u001b[0m\u001b[0mM\u001b[0m\u001b[0;34m+\u001b[0m\u001b[0mW\u001b[0m\u001b[0;34m)\u001b[0m \u001b[0;34m-\u001b[0m \u001b[0;34m(\u001b[0m\u001b[0me\u001b[0m \u001b[0;34m*\u001b[0m \u001b[0mE\u001b[0m \u001b[0;34m*\u001b[0m \u001b[0mq_a\u001b[0m\u001b[0;34m)\u001b[0m\u001b[0;34m,\u001b[0m\u001b[0mE\u001b[0m\u001b[0;34m)\u001b[0m\u001b[0;34m[\u001b[0m\u001b[0;36m0\u001b[0m\u001b[0;34m]\u001b[0m\u001b[0;34m)\u001b[0m\u001b[0;34m\u001b[0m\u001b[0;34m\u001b[0m\u001b[0m\n\u001b[0m",
            "\u001b[0;31mNameError\u001b[0m: name 'sym' is not defined"
          ]
        }
      ]
    },
    {
      "cell_type": "code",
      "metadata": {
        "id": "GaggrpQq-CWi",
        "colab_type": "code",
        "outputId": "be599752-f3e2-4036-9cd9-2286a529da1a",
        "colab": {
          "base_uri": "https://localhost:8080/",
          "height": 34
        }
      },
      "source": [
        "sym.solve(-B*H*(A+M+W),H)"
      ],
      "execution_count": 0,
      "outputs": [
        {
          "output_type": "execute_result",
          "data": {
            "text/plain": [
              "[0]"
            ]
          },
          "metadata": {
            "tags": []
          },
          "execution_count": 76
        }
      ]
    },
    {
      "cell_type": "code",
      "metadata": {
        "ExecuteTime": {
          "end_time": "2020-04-21T06:36:09.802441Z",
          "start_time": "2020-04-21T06:36:09.779588Z"
        },
        "id": "6GAIgIuk_eOa",
        "colab_type": "code",
        "colab": {}
      },
      "source": [
        "sym.Eq(dAdt, e * E * q_a - (G_a * A) - (R_a * A))           \n"
      ],
      "execution_count": 0,
      "outputs": []
    },
    {
      "cell_type": "code",
      "metadata": {
        "id": "KX4db0KP_eOc",
        "colab_type": "code",
        "colab": {}
      },
      "source": [
        "sym.Eq(dMdt, G_a * A - (G_m * M) - (R_m * M))               \n",
        " "
      ],
      "execution_count": 0,
      "outputs": []
    },
    {
      "cell_type": "code",
      "metadata": {
        "id": "9qS4A4vY9lhM",
        "colab_type": "code",
        "colab": {}
      },
      "source": [
        "sym.Eq(dWdt, G_m * M - (G_w * W) - (R_w * W) - (eta_w * W) )\n",
        " "
      ],
      "execution_count": 0,
      "outputs": []
    },
    {
      "cell_type": "code",
      "metadata": {
        "id": "PMcdADJl9lkg",
        "colab_type": "code",
        "colab": {}
      },
      "source": [
        "sym.Eq(dVdt, G_w * W - (R_v * V) - (eta_v * V))             \n"
      ],
      "execution_count": 0,
      "outputs": []
    },
    {
      "cell_type": "code",
      "metadata": {
        "id": "vte-Jo7j9lpL",
        "colab_type": "code",
        "colab": {}
      },
      "source": [
        "sym.Eq(dRdt, R_v * A + R_m * M + R_w * W + R_v* V)          \n"
      ],
      "execution_count": 0,
      "outputs": []
    },
    {
      "cell_type": "code",
      "metadata": {
        "id": "lb8TSUnw9odd",
        "colab_type": "code",
        "colab": {}
      },
      "source": [
        "sym.Eq(dDdt, (eta_w * W) + (eta_v * V))"
      ],
      "execution_count": 0,
      "outputs": []
    }
  ]
}