{
  "nbformat": 4,
  "nbformat_minor": 0,
  "metadata": {
    "colab": {
      "name": "Discrete_Model_v2.ipynb",
      "provenance": [],
      "collapsed_sections": [],
      "authorship_tag": "ABX9TyNnyIozWK3TMb0A+tmFno2o",
      "include_colab_link": true
    },
    "kernelspec": {
      "name": "python3",
      "display_name": "Python 3"
    }
  },
  "cells": [
    {
      "cell_type": "markdown",
      "metadata": {
        "id": "view-in-github",
        "colab_type": "text"
      },
      "source": [
        "<a href=\"https://colab.research.google.com/github/akhavan12/discrete_covid_model/blob/master/Discrete_Model_v2.ipynb\" target=\"_parent\"><img src=\"https://colab.research.google.com/assets/colab-badge.svg\" alt=\"Open In Colab\"/></a>"
      ]
    },
    {
      "cell_type": "code",
      "metadata": {
        "id": "szpGtfmfH3JG",
        "colab_type": "code",
        "colab": {}
      },
      "source": [
        "import numpy as np\n",
        "from scipy.optimize import curve_fit\n",
        "from scipy.integrate import odeint\n",
        "import matplotlib.pyplot as plt\n",
        "import pandas as pd\n",
        "import ipywidgets as widgets\n",
        "from ipywidgets import interact, interact_manual, interactive\n",
        "from ipywidgets import GridspecLayout\n",
        "from ipywidgets import FloatSlider\n",
        "pd.options.display.max_rows = 999"
      ],
      "execution_count": 0,
      "outputs": []
    },
    {
      "cell_type": "markdown",
      "metadata": {
        "id": "R4y_RNcBrojM",
        "colab_type": "text"
      },
      "source": [
        "![alt text](https://raw.githubusercontent.com/akhavan12/discrete_covid_model/master/MODEL_April_30_2020.svg)"
      ]
    },
    {
      "cell_type": "code",
      "metadata": {
        "id": "3B0-R566b4hn",
        "colab_type": "code",
        "colab": {}
      },
      "source": [
        "## Each state represents time from onset in one conditions (E,Symp,M,W,V)\n",
        "## when moving from one day to another, the states increment (E(t) -> E(t+1))\n",
        "## the change or staying in each condition, and state has it's own probability\n",
        "\n",
        "#H -- > E[ state 0, time t]--> P_E(state,E) --> + E(State 1, t+1)\n",
        "#                          --> P_E(state,Symp) --> + Symp(State 0, t+1) -->(Testing ratio)\n",
        "#                          --> P_H(state,H) --> + H(t+1)\n",
        "#S(state=1,t) -- > M(state=0,t+1) --P_M(state=1~14,M)-- > M(state=1,t+2)\n",
        "#                                 --P_M(state=1~14,W)-- > W(state=1,t+2)-----|P_W(state=1~14,V) ---> V(state=0, t=t+3) -->| P_R(state=1~14,V) --> R\n",
        "#                                 --P_M(state=1~14,R)-- > R(state=1,t+2)     |P_W(state=1~14,D) --->                      | P_D(state=1~14,V) --> D\n",
        "#                                                                            |P_R(state=1~14,R) ---> \n",
        "# E(state 0,  t+1) = H(t)* (M + W)*Beta/N\n",
        "# H(t+1) = H(t) - E(State 0, t+1)"
      ],
      "execution_count": 0,
      "outputs": []
    },
    {
      "cell_type": "code",
      "metadata": {
        "id": "bRRBCij7H0Ej",
        "colab_type": "code",
        "colab": {}
      },
      "source": [
        "Probs={}\n",
        "### M,R,Severe\n",
        "Probs[\"M\"] = [[0.8,0.00,.20], #0\n",
        "          [0.80,0.00,0.20], #1\n",
        "          [0.80,0.00,0.20], #2\n",
        "          [0.70,0.00,0.30], #3\n",
        "          [0.60,0.10,0.30], #4\n",
        "          [0.50,0.10,0.40], #5\n",
        "          [0.50,0.20,0.30], #6\n",
        "          [0.30,0.25,0.25], #7\n",
        "          [0.50,0.25,0.25], #8\n",
        "          [0.50,0.25,0.25], #9\n",
        "          [0.30,0.40,0.30], #10\n",
        "          [0.30,0.50,0.30], #11\n",
        "          [0.10,0.80,0.10], #12\n",
        "          [0.05,0.95,0.00], #13\n",
        "          [0.00,1.00,0.00]] #14\n",
        "\n",
        "### Severe,R,V,D\n",
        "Probs[\"Severe\"] = [\n",
        "          [0.50,0.20,0.28,0.00], #0\n",
        "          [0.40,0.30,0.28,0.02], #1\n",
        "          [0.40,0.30,0.28,0.02], #2\n",
        "          [0.40,0.30,0.28,0.02], #3\n",
        "          [0.40,0.30,0.28,0.02], #4\n",
        "          [0.40,0.30,0.28,0.02], #5\n",
        "          [0.50,0.30,0.18,0.02], #6\n",
        "          [0.50,0.30,0.18,0.02], #7\n",
        "          [0.50,0.30,0.18,0.02], #8\n",
        "          [0.50,0.30,0.18,0.02], #9\n",
        "          [0.50,0.30,0.18,0.02], #10\n",
        "          [0.40,0.40,0.18,0.02], #11\n",
        "          [0.40,0.40,0.18,0.02], #12\n",
        "          [0.30,0.80,0.18,0.02], #13\n",
        "          [0.00,1.00,0.00,0.00]] #14\n",
        "\n",
        "### V,R,D \n",
        "Probs[\"ventilator\"] = [\n",
        "          [0.50,0.30,0.20], #0\n",
        "          [0.40,0.30,0.30], #1\n",
        "          [0.40,0.30,0.30], #2\n",
        "          [0.40,0.30,0.30], #3\n",
        "          [0.40,0.30,0.30], #4\n",
        "          [0.40,0.30,0.30], #5\n",
        "          [0.40,0.30,0.30], #6\n",
        "          [0.40,0.30,0.30], #7\n",
        "          [0.40,0.30,0.30], #8\n",
        "          [0.40,0.30,0.30], #9\n",
        "          [0.40,0.30,0.30], #10\n",
        "          [0.40,0.30,0.30], #11\n",
        "          [0.20,0.30,0.50], #12\n",
        "          [0.20,0.30,0.50], #13\n",
        "          [0.00,0.20,0.8]] #14\n",
        "### Symp,M\n",
        "Probs['Symp'] =[[0.50,.30], #0 Testing and + cases go to Mild cases\n",
        "                [0,1], #1 ###  all remainings go to Mild cases \n",
        "         ]\n",
        "### E,H,Symp\n",
        "Probs[\"E\"] = [[1.00,0.00,0.00], #0 ### first day of exposure\n",
        "              [0.30,0.50,0.20], #1        \n",
        "              [0.20,0.50,0.30], #2 \n",
        "              [0.10,0.50,0.40], #3\n",
        "              [0.05,0.45,0.50], #4\n",
        "              [0.00,0.40,0.60]] #5\n",
        "\n"
      ],
      "execution_count": 0,
      "outputs": []
    },
    {
      "cell_type": "code",
      "metadata": {
        "id": "0QYL2UYdrMSl",
        "colab_type": "code",
        "colab": {}
      },
      "source": [
        "H = []\n",
        "E = []\n",
        "Symp = []\n",
        "M = []\n",
        "V = []\n",
        "W = []\n",
        "R = []\n",
        "D = []\n",
        "Beta = 0\n",
        "MaxTime = 100\n",
        "N=6000000\n",
        "\n",
        "\n",
        "\n",
        "def initialize():\n",
        "  global H\n",
        "  global E\n",
        "  global Symp\n",
        "  global M\n",
        "  global V\n",
        "  global W\n",
        "  global R\n",
        "  global D\n",
        "  global Beta\n",
        "  global N\n",
        "  global MaxTime\n",
        "  global Probs\n",
        "\n",
        "  H=np.zeros(MaxTime) ## healthy population has 1 class\n",
        "  E=np.zeros([5,MaxTime]) ## Exposed population has 5 classes\n",
        "  H[0]=N\n",
        "  E[0,0]=100\n",
        "  Beta = 1.3\n",
        "\n",
        "  Symp=np.zeros([2,MaxTime]) ## Sympt population has 2 classes\n",
        "  M=np.zeros([15,MaxTime]) ## Mild population has 14 classes\n",
        "  M[0,0]=400\n",
        "  Symp[0,0]=600\n",
        "  V=np.zeros([15,MaxTime]) ## Ventilator population has 14 classes\n",
        "  W=np.zeros([15,MaxTime]) ## Severe population has 14 classes\n",
        "  R=np.zeros(MaxTime) ## Recovered population has 1 class\n",
        "  D=np.zeros(MaxTime) ## Dead population has 1 class\n",
        "initialize()"
      ],
      "execution_count": 0,
      "outputs": []
    },
    {
      "cell_type": "code",
      "metadata": {
        "id": "cPk5u3NtH3SK",
        "colab_type": "code",
        "colab": {}
      },
      "source": [
        "def Simulate():\n",
        "  global H\n",
        "  global E\n",
        "  global Symp\n",
        "  global M\n",
        "  global V\n",
        "  global W\n",
        "  global R\n",
        "  global D\n",
        "  global Beta\n",
        "  global N\n",
        "  global MaxTime\n",
        "  global Probs\n",
        "\n",
        "  for t in range(MaxTime-1):\n",
        "    ### transfer previous days number of recovered cases\n",
        "    R[t+1] = R[t]\n",
        "    D[t+1] = D[t]\n",
        "  \n",
        "    E[0,t+1] = np.int32(\n",
        "              ( H[t] * (M[:,t].sum()+W[:,t].sum())/N)\n",
        "              * Beta)\n",
        "  \n",
        "    if np.int32((( H[t] * (np.sum(M[:,t])+np.sum(W[:,t])))/N)* Beta)>0:\n",
        "      ##print(\"M\",M[:,t].sum())\n",
        "      pass\n",
        "    else:\n",
        "      break\n",
        "      \n",
        "   ### when the case has symptoms, it is removed fromt he population\n",
        "    H[t+1] = H[t]- Symp[0,t]\n",
        "    \n",
        "  ### at time t calculate all the values of t+1 for all the states\n",
        "  \n",
        "    for state in range(0,4):\n",
        "      ## Stay exposed conditions\n",
        "      E[state+1,t+1] =  E[state,t]*Probs[\"E\"][state][0] \n",
        "      ## go back to healthy population\n",
        "      #H[t+1] = H[t+1] + E[state,t]*Probs[\"E\"][state][1]\n",
        "      ## become symtomic\n",
        "      Symp[0,t+1] = Symp[0,t+1]+ E[state,t]*Probs[\"E\"][state][2]\n",
        "    \n",
        "    ### Symptomatic states \n",
        "    #################################################\n",
        "    Symp[1,t+1] = Symp[0,t]*Probs[\"Symp\"][0][0]         ### state 0 remain sympt\n",
        "    M[0,t+1] =  Symp[0,t]*Probs[\"Symp\"][0][1]           ### From state 0 to Mild state 0\n",
        "    M[0,t+1] = M[0,t+1]+  Symp[1,t]*Probs[\"Symp\"][1][1] ### From state 1 to Mild state 0\n",
        "    #################################################\n",
        "  \n",
        "    for state in range(0,14):\n",
        "      ### M,R,Severe\n",
        "      M[state+1,t+1] =  M[state,t]*Probs[\"M\"][state][0] ## from state= state --> to state+1\n",
        "  \n",
        "      R[t+1] = R[t+1] + M[state,t] * Probs[\"M\"][state][1] ## from Mild to recovered\n",
        "    \n",
        "      W[0,t+1] = W[0,t+1]+  M[state,t] * Probs[\"M\"][state][2]\n",
        "  \n",
        "    for state in range(0,14):\n",
        "      ### Severe,R,V,D\n",
        "      W[state+1,t+1] =  M[state,t] * Probs[\"Severe\"][state][0]\n",
        "      R[t+1] = R[t+1] + W[state,t] * Probs[\"Severe\"][state][1]\n",
        "      V[0,t+1] =  W[state,t] * Probs[\"Severe\"][state][2]\n",
        "      D[t+1] = D[t+1] + W[state,t] * Probs[\"Severe\"][state][3]\n",
        "    \n",
        "    \n",
        "    for state in range(0,14):\n",
        "      ### V,R,D \n",
        "      V[state+1,t+1] =  V[state,t] * Probs[\"ventilator\"][state][0]\n",
        "      R[t+1] = R[t+1] + V[state,t] * Probs[\"Severe\"][state][1]\n",
        "      D[t+1] = D[t+1] + V[state,t] * Probs[\"Severe\"][state][2]"
      ],
      "execution_count": 0,
      "outputs": []
    },
    {
      "cell_type": "code",
      "metadata": {
        "id": "9BwUCpbSJqn-",
        "colab_type": "code",
        "outputId": "afc776d2-288d-47e7-a25f-93376ea22dfd",
        "colab": {
          "base_uri": "https://localhost:8080/",
          "height": 511
        }
      },
      "source": [
        "initialize()\n",
        "Simulate()\n",
        "\n",
        "f,ax = plt.subplots(figsize=(10,8))\n",
        "ax.plot(M.sum(axis=0),color='orange',label='mild')\n",
        "ax.plot(W.sum(axis=0),color='purple',label='severe')\n",
        "ax.plot(R,color='green',label='recovered')\n",
        "ax.plot(D,color='red',label='dead')\n",
        "#ax.plot(H,color='black',label='healthy')\n",
        "ax.set_xlim(xmin=10,xmax=MaxTime)\n",
        "ax.legend(fontsize=14)\n",
        "\n",
        "ax.plot(df_Italy.index+20,df_Italy['active'],'--',color='blue')"
      ],
      "execution_count": 88,
      "outputs": [
        {
          "output_type": "execute_result",
          "data": {
            "text/plain": [
              "[<matplotlib.lines.Line2D at 0x7fe7463ba828>]"
            ]
          },
          "metadata": {
            "tags": []
          },
          "execution_count": 88
        },
        {
          "output_type": "display_data",
          "data": {
            "image/png": "[encoded data removed]",
            "text/plain": [
              "<Figure size 720x576 with 1 Axes>"
            ]
          },
          "metadata": {
            "tags": [],
            "needs_background": "light"
          }
        }
      ]
    },
    {
      "cell_type": "code",
      "metadata": {
        "id": "cF5Dv4eFd2gI",
        "colab_type": "code",
        "outputId": "c1ea00bb-57d9-4cd1-bca6-20d046aacb54",
        "colab": {
          "base_uri": "https://localhost:8080/",
          "height": 282
        }
      },
      "source": [
        "df_Italy = pd.read_excel('https://github.com/akhavan12/discrete_covid_model/raw/master/Country_Trends.xlsx',sheet_name='Italy')\n",
        "#df_Italy[['total case','icu','total recover','total death']]\n",
        "df_Italy[['active','icu','total recover','total death']].plot()"
      ],
      "execution_count": 89,
      "outputs": [
        {
          "output_type": "execute_result",
          "data": {
            "text/plain": [
              "<matplotlib.axes._subplots.AxesSubplot at 0x7fe746514dd8>"
            ]
          },
          "metadata": {
            "tags": []
          },
          "execution_count": 89
        },
        {
          "output_type": "display_data",
          "data": {
            "image/png": "[encoded data removed]",
            "text/plain": [
              "<Figure size 432x288 with 1 Axes>"
            ]
          },
          "metadata": {
            "tags": [],
            "needs_background": "light"
          }
        }
      ]
    },
    {
      "cell_type": "markdown",
      "metadata": {
        "id": "KBo2OI8fq5Qn",
        "colab_type": "text"
      },
      "source": [
        "## Interactive form of the algorithm"
      ]
    },
    {
      "cell_type": "code",
      "metadata": {
        "id": "WCOqMZz6ccmk",
        "colab_type": "code",
        "colab": {}
      },
      "source": [
        "step_size=.001\n",
        "\n",
        "def Interactive_deriv()\n",
        "  initialize()\n",
        "  Simulate()\n",
        "  f,ax = plt.subplots(figsize=(10,8))\n",
        "  ax.plot(M.sum(axis=0),color='orange',label='mild')\n",
        "  ax.plot(W.sum(axis=0),color='purple',label='severe')\n",
        "  ax.plot(R,color='green',label='recovered')\n",
        "  ax.plot(D,color='red',label='dead')\n",
        "  #ax.plot(H,color='black',label='healthy')\n",
        "  ax.set_xlim(xmin=10,xmax=MaxTime)\n",
        "  ax.legend(fontsize=14)\n",
        "  ax.plot(df_Italy.index+20,df_Italy['active'],'--',color='blue')\n",
        "\n",
        "w = interactive(Interactive_deriv,\n",
        "    e=      FloatSlider(min=.01, max=1,continuous_update=False, readout_format='.3f',   step=step_size, value=.2, description = 'Epsilon') \n",
        "   ,B =     FloatSlider(min=.01, max=1,continuous_update=False, readout_format='.3f',   step=step_size, value=0.21,description = 'β')  \n",
        "   ,R_a =   FloatSlider(min=.01, max=1,continuous_update=False, readout_format='.3f',   step=step_size, value=0.08,) \n",
        "   ,R_m =   FloatSlider(min=.01, max=1,continuous_update=False, readout_format='.3f',   step=step_size, value=1) \n",
        "   ,R_w =   FloatSlider(min=.01, max=1,continuous_update=False, readout_format='.3f',   step=step_size, value=0.86) \n",
        "   ,R_v =   FloatSlider(min=.01, max=1,continuous_update=False, readout_format='.3f',   step=step_size, value=0.16) \n",
        "   ,G_a =   FloatSlider(min=.01, max=1,continuous_update=False, readout_format='.3f',   step=step_size, value=0.01) \n",
        "   ,G_m   = FloatSlider(min=.01, max=1,continuous_update=False, readout_format='.3f',   step=step_size, value=0.31)  \n",
        "   ,G_w   = FloatSlider(min=.01, max=1,continuous_update=False, readout_format='.3f',   step=step_size, value=0.07)\n",
        "   ,eta_w = FloatSlider(min=.01, max=1,continuous_update=False, readout_format='.3f',   step=step_size, value=0.2)  \n",
        "   ,eta_v = FloatSlider(min=.01, max=1,continuous_update=False, readout_format='.3f',   step=step_size, value=.8)\n",
        "            ,alpha_test = FloatSlider(min=.01, max=1,continuous_update=False, readout_format='.3f',   step=step_size, value=0.4) \n",
        "  ,alpha_test_1_positive = FloatSlider(min=.1, max=1,continuous_update=False, readout_format='.3f',   step=step_size, value=0.9) )"
      ],
      "execution_count": 0,
      "outputs": []
    },
    {
      "cell_type": "code",
      "metadata": {
        "id": "iFy11MbgdNCj",
        "colab_type": "code",
        "colab": {}
      },
      "source": [
        ""
      ],
      "execution_count": 0,
      "outputs": []
    }
  ]
}