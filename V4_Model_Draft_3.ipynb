{
  "nbformat": 4,
  "nbformat_minor": 0,
  "metadata": {
    "colab": {
      "name": "V4_Model_Draft_3.ipynb",
      "provenance": [],
      "collapsed_sections": [],
      "include_colab_link": true
    },
    "kernelspec": {
      "display_name": "Python 3",
      "language": "python",
      "name": "python3"
    },
    "language_info": {
      "codemirror_mode": {
        "name": "ipython",
        "version": 3
      },
      "file_extension": ".py",
      "mimetype": "text/x-python",
      "name": "python",
      "nbconvert_exporter": "python",
      "pygments_lexer": "ipython3",
      "version": "3.7.4"
    },
    "widgets": {
      "application/vnd.jupyter.widget-state+json": {
        "2a1d5610ba6245a386cef8859c69bf77": {
          "model_module": "@jupyter-widgets/controls",
          "model_name": "HBoxModel",
          "state": {
            "_dom_classes": [],
            "_model_module": "@jupyter-widgets/controls",
            "_model_module_version": "1.5.0",
            "_model_name": "HBoxModel",
            "_view_count": null,
            "_view_module": "@jupyter-widgets/controls",
            "_view_module_version": "1.5.0",
            "_view_name": "HBoxView",
            "box_style": "",
            "children": [
              "IPY_MODEL_7e29cceeff7048f299b485661c4a5dcb",
              "IPY_MODEL_01f468079db44a35a25174abc1fbf4b4"
            ],
            "layout": "IPY_MODEL_37a32ed87f06459b9f820966880c50d7"
          }
        },
        "37a32ed87f06459b9f820966880c50d7": {
          "model_module": "@jupyter-widgets/base",
          "model_name": "LayoutModel",
          "state": {
            "_model_module": "@jupyter-widgets/base",
            "_model_module_version": "1.2.0",
            "_model_name": "LayoutModel",
            "_view_count": null,
            "_view_module": "@jupyter-widgets/base",
            "_view_module_version": "1.2.0",
            "_view_name": "LayoutView",
            "align_content": null,
            "align_items": null,
            "align_self": null,
            "border": null,
            "bottom": null,
            "display": null,
            "flex": null,
            "flex_flow": null,
            "grid_area": null,
            "grid_auto_columns": null,
            "grid_auto_flow": null,
            "grid_auto_rows": null,
            "grid_column": null,
            "grid_gap": null,
            "grid_row": null,
            "grid_template_areas": null,
            "grid_template_columns": null,
            "grid_template_rows": null,
            "height": null,
            "justify_content": null,
            "justify_items": null,
            "left": null,
            "margin": null,
            "max_height": null,
            "max_width": null,
            "min_height": null,
            "min_width": null,
            "object_fit": null,
            "object_position": null,
            "order": null,
            "overflow": null,
            "overflow_x": null,
            "overflow_y": null,
            "padding": null,
            "right": null,
            "top": null,
            "visibility": null,
            "width": null
          }
        },
        "7e29cceeff7048f299b485661c4a5dcb": {
          "model_module": "@jupyter-widgets/controls",
          "model_name": "IntProgressModel",
          "state": {
            "_dom_classes": [],
            "_model_module": "@jupyter-widgets/controls",
            "_model_module_version": "1.5.0",
            "_model_name": "IntProgressModel",
            "_view_count": null,
            "_view_module": "@jupyter-widgets/controls",
            "_view_module_version": "1.5.0",
            "_view_name": "ProgressView",
            "bar_style": "success",
            "description": "100%",
            "description_tooltip": null,
            "layout": "IPY_MODEL_da99e1d4c1e6453a89dceb19909bcd0a",
            "max": 100,
            "min": 0,
            "orientation": "horizontal",
            "style": "IPY_MODEL_411bd18f13fc447da17e848a0f23ffa7",
            "value": 100
          }
        },
        "01f468079db44a35a25174abc1fbf4b4": {
          "model_module": "@jupyter-widgets/controls",
          "model_name": "HTMLModel",
          "state": {
            "_dom_classes": [],
            "_model_module": "@jupyter-widgets/controls",
            "_model_module_version": "1.5.0",
            "_model_name": "HTMLModel",
            "_view_count": null,
            "_view_module": "@jupyter-widgets/controls",
            "_view_module_version": "1.5.0",
            "_view_name": "HTMLView",
            "description": "",
            "description_tooltip": null,
            "layout": "IPY_MODEL_5a024559f3d14b3187177eb9c469fe1b",
            "placeholder": "​",
            "style": "IPY_MODEL_4f5c1848e5dd494a86b6e5cf916a6882",
            "value": " 100/100 [04:11&lt;00:00,  2.51s/it]"
          }
        },
        "411bd18f13fc447da17e848a0f23ffa7": {
          "model_module": "@jupyter-widgets/controls",
          "model_name": "ProgressStyleModel",
          "state": {
            "_model_module": "@jupyter-widgets/controls",
            "_model_module_version": "1.5.0",
            "_model_name": "ProgressStyleModel",
            "_view_count": null,
            "_view_module": "@jupyter-widgets/base",
            "_view_module_version": "1.2.0",
            "_view_name": "StyleView",
            "bar_color": null,
            "description_width": "initial"
          }
        },
        "da99e1d4c1e6453a89dceb19909bcd0a": {
          "model_module": "@jupyter-widgets/base",
          "model_name": "LayoutModel",
          "state": {
            "_model_module": "@jupyter-widgets/base",
            "_model_module_version": "1.2.0",
            "_model_name": "LayoutModel",
            "_view_count": null,
            "_view_module": "@jupyter-widgets/base",
            "_view_module_version": "1.2.0",
            "_view_name": "LayoutView",
            "align_content": null,
            "align_items": null,
            "align_self": null,
            "border": null,
            "bottom": null,
            "display": null,
            "flex": null,
            "flex_flow": null,
            "grid_area": null,
            "grid_auto_columns": null,
            "grid_auto_flow": null,
            "grid_auto_rows": null,
            "grid_column": null,
            "grid_gap": null,
            "grid_row": null,
            "grid_template_areas": null,
            "grid_template_columns": null,
            "grid_template_rows": null,
            "height": null,
            "justify_content": null,
            "justify_items": null,
            "left": null,
            "margin": null,
            "max_height": null,
            "max_width": null,
            "min_height": null,
            "min_width": null,
            "object_fit": null,
            "object_position": null,
            "order": null,
            "overflow": null,
            "overflow_x": null,
            "overflow_y": null,
            "padding": null,
            "right": null,
            "top": null,
            "visibility": null,
            "width": null
          }
        },
        "4f5c1848e5dd494a86b6e5cf916a6882": {
          "model_module": "@jupyter-widgets/controls",
          "model_name": "DescriptionStyleModel",
          "state": {
            "_model_module": "@jupyter-widgets/controls",
            "_model_module_version": "1.5.0",
            "_model_name": "DescriptionStyleModel",
            "_view_count": null,
            "_view_module": "@jupyter-widgets/base",
            "_view_module_version": "1.2.0",
            "_view_name": "StyleView",
            "description_width": ""
          }
        },
        "5a024559f3d14b3187177eb9c469fe1b": {
          "model_module": "@jupyter-widgets/base",
          "model_name": "LayoutModel",
          "state": {
            "_model_module": "@jupyter-widgets/base",
            "_model_module_version": "1.2.0",
            "_model_name": "LayoutModel",
            "_view_count": null,
            "_view_module": "@jupyter-widgets/base",
            "_view_module_version": "1.2.0",
            "_view_name": "LayoutView",
            "align_content": null,
            "align_items": null,
            "align_self": null,
            "border": null,
            "bottom": null,
            "display": null,
            "flex": null,
            "flex_flow": null,
            "grid_area": null,
            "grid_auto_columns": null,
            "grid_auto_flow": null,
            "grid_auto_rows": null,
            "grid_column": null,
            "grid_gap": null,
            "grid_row": null,
            "grid_template_areas": null,
            "grid_template_columns": null,
            "grid_template_rows": null,
            "height": null,
            "justify_content": null,
            "justify_items": null,
            "left": null,
            "margin": null,
            "max_height": null,
            "max_width": null,
            "min_height": null,
            "min_width": null,
            "object_fit": null,
            "object_position": null,
            "order": null,
            "overflow": null,
            "overflow_x": null,
            "overflow_y": null,
            "padding": null,
            "right": null,
            "top": null,
            "visibility": null,
            "width": null
          }
        }
      }
    }
  },
  "cells": [
    {
      "cell_type": "markdown",
      "metadata": {
        "id": "view-in-github",
        "colab_type": "text"
      },
      "source": [
        "<a href=\"https://colab.research.google.com/github/akhavan12/discrete_covid_model/blob/master/V4_Model_Draft_3.ipynb\" target=\"_parent\"><img src=\"https://colab.research.google.com/assets/colab-badge.svg\" alt=\"Open In Colab\"/></a>"
      ]
    },
    {
      "cell_type": "code",
      "metadata": {
        "colab_type": "code",
        "id": "M-IYf-e-pzdg",
        "colab": {}
      },
      "source": [
        "## relations\n",
        "###  S(t) = M(t) + W(t)\n",
        "###  Recovery length for each type is different \n",
        "###  K is the distribution of the number of the sever cases that need ventilators"
      ],
      "execution_count": 0,
      "outputs": []
    },
    {
      "cell_type": "code",
      "metadata": {
        "colab_type": "code",
        "id": "bAFCuWjvqyLC",
        "colab": {}
      },
      "source": [
        "\n",
        "### figuring out the number of the asymptomatics\n",
        "### T(t) = W(t) + X_m(t) * M(t)\n",
        "### There should be a relation between the number of the tested cases and all the symptomatic cases\n",
        "\n",
        "##\n",
        "##                                         | Recovery process R(t+dt)\n",
        "##                               | M(t) ---\n",
        "##                       | P(t)---          | Goes sever W(t)\n",
        "# Ex(t)->A(t)->(G_t)-S(t)        \n",
        "##                       |                              | W(t) ---| Recovery process  R(t+dt)\n",
        "##                       |                                               | Goes Ventilatoe V(t) with distribution k(t-t')\n",
        "##                       |                                               |V(t)--------| Recovery process R(t+dt2) with time. R(t+dt')\n",
        "##                       |                                                            | Death \n",
        "##                       |\n",
        "##                       | N(t) Added to healthy population                    "
      ],
      "execution_count": 0,
      "outputs": []
    },
    {
      "cell_type": "code",
      "metadata": {
        "colab_type": "code",
        "id": "_2KqN9F4XOjs",
        "colab": {}
      },
      "source": [
        "import numpy as np \n",
        "import pandas as pd\n",
        "import matplotlib.pyplot as plt\n",
        "import seaborn as sns\n",
        "import tqdm\n",
        "import random"
      ],
      "execution_count": 0,
      "outputs": []
    },
    {
      "cell_type": "code",
      "metadata": {
        "colab_type": "code",
        "id": "URw0R81d0AKo",
        "colab": {}
      },
      "source": [
        "## public variables\n",
        "population = 800\n",
        "\n",
        "## infection rate (from )\n",
        "TR_RATE = .01  ### this is the rate from infected population ratio that interact with healthy population \n",
        "\n",
        "##### Percentages:\n",
        "\n",
        "def dist(median,width):\n",
        "  return np.random.normal(median,width,size=1)[0]\n",
        "\n",
        "def Ex_to_A(median=.20,width=.1):  ## exposed to asymptomatic (epsilon)\n",
        "  return dist(median,width) \n",
        "def A_to_S(median=.90,width=.1): ## Asymptomatic to Symptomatic\n",
        "  return dist(median ,width)   \n",
        "def S_to_M(median=.98,width=.01): ## percentage from Sympt to Mild ~~100%\n",
        "  return dist(median ,width)\n",
        "def M_to_W(median=.1,width=.02): ## Mild to Severe daily percentage\n",
        "  return dist(median ,width)      \n",
        "def W_to_V(median=.1,width=0.01): ## sever to ventilator\n",
        "  return dist(median ,width)\n",
        "def W_to_D(median=.005,width=.001): ## Sever to death each day\n",
        "  return dist(median ,width)\n",
        "def W_to_R(median=.3,width=.05): ## Sever  to recovery each day \n",
        "  return dist(median ,width)\n",
        "def V_to_D(median=.01,width=.002): ## Ventilator to death each day\n",
        "  return dist(median ,width)\n",
        "def V_to_R(median=.2 ,width=.04): ## Ventilator to recovery each day\n",
        "  return dist(median ,width)\n",
        "\n",
        "def delay_Ex_to_none(median=5 ,width=2):\n",
        "  return np.int16(dist(median ,width))\n",
        "\n",
        "def delay_A_to_S(median=2 ,width=1):\n",
        "  return np.int16(dist(median ,width))   ## days incubation incubation period: the period of time between exposure to an infection and when symptoms\n",
        "def Max_S_to_M(median=5 ,width=2):\n",
        "  return np.int16(dist(median ,width))  ## days incubation incubation period: the period of time between exposure to an infection and when symptoms\n",
        "def delay_M_to_R(median=14 ,width=2):\n",
        "  return np.int16(dist(median ,width)) ## days mild to recovery ==> after this many days the mild case is considered recovered\n",
        "def delay_M_to_W(median=4 ,width=1):\n",
        "  return np.int16(dist(median ,width))\n",
        "\n",
        "def Min_W_to_V(median=2 ,width=.5):\n",
        "  return np.int16(dist(median ,width))   ## days severe to ventilator \n",
        "def Min_W_to_R(median=6 ,width=2):\n",
        "  return np.int16(dist(median ,width))\n",
        "def Min_V_to_R(median=10 ,width=2):\n",
        "  return np.int16(dist(median ,width))\n",
        "def Min_W_to_D(median=3 ,width=1):\n",
        "  return np.int16(dist(median ,width))\n",
        "def Min_V_to_D(median=3 ,width=2):\n",
        "  return np.int16(dist(median ,width)) ## days ventilator to death\n",
        "def delay_W_to_R(median=14 ,width=2):\n",
        "  return np.int16(dist(median ,width)) ## days mild to recovery\n",
        "def delay_V_to_R(median=14 ,width=2):\n",
        "  return np.int16(dist(median ,width)) ## days mild to recovery\n",
        "\n",
        "## public functions\n",
        "## this function returns True or False based on a percentage of probability\n",
        "def decision(probability):\n",
        "    return random.random() < probability\n"
      ],
      "execution_count": 0,
      "outputs": []
    },
    {
      "cell_type": "code",
      "metadata": {
        "colab_type": "code",
        "id": "xnitDmWDdAIt",
        "colab": {}
      },
      "source": [
        "def get_infected(review):\n",
        "    sumz=review[review[review.columns]>0].sum()\n",
        "    return sumz[\"Asympt\"]+sumz[\"Sympt\"]+sumz[\"Mild\"]\n",
        "def get_dead(review):\n",
        "    return review['Dead'].sum()\n",
        "def get_recovered(review):\n",
        "    return review['Recovered'].sum()\n",
        "def get_sever_and_ventilator(review):\n",
        "    sumz=review[review[review.columns]>0].sum()\n",
        "    return sumz[\"Ventilator\"]+sumz[\"Severe\"]"
      ],
      "execution_count": 0,
      "outputs": []
    },
    {
      "cell_type": "code",
      "metadata": {
        "colab_type": "code",
        "id": "iODfhc_XX9IY",
        "colab": {}
      },
      "source": [
        "def initialize(inital_expose=10):\n",
        "\n",
        "  Ex =np.int16(np.zeros(population)) ## Exposed \n",
        "  A = np.int16(np.zeros(population)) ## number of asymptomatic cases at time t\n",
        "  S = np.int16(np.zeros(population)) ## number of symptomatic cases at time t\n",
        "  M = np.int16(np.zeros(population)) ## number of mild cases at time t\n",
        "  W = np.int16(np.zeros(population)) ## number of sever cases at time t  \n",
        "  V = np.int16(np.zeros(population)) ## number of the ventilator cases \n",
        "  D = np.int16(np.zeros(population)) ## number of the dead cases\n",
        "  R = np.int16(np.zeros(population)) ## Recovered cases\n",
        "  H = np.int16(np.ones(population)) ## Number of Healthy\n",
        "\n",
        "  ## random exposed people:\n",
        "  for i in range(inital_expose):\n",
        "    Ex[np.random.randint(0,population,1)]=1\n",
        "\n",
        "  ## moving status Matrix:\n",
        "  df_s_m = pd.DataFrame({\n",
        "     \"Exposed\"    : Ex,\n",
        "     \"Asympt\"     : A,\n",
        "     \"Sympt\"      : S,\n",
        "     \"Mild\"       : M,\n",
        "     \"Severe\"     : W,\n",
        "     \"Ventilator\" : V,\n",
        "     \"Dead\"       : D,\n",
        "     \"Recovered\"  : R,\n",
        "     \"Healthy\"    : H\n",
        "  })\n",
        "  \n",
        "  return df_s_m\n",
        " "
      ],
      "execution_count": 0,
      "outputs": []
    },
    {
      "cell_type": "code",
      "metadata": {
        "colab_type": "code",
        "id": "6TS9wWikrYL1",
        "colab": {}
      },
      "source": [
        "review=pd.DataFrame()\n",
        "def check_increment(df_,col,lim_=0):\n",
        "  temp_count = 0\n",
        "  temp_count = df_[df_[col]>0][col].count()\n",
        "  return temp_count\n",
        "\n",
        "def aggregate(df_population,cum_sum_dict):\n",
        "\n",
        "  for col in df_population.columns:\n",
        "    cum_sum_dict[f'cumulative_{col}'].append(check_increment(df_population.copy(),col))\n",
        "  return cum_sum_dict\n",
        "\n",
        "def run_simulation(df_population,length=60):\n",
        "  global review\n",
        "\n",
        "  cum_sum_dict={\n",
        "      \"cumulative_Exposed\"   :[],\n",
        "      \"cumulative_Asympt\"    :[],\n",
        "      \"cumulative_Sympt\"     :[],\n",
        "      \"cumulative_Mild\"      :[],\n",
        "      \"cumulative_Severe\"    :[],\n",
        "      \"cumulative_Ventilator\":[],\n",
        "      \"cumulative_Dead\"     :[],\n",
        "      \"cumulative_Recovered\" :[],\n",
        "      \"cumulative_Healthy\"   :[]\n",
        "    }\n",
        "  for i in tqdm.tqdm_notebook(range(length)):\n",
        "      df_population = df_population.apply(increment_infected_days,axis=1) ## apply the function\n",
        "      aggregate(df_population,cum_sum_dict)\n",
        "      review = df_population\n",
        "      \n",
        "      total_infected = get_infected(review)\n",
        "      total_recovered = get_dead(review)\n",
        "      total_dead = get_recovered(review)\n",
        "      total_severe_and_ventilator = get_sever_and_ventilator(review)\n",
        "      #if total_infected>0:\n",
        "      #  print(total_infected, total_recovered,total_dead)\n",
        "  return cum_sum_dict"
      ],
      "execution_count": 0,
      "outputs": []
    },
    {
      "cell_type": "code",
      "metadata": {
        "colab_type": "code",
        "id": "pt1y-EobPDmO",
        "colab": {}
      },
      "source": [
        ""
      ],
      "execution_count": 0,
      "outputs": []
    },
    {
      "cell_type": "code",
      "metadata": {
        "id": "-bnUp_ZKlarQ",
        "colab_type": "code",
        "colab": {}
      },
      "source": [
        ""
      ],
      "execution_count": 0,
      "outputs": []
    },
    {
      "cell_type": "code",
      "metadata": {
        "colab_type": "code",
        "id": "Y7IR3GO8nPCe",
        "colab": {}
      },
      "source": [
        "## simmulate based on each day's cases and the probability of infection\n",
        "\n",
        "\n",
        "def increment_infected_days(row):\n",
        "  \n",
        "  global total_infected\n",
        "  global total_recovered\n",
        "  global total_dead\n",
        "  global total_severe_and_ventilator\n",
        "\n",
        "\n",
        "  if (row['Exposed'] >0) & (row['Exposed'] <= delay_Ex_to_none()) : \n",
        "    ## increment t+1\n",
        "    row['Exposed'] = row['Exposed']+1\n",
        "## if exposed=0 then the person is not exposed yet, \n",
        "## if exposed above 1, it shows the days from exposure \n",
        "## if exposed = -1, the person is infected                       \n",
        "### if exposed ===> epsilon * E is the percentage of the person exposed to be infected \n",
        "###  decision ---> uniform random numbers and percentage\n",
        "    if decision(Ex_to_A()) == True:\n",
        "      total_infected=total_infected+1\n",
        "## the exposed person is infected now (Asympt)!\n",
        "      row['Asympt'] = 1\n",
        "##Take the person out of exposed group -epsilon*E\n",
        "      row['Exposed'] = -1\n",
        "  elif row['Exposed'] == -1:\n",
        "    if row['Asympt']> 0:\n",
        "      row['Asympt']=row['Asympt']+1 ## t=t+1\n",
        "      ## if Asympt=0 then the person is not exposed yet, \n",
        "      ## if Asympt above 1, it shows the days from Asympt \n",
        "      ## if Asympt = -1, the person is now out of Asympt ==> Mild\n",
        "      if row['Asympt'] > delay_A_to_S(): ### the period from A to S is done:\n",
        "        row['Asympt'] = -1 ## not the case is no more Asympt \n",
        "        if decision(A_to_S()) == True: ## the pecentage from A to S\n",
        "          row['Sympt'] = 1\n",
        "        else:\n",
        "          row['Recovered'] = 1 ## if the max time from A to S passes\n",
        "                                 ## and the decision is Negative\n",
        "                                 ## the person is not recovered\n",
        "          total_infected = total_infected-1\n",
        "          total_recovered = total_recovered + 1 \n",
        "  elif row['Exposed'] >= delay_Ex_to_none():\n",
        "        row['Exposed'] = 0\n",
        "\n",
        "  if row['Sympt'] > 0:\n",
        "    row['Sympt']= row['Sympt']+1 ## t=t+1 ==> the person is not infected and has sympt\n",
        "    ## let us take him into mild if the max time from S to M is not passed \n",
        "    if row['Sympt'] < Max_S_to_M():\n",
        "      if decision(S_to_M()) == True:\n",
        "        row['Mild'] = 1\n",
        "        row['Sympt'] = -1 ## case is now Mild and no more S \n",
        "      else: ## the Sympt person does not become Mild in Max_S_to_M he is considered recovered\n",
        "        row['Sympt'] = -1 ## case is now recovered\n",
        "        row['Recovered'] = 1 ## if the Max_S_to_M is passed the person has already recovered\n",
        "        ####total_infected = total_infected - 1\n",
        "        ####total_recovered = total_recovered + 1\n",
        "\n",
        "\n",
        "  if row['Mild']>0:\n",
        "    row['Mild']=row['Mild']+1 ## t=t+1    \n",
        "    if row['Mild'] > delay_M_to_R() : # the case hastotal_infected = total_infected + 1  already been long in mild, and now is recovered\n",
        "      row['Mild'] = -1 ## case is no more infected in mild and is recovered\n",
        "      row['Recovered'] = 1 \n",
        "      ### before the recovery period is passed\n",
        "      ### after the window from M to W\n",
        "      ## the person has M_to_W chance to go to SEVERE every day before the period\n",
        "      ####total_infected = total_infected - 1 \n",
        "      ####total_recovered = total_recovered + 1\n",
        "\n",
        "    elif (row['Mild'] <= delay_M_to_R()) &(row['Mild'] >= delay_M_to_W()) & decision(M_to_W()) == True: \n",
        "      row['Mild'] = -1 ## the case is no more Mild and now is severe\n",
        "      row['Severe'] = 1 ## the case is now severe\n",
        "\n",
        "  if row['Severe'] > 0: ## check if the person is Severe\n",
        "    #print(f'Condition 1 {row[\"Severe\"]}')\n",
        "    row['Severe'] = row['Severe'] + 1\n",
        "    \n",
        "\n",
        "    if row['Severe'] > delay_W_to_R(): ## the case has been passed the period and now has recovered\n",
        "      row['Severe'] = -1 ## the case is no more Severe and has recovered\n",
        "      row['Recovered'] = 1\n",
        "      ####total_infected = total_infected - 1\n",
        "      ####total_recovered = total_recovered + 1\n",
        "      \n",
        "    elif (row['Severe'] > Min_W_to_V() ) & decision(W_to_V())==True: ## in the period to go worse or stay sever until recovery/death\n",
        "    ## goes to Ventilator status\n",
        "      row['Severe'] = -1 ## the case is no more Severe \n",
        "      row['Ventilator'] = 1  ## the case is ventilatored\n",
        "    elif (row['Severe'] > Min_W_to_R() ) & decision(W_to_R())==True: ## in the period to go worse or stay sever until recovery/death\n",
        "      ## goes to Ventilator status\n",
        "      row['Severe'] = -1 ## the case is no more Severe \n",
        "      row['Recovered'] = 1  ## the case is ventilatored\n",
        "      ####total_infected = total_infected - 1 \n",
        "      ####total_recovered = total_recovered + 1\n",
        "\n",
        "    elif (row['Severe'] > Min_W_to_D()) & (decision(W_to_D())==True):\n",
        "    ## the cases passes away\n",
        "      row['Severe'] = -1 ## the case is no more Severe\n",
        "      row['Dead'] = 1 ## the case has passed away\n",
        "      ####total_infected = total_infected - 1\n",
        "      ####total_dead = total_dead + 1\n",
        "\n",
        "\n",
        "  if row['Ventilator'] > 0: \n",
        "    row['Ventilator'] = row['Ventilator']+1\n",
        "    if row['Ventilator'] > delay_V_to_R(): \n",
        "      row['Ventilator'] = -1 \n",
        "      row['Recovered'] = 1\n",
        "      ####total_infected = total_infected - 1\n",
        "      ####total_recovered = total_recovered + 1\n",
        "\n",
        "    elif (row['Ventilator'] > Min_V_to_D()) & (decision(V_to_D())==True): \n",
        "      row['Ventilator'] = -1 \n",
        "      row['Dead'] = 1 \n",
        "      ####total_infected = total_infected - 1\n",
        "      ####total_dead = total_dead + 1\n",
        "\n",
        "    elif (row['Ventilator'] > Min_V_to_R()) & (decision(V_to_R())==True): \n",
        "      row['Ventilator'] = -1 \n",
        "      row['Recovered'] = 1\n",
        "      ####total_infected = total_infected - 1\n",
        "      ####total_recovered = total_recovered + 1\n",
        "  ### NEW CASES HAPPEN HERE\n",
        "  ## 1 get total infected now!\n",
        "  ## total Mild + Total Severe\n",
        "  #total_mild = df_population[df_population['Mild']>0]['Mild'].count()\n",
        "  healthy_population = population - (total_recovered + total_infected + total_dead + total_severe_and_ventilator)\n",
        "  if row['Exposed'] == 0:\n",
        "    if decision(TR_RATE*(total_infected)) == True:\n",
        "      row['Exposed'] = 1\n",
        "  row['Healthy']= healthy_population\n",
        "  return row"
      ],
      "execution_count": 0,
      "outputs": []
    },
    {
      "cell_type": "code",
      "metadata": {
        "colab_type": "code",
        "id": "zghIaQQRnPGR",
        "colab": {}
      },
      "source": [
        ""
      ],
      "execution_count": 0,
      "outputs": []
    },
    {
      "cell_type": "code",
      "metadata": {
        "colab_type": "code",
        "id": "JbaznIJq_MLx",
        "outputId": "4cc52ec1-6534-41ec-9e9f-8efbff6da0ce",
        "colab": {
          "base_uri": "https://localhost:8080/",
          "height": 100,
          "referenced_widgets": [
            "2a1d5610ba6245a386cef8859c69bf77",
            "37a32ed87f06459b9f820966880c50d7",
            "7e29cceeff7048f299b485661c4a5dcb",
            "01f468079db44a35a25174abc1fbf4b4",
            "411bd18f13fc447da17e848a0f23ffa7",
            "da99e1d4c1e6453a89dceb19909bcd0a",
            "4f5c1848e5dd494a86b6e5cf916a6882",
            "5a024559f3d14b3187177eb9c469fe1b"
          ]
        }
      },
      "source": [
        "df_population=initialize()\n",
        "df_population.head(1)\n",
        "total_infected = 0\n",
        "total_recovered = 0\n",
        "total_dead = 0\n",
        "total_severe_and_ventilator = 0\n",
        "results = run_simulation(df_population,length=60)"
      ],
      "execution_count": 0,
      "outputs": [
        {
          "output_type": "display_data",
          "data": {
            "application/vnd.jupyter.widget-view+json": {
              "model_id": "e92848f503f5417ca137015223828240",
              "version_major": 2,
              "version_minor": 0
            },
            "text/plain": [
              "HBox(children=(IntProgress(value=0, max=60), HTML(value='')))"
            ]
          },
          "metadata": {
            "tags": []
          }
        },
        {
          "output_type": "stream",
          "text": [
            "\n"
          ],
          "name": "stdout"
        }
      ]
    },
    {
      "cell_type": "code",
      "metadata": {
        "colab_type": "code",
        "id": "UKCbvvdqnPLG",
        "outputId": "ceb78fba-2c08-4516-ab81-214fe0c46447",
        "colab": {
          "base_uri": "https://localhost:8080/",
          "height": 609
        }
      },
      "source": [
        "df_cumsum = pd.DataFrame(results)\n",
        "f,ax = plt.subplots(figsize=(17,10))\n",
        "cols = [\"cumulative_Exposed\",    \n",
        "      \"cumulative_Mild\",\n",
        "      \"cumulative_Severe\",\n",
        "      \"cumulative_Ventilator\",\n",
        "      \"cumulative_Dead\",\n",
        "      \"cumulative_Recovered\"\n",
        "       #\"cumulative_Healthy\"\n",
        "       ]\n",
        "df_cumsum[cols].plot(ax=ax)"
      ],
      "execution_count": 0,
      "outputs": [
        {
          "output_type": "execute_result",
          "data": {
            "text/plain": [
              "<matplotlib.axes._subplots.AxesSubplot at 0x1a23c1f910>"
            ]
          },
          "metadata": {
            "tags": []
          },
          "execution_count": 10
        },
        {
          "output_type": "display_data",
          "data": {
            "image/png": "[encoded data removed]",
            "text/plain": [
              "<Figure size 1224x720 with 1 Axes>"
            ]
          },
          "metadata": {
            "tags": [],
            "needs_background": "light"
          }
        }
      ]
    },
    {
      "cell_type": "code",
      "metadata": {
        "colab_type": "code",
        "id": "vTlhcHBpnPRL",
        "colab": {}
      },
      "source": [
        ""
      ],
      "execution_count": 0,
      "outputs": []
    },
    {
      "cell_type": "code",
      "metadata": {
        "colab_type": "code",
        "id": "x6a-VibP1nOA",
        "colab": {}
      },
      "source": [
        ""
      ],
      "execution_count": 0,
      "outputs": []
    }
  ]
}