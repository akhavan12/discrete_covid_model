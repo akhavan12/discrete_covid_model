{
  "nbformat": 4,
  "nbformat_minor": 0,
  "metadata": {
    "colab": {
      "name": "Distribution_type_Detector.ipynb",
      "provenance": [],
      "collapsed_sections": [],
      "authorship_tag": "ABX9TyNWb3hIgqMfluETEoj7OfOx",
      "include_colab_link": true
    },
    "kernelspec": {
      "name": "python3",
      "display_name": "Python 3"
    }
  },
  "cells": [
    {
      "cell_type": "markdown",
      "metadata": {
        "id": "view-in-github",
        "colab_type": "text"
      },
      "source": [
        "<a href=\"https://colab.research.google.com/github/akhavan12/discrete_covid_model/blob/master/Distribution_type_Detector.ipynb\" target=\"_parent\"><img src=\"https://colab.research.google.com/assets/colab-badge.svg\" alt=\"Open In Colab\"/></a>"
      ]
    },
    {
      "cell_type": "code",
      "metadata": {
        "id": "ZxFJTMz1TZSD",
        "colab_type": "code",
        "colab": {}
      },
      "source": [
        "import scipy\n",
        "import scipy.stats\n",
        "import matplotlib\n",
        "import matplotlib.pyplot as plt\n",
        "class Distribution(object):\n",
        "    \n",
        "    def __init__(self,dist_names_list = []):\n",
        "        self.dist_names = ['norm','lognorm','expon','weibull_max']\n",
        "        self.dist_results = []\n",
        "        self.params = {}\n",
        "        \n",
        "        self.DistributionName = \"\"\n",
        "        self.PValue = 0\n",
        "        self.Param = None\n",
        "        \n",
        "        self.isFitted = False\n",
        "        \n",
        "        \n",
        "    def Fit(self, y):\n",
        "        self.dist_results = []\n",
        "        self.params = {}\n",
        "        for dist_name in self.dist_names:\n",
        "            dist = getattr(scipy.stats, dist_name)\n",
        "            param = dist.fit(y)\n",
        "            \n",
        "            self.params[dist_name] = param\n",
        "            #Applying the Kolmogorov-Smirnov test\n",
        "            D, p = scipy.stats.kstest(y, dist_name, args=param);\n",
        "            self.dist_results.append((dist_name,p))\n",
        "\n",
        "        #select the best fitted distribution\n",
        "        sel_dist,p = (max(self.dist_results,key=lambda item:item[1]))\n",
        "        #store the name of the best fit and its p value\n",
        "        self.DistributionName = sel_dist\n",
        "        self.PValue = p\n",
        "        \n",
        "        self.isFitted = True\n",
        "        return self.DistributionName,self.PValue\n",
        "    \n",
        "    def Random(self, n = 1):\n",
        "        if self.isFitted:\n",
        "            dist_name = self.DistributionName\n",
        "            param = self.params[dist_name]\n",
        "            #initiate the scipy distribution\n",
        "            dist = getattr(scipy.stats, dist_name)\n",
        "            return dist.rvs(*param[:-2], loc=param[-2], scale=param[-1], size=n)\n",
        "        else:\n",
        "            raise ValueError('Must first run the Fit method.')\n",
        "            \n",
        "    def Plot(self,y):\n",
        "        x = self.Random(n=len(y))\n",
        "        plt.hist(x, alpha=0.5, label='Fitted')\n",
        "        plt.hist(y, alpha=0.5, label='Actual')\n",
        "        plt.legend(loc='upper right')"
      ],
      "execution_count": 0,
      "outputs": []
    },
    {
      "cell_type": "code",
      "metadata": {
        "id": "ZhgyXPAsTfPK",
        "colab_type": "code",
        "colab": {
          "base_uri": "https://localhost:8080/",
          "height": 282
        },
        "outputId": "f3d8be88-7d30-4baa-ff24-596abefbccd8"
      },
      "source": [
        "from scipy.stats import expon\n",
        "r = expon.rvs(size=5000) #exponential\n",
        "dst = Distribution()\n",
        "params=dst.Fit(r)\n",
        "dst.Plot(r)\n",
        "print(params)"
      ],
      "execution_count": 5,
      "outputs": [
        {
          "output_type": "stream",
          "text": [
            "('expon', 0.569672897074851)\n"
          ],
          "name": "stdout"
        },
        {
          "output_type": "display_data",
          "data": {
            "image/png": "[encoded data removed]",
            "text/plain": [
              "<Figure size 432x288 with 1 Axes>"
            ]
          },
          "metadata": {
            "tags": [],
            "needs_background": "light"
          }
        }
      ]
    },
    {
      "cell_type": "code",
      "metadata": {
        "id": "DSaTck8zTiVe",
        "colab_type": "code",
        "colab": {}
      },
      "source": [
        ""
      ],
      "execution_count": 0,
      "outputs": []
    }
  ]
}